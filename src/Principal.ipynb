{
 "cells": [
  {
   "cell_type": "markdown",
   "id": "e48df13c",
   "metadata": {},
   "source": [
    "<font color=\"#0D9DF0\"><h3><B>Trabalho Final - Python para Ciência de Dados</b></h3></font>\n",
    "***"
   ]
  },
  {
   "cell_type": "markdown",
   "metadata": {},
   "source": [
    "# \n",
    "\n",
    "---\n",
    "## 1. Título e Introdução\n",
    "- Apresente o **tema do projeto**.\n",
    "    Análise do Desenvolvimento Humano e Econômico Global com base nos dados obtidos no site Gapminder\n",
    "\n",
    "- Descreva **brevemente os objetivos da análise**.\n",
    "    O objetivo da análise é averiguar o quanto índices de corrupção e guerras, por exemplo, resultam em um baixo desenvolvimento humano e qualidade de vida nos países\n",
    "\n",
    "- Explique o **contexto da base de dados Gapminder**.\n",
    "    A base reune métricas desde 1952 de fatores como renda per capta, expectativa de vida, continente e população\n",
    "\n",
    "- Liste as **etapas que serão realizadas** no notebook.\n",
    "    Coleta de dados\n",
    "    Limpeza e preparação\n",
    "    Análise e modelagem\n",
    "    Visualização\n",
    "    Interpretação\n",
    "    Síntese e Conclusão"
   ]
  },
  {
   "cell_type": "markdown",
   "metadata": {},
   "source": [
    "---\n",
    "## 2. Coleta, Limpeza e Análise Exploratória (AED)\n",
    "\n",
    "### Objetivo\n",
    "Preparar os dados, tratando inconsistências e identificando padrões iniciais.\n",
    "\n",
    "### Itens a incluir\n",
    "- **Carregamento do dataset** Gapminder.  \n",
    "- **Verificação de valores ausentes**.  \n",
    "- **Remoção de duplicados**.  \n",
    "- **Análise estatística descritiva inicial** (médias, medianas, desvios etc.).  \n",
    "- **Visualizações exploratórias básicas** (ex: histogramas, boxplots, contagens por continente).  \n",
    "\n",
    "### Markdown deve conter\n",
    "- Justificativas das decisões tomadas.  \n",
    "- Observações sobre a qualidade dos dados.  \n",
    "- Interpretação dos primeiros resultados."
   ]
  },
  {
   "cell_type": "markdown",
   "id": "1d1e52d0",
   "metadata": {},
   "source": [
    "Neste primeiro momento, estaremos tratando a base principal"
   ]
  },
  {
   "cell_type": "code",
   "execution_count": 47,
   "id": "d58595ef",
   "metadata": {},
   "outputs": [],
   "source": [
    "import sys\n",
    "sys.path.append('../avaliacao-python-ciencia-dados/')\n",
    "\n",
    "from utils.data_info import *"
   ]
  },
  {
   "cell_type": "code",
   "execution_count": 48,
   "id": "1bdb7368",
   "metadata": {},
   "outputs": [
    {
     "name": "stdout",
     "output_type": "stream",
     "text": [
      "Importando o dataframe: ../../avaliacao-python-ciencia-dados/Bases/gapminder_full.csv ...\n",
      "Dataframe importado com sucesso! \n",
      "Dimensão: (1736, 6)\n"
     ]
    },
    {
     "data": {
      "application/vnd.microsoft.datawrangler.viewer.v0+json": {
       "columns": [
        {
         "name": "index",
         "rawType": "int64",
         "type": "integer"
        },
        {
         "name": "country",
         "rawType": "object",
         "type": "string"
        },
        {
         "name": "year",
         "rawType": "int64",
         "type": "integer"
        },
        {
         "name": "pop",
         "rawType": "float64",
         "type": "float"
        },
        {
         "name": "continent",
         "rawType": "object",
         "type": "string"
        },
        {
         "name": "lifeExp",
         "rawType": "float64",
         "type": "float"
        },
        {
         "name": "gdpPercap",
         "rawType": "float64",
         "type": "float"
        }
       ],
       "ref": "5fb51aa1-112a-4b03-88fe-38c7559edf8e",
       "rows": [
        [
         "0",
         "Afghanistan",
         "1952",
         "8425333.0",
         "Asia",
         "28.801",
         "779.4453145"
        ],
        [
         "1",
         "Afghanistan",
         "1957",
         "9240934.0",
         "Asia",
         "30.332",
         "820.8530296"
        ],
        [
         "2",
         "Afghanistan",
         "1962",
         "10267083.0",
         "Asia",
         "31.997",
         "853.10071"
        ],
        [
         "3",
         "Afghanistan",
         "1967",
         "11537966.0",
         "Asia",
         "34.02",
         "836.1971382"
        ],
        [
         "4",
         "Afghanistan",
         "1972",
         "13079460.0",
         "Asia",
         "36.088",
         "739.9811058"
        ]
       ],
       "shape": {
        "columns": 6,
        "rows": 5
       }
      },
      "text/html": [
       "<div>\n",
       "<style scoped>\n",
       "    .dataframe tbody tr th:only-of-type {\n",
       "        vertical-align: middle;\n",
       "    }\n",
       "\n",
       "    .dataframe tbody tr th {\n",
       "        vertical-align: top;\n",
       "    }\n",
       "\n",
       "    .dataframe thead th {\n",
       "        text-align: right;\n",
       "    }\n",
       "</style>\n",
       "<table border=\"1\" class=\"dataframe\">\n",
       "  <thead>\n",
       "    <tr style=\"text-align: right;\">\n",
       "      <th></th>\n",
       "      <th>country</th>\n",
       "      <th>year</th>\n",
       "      <th>pop</th>\n",
       "      <th>continent</th>\n",
       "      <th>lifeExp</th>\n",
       "      <th>gdpPercap</th>\n",
       "    </tr>\n",
       "  </thead>\n",
       "  <tbody>\n",
       "    <tr>\n",
       "      <th>0</th>\n",
       "      <td>Afghanistan</td>\n",
       "      <td>1952</td>\n",
       "      <td>8425333.0</td>\n",
       "      <td>Asia</td>\n",
       "      <td>28.801</td>\n",
       "      <td>779.445314</td>\n",
       "    </tr>\n",
       "    <tr>\n",
       "      <th>1</th>\n",
       "      <td>Afghanistan</td>\n",
       "      <td>1957</td>\n",
       "      <td>9240934.0</td>\n",
       "      <td>Asia</td>\n",
       "      <td>30.332</td>\n",
       "      <td>820.853030</td>\n",
       "    </tr>\n",
       "    <tr>\n",
       "      <th>2</th>\n",
       "      <td>Afghanistan</td>\n",
       "      <td>1962</td>\n",
       "      <td>10267083.0</td>\n",
       "      <td>Asia</td>\n",
       "      <td>31.997</td>\n",
       "      <td>853.100710</td>\n",
       "    </tr>\n",
       "    <tr>\n",
       "      <th>3</th>\n",
       "      <td>Afghanistan</td>\n",
       "      <td>1967</td>\n",
       "      <td>11537966.0</td>\n",
       "      <td>Asia</td>\n",
       "      <td>34.020</td>\n",
       "      <td>836.197138</td>\n",
       "    </tr>\n",
       "    <tr>\n",
       "      <th>4</th>\n",
       "      <td>Afghanistan</td>\n",
       "      <td>1972</td>\n",
       "      <td>13079460.0</td>\n",
       "      <td>Asia</td>\n",
       "      <td>36.088</td>\n",
       "      <td>739.981106</td>\n",
       "    </tr>\n",
       "  </tbody>\n",
       "</table>\n",
       "</div>"
      ],
      "text/plain": [
       "       country  year         pop continent  lifeExp   gdpPercap\n",
       "0  Afghanistan  1952   8425333.0      Asia   28.801  779.445314\n",
       "1  Afghanistan  1957   9240934.0      Asia   30.332  820.853030\n",
       "2  Afghanistan  1962  10267083.0      Asia   31.997  853.100710\n",
       "3  Afghanistan  1967  11537966.0      Asia   34.020  836.197138\n",
       "4  Afghanistan  1972  13079460.0      Asia   36.088  739.981106"
      ]
     },
     "execution_count": 48,
     "metadata": {},
     "output_type": "execute_result"
    }
   ],
   "source": [
    "base_gapminder = importa_csv(dataframe_name='../../avaliacao-python-ciencia-dados/Bases/gapminder_full.csv', separador=',', encoding='utf-8')\n",
    "base_gapminder.head()"
   ]
  },
  {
   "cell_type": "code",
   "execution_count": 49,
   "id": "2f6b63e3",
   "metadata": {},
   "outputs": [
    {
     "data": {
      "application/vnd.microsoft.datawrangler.viewer.v0+json": {
       "columns": [
        {
         "name": "index",
         "rawType": "int64",
         "type": "integer"
        },
        {
         "name": "variavel_analisada",
         "rawType": "object",
         "type": "string"
        },
        {
         "name": "Quantidade",
         "rawType": "int64",
         "type": "integer"
        },
        {
         "name": "Percentual",
         "rawType": "object",
         "type": "string"
        }
       ],
       "ref": "e88f4588-6682-464c-9c66-b45ad934ca31",
       "rows": [],
       "shape": {
        "columns": 3,
        "rows": 0
       }
      },
      "text/html": [
       "<div>\n",
       "<style scoped>\n",
       "    .dataframe tbody tr th:only-of-type {\n",
       "        vertical-align: middle;\n",
       "    }\n",
       "\n",
       "    .dataframe tbody tr th {\n",
       "        vertical-align: top;\n",
       "    }\n",
       "\n",
       "    .dataframe thead th {\n",
       "        text-align: right;\n",
       "    }\n",
       "</style>\n",
       "<table border=\"1\" class=\"dataframe\">\n",
       "  <thead>\n",
       "    <tr style=\"text-align: right;\">\n",
       "      <th></th>\n",
       "      <th>variavel_analisada</th>\n",
       "      <th>Quantidade</th>\n",
       "      <th>Percentual</th>\n",
       "    </tr>\n",
       "  </thead>\n",
       "  <tbody>\n",
       "  </tbody>\n",
       "</table>\n",
       "</div>"
      ],
      "text/plain": [
       "Empty DataFrame\n",
       "Columns: [variavel_analisada, Quantidade, Percentual]\n",
       "Index: []"
      ]
     },
     "execution_count": 49,
     "metadata": {},
     "output_type": "execute_result"
    }
   ],
   "source": [
    "analisa_dados_ausentes(base_gapminder)"
   ]
  },
  {
   "cell_type": "code",
   "execution_count": 50,
   "id": "13ca9c0b",
   "metadata": {},
   "outputs": [
    {
     "name": "stdout",
     "output_type": "stream",
     "text": [
      "Foram encontrados 32 registros duplicados\n",
      "\n",
      "Prévia dos dados duplicados:\n"
     ]
    },
    {
     "data": {
      "application/vnd.microsoft.datawrangler.viewer.v0+json": {
       "columns": [
        {
         "name": "index",
         "rawType": "int64",
         "type": "integer"
        },
        {
         "name": "country",
         "rawType": "object",
         "type": "string"
        },
        {
         "name": "year",
         "rawType": "int64",
         "type": "integer"
        },
        {
         "name": "pop",
         "rawType": "float64",
         "type": "float"
        },
        {
         "name": "continent",
         "rawType": "object",
         "type": "string"
        },
        {
         "name": "lifeExp",
         "rawType": "float64",
         "type": "float"
        },
        {
         "name": "gdpPercap",
         "rawType": "float64",
         "type": "float"
        }
       ],
       "ref": "b2c0c207-2ec2-4304-b2d9-d62948aa32a7",
       "rows": [
        [
         "72",
         "Afghanistan",
         "1997",
         "22227415.0",
         "Asia",
         "41.763",
         "635.341351"
        ],
        [
         "145",
         "Bolivia",
         "1987",
         "6156369.0",
         "Americas",
         "57.251",
         "2753.69149"
        ],
        [
         "146",
         "Bolivia",
         "1992",
         "6893451.0",
         "Americas",
         "59.957",
         "2961.699694"
        ],
        [
         "147",
         "Bolivia",
         "1997",
         "7693188.0",
         "Americas",
         "62.05",
         "3326.143191"
        ],
        [
         "148",
         "Bolivia",
         "2002",
         "8445134.0",
         "Americas",
         "63.883",
         "3413.26269"
        ]
       ],
       "shape": {
        "columns": 6,
        "rows": 5
       }
      },
      "text/html": [
       "<div>\n",
       "<style scoped>\n",
       "    .dataframe tbody tr th:only-of-type {\n",
       "        vertical-align: middle;\n",
       "    }\n",
       "\n",
       "    .dataframe tbody tr th {\n",
       "        vertical-align: top;\n",
       "    }\n",
       "\n",
       "    .dataframe thead th {\n",
       "        text-align: right;\n",
       "    }\n",
       "</style>\n",
       "<table border=\"1\" class=\"dataframe\">\n",
       "  <thead>\n",
       "    <tr style=\"text-align: right;\">\n",
       "      <th></th>\n",
       "      <th>country</th>\n",
       "      <th>year</th>\n",
       "      <th>pop</th>\n",
       "      <th>continent</th>\n",
       "      <th>lifeExp</th>\n",
       "      <th>gdpPercap</th>\n",
       "    </tr>\n",
       "  </thead>\n",
       "  <tbody>\n",
       "    <tr>\n",
       "      <th>72</th>\n",
       "      <td>Afghanistan</td>\n",
       "      <td>1997</td>\n",
       "      <td>22227415.0</td>\n",
       "      <td>Asia</td>\n",
       "      <td>41.763</td>\n",
       "      <td>635.341351</td>\n",
       "    </tr>\n",
       "    <tr>\n",
       "      <th>145</th>\n",
       "      <td>Bolivia</td>\n",
       "      <td>1987</td>\n",
       "      <td>6156369.0</td>\n",
       "      <td>Americas</td>\n",
       "      <td>57.251</td>\n",
       "      <td>2753.691490</td>\n",
       "    </tr>\n",
       "    <tr>\n",
       "      <th>146</th>\n",
       "      <td>Bolivia</td>\n",
       "      <td>1992</td>\n",
       "      <td>6893451.0</td>\n",
       "      <td>Americas</td>\n",
       "      <td>59.957</td>\n",
       "      <td>2961.699694</td>\n",
       "    </tr>\n",
       "    <tr>\n",
       "      <th>147</th>\n",
       "      <td>Bolivia</td>\n",
       "      <td>1997</td>\n",
       "      <td>7693188.0</td>\n",
       "      <td>Americas</td>\n",
       "      <td>62.050</td>\n",
       "      <td>3326.143191</td>\n",
       "    </tr>\n",
       "    <tr>\n",
       "      <th>148</th>\n",
       "      <td>Bolivia</td>\n",
       "      <td>2002</td>\n",
       "      <td>8445134.0</td>\n",
       "      <td>Americas</td>\n",
       "      <td>63.883</td>\n",
       "      <td>3413.262690</td>\n",
       "    </tr>\n",
       "  </tbody>\n",
       "</table>\n",
       "</div>"
      ],
      "text/plain": [
       "         country  year         pop continent  lifeExp    gdpPercap\n",
       "72   Afghanistan  1997  22227415.0      Asia   41.763   635.341351\n",
       "145      Bolivia  1987   6156369.0  Americas   57.251  2753.691490\n",
       "146      Bolivia  1992   6893451.0  Americas   59.957  2961.699694\n",
       "147      Bolivia  1997   7693188.0  Americas   62.050  3326.143191\n",
       "148      Bolivia  2002   8445134.0  Americas   63.883  3413.262690"
      ]
     },
     "execution_count": 50,
     "metadata": {},
     "output_type": "execute_result"
    }
   ],
   "source": [
    "verifica_dados_duplicados(base_gapminder)"
   ]
  },
  {
   "cell_type": "code",
   "execution_count": 51,
   "id": "e15401bc",
   "metadata": {},
   "outputs": [
    {
     "name": "stdout",
     "output_type": "stream",
     "text": [
      "Removendo dados duplicados ...\n",
      "Foram encontrados 32 registros duplicados\n",
      "\n",
      "Prévia dos dados duplicados:\n",
      "Dados duplicados removidos com sucesso! \n",
      "Dimensão: (1704, 6)\n"
     ]
    },
    {
     "data": {
      "application/vnd.microsoft.datawrangler.viewer.v0+json": {
       "columns": [
        {
         "name": "index",
         "rawType": "int64",
         "type": "integer"
        },
        {
         "name": "country",
         "rawType": "object",
         "type": "string"
        },
        {
         "name": "year",
         "rawType": "int64",
         "type": "integer"
        },
        {
         "name": "pop",
         "rawType": "float64",
         "type": "float"
        },
        {
         "name": "continent",
         "rawType": "object",
         "type": "string"
        },
        {
         "name": "lifeExp",
         "rawType": "float64",
         "type": "float"
        },
        {
         "name": "gdpPercap",
         "rawType": "float64",
         "type": "float"
        }
       ],
       "ref": "02e64851-fb8c-4c9c-a9e1-7556dd516f22",
       "rows": [
        [
         "0",
         "Afghanistan",
         "1952",
         "8425333.0",
         "Asia",
         "28.801",
         "779.4453145"
        ],
        [
         "1",
         "Afghanistan",
         "1957",
         "9240934.0",
         "Asia",
         "30.332",
         "820.8530296"
        ],
        [
         "2",
         "Afghanistan",
         "1962",
         "10267083.0",
         "Asia",
         "31.997",
         "853.10071"
        ],
        [
         "3",
         "Afghanistan",
         "1967",
         "11537966.0",
         "Asia",
         "34.02",
         "836.1971382"
        ],
        [
         "4",
         "Afghanistan",
         "1972",
         "13079460.0",
         "Asia",
         "36.088",
         "739.9811058"
        ]
       ],
       "shape": {
        "columns": 6,
        "rows": 5
       }
      },
      "text/html": [
       "<div>\n",
       "<style scoped>\n",
       "    .dataframe tbody tr th:only-of-type {\n",
       "        vertical-align: middle;\n",
       "    }\n",
       "\n",
       "    .dataframe tbody tr th {\n",
       "        vertical-align: top;\n",
       "    }\n",
       "\n",
       "    .dataframe thead th {\n",
       "        text-align: right;\n",
       "    }\n",
       "</style>\n",
       "<table border=\"1\" class=\"dataframe\">\n",
       "  <thead>\n",
       "    <tr style=\"text-align: right;\">\n",
       "      <th></th>\n",
       "      <th>country</th>\n",
       "      <th>year</th>\n",
       "      <th>pop</th>\n",
       "      <th>continent</th>\n",
       "      <th>lifeExp</th>\n",
       "      <th>gdpPercap</th>\n",
       "    </tr>\n",
       "  </thead>\n",
       "  <tbody>\n",
       "    <tr>\n",
       "      <th>0</th>\n",
       "      <td>Afghanistan</td>\n",
       "      <td>1952</td>\n",
       "      <td>8425333.0</td>\n",
       "      <td>Asia</td>\n",
       "      <td>28.801</td>\n",
       "      <td>779.445314</td>\n",
       "    </tr>\n",
       "    <tr>\n",
       "      <th>1</th>\n",
       "      <td>Afghanistan</td>\n",
       "      <td>1957</td>\n",
       "      <td>9240934.0</td>\n",
       "      <td>Asia</td>\n",
       "      <td>30.332</td>\n",
       "      <td>820.853030</td>\n",
       "    </tr>\n",
       "    <tr>\n",
       "      <th>2</th>\n",
       "      <td>Afghanistan</td>\n",
       "      <td>1962</td>\n",
       "      <td>10267083.0</td>\n",
       "      <td>Asia</td>\n",
       "      <td>31.997</td>\n",
       "      <td>853.100710</td>\n",
       "    </tr>\n",
       "    <tr>\n",
       "      <th>3</th>\n",
       "      <td>Afghanistan</td>\n",
       "      <td>1967</td>\n",
       "      <td>11537966.0</td>\n",
       "      <td>Asia</td>\n",
       "      <td>34.020</td>\n",
       "      <td>836.197138</td>\n",
       "    </tr>\n",
       "    <tr>\n",
       "      <th>4</th>\n",
       "      <td>Afghanistan</td>\n",
       "      <td>1972</td>\n",
       "      <td>13079460.0</td>\n",
       "      <td>Asia</td>\n",
       "      <td>36.088</td>\n",
       "      <td>739.981106</td>\n",
       "    </tr>\n",
       "  </tbody>\n",
       "</table>\n",
       "</div>"
      ],
      "text/plain": [
       "       country  year         pop continent  lifeExp   gdpPercap\n",
       "0  Afghanistan  1952   8425333.0      Asia   28.801  779.445314\n",
       "1  Afghanistan  1957   9240934.0      Asia   30.332  820.853030\n",
       "2  Afghanistan  1962  10267083.0      Asia   31.997  853.100710\n",
       "3  Afghanistan  1967  11537966.0      Asia   34.020  836.197138\n",
       "4  Afghanistan  1972  13079460.0      Asia   36.088  739.981106"
      ]
     },
     "execution_count": 51,
     "metadata": {},
     "output_type": "execute_result"
    }
   ],
   "source": [
    "base_limpa = remove_dados_duplicados(base_gapminder)\n",
    "base_limpa.head()"
   ]
  },
  {
   "cell_type": "code",
   "execution_count": 52,
   "id": "60be55e8",
   "metadata": {},
   "outputs": [
    {
     "name": "stdout",
     "output_type": "stream",
     "text": [
      "<class 'pandas.core.frame.DataFrame'>\n",
      "Index: 1704 entries, 0 to 1735\n",
      "Data columns (total 6 columns):\n",
      " #   Column     Non-Null Count  Dtype  \n",
      "---  ------     --------------  -----  \n",
      " 0   country    1704 non-null   object \n",
      " 1   year       1704 non-null   int64  \n",
      " 2   pop        1704 non-null   float64\n",
      " 3   continent  1704 non-null   object \n",
      " 4   lifeExp    1704 non-null   float64\n",
      " 5   gdpPercap  1704 non-null   float64\n",
      "dtypes: float64(3), int64(1), object(2)\n",
      "memory usage: 93.2+ KB\n"
     ]
    },
    {
     "data": {
      "application/vnd.microsoft.datawrangler.viewer.v0+json": {
       "columns": [
        {
         "name": "index",
         "rawType": "object",
         "type": "string"
        },
        {
         "name": "year",
         "rawType": "float64",
         "type": "float"
        },
        {
         "name": "pop",
         "rawType": "float64",
         "type": "float"
        },
        {
         "name": "lifeExp",
         "rawType": "float64",
         "type": "float"
        },
        {
         "name": "gdpPercap",
         "rawType": "float64",
         "type": "float"
        }
       ],
       "ref": "bc5d710a-a0cb-4dd6-bbaf-08febeb242d8",
       "rows": [
        [
         "count",
         "1704.0",
         "1704.0",
         "1704.0",
         "1704.0"
        ],
        [
         "mean",
         "1979.5",
         "29601212.32511736",
         "59.474439366197174",
         "7215.327081212383"
        ],
        [
         "std",
         "17.265329508973615",
         "106157896.74682792",
         "12.917107415241192",
         "9857.454542541522"
        ],
        [
         "min",
         "1952.0",
         "60011.0",
         "23.599",
         "241.1658765"
        ],
        [
         "25%",
         "1965.75",
         "2793664.0",
         "48.198",
         "1202.06030925"
        ],
        [
         "50%",
         "1979.5",
         "7023595.5",
         "60.7125",
         "3531.8469885"
        ],
        [
         "75%",
         "1993.25",
         "19585221.75",
         "70.8455",
         "9325.462346"
        ],
        [
         "max",
         "2007.0",
         "1318683096.0",
         "82.603",
         "113523.1329"
        ]
       ],
       "shape": {
        "columns": 4,
        "rows": 8
       }
      },
      "text/html": [
       "<div>\n",
       "<style scoped>\n",
       "    .dataframe tbody tr th:only-of-type {\n",
       "        vertical-align: middle;\n",
       "    }\n",
       "\n",
       "    .dataframe tbody tr th {\n",
       "        vertical-align: top;\n",
       "    }\n",
       "\n",
       "    .dataframe thead th {\n",
       "        text-align: right;\n",
       "    }\n",
       "</style>\n",
       "<table border=\"1\" class=\"dataframe\">\n",
       "  <thead>\n",
       "    <tr style=\"text-align: right;\">\n",
       "      <th></th>\n",
       "      <th>year</th>\n",
       "      <th>pop</th>\n",
       "      <th>lifeExp</th>\n",
       "      <th>gdpPercap</th>\n",
       "    </tr>\n",
       "  </thead>\n",
       "  <tbody>\n",
       "    <tr>\n",
       "      <th>count</th>\n",
       "      <td>1704.00000</td>\n",
       "      <td>1.704000e+03</td>\n",
       "      <td>1704.000000</td>\n",
       "      <td>1704.000000</td>\n",
       "    </tr>\n",
       "    <tr>\n",
       "      <th>mean</th>\n",
       "      <td>1979.50000</td>\n",
       "      <td>2.960121e+07</td>\n",
       "      <td>59.474439</td>\n",
       "      <td>7215.327081</td>\n",
       "    </tr>\n",
       "    <tr>\n",
       "      <th>std</th>\n",
       "      <td>17.26533</td>\n",
       "      <td>1.061579e+08</td>\n",
       "      <td>12.917107</td>\n",
       "      <td>9857.454543</td>\n",
       "    </tr>\n",
       "    <tr>\n",
       "      <th>min</th>\n",
       "      <td>1952.00000</td>\n",
       "      <td>6.001100e+04</td>\n",
       "      <td>23.599000</td>\n",
       "      <td>241.165876</td>\n",
       "    </tr>\n",
       "    <tr>\n",
       "      <th>25%</th>\n",
       "      <td>1965.75000</td>\n",
       "      <td>2.793664e+06</td>\n",
       "      <td>48.198000</td>\n",
       "      <td>1202.060309</td>\n",
       "    </tr>\n",
       "    <tr>\n",
       "      <th>50%</th>\n",
       "      <td>1979.50000</td>\n",
       "      <td>7.023596e+06</td>\n",
       "      <td>60.712500</td>\n",
       "      <td>3531.846988</td>\n",
       "    </tr>\n",
       "    <tr>\n",
       "      <th>75%</th>\n",
       "      <td>1993.25000</td>\n",
       "      <td>1.958522e+07</td>\n",
       "      <td>70.845500</td>\n",
       "      <td>9325.462346</td>\n",
       "    </tr>\n",
       "    <tr>\n",
       "      <th>max</th>\n",
       "      <td>2007.00000</td>\n",
       "      <td>1.318683e+09</td>\n",
       "      <td>82.603000</td>\n",
       "      <td>113523.132900</td>\n",
       "    </tr>\n",
       "  </tbody>\n",
       "</table>\n",
       "</div>"
      ],
      "text/plain": [
       "             year           pop      lifeExp      gdpPercap\n",
       "count  1704.00000  1.704000e+03  1704.000000    1704.000000\n",
       "mean   1979.50000  2.960121e+07    59.474439    7215.327081\n",
       "std      17.26533  1.061579e+08    12.917107    9857.454543\n",
       "min    1952.00000  6.001100e+04    23.599000     241.165876\n",
       "25%    1965.75000  2.793664e+06    48.198000    1202.060309\n",
       "50%    1979.50000  7.023596e+06    60.712500    3531.846988\n",
       "75%    1993.25000  1.958522e+07    70.845500    9325.462346\n",
       "max    2007.00000  1.318683e+09    82.603000  113523.132900"
      ]
     },
     "execution_count": 52,
     "metadata": {},
     "output_type": "execute_result"
    }
   ],
   "source": [
    "# Problemas encontrados:\n",
    "# 1. Índia -> Pop com Notação Científica - Verificar se precisa tratar\n",
    "# 2. China -> Pop com decimal\n",
    "base_limpa.info()\n",
    "base_limpa.describe()"
   ]
  },
  {
   "cell_type": "code",
   "execution_count": 53,
   "id": "1d22b2a2",
   "metadata": {},
   "outputs": [
    {
     "name": "stderr",
     "output_type": "stream",
     "text": [
      "C:\\Users\\bruno\\AppData\\Local\\Temp\\ipykernel_29740\\2259588810.py:9: SettingWithCopyWarning: \n",
      "A value is trying to be set on a copy of a slice from a DataFrame.\n",
      "Try using .loc[row_indexer,col_indexer] = value instead\n",
      "\n",
      "See the caveats in the documentation: https://pandas.pydata.org/pandas-docs/stable/user_guide/indexing.html#returning-a-view-versus-a-copy\n",
      "  base_limpa['gdpPercap'] = base_limpa['gdpPercap'].round(2)\n",
      "C:\\Users\\bruno\\AppData\\Local\\Temp\\ipykernel_29740\\2259588810.py:10: SettingWithCopyWarning: \n",
      "A value is trying to be set on a copy of a slice from a DataFrame.\n",
      "Try using .loc[row_indexer,col_indexer] = value instead\n",
      "\n",
      "See the caveats in the documentation: https://pandas.pydata.org/pandas-docs/stable/user_guide/indexing.html#returning-a-view-versus-a-copy\n",
      "  base_limpa['lifeExp'] = base_limpa['lifeExp'].round(1)\n",
      "C:\\Users\\bruno\\AppData\\Local\\Temp\\ipykernel_29740\\2259588810.py:11: SettingWithCopyWarning: \n",
      "A value is trying to be set on a copy of a slice from a DataFrame.\n",
      "Try using .loc[row_indexer,col_indexer] = value instead\n",
      "\n",
      "See the caveats in the documentation: https://pandas.pydata.org/pandas-docs/stable/user_guide/indexing.html#returning-a-view-versus-a-copy\n",
      "  base_limpa[\"pop\"] = base_limpa[\"pop\"].astype(\"int64\")\n",
      "C:\\Users\\bruno\\AppData\\Local\\Temp\\ipykernel_29740\\2259588810.py:12: SettingWithCopyWarning: \n",
      "A value is trying to be set on a copy of a slice from a DataFrame.\n",
      "Try using .loc[row_indexer,col_indexer] = value instead\n",
      "\n",
      "See the caveats in the documentation: https://pandas.pydata.org/pandas-docs/stable/user_guide/indexing.html#returning-a-view-versus-a-copy\n",
      "  base_limpa[\"pop\"] = base_limpa[\"pop\"].apply(lambda x: f\"{x:,.0f}\".replace(\",\", \".\"))\n"
     ]
    },
    {
     "data": {
      "application/vnd.microsoft.datawrangler.viewer.v0+json": {
       "columns": [
        {
         "name": "index",
         "rawType": "int64",
         "type": "integer"
        },
        {
         "name": "country",
         "rawType": "object",
         "type": "string"
        },
        {
         "name": "year",
         "rawType": "int64",
         "type": "integer"
        },
        {
         "name": "pop",
         "rawType": "object",
         "type": "string"
        },
        {
         "name": "continent",
         "rawType": "object",
         "type": "string"
        },
        {
         "name": "lifeExp",
         "rawType": "float64",
         "type": "float"
        },
        {
         "name": "gdpPercap",
         "rawType": "float64",
         "type": "float"
        }
       ],
       "ref": "dc36ef8c-a8ee-4f6b-88c0-e7f379dda0a5",
       "rows": [
        [
         "297",
         "China",
         "1952",
         "556.263.527",
         "Asia",
         "44.0",
         "400.45"
        ],
        [
         "298",
         "China",
         "1957",
         "637.408.000",
         "Asia",
         "50.5",
         "575.99"
        ],
        [
         "299",
         "China",
         "1962",
         "665.770.000",
         "Asia",
         "44.5",
         "487.67"
        ],
        [
         "300",
         "China",
         "1967",
         "754.550.000",
         "Asia",
         "58.4",
         "612.71"
        ],
        [
         "301",
         "China",
         "1972",
         "862.030.000",
         "Asia",
         "63.1",
         "676.9"
        ],
        [
         "302",
         "China",
         "1977",
         "943.455.000",
         "Asia",
         "64.0",
         "741.24"
        ],
        [
         "303",
         "China",
         "1982",
         "1.000.281.000",
         "Asia",
         "65.5",
         "962.42"
        ],
        [
         "304",
         "China",
         "1987",
         "1.084.035.000",
         "Asia",
         "67.3",
         "1378.9"
        ],
        [
         "305",
         "China",
         "1992",
         "1.164.970.000",
         "Asia",
         "68.7",
         "1655.78"
        ],
        [
         "306",
         "China",
         "1997",
         "1.230.075.000",
         "Asia",
         "70.4",
         "2289.23"
        ],
        [
         "307",
         "China",
         "2002",
         "1.280.400.000",
         "Asia",
         "72.0",
         "3119.28"
        ],
        [
         "308",
         "China",
         "2007",
         "1.318.683.096",
         "Asia",
         "73.0",
         "4959.11"
        ]
       ],
       "shape": {
        "columns": 6,
        "rows": 12
       }
      },
      "text/html": [
       "<div>\n",
       "<style scoped>\n",
       "    .dataframe tbody tr th:only-of-type {\n",
       "        vertical-align: middle;\n",
       "    }\n",
       "\n",
       "    .dataframe tbody tr th {\n",
       "        vertical-align: top;\n",
       "    }\n",
       "\n",
       "    .dataframe thead th {\n",
       "        text-align: right;\n",
       "    }\n",
       "</style>\n",
       "<table border=\"1\" class=\"dataframe\">\n",
       "  <thead>\n",
       "    <tr style=\"text-align: right;\">\n",
       "      <th></th>\n",
       "      <th>country</th>\n",
       "      <th>year</th>\n",
       "      <th>pop</th>\n",
       "      <th>continent</th>\n",
       "      <th>lifeExp</th>\n",
       "      <th>gdpPercap</th>\n",
       "    </tr>\n",
       "  </thead>\n",
       "  <tbody>\n",
       "    <tr>\n",
       "      <th>297</th>\n",
       "      <td>China</td>\n",
       "      <td>1952</td>\n",
       "      <td>556.263.527</td>\n",
       "      <td>Asia</td>\n",
       "      <td>44.0</td>\n",
       "      <td>400.45</td>\n",
       "    </tr>\n",
       "    <tr>\n",
       "      <th>298</th>\n",
       "      <td>China</td>\n",
       "      <td>1957</td>\n",
       "      <td>637.408.000</td>\n",
       "      <td>Asia</td>\n",
       "      <td>50.5</td>\n",
       "      <td>575.99</td>\n",
       "    </tr>\n",
       "    <tr>\n",
       "      <th>299</th>\n",
       "      <td>China</td>\n",
       "      <td>1962</td>\n",
       "      <td>665.770.000</td>\n",
       "      <td>Asia</td>\n",
       "      <td>44.5</td>\n",
       "      <td>487.67</td>\n",
       "    </tr>\n",
       "    <tr>\n",
       "      <th>300</th>\n",
       "      <td>China</td>\n",
       "      <td>1967</td>\n",
       "      <td>754.550.000</td>\n",
       "      <td>Asia</td>\n",
       "      <td>58.4</td>\n",
       "      <td>612.71</td>\n",
       "    </tr>\n",
       "    <tr>\n",
       "      <th>301</th>\n",
       "      <td>China</td>\n",
       "      <td>1972</td>\n",
       "      <td>862.030.000</td>\n",
       "      <td>Asia</td>\n",
       "      <td>63.1</td>\n",
       "      <td>676.90</td>\n",
       "    </tr>\n",
       "    <tr>\n",
       "      <th>302</th>\n",
       "      <td>China</td>\n",
       "      <td>1977</td>\n",
       "      <td>943.455.000</td>\n",
       "      <td>Asia</td>\n",
       "      <td>64.0</td>\n",
       "      <td>741.24</td>\n",
       "    </tr>\n",
       "    <tr>\n",
       "      <th>303</th>\n",
       "      <td>China</td>\n",
       "      <td>1982</td>\n",
       "      <td>1.000.281.000</td>\n",
       "      <td>Asia</td>\n",
       "      <td>65.5</td>\n",
       "      <td>962.42</td>\n",
       "    </tr>\n",
       "    <tr>\n",
       "      <th>304</th>\n",
       "      <td>China</td>\n",
       "      <td>1987</td>\n",
       "      <td>1.084.035.000</td>\n",
       "      <td>Asia</td>\n",
       "      <td>67.3</td>\n",
       "      <td>1378.90</td>\n",
       "    </tr>\n",
       "    <tr>\n",
       "      <th>305</th>\n",
       "      <td>China</td>\n",
       "      <td>1992</td>\n",
       "      <td>1.164.970.000</td>\n",
       "      <td>Asia</td>\n",
       "      <td>68.7</td>\n",
       "      <td>1655.78</td>\n",
       "    </tr>\n",
       "    <tr>\n",
       "      <th>306</th>\n",
       "      <td>China</td>\n",
       "      <td>1997</td>\n",
       "      <td>1.230.075.000</td>\n",
       "      <td>Asia</td>\n",
       "      <td>70.4</td>\n",
       "      <td>2289.23</td>\n",
       "    </tr>\n",
       "    <tr>\n",
       "      <th>307</th>\n",
       "      <td>China</td>\n",
       "      <td>2002</td>\n",
       "      <td>1.280.400.000</td>\n",
       "      <td>Asia</td>\n",
       "      <td>72.0</td>\n",
       "      <td>3119.28</td>\n",
       "    </tr>\n",
       "    <tr>\n",
       "      <th>308</th>\n",
       "      <td>China</td>\n",
       "      <td>2007</td>\n",
       "      <td>1.318.683.096</td>\n",
       "      <td>Asia</td>\n",
       "      <td>73.0</td>\n",
       "      <td>4959.11</td>\n",
       "    </tr>\n",
       "  </tbody>\n",
       "</table>\n",
       "</div>"
      ],
      "text/plain": [
       "    country  year            pop continent  lifeExp  gdpPercap\n",
       "297   China  1952    556.263.527      Asia     44.0     400.45\n",
       "298   China  1957    637.408.000      Asia     50.5     575.99\n",
       "299   China  1962    665.770.000      Asia     44.5     487.67\n",
       "300   China  1967    754.550.000      Asia     58.4     612.71\n",
       "301   China  1972    862.030.000      Asia     63.1     676.90\n",
       "302   China  1977    943.455.000      Asia     64.0     741.24\n",
       "303   China  1982  1.000.281.000      Asia     65.5     962.42\n",
       "304   China  1987  1.084.035.000      Asia     67.3    1378.90\n",
       "305   China  1992  1.164.970.000      Asia     68.7    1655.78\n",
       "306   China  1997  1.230.075.000      Asia     70.4    2289.23\n",
       "307   China  2002  1.280.400.000      Asia     72.0    3119.28\n",
       "308   China  2007  1.318.683.096      Asia     73.0    4959.11"
      ]
     },
     "execution_count": 53,
     "metadata": {},
     "output_type": "execute_result"
    }
   ],
   "source": [
    "# Reduzir renda per capita para 2 casas decimais\n",
    "# Reduzir expectativa de vida para 1 casa decimal\n",
    "# Tratar população da Índia e China\n",
    "# Rwanda teve uma guerra civil em 1994, o que impactou a expectativa de vida do país. Talvez seja interessante analisar esse ponto.\n",
    "# Analisar quais paises tem anos faltando -> Não parece ter impacto\n",
    "#anos_por_pais = base_limpa.groupby(\"country\").count()[\"year\"].reset_index().sort_values(by=\"year\", ascending=True)\n",
    "#anos_por_pais.head(1000)\n",
    "\n",
    "base_limpa['gdpPercap'] = base_limpa['gdpPercap'].round(2)\n",
    "base_limpa['lifeExp'] = base_limpa['lifeExp'].round(1)\n",
    "base_limpa[\"pop\"] = base_limpa[\"pop\"].astype(\"int64\")\n",
    "base_limpa[\"pop\"] = base_limpa[\"pop\"].apply(lambda x: f\"{x:,.0f}\".replace(\",\", \".\"))\n",
    "\n",
    "base_limpa[base_limpa['country'] == 'China'].head(30)\n",
    "#base_limpa[base_limpa['country'] == 'India'].head(30)\n"
   ]
  },
  {
   "cell_type": "code",
   "execution_count": 54,
   "id": "0cc4fb53",
   "metadata": {},
   "outputs": [
    {
     "name": "stdout",
     "output_type": "stream",
     "text": [
      "Importando o dataframe: ../../avaliacao-python-ciencia-dados/Bases/deaths-in-armed-conflicts-by-type.csv ...\n",
      "Dataframe importado com sucesso! \n",
      "Dimensão: (7632, 8)\n",
      "Foram encontrados 0 registros duplicados\n",
      "\n",
      "Prévia dos dados duplicados:\n"
     ]
    },
    {
     "data": {
      "application/vnd.microsoft.datawrangler.viewer.v0+json": {
       "columns": [
        {
         "name": "index",
         "rawType": "int64",
         "type": "integer"
        },
        {
         "name": "Entity",
         "rawType": "object",
         "type": "string"
        },
        {
         "name": "Deaths in ongoing conflicts (best estimate) - Conflict type: one-sided violence_sum",
         "rawType": "int64",
         "type": "integer"
        },
        {
         "name": "Deaths in ongoing conflicts (best estimate) - Conflict type: non-state conflict_sum",
         "rawType": "int64",
         "type": "integer"
        },
        {
         "name": "Deaths in ongoing conflicts (best estimate) - Conflict type: extrasystemic_sum",
         "rawType": "int64",
         "type": "integer"
        },
        {
         "name": "Deaths in ongoing conflicts (best estimate) - Conflict type: intrastate_sum",
         "rawType": "int64",
         "type": "integer"
        },
        {
         "name": "Deaths in ongoing conflicts (best estimate) - Conflict type: interstate_sum",
         "rawType": "int64",
         "type": "integer"
        },
        {
         "name": "year",
         "rawType": "int64",
         "type": "integer"
        }
       ],
       "ref": "821448d3-42aa-45e4-810a-d8b5eec9870a",
       "rows": [
        [
         "0",
         "Abkhazia",
         "0",
         "0",
         "0",
         "0",
         "0",
         "1992"
        ],
        [
         "1",
         "Abkhazia",
         "0",
         "0",
         "0",
         "0",
         "0",
         "1997"
        ],
        [
         "2",
         "Abkhazia",
         "0",
         "0",
         "0",
         "0",
         "0",
         "2002"
        ],
        [
         "3",
         "Abkhazia",
         "0",
         "0",
         "0",
         "0",
         "0",
         "2007"
        ],
        [
         "4",
         "Abyei",
         "0",
         "0",
         "0",
         "0",
         "0",
         "1992"
        ]
       ],
       "shape": {
        "columns": 7,
        "rows": 5
       }
      },
      "text/html": [
       "<div>\n",
       "<style scoped>\n",
       "    .dataframe tbody tr th:only-of-type {\n",
       "        vertical-align: middle;\n",
       "    }\n",
       "\n",
       "    .dataframe tbody tr th {\n",
       "        vertical-align: top;\n",
       "    }\n",
       "\n",
       "    .dataframe thead th {\n",
       "        text-align: right;\n",
       "    }\n",
       "</style>\n",
       "<table border=\"1\" class=\"dataframe\">\n",
       "  <thead>\n",
       "    <tr style=\"text-align: right;\">\n",
       "      <th></th>\n",
       "      <th>Entity</th>\n",
       "      <th>Deaths in ongoing conflicts (best estimate) - Conflict type: one-sided violence_sum</th>\n",
       "      <th>Deaths in ongoing conflicts (best estimate) - Conflict type: non-state conflict_sum</th>\n",
       "      <th>Deaths in ongoing conflicts (best estimate) - Conflict type: extrasystemic_sum</th>\n",
       "      <th>Deaths in ongoing conflicts (best estimate) - Conflict type: intrastate_sum</th>\n",
       "      <th>Deaths in ongoing conflicts (best estimate) - Conflict type: interstate_sum</th>\n",
       "      <th>year</th>\n",
       "    </tr>\n",
       "  </thead>\n",
       "  <tbody>\n",
       "    <tr>\n",
       "      <th>0</th>\n",
       "      <td>Abkhazia</td>\n",
       "      <td>0</td>\n",
       "      <td>0</td>\n",
       "      <td>0</td>\n",
       "      <td>0</td>\n",
       "      <td>0</td>\n",
       "      <td>1992</td>\n",
       "    </tr>\n",
       "    <tr>\n",
       "      <th>1</th>\n",
       "      <td>Abkhazia</td>\n",
       "      <td>0</td>\n",
       "      <td>0</td>\n",
       "      <td>0</td>\n",
       "      <td>0</td>\n",
       "      <td>0</td>\n",
       "      <td>1997</td>\n",
       "    </tr>\n",
       "    <tr>\n",
       "      <th>2</th>\n",
       "      <td>Abkhazia</td>\n",
       "      <td>0</td>\n",
       "      <td>0</td>\n",
       "      <td>0</td>\n",
       "      <td>0</td>\n",
       "      <td>0</td>\n",
       "      <td>2002</td>\n",
       "    </tr>\n",
       "    <tr>\n",
       "      <th>3</th>\n",
       "      <td>Abkhazia</td>\n",
       "      <td>0</td>\n",
       "      <td>0</td>\n",
       "      <td>0</td>\n",
       "      <td>0</td>\n",
       "      <td>0</td>\n",
       "      <td>2007</td>\n",
       "    </tr>\n",
       "    <tr>\n",
       "      <th>4</th>\n",
       "      <td>Abyei</td>\n",
       "      <td>0</td>\n",
       "      <td>0</td>\n",
       "      <td>0</td>\n",
       "      <td>0</td>\n",
       "      <td>0</td>\n",
       "      <td>1992</td>\n",
       "    </tr>\n",
       "  </tbody>\n",
       "</table>\n",
       "</div>"
      ],
      "text/plain": [
       "     Entity  \\\n",
       "0  Abkhazia   \n",
       "1  Abkhazia   \n",
       "2  Abkhazia   \n",
       "3  Abkhazia   \n",
       "4     Abyei   \n",
       "\n",
       "   Deaths in ongoing conflicts (best estimate) - Conflict type: one-sided violence_sum  \\\n",
       "0                                                  0                                     \n",
       "1                                                  0                                     \n",
       "2                                                  0                                     \n",
       "3                                                  0                                     \n",
       "4                                                  0                                     \n",
       "\n",
       "   Deaths in ongoing conflicts (best estimate) - Conflict type: non-state conflict_sum  \\\n",
       "0                                                  0                                     \n",
       "1                                                  0                                     \n",
       "2                                                  0                                     \n",
       "3                                                  0                                     \n",
       "4                                                  0                                     \n",
       "\n",
       "   Deaths in ongoing conflicts (best estimate) - Conflict type: extrasystemic_sum  \\\n",
       "0                                                  0                                \n",
       "1                                                  0                                \n",
       "2                                                  0                                \n",
       "3                                                  0                                \n",
       "4                                                  0                                \n",
       "\n",
       "   Deaths in ongoing conflicts (best estimate) - Conflict type: intrastate_sum  \\\n",
       "0                                                  0                             \n",
       "1                                                  0                             \n",
       "2                                                  0                             \n",
       "3                                                  0                             \n",
       "4                                                  0                             \n",
       "\n",
       "   Deaths in ongoing conflicts (best estimate) - Conflict type: interstate_sum  \\\n",
       "0                                                  0                             \n",
       "1                                                  0                             \n",
       "2                                                  0                             \n",
       "3                                                  0                             \n",
       "4                                                  0                             \n",
       "\n",
       "   year  \n",
       "0  1992  \n",
       "1  1997  \n",
       "2  2002  \n",
       "3  2007  \n",
       "4  1992  "
      ]
     },
     "execution_count": 54,
     "metadata": {},
     "output_type": "execute_result"
    }
   ],
   "source": [
    "# Tratar a base de mortes por guerra e adicionar na brincadeira:\n",
    "mortes_guerra = importa_csv(dataframe_name='../../avaliacao-python-ciencia-dados/Bases/deaths-in-armed-conflicts-by-type.csv', separador=',', encoding='utf-8')\n",
    "\n",
    "analisa_dados_ausentes(mortes_guerra)\n",
    "verifica_dados_duplicados(mortes_guerra) # tem 0 registros duplicados\n",
    "\n",
    "mortes_guerra.describe()\n",
    "\n",
    "#Realizar agregação por pais e ano, equalizando a coluna de ano com as da base principal\n",
    "#A base de mortes em guerra vai de 89 a 2024 e a base principal de 1952 a 2007. teremos apenas um pequeno intervalo de anos de interseçã0\n",
    "#que será agregado e analisado\n",
    "anos = [1952, 1957, 1962, 1967, 1972,1977,1982,1987,1992,1997,2002,2007]\n",
    "colunas_agrupadas = ['Deaths in ongoing conflicts (best estimate) - Conflict type: one-sided violence','Deaths in ongoing conflicts (best estimate) - Conflict type: non-state conflict','Deaths in ongoing conflicts (best estimate) - Conflict type: extrasystemic','Deaths in ongoing conflicts (best estimate) - Conflict type: intrastate','Deaths in ongoing conflicts (best estimate) - Conflict type: interstate']\n",
    "rename_one_column(mortes_guerra, old_name='Year', new_name='year', inplace=True)\n",
    "\n",
    "mortes_guerra = agrega_anos(mortes_guerra, anos, colunas_agrupadas,coluna_agrupamento = ['Entity'])\n",
    "mortes_guerra.head()\n",
    "#juncao = junta_dataframes(base_limpa, mortes_guerra, chave=['country', 'year'], tipo_juncao='left')\n",
    "#juncao.head()"
   ]
  },
  {
   "cell_type": "code",
   "execution_count": 55,
   "id": "05b90ec0",
   "metadata": {},
   "outputs": [
    {
     "data": {
      "application/vnd.microsoft.datawrangler.viewer.v0+json": {
       "columns": [
        {
         "name": "index",
         "rawType": "int64",
         "type": "integer"
        },
        {
         "name": "country",
         "rawType": "object",
         "type": "string"
        },
        {
         "name": "oneSidedViolence",
         "rawType": "int64",
         "type": "integer"
        },
        {
         "name": "nonStateConflict",
         "rawType": "int64",
         "type": "integer"
        },
        {
         "name": "extrasystemic",
         "rawType": "int64",
         "type": "integer"
        },
        {
         "name": "intrastate",
         "rawType": "int64",
         "type": "integer"
        },
        {
         "name": "interstate",
         "rawType": "int64",
         "type": "integer"
        },
        {
         "name": "year",
         "rawType": "int64",
         "type": "integer"
        }
       ],
       "ref": "3c8059f9-89ea-4629-b854-c9cec9cee228",
       "rows": [
        [
         "0",
         "Abkhazia",
         "0",
         "0",
         "0",
         "0",
         "0",
         "1992"
        ],
        [
         "1",
         "Abkhazia",
         "0",
         "0",
         "0",
         "0",
         "0",
         "1997"
        ],
        [
         "2",
         "Abkhazia",
         "0",
         "0",
         "0",
         "0",
         "0",
         "2002"
        ],
        [
         "3",
         "Abkhazia",
         "0",
         "0",
         "0",
         "0",
         "0",
         "2007"
        ],
        [
         "4",
         "Abyei",
         "0",
         "0",
         "0",
         "0",
         "0",
         "1992"
        ],
        [
         "5",
         "Abyei",
         "61",
         "0",
         "0",
         "0",
         "0",
         "1997"
        ],
        [
         "6",
         "Abyei",
         "18",
         "0",
         "0",
         "0",
         "0",
         "2002"
        ],
        [
         "7",
         "Abyei",
         "0",
         "0",
         "0",
         "0",
         "0",
         "2007"
        ],
        [
         "8",
         "Afghanistan",
         "0",
         "614",
         "0",
         "14230",
         "0",
         "1992"
        ],
        [
         "9",
         "Afghanistan",
         "395",
         "580",
         "0",
         "28080",
         "0",
         "1997"
        ],
        [
         "10",
         "Afghanistan",
         "6887",
         "347",
         "0",
         "20668",
         "1397",
         "2002"
        ],
        [
         "11",
         "Afghanistan",
         "477",
         "320",
         "0",
         "14656",
         "0",
         "2007"
        ],
        [
         "12",
         "Africa",
         "20013",
         "14047",
         "0",
         "132113",
         "0",
         "1992"
        ],
        [
         "13",
         "Africa",
         "874002",
         "26950",
         "0",
         "63718",
         "56",
         "1997"
        ],
        [
         "14",
         "Africa",
         "33935",
         "20873",
         "0",
         "64849",
         "98192",
         "2002"
        ],
        [
         "15",
         "Africa",
         "22477",
         "11015",
         "0",
         "21076",
         "0",
         "2007"
        ],
        [
         "16",
         "Albania",
         "0",
         "0",
         "0",
         "0",
         "0",
         "1992"
        ],
        [
         "17",
         "Albania",
         "0",
         "0",
         "0",
         "0",
         "0",
         "1997"
        ],
        [
         "18",
         "Albania",
         "0",
         "0",
         "0",
         "26",
         "0",
         "2002"
        ],
        [
         "19",
         "Albania",
         "0",
         "0",
         "0",
         "0",
         "0",
         "2007"
        ],
        [
         "20",
         "Algeria",
         "0",
         "0",
         "0",
         "291",
         "0",
         "1992"
        ],
        [
         "21",
         "Algeria",
         "381",
         "301",
         "0",
         "8187",
         "0",
         "1997"
        ],
        [
         "22",
         "Algeria",
         "1020",
         "143",
         "0",
         "6188",
         "0",
         "2002"
        ],
        [
         "23",
         "Algeria",
         "181",
         "0",
         "0",
         "2011",
         "0",
         "2007"
        ],
        [
         "24",
         "Americas",
         "2887",
         "131",
         "0",
         "15397",
         "843",
         "1992"
        ],
        [
         "25",
         "Americas",
         "1704",
         "402",
         "0",
         "5460",
         "99",
         "1997"
        ],
        [
         "26",
         "Americas",
         "9954",
         "2816",
         "0",
         "9980",
         "0",
         "2002"
        ],
        [
         "27",
         "Americas",
         "5947",
         "3991",
         "0",
         "6067",
         "0",
         "2007"
        ],
        [
         "28",
         "Andorra",
         "0",
         "0",
         "0",
         "0",
         "0",
         "1992"
        ],
        [
         "29",
         "Andorra",
         "0",
         "0",
         "0",
         "0",
         "0",
         "1997"
        ],
        [
         "30",
         "Andorra",
         "0",
         "0",
         "0",
         "0",
         "0",
         "2002"
        ],
        [
         "31",
         "Andorra",
         "0",
         "0",
         "0",
         "0",
         "0",
         "2007"
        ],
        [
         "32",
         "Angola",
         "114",
         "0",
         "0",
         "8230",
         "0",
         "1992"
        ],
        [
         "33",
         "Angola",
         "448",
         "0",
         "0",
         "16295",
         "0",
         "1997"
        ],
        [
         "34",
         "Angola",
         "1833",
         "0",
         "0",
         "5927",
         "0",
         "2002"
        ],
        [
         "35",
         "Angola",
         "18",
         "0",
         "0",
         "75",
         "0",
         "2007"
        ],
        [
         "36",
         "Antigua and Barbuda",
         "0",
         "0",
         "0",
         "0",
         "0",
         "1992"
        ],
        [
         "37",
         "Antigua and Barbuda",
         "0",
         "0",
         "0",
         "0",
         "0",
         "1997"
        ],
        [
         "38",
         "Antigua and Barbuda",
         "0",
         "0",
         "0",
         "0",
         "0",
         "2002"
        ],
        [
         "39",
         "Antigua and Barbuda",
         "0",
         "0",
         "0",
         "0",
         "0",
         "2007"
        ],
        [
         "40",
         "Argentina",
         "0",
         "0",
         "0",
         "0",
         "0",
         "1992"
        ],
        [
         "41",
         "Argentina",
         "86",
         "0",
         "0",
         "0",
         "0",
         "1997"
        ],
        [
         "42",
         "Argentina",
         "0",
         "0",
         "0",
         "0",
         "0",
         "2002"
        ],
        [
         "43",
         "Argentina",
         "0",
         "0",
         "0",
         "0",
         "0",
         "2007"
        ],
        [
         "44",
         "Armenia",
         "0",
         "2",
         "0",
         "139",
         "0",
         "1992"
        ],
        [
         "45",
         "Armenia",
         "0",
         "0",
         "0",
         "74",
         "0",
         "1997"
        ],
        [
         "46",
         "Armenia",
         "0",
         "0",
         "0",
         "0",
         "0",
         "2002"
        ],
        [
         "47",
         "Armenia",
         "0",
         "0",
         "0",
         "1",
         "0",
         "2007"
        ],
        [
         "48",
         "Asia and Oceania",
         "8193",
         "5432",
         "0",
         "52520",
         "178",
         "1992"
        ],
        [
         "49",
         "Asia and Oceania",
         "3481",
         "3304",
         "0",
         "58069",
         "204",
         "1997"
        ]
       ],
       "shape": {
        "columns": 7,
        "rows": 848
       }
      },
      "text/html": [
       "<div>\n",
       "<style scoped>\n",
       "    .dataframe tbody tr th:only-of-type {\n",
       "        vertical-align: middle;\n",
       "    }\n",
       "\n",
       "    .dataframe tbody tr th {\n",
       "        vertical-align: top;\n",
       "    }\n",
       "\n",
       "    .dataframe thead th {\n",
       "        text-align: right;\n",
       "    }\n",
       "</style>\n",
       "<table border=\"1\" class=\"dataframe\">\n",
       "  <thead>\n",
       "    <tr style=\"text-align: right;\">\n",
       "      <th></th>\n",
       "      <th>country</th>\n",
       "      <th>oneSidedViolence</th>\n",
       "      <th>nonStateConflict</th>\n",
       "      <th>extrasystemic</th>\n",
       "      <th>intrastate</th>\n",
       "      <th>interstate</th>\n",
       "      <th>year</th>\n",
       "    </tr>\n",
       "  </thead>\n",
       "  <tbody>\n",
       "    <tr>\n",
       "      <th>0</th>\n",
       "      <td>Abkhazia</td>\n",
       "      <td>0</td>\n",
       "      <td>0</td>\n",
       "      <td>0</td>\n",
       "      <td>0</td>\n",
       "      <td>0</td>\n",
       "      <td>1992</td>\n",
       "    </tr>\n",
       "    <tr>\n",
       "      <th>1</th>\n",
       "      <td>Abkhazia</td>\n",
       "      <td>0</td>\n",
       "      <td>0</td>\n",
       "      <td>0</td>\n",
       "      <td>0</td>\n",
       "      <td>0</td>\n",
       "      <td>1997</td>\n",
       "    </tr>\n",
       "    <tr>\n",
       "      <th>2</th>\n",
       "      <td>Abkhazia</td>\n",
       "      <td>0</td>\n",
       "      <td>0</td>\n",
       "      <td>0</td>\n",
       "      <td>0</td>\n",
       "      <td>0</td>\n",
       "      <td>2002</td>\n",
       "    </tr>\n",
       "    <tr>\n",
       "      <th>3</th>\n",
       "      <td>Abkhazia</td>\n",
       "      <td>0</td>\n",
       "      <td>0</td>\n",
       "      <td>0</td>\n",
       "      <td>0</td>\n",
       "      <td>0</td>\n",
       "      <td>2007</td>\n",
       "    </tr>\n",
       "    <tr>\n",
       "      <th>4</th>\n",
       "      <td>Abyei</td>\n",
       "      <td>0</td>\n",
       "      <td>0</td>\n",
       "      <td>0</td>\n",
       "      <td>0</td>\n",
       "      <td>0</td>\n",
       "      <td>1992</td>\n",
       "    </tr>\n",
       "    <tr>\n",
       "      <th>...</th>\n",
       "      <td>...</td>\n",
       "      <td>...</td>\n",
       "      <td>...</td>\n",
       "      <td>...</td>\n",
       "      <td>...</td>\n",
       "      <td>...</td>\n",
       "      <td>...</td>\n",
       "    </tr>\n",
       "    <tr>\n",
       "      <th>843</th>\n",
       "      <td>Zambia</td>\n",
       "      <td>0</td>\n",
       "      <td>0</td>\n",
       "      <td>0</td>\n",
       "      <td>0</td>\n",
       "      <td>0</td>\n",
       "      <td>2007</td>\n",
       "    </tr>\n",
       "    <tr>\n",
       "      <th>844</th>\n",
       "      <td>Zimbabwe</td>\n",
       "      <td>51</td>\n",
       "      <td>0</td>\n",
       "      <td>0</td>\n",
       "      <td>0</td>\n",
       "      <td>0</td>\n",
       "      <td>1992</td>\n",
       "    </tr>\n",
       "    <tr>\n",
       "      <th>845</th>\n",
       "      <td>Zimbabwe</td>\n",
       "      <td>0</td>\n",
       "      <td>0</td>\n",
       "      <td>0</td>\n",
       "      <td>0</td>\n",
       "      <td>0</td>\n",
       "      <td>1997</td>\n",
       "    </tr>\n",
       "    <tr>\n",
       "      <th>846</th>\n",
       "      <td>Zimbabwe</td>\n",
       "      <td>0</td>\n",
       "      <td>0</td>\n",
       "      <td>0</td>\n",
       "      <td>0</td>\n",
       "      <td>0</td>\n",
       "      <td>2002</td>\n",
       "    </tr>\n",
       "    <tr>\n",
       "      <th>847</th>\n",
       "      <td>Zimbabwe</td>\n",
       "      <td>0</td>\n",
       "      <td>0</td>\n",
       "      <td>0</td>\n",
       "      <td>0</td>\n",
       "      <td>0</td>\n",
       "      <td>2007</td>\n",
       "    </tr>\n",
       "  </tbody>\n",
       "</table>\n",
       "<p>848 rows × 7 columns</p>\n",
       "</div>"
      ],
      "text/plain": [
       "      country  oneSidedViolence  nonStateConflict  extrasystemic  intrastate  \\\n",
       "0    Abkhazia                 0                 0              0           0   \n",
       "1    Abkhazia                 0                 0              0           0   \n",
       "2    Abkhazia                 0                 0              0           0   \n",
       "3    Abkhazia                 0                 0              0           0   \n",
       "4       Abyei                 0                 0              0           0   \n",
       "..        ...               ...               ...            ...         ...   \n",
       "843    Zambia                 0                 0              0           0   \n",
       "844  Zimbabwe                51                 0              0           0   \n",
       "845  Zimbabwe                 0                 0              0           0   \n",
       "846  Zimbabwe                 0                 0              0           0   \n",
       "847  Zimbabwe                 0                 0              0           0   \n",
       "\n",
       "     interstate  year  \n",
       "0             0  1992  \n",
       "1             0  1997  \n",
       "2             0  2002  \n",
       "3             0  2007  \n",
       "4             0  1992  \n",
       "..          ...   ...  \n",
       "843           0  2007  \n",
       "844           0  1992  \n",
       "845           0  1997  \n",
       "846           0  2002  \n",
       "847           0  2007  \n",
       "\n",
       "[848 rows x 7 columns]"
      ]
     },
     "execution_count": 55,
     "metadata": {},
     "output_type": "execute_result"
    }
   ],
   "source": [
    "# renomeiar colunas para facilitar o uso e entendimento do que tá rolando.\n",
    "rename_one_column(mortes_guerra, old_name='Entity', new_name='country', inplace=True)\n",
    "rename_one_column(mortes_guerra, old_name='Deaths in ongoing conflicts (best estimate) - Conflict type: one-sided violence_sum', new_name='oneSidedViolence', inplace=True)\n",
    "rename_one_column(mortes_guerra, old_name='Deaths in ongoing conflicts (best estimate) - Conflict type: non-state conflict_sum', new_name='nonStateConflict', inplace=True)\n",
    "rename_one_column(mortes_guerra, old_name='Deaths in ongoing conflicts (best estimate) - Conflict type: extrasystemic_sum', new_name='extrasystemic', inplace=True)\n",
    "rename_one_column(mortes_guerra, old_name='Deaths in ongoing conflicts (best estimate) - Conflict type: intrastate_sum', new_name='intrastate', inplace=True)\n",
    "rename_one_column(mortes_guerra, old_name='Deaths in ongoing conflicts (best estimate) - Conflict type: interstate_sum', new_name='interstate', inplace=True)"
   ]
  },
  {
   "cell_type": "code",
   "execution_count": 56,
   "id": "7f9c8fce",
   "metadata": {},
   "outputs": [
    {
     "data": {
      "application/vnd.microsoft.datawrangler.viewer.v0+json": {
       "columns": [
        {
         "name": "index",
         "rawType": "int64",
         "type": "integer"
        },
        {
         "name": "country",
         "rawType": "object",
         "type": "string"
        },
        {
         "name": "oneSidedViolence",
         "rawType": "int64",
         "type": "integer"
        },
        {
         "name": "nonStateConflict",
         "rawType": "int64",
         "type": "integer"
        },
        {
         "name": "extrasystemic",
         "rawType": "int64",
         "type": "integer"
        },
        {
         "name": "intrastate",
         "rawType": "int64",
         "type": "integer"
        },
        {
         "name": "interstate",
         "rawType": "int64",
         "type": "integer"
        },
        {
         "name": "year",
         "rawType": "int64",
         "type": "integer"
        }
       ],
       "ref": "17ff473c-3ccc-4378-be76-f82f51f9ed21",
       "rows": [
        [
         "620",
         "Rwanda",
         "3013",
         "0",
         "0",
         "1366",
         "0",
         "1992"
        ],
        [
         "621",
         "Rwanda",
         "782261",
         "92",
         "0",
         "3344",
         "0",
         "1997"
        ],
        [
         "622",
         "Rwanda",
         "708",
         "0",
         "0",
         "3139",
         "0",
         "2002"
        ],
        [
         "623",
         "Rwanda",
         "0",
         "0",
         "0",
         "0",
         "0",
         "2007"
        ]
       ],
       "shape": {
        "columns": 7,
        "rows": 4
       }
      },
      "text/html": [
       "<div>\n",
       "<style scoped>\n",
       "    .dataframe tbody tr th:only-of-type {\n",
       "        vertical-align: middle;\n",
       "    }\n",
       "\n",
       "    .dataframe tbody tr th {\n",
       "        vertical-align: top;\n",
       "    }\n",
       "\n",
       "    .dataframe thead th {\n",
       "        text-align: right;\n",
       "    }\n",
       "</style>\n",
       "<table border=\"1\" class=\"dataframe\">\n",
       "  <thead>\n",
       "    <tr style=\"text-align: right;\">\n",
       "      <th></th>\n",
       "      <th>country</th>\n",
       "      <th>oneSidedViolence</th>\n",
       "      <th>nonStateConflict</th>\n",
       "      <th>extrasystemic</th>\n",
       "      <th>intrastate</th>\n",
       "      <th>interstate</th>\n",
       "      <th>year</th>\n",
       "    </tr>\n",
       "  </thead>\n",
       "  <tbody>\n",
       "    <tr>\n",
       "      <th>620</th>\n",
       "      <td>Rwanda</td>\n",
       "      <td>3013</td>\n",
       "      <td>0</td>\n",
       "      <td>0</td>\n",
       "      <td>1366</td>\n",
       "      <td>0</td>\n",
       "      <td>1992</td>\n",
       "    </tr>\n",
       "    <tr>\n",
       "      <th>621</th>\n",
       "      <td>Rwanda</td>\n",
       "      <td>782261</td>\n",
       "      <td>92</td>\n",
       "      <td>0</td>\n",
       "      <td>3344</td>\n",
       "      <td>0</td>\n",
       "      <td>1997</td>\n",
       "    </tr>\n",
       "    <tr>\n",
       "      <th>622</th>\n",
       "      <td>Rwanda</td>\n",
       "      <td>708</td>\n",
       "      <td>0</td>\n",
       "      <td>0</td>\n",
       "      <td>3139</td>\n",
       "      <td>0</td>\n",
       "      <td>2002</td>\n",
       "    </tr>\n",
       "    <tr>\n",
       "      <th>623</th>\n",
       "      <td>Rwanda</td>\n",
       "      <td>0</td>\n",
       "      <td>0</td>\n",
       "      <td>0</td>\n",
       "      <td>0</td>\n",
       "      <td>0</td>\n",
       "      <td>2007</td>\n",
       "    </tr>\n",
       "  </tbody>\n",
       "</table>\n",
       "</div>"
      ],
      "text/plain": [
       "    country  oneSidedViolence  nonStateConflict  extrasystemic  intrastate  \\\n",
       "620  Rwanda              3013                 0              0        1366   \n",
       "621  Rwanda            782261                92              0        3344   \n",
       "622  Rwanda               708                 0              0        3139   \n",
       "623  Rwanda                 0                 0              0           0   \n",
       "\n",
       "     interstate  year  \n",
       "620           0  1992  \n",
       "621           0  1997  \n",
       "622           0  2002  \n",
       "623           0  2007  "
      ]
     },
     "execution_count": 56,
     "metadata": {},
     "output_type": "execute_result"
    }
   ],
   "source": [
    "# Validando o caso de Rwanda pra ver se deu tudo certo\n",
    "filtro = mortes_guerra['country'] == 'Rwanda'\n",
    "ausentes = mortes_guerra[filtro].index\n",
    "mortes_guerra.loc[ausentes].head()\n",
    "\n",
    "# A soma pra Rwanda deu bom \\o/"
   ]
  },
  {
   "cell_type": "code",
   "execution_count": 57,
   "id": "1206db64",
   "metadata": {},
   "outputs": [
    {
     "name": "stdout",
     "output_type": "stream",
     "text": [
      "Dataframes unidos com sucesso! \n",
      "Dimensão: (1704, 11)\n"
     ]
    },
    {
     "data": {
      "application/vnd.microsoft.datawrangler.viewer.v0+json": {
       "columns": [
        {
         "name": "index",
         "rawType": "int64",
         "type": "integer"
        },
        {
         "name": "country",
         "rawType": "object",
         "type": "string"
        },
        {
         "name": "year",
         "rawType": "int64",
         "type": "integer"
        },
        {
         "name": "pop",
         "rawType": "object",
         "type": "string"
        },
        {
         "name": "continent",
         "rawType": "object",
         "type": "string"
        },
        {
         "name": "lifeExp",
         "rawType": "float64",
         "type": "float"
        },
        {
         "name": "gdpPercap",
         "rawType": "float64",
         "type": "float"
        },
        {
         "name": "oneSidedViolence",
         "rawType": "float64",
         "type": "float"
        },
        {
         "name": "nonStateConflict",
         "rawType": "float64",
         "type": "float"
        },
        {
         "name": "extrasystemic",
         "rawType": "float64",
         "type": "float"
        },
        {
         "name": "intrastate",
         "rawType": "float64",
         "type": "float"
        },
        {
         "name": "interstate",
         "rawType": "float64",
         "type": "float"
        }
       ],
       "ref": "33f36490-837d-4465-94a8-caf193689f3c",
       "rows": [
        [
         "0",
         "Afghanistan",
         "1952",
         "8.425.333",
         "Asia",
         "28.8",
         "779.45",
         null,
         null,
         null,
         null,
         null
        ],
        [
         "1",
         "Afghanistan",
         "1957",
         "9.240.934",
         "Asia",
         "30.3",
         "820.85",
         null,
         null,
         null,
         null,
         null
        ],
        [
         "2",
         "Afghanistan",
         "1962",
         "10.267.083",
         "Asia",
         "32.0",
         "853.1",
         null,
         null,
         null,
         null,
         null
        ],
        [
         "3",
         "Afghanistan",
         "1967",
         "11.537.966",
         "Asia",
         "34.0",
         "836.2",
         null,
         null,
         null,
         null,
         null
        ],
        [
         "4",
         "Afghanistan",
         "1972",
         "13.079.460",
         "Asia",
         "36.1",
         "739.98",
         null,
         null,
         null,
         null,
         null
        ]
       ],
       "shape": {
        "columns": 11,
        "rows": 5
       }
      },
      "text/html": [
       "<div>\n",
       "<style scoped>\n",
       "    .dataframe tbody tr th:only-of-type {\n",
       "        vertical-align: middle;\n",
       "    }\n",
       "\n",
       "    .dataframe tbody tr th {\n",
       "        vertical-align: top;\n",
       "    }\n",
       "\n",
       "    .dataframe thead th {\n",
       "        text-align: right;\n",
       "    }\n",
       "</style>\n",
       "<table border=\"1\" class=\"dataframe\">\n",
       "  <thead>\n",
       "    <tr style=\"text-align: right;\">\n",
       "      <th></th>\n",
       "      <th>country</th>\n",
       "      <th>year</th>\n",
       "      <th>pop</th>\n",
       "      <th>continent</th>\n",
       "      <th>lifeExp</th>\n",
       "      <th>gdpPercap</th>\n",
       "      <th>oneSidedViolence</th>\n",
       "      <th>nonStateConflict</th>\n",
       "      <th>extrasystemic</th>\n",
       "      <th>intrastate</th>\n",
       "      <th>interstate</th>\n",
       "    </tr>\n",
       "  </thead>\n",
       "  <tbody>\n",
       "    <tr>\n",
       "      <th>0</th>\n",
       "      <td>Afghanistan</td>\n",
       "      <td>1952</td>\n",
       "      <td>8.425.333</td>\n",
       "      <td>Asia</td>\n",
       "      <td>28.8</td>\n",
       "      <td>779.45</td>\n",
       "      <td>NaN</td>\n",
       "      <td>NaN</td>\n",
       "      <td>NaN</td>\n",
       "      <td>NaN</td>\n",
       "      <td>NaN</td>\n",
       "    </tr>\n",
       "    <tr>\n",
       "      <th>1</th>\n",
       "      <td>Afghanistan</td>\n",
       "      <td>1957</td>\n",
       "      <td>9.240.934</td>\n",
       "      <td>Asia</td>\n",
       "      <td>30.3</td>\n",
       "      <td>820.85</td>\n",
       "      <td>NaN</td>\n",
       "      <td>NaN</td>\n",
       "      <td>NaN</td>\n",
       "      <td>NaN</td>\n",
       "      <td>NaN</td>\n",
       "    </tr>\n",
       "    <tr>\n",
       "      <th>2</th>\n",
       "      <td>Afghanistan</td>\n",
       "      <td>1962</td>\n",
       "      <td>10.267.083</td>\n",
       "      <td>Asia</td>\n",
       "      <td>32.0</td>\n",
       "      <td>853.10</td>\n",
       "      <td>NaN</td>\n",
       "      <td>NaN</td>\n",
       "      <td>NaN</td>\n",
       "      <td>NaN</td>\n",
       "      <td>NaN</td>\n",
       "    </tr>\n",
       "    <tr>\n",
       "      <th>3</th>\n",
       "      <td>Afghanistan</td>\n",
       "      <td>1967</td>\n",
       "      <td>11.537.966</td>\n",
       "      <td>Asia</td>\n",
       "      <td>34.0</td>\n",
       "      <td>836.20</td>\n",
       "      <td>NaN</td>\n",
       "      <td>NaN</td>\n",
       "      <td>NaN</td>\n",
       "      <td>NaN</td>\n",
       "      <td>NaN</td>\n",
       "    </tr>\n",
       "    <tr>\n",
       "      <th>4</th>\n",
       "      <td>Afghanistan</td>\n",
       "      <td>1972</td>\n",
       "      <td>13.079.460</td>\n",
       "      <td>Asia</td>\n",
       "      <td>36.1</td>\n",
       "      <td>739.98</td>\n",
       "      <td>NaN</td>\n",
       "      <td>NaN</td>\n",
       "      <td>NaN</td>\n",
       "      <td>NaN</td>\n",
       "      <td>NaN</td>\n",
       "    </tr>\n",
       "  </tbody>\n",
       "</table>\n",
       "</div>"
      ],
      "text/plain": [
       "       country  year         pop continent  lifeExp  gdpPercap  \\\n",
       "0  Afghanistan  1952   8.425.333      Asia     28.8     779.45   \n",
       "1  Afghanistan  1957   9.240.934      Asia     30.3     820.85   \n",
       "2  Afghanistan  1962  10.267.083      Asia     32.0     853.10   \n",
       "3  Afghanistan  1967  11.537.966      Asia     34.0     836.20   \n",
       "4  Afghanistan  1972  13.079.460      Asia     36.1     739.98   \n",
       "\n",
       "   oneSidedViolence  nonStateConflict  extrasystemic  intrastate  interstate  \n",
       "0               NaN               NaN            NaN         NaN         NaN  \n",
       "1               NaN               NaN            NaN         NaN         NaN  \n",
       "2               NaN               NaN            NaN         NaN         NaN  \n",
       "3               NaN               NaN            NaN         NaN         NaN  \n",
       "4               NaN               NaN            NaN         NaN         NaN  "
      ]
     },
     "execution_count": 57,
     "metadata": {},
     "output_type": "execute_result"
    }
   ],
   "source": [
    "#Agora a gente junta as 2 bases pra ver no que dá\n",
    "juncao = junta_dataframes(base_limpa, mortes_guerra, chave=['country', 'year'], tipo_juncao='left')\n",
    "juncao.head()"
   ]
  },
  {
   "cell_type": "code",
   "execution_count": 58,
   "id": "f4375a57",
   "metadata": {},
   "outputs": [
    {
     "name": "stdout",
     "output_type": "stream",
     "text": [
      "Importando o dataframe: ../../avaliacao-python-ciencia-dados/Bases/gdp_pcap_inflaction_adjusted.csv ...\n",
      "Dataframe importado com sucesso! \n",
      "Dimensão: (193, 303)\n"
     ]
    },
    {
     "data": {
      "application/vnd.microsoft.datawrangler.viewer.v0+json": {
       "columns": [
        {
         "name": "index",
         "rawType": "int64",
         "type": "integer"
        },
        {
         "name": "geo",
         "rawType": "object",
         "type": "string"
        },
        {
         "name": "name",
         "rawType": "object",
         "type": "string"
        },
        {
         "name": "1800",
         "rawType": "float64",
         "type": "float"
        },
        {
         "name": "1801",
         "rawType": "float64",
         "type": "float"
        },
        {
         "name": "1802",
         "rawType": "float64",
         "type": "float"
        },
        {
         "name": "1803",
         "rawType": "float64",
         "type": "float"
        },
        {
         "name": "1804",
         "rawType": "float64",
         "type": "float"
        },
        {
         "name": "1805",
         "rawType": "float64",
         "type": "float"
        },
        {
         "name": "1806",
         "rawType": "float64",
         "type": "float"
        },
        {
         "name": "1807",
         "rawType": "float64",
         "type": "float"
        },
        {
         "name": "1808",
         "rawType": "float64",
         "type": "float"
        },
        {
         "name": "1809",
         "rawType": "float64",
         "type": "float"
        },
        {
         "name": "1810",
         "rawType": "float64",
         "type": "float"
        },
        {
         "name": "1811",
         "rawType": "float64",
         "type": "float"
        },
        {
         "name": "1812",
         "rawType": "float64",
         "type": "float"
        },
        {
         "name": "1813",
         "rawType": "float64",
         "type": "float"
        },
        {
         "name": "1814",
         "rawType": "float64",
         "type": "float"
        },
        {
         "name": "1815",
         "rawType": "float64",
         "type": "float"
        },
        {
         "name": "1816",
         "rawType": "float64",
         "type": "float"
        },
        {
         "name": "1817",
         "rawType": "float64",
         "type": "float"
        },
        {
         "name": "1818",
         "rawType": "float64",
         "type": "float"
        },
        {
         "name": "1819",
         "rawType": "float64",
         "type": "float"
        },
        {
         "name": "1820",
         "rawType": "float64",
         "type": "float"
        },
        {
         "name": "1821",
         "rawType": "float64",
         "type": "float"
        },
        {
         "name": "1822",
         "rawType": "float64",
         "type": "float"
        },
        {
         "name": "1823",
         "rawType": "float64",
         "type": "float"
        },
        {
         "name": "1824",
         "rawType": "float64",
         "type": "float"
        },
        {
         "name": "1825",
         "rawType": "float64",
         "type": "float"
        },
        {
         "name": "1826",
         "rawType": "float64",
         "type": "float"
        },
        {
         "name": "1827",
         "rawType": "float64",
         "type": "float"
        },
        {
         "name": "1828",
         "rawType": "float64",
         "type": "float"
        },
        {
         "name": "1829",
         "rawType": "float64",
         "type": "float"
        },
        {
         "name": "1830",
         "rawType": "float64",
         "type": "float"
        },
        {
         "name": "1831",
         "rawType": "float64",
         "type": "float"
        },
        {
         "name": "1832",
         "rawType": "float64",
         "type": "float"
        },
        {
         "name": "1833",
         "rawType": "float64",
         "type": "float"
        },
        {
         "name": "1834",
         "rawType": "float64",
         "type": "float"
        },
        {
         "name": "1835",
         "rawType": "float64",
         "type": "float"
        },
        {
         "name": "1836",
         "rawType": "float64",
         "type": "float"
        },
        {
         "name": "1837",
         "rawType": "float64",
         "type": "float"
        },
        {
         "name": "1838",
         "rawType": "float64",
         "type": "float"
        },
        {
         "name": "1839",
         "rawType": "float64",
         "type": "float"
        },
        {
         "name": "1840",
         "rawType": "float64",
         "type": "float"
        },
        {
         "name": "1841",
         "rawType": "float64",
         "type": "float"
        },
        {
         "name": "1842",
         "rawType": "float64",
         "type": "float"
        },
        {
         "name": "1843",
         "rawType": "float64",
         "type": "float"
        },
        {
         "name": "1844",
         "rawType": "float64",
         "type": "float"
        },
        {
         "name": "1845",
         "rawType": "float64",
         "type": "float"
        },
        {
         "name": "1846",
         "rawType": "float64",
         "type": "float"
        },
        {
         "name": "1847",
         "rawType": "float64",
         "type": "float"
        },
        {
         "name": "1848",
         "rawType": "float64",
         "type": "float"
        },
        {
         "name": "1849",
         "rawType": "float64",
         "type": "float"
        },
        {
         "name": "1850",
         "rawType": "float64",
         "type": "float"
        },
        {
         "name": "1851",
         "rawType": "float64",
         "type": "float"
        },
        {
         "name": "1852",
         "rawType": "float64",
         "type": "float"
        },
        {
         "name": "1853",
         "rawType": "float64",
         "type": "float"
        },
        {
         "name": "1854",
         "rawType": "float64",
         "type": "float"
        },
        {
         "name": "1855",
         "rawType": "float64",
         "type": "float"
        },
        {
         "name": "1856",
         "rawType": "float64",
         "type": "float"
        },
        {
         "name": "1857",
         "rawType": "float64",
         "type": "float"
        },
        {
         "name": "1858",
         "rawType": "float64",
         "type": "float"
        },
        {
         "name": "1859",
         "rawType": "float64",
         "type": "float"
        },
        {
         "name": "1860",
         "rawType": "float64",
         "type": "float"
        },
        {
         "name": "1861",
         "rawType": "float64",
         "type": "float"
        },
        {
         "name": "1862",
         "rawType": "float64",
         "type": "float"
        },
        {
         "name": "1863",
         "rawType": "float64",
         "type": "float"
        },
        {
         "name": "1864",
         "rawType": "float64",
         "type": "float"
        },
        {
         "name": "1865",
         "rawType": "float64",
         "type": "float"
        },
        {
         "name": "1866",
         "rawType": "float64",
         "type": "float"
        },
        {
         "name": "1867",
         "rawType": "float64",
         "type": "float"
        },
        {
         "name": "1868",
         "rawType": "float64",
         "type": "float"
        },
        {
         "name": "1869",
         "rawType": "float64",
         "type": "float"
        },
        {
         "name": "1870",
         "rawType": "float64",
         "type": "float"
        },
        {
         "name": "1871",
         "rawType": "float64",
         "type": "float"
        },
        {
         "name": "1872",
         "rawType": "float64",
         "type": "float"
        },
        {
         "name": "1873",
         "rawType": "float64",
         "type": "float"
        },
        {
         "name": "1874",
         "rawType": "float64",
         "type": "float"
        },
        {
         "name": "1875",
         "rawType": "float64",
         "type": "float"
        },
        {
         "name": "1876",
         "rawType": "float64",
         "type": "float"
        },
        {
         "name": "1877",
         "rawType": "float64",
         "type": "float"
        },
        {
         "name": "1878",
         "rawType": "float64",
         "type": "float"
        },
        {
         "name": "1879",
         "rawType": "float64",
         "type": "float"
        },
        {
         "name": "1880",
         "rawType": "float64",
         "type": "float"
        },
        {
         "name": "1881",
         "rawType": "float64",
         "type": "float"
        },
        {
         "name": "1882",
         "rawType": "float64",
         "type": "float"
        },
        {
         "name": "1883",
         "rawType": "float64",
         "type": "float"
        },
        {
         "name": "1884",
         "rawType": "float64",
         "type": "float"
        },
        {
         "name": "1885",
         "rawType": "float64",
         "type": "float"
        },
        {
         "name": "1886",
         "rawType": "float64",
         "type": "float"
        },
        {
         "name": "1887",
         "rawType": "float64",
         "type": "float"
        },
        {
         "name": "1888",
         "rawType": "float64",
         "type": "float"
        },
        {
         "name": "1889",
         "rawType": "float64",
         "type": "float"
        },
        {
         "name": "1890",
         "rawType": "float64",
         "type": "float"
        },
        {
         "name": "1891",
         "rawType": "float64",
         "type": "float"
        },
        {
         "name": "1892",
         "rawType": "float64",
         "type": "float"
        },
        {
         "name": "1893",
         "rawType": "float64",
         "type": "float"
        },
        {
         "name": "1894",
         "rawType": "float64",
         "type": "float"
        },
        {
         "name": "1895",
         "rawType": "float64",
         "type": "float"
        },
        {
         "name": "1896",
         "rawType": "float64",
         "type": "float"
        },
        {
         "name": "1897",
         "rawType": "float64",
         "type": "float"
        },
        {
         "name": "1898",
         "rawType": "float64",
         "type": "float"
        },
        {
         "name": "1899",
         "rawType": "float64",
         "type": "float"
        },
        {
         "name": "1900",
         "rawType": "float64",
         "type": "float"
        },
        {
         "name": "1901",
         "rawType": "float64",
         "type": "float"
        },
        {
         "name": "1902",
         "rawType": "float64",
         "type": "float"
        },
        {
         "name": "1903",
         "rawType": "float64",
         "type": "float"
        },
        {
         "name": "1904",
         "rawType": "float64",
         "type": "float"
        },
        {
         "name": "1905",
         "rawType": "float64",
         "type": "float"
        },
        {
         "name": "1906",
         "rawType": "float64",
         "type": "float"
        },
        {
         "name": "1907",
         "rawType": "float64",
         "type": "float"
        },
        {
         "name": "1908",
         "rawType": "float64",
         "type": "float"
        },
        {
         "name": "1909",
         "rawType": "float64",
         "type": "float"
        },
        {
         "name": "1910",
         "rawType": "float64",
         "type": "float"
        },
        {
         "name": "1911",
         "rawType": "float64",
         "type": "float"
        },
        {
         "name": "1912",
         "rawType": "float64",
         "type": "float"
        },
        {
         "name": "1913",
         "rawType": "float64",
         "type": "float"
        },
        {
         "name": "1914",
         "rawType": "float64",
         "type": "float"
        },
        {
         "name": "1915",
         "rawType": "float64",
         "type": "float"
        },
        {
         "name": "1916",
         "rawType": "float64",
         "type": "float"
        },
        {
         "name": "1917",
         "rawType": "float64",
         "type": "float"
        },
        {
         "name": "1918",
         "rawType": "float64",
         "type": "float"
        },
        {
         "name": "1919",
         "rawType": "float64",
         "type": "float"
        },
        {
         "name": "1920",
         "rawType": "float64",
         "type": "float"
        },
        {
         "name": "1921",
         "rawType": "float64",
         "type": "float"
        },
        {
         "name": "1922",
         "rawType": "float64",
         "type": "float"
        },
        {
         "name": "1923",
         "rawType": "float64",
         "type": "float"
        },
        {
         "name": "1924",
         "rawType": "float64",
         "type": "float"
        },
        {
         "name": "1925",
         "rawType": "float64",
         "type": "float"
        },
        {
         "name": "1926",
         "rawType": "float64",
         "type": "float"
        },
        {
         "name": "1927",
         "rawType": "float64",
         "type": "float"
        },
        {
         "name": "1928",
         "rawType": "float64",
         "type": "float"
        },
        {
         "name": "1929",
         "rawType": "float64",
         "type": "float"
        },
        {
         "name": "1930",
         "rawType": "float64",
         "type": "float"
        },
        {
         "name": "1931",
         "rawType": "float64",
         "type": "float"
        },
        {
         "name": "1932",
         "rawType": "float64",
         "type": "float"
        },
        {
         "name": "1933",
         "rawType": "float64",
         "type": "float"
        },
        {
         "name": "1934",
         "rawType": "float64",
         "type": "float"
        },
        {
         "name": "1935",
         "rawType": "float64",
         "type": "float"
        },
        {
         "name": "1936",
         "rawType": "float64",
         "type": "float"
        },
        {
         "name": "1937",
         "rawType": "float64",
         "type": "float"
        },
        {
         "name": "1938",
         "rawType": "float64",
         "type": "float"
        },
        {
         "name": "1939",
         "rawType": "float64",
         "type": "float"
        },
        {
         "name": "1940",
         "rawType": "float64",
         "type": "float"
        },
        {
         "name": "1941",
         "rawType": "float64",
         "type": "float"
        },
        {
         "name": "1942",
         "rawType": "float64",
         "type": "float"
        },
        {
         "name": "1943",
         "rawType": "float64",
         "type": "float"
        },
        {
         "name": "1944",
         "rawType": "float64",
         "type": "float"
        },
        {
         "name": "1945",
         "rawType": "float64",
         "type": "float"
        },
        {
         "name": "1946",
         "rawType": "float64",
         "type": "float"
        },
        {
         "name": "1947",
         "rawType": "float64",
         "type": "float"
        },
        {
         "name": "1948",
         "rawType": "float64",
         "type": "float"
        },
        {
         "name": "1949",
         "rawType": "float64",
         "type": "float"
        },
        {
         "name": "1950",
         "rawType": "float64",
         "type": "float"
        },
        {
         "name": "1951",
         "rawType": "float64",
         "type": "float"
        },
        {
         "name": "1952",
         "rawType": "float64",
         "type": "float"
        },
        {
         "name": "1953",
         "rawType": "float64",
         "type": "float"
        },
        {
         "name": "1954",
         "rawType": "float64",
         "type": "float"
        },
        {
         "name": "1955",
         "rawType": "float64",
         "type": "float"
        },
        {
         "name": "1956",
         "rawType": "float64",
         "type": "float"
        },
        {
         "name": "1957",
         "rawType": "float64",
         "type": "float"
        },
        {
         "name": "1958",
         "rawType": "float64",
         "type": "float"
        },
        {
         "name": "1959",
         "rawType": "float64",
         "type": "float"
        },
        {
         "name": "1960",
         "rawType": "float64",
         "type": "float"
        },
        {
         "name": "1961",
         "rawType": "float64",
         "type": "float"
        },
        {
         "name": "1962",
         "rawType": "float64",
         "type": "float"
        },
        {
         "name": "1963",
         "rawType": "float64",
         "type": "float"
        },
        {
         "name": "1964",
         "rawType": "float64",
         "type": "float"
        },
        {
         "name": "1965",
         "rawType": "float64",
         "type": "float"
        },
        {
         "name": "1966",
         "rawType": "float64",
         "type": "float"
        },
        {
         "name": "1967",
         "rawType": "float64",
         "type": "float"
        },
        {
         "name": "1968",
         "rawType": "float64",
         "type": "float"
        },
        {
         "name": "1969",
         "rawType": "float64",
         "type": "float"
        },
        {
         "name": "1970",
         "rawType": "float64",
         "type": "float"
        },
        {
         "name": "1971",
         "rawType": "float64",
         "type": "float"
        },
        {
         "name": "1972",
         "rawType": "float64",
         "type": "float"
        },
        {
         "name": "1973",
         "rawType": "float64",
         "type": "float"
        },
        {
         "name": "1974",
         "rawType": "float64",
         "type": "float"
        },
        {
         "name": "1975",
         "rawType": "float64",
         "type": "float"
        },
        {
         "name": "1976",
         "rawType": "float64",
         "type": "float"
        },
        {
         "name": "1977",
         "rawType": "float64",
         "type": "float"
        },
        {
         "name": "1978",
         "rawType": "float64",
         "type": "float"
        },
        {
         "name": "1979",
         "rawType": "float64",
         "type": "float"
        },
        {
         "name": "1980",
         "rawType": "float64",
         "type": "float"
        },
        {
         "name": "1981",
         "rawType": "float64",
         "type": "float"
        },
        {
         "name": "1982",
         "rawType": "float64",
         "type": "float"
        },
        {
         "name": "1983",
         "rawType": "float64",
         "type": "float"
        },
        {
         "name": "1984",
         "rawType": "float64",
         "type": "float"
        },
        {
         "name": "1985",
         "rawType": "float64",
         "type": "float"
        },
        {
         "name": "1986",
         "rawType": "float64",
         "type": "float"
        },
        {
         "name": "1987",
         "rawType": "float64",
         "type": "float"
        },
        {
         "name": "1988",
         "rawType": "float64",
         "type": "float"
        },
        {
         "name": "1989",
         "rawType": "float64",
         "type": "float"
        },
        {
         "name": "1990",
         "rawType": "float64",
         "type": "float"
        },
        {
         "name": "1991",
         "rawType": "float64",
         "type": "float"
        },
        {
         "name": "1992",
         "rawType": "float64",
         "type": "float"
        },
        {
         "name": "1993",
         "rawType": "float64",
         "type": "float"
        },
        {
         "name": "1994",
         "rawType": "float64",
         "type": "float"
        },
        {
         "name": "1995",
         "rawType": "float64",
         "type": "float"
        },
        {
         "name": "1996",
         "rawType": "float64",
         "type": "float"
        },
        {
         "name": "1997",
         "rawType": "float64",
         "type": "float"
        },
        {
         "name": "1998",
         "rawType": "float64",
         "type": "float"
        },
        {
         "name": "1999",
         "rawType": "float64",
         "type": "float"
        },
        {
         "name": "2000",
         "rawType": "float64",
         "type": "float"
        },
        {
         "name": "2001",
         "rawType": "float64",
         "type": "float"
        },
        {
         "name": "2002",
         "rawType": "float64",
         "type": "float"
        },
        {
         "name": "2003",
         "rawType": "float64",
         "type": "float"
        },
        {
         "name": "2004",
         "rawType": "float64",
         "type": "float"
        },
        {
         "name": "2005",
         "rawType": "float64",
         "type": "float"
        },
        {
         "name": "2006",
         "rawType": "float64",
         "type": "float"
        },
        {
         "name": "2007",
         "rawType": "float64",
         "type": "float"
        },
        {
         "name": "2008",
         "rawType": "float64",
         "type": "float"
        },
        {
         "name": "2009",
         "rawType": "float64",
         "type": "float"
        },
        {
         "name": "2010",
         "rawType": "float64",
         "type": "float"
        },
        {
         "name": "2011",
         "rawType": "float64",
         "type": "float"
        },
        {
         "name": "2012",
         "rawType": "float64",
         "type": "float"
        },
        {
         "name": "2013",
         "rawType": "float64",
         "type": "float"
        },
        {
         "name": "2014",
         "rawType": "float64",
         "type": "float"
        },
        {
         "name": "2015",
         "rawType": "float64",
         "type": "float"
        },
        {
         "name": "2016",
         "rawType": "float64",
         "type": "float"
        },
        {
         "name": "2017",
         "rawType": "float64",
         "type": "float"
        },
        {
         "name": "2018",
         "rawType": "float64",
         "type": "float"
        },
        {
         "name": "2019",
         "rawType": "float64",
         "type": "float"
        },
        {
         "name": "2020",
         "rawType": "float64",
         "type": "float"
        },
        {
         "name": "2021",
         "rawType": "float64",
         "type": "float"
        },
        {
         "name": "2022",
         "rawType": "float64",
         "type": "float"
        },
        {
         "name": "2023",
         "rawType": "float64",
         "type": "float"
        },
        {
         "name": "2024",
         "rawType": "float64",
         "type": "float"
        },
        {
         "name": "2025",
         "rawType": "float64",
         "type": "float"
        },
        {
         "name": "2026",
         "rawType": "float64",
         "type": "float"
        },
        {
         "name": "2027",
         "rawType": "float64",
         "type": "float"
        },
        {
         "name": "2028",
         "rawType": "float64",
         "type": "float"
        },
        {
         "name": "2029",
         "rawType": "float64",
         "type": "float"
        },
        {
         "name": "2030",
         "rawType": "float64",
         "type": "float"
        },
        {
         "name": "2031",
         "rawType": "float64",
         "type": "float"
        },
        {
         "name": "2032",
         "rawType": "float64",
         "type": "float"
        },
        {
         "name": "2033",
         "rawType": "float64",
         "type": "float"
        },
        {
         "name": "2034",
         "rawType": "float64",
         "type": "float"
        },
        {
         "name": "2035",
         "rawType": "float64",
         "type": "float"
        },
        {
         "name": "2036",
         "rawType": "float64",
         "type": "float"
        },
        {
         "name": "2037",
         "rawType": "float64",
         "type": "float"
        },
        {
         "name": "2038",
         "rawType": "float64",
         "type": "float"
        },
        {
         "name": "2039",
         "rawType": "float64",
         "type": "float"
        },
        {
         "name": "2040",
         "rawType": "float64",
         "type": "float"
        },
        {
         "name": "2041",
         "rawType": "float64",
         "type": "float"
        },
        {
         "name": "2042",
         "rawType": "float64",
         "type": "float"
        },
        {
         "name": "2043",
         "rawType": "float64",
         "type": "float"
        },
        {
         "name": "2044",
         "rawType": "float64",
         "type": "float"
        },
        {
         "name": "2045",
         "rawType": "float64",
         "type": "float"
        },
        {
         "name": "2046",
         "rawType": "float64",
         "type": "float"
        },
        {
         "name": "2047",
         "rawType": "float64",
         "type": "float"
        },
        {
         "name": "2048",
         "rawType": "float64",
         "type": "float"
        },
        {
         "name": "2049",
         "rawType": "float64",
         "type": "float"
        },
        {
         "name": "2050",
         "rawType": "float64",
         "type": "float"
        },
        {
         "name": "2051",
         "rawType": "float64",
         "type": "float"
        },
        {
         "name": "2052",
         "rawType": "float64",
         "type": "float"
        },
        {
         "name": "2053",
         "rawType": "float64",
         "type": "float"
        },
        {
         "name": "2054",
         "rawType": "float64",
         "type": "float"
        },
        {
         "name": "2055",
         "rawType": "float64",
         "type": "float"
        },
        {
         "name": "2056",
         "rawType": "float64",
         "type": "float"
        },
        {
         "name": "2057",
         "rawType": "float64",
         "type": "float"
        },
        {
         "name": "2058",
         "rawType": "float64",
         "type": "float"
        },
        {
         "name": "2059",
         "rawType": "float64",
         "type": "float"
        },
        {
         "name": "2060",
         "rawType": "float64",
         "type": "float"
        },
        {
         "name": "2061",
         "rawType": "float64",
         "type": "float"
        },
        {
         "name": "2062",
         "rawType": "float64",
         "type": "float"
        },
        {
         "name": "2063",
         "rawType": "float64",
         "type": "float"
        },
        {
         "name": "2064",
         "rawType": "float64",
         "type": "float"
        },
        {
         "name": "2065",
         "rawType": "float64",
         "type": "float"
        },
        {
         "name": "2066",
         "rawType": "float64",
         "type": "float"
        },
        {
         "name": "2067",
         "rawType": "float64",
         "type": "float"
        },
        {
         "name": "2068",
         "rawType": "float64",
         "type": "float"
        },
        {
         "name": "2069",
         "rawType": "float64",
         "type": "float"
        },
        {
         "name": "2070",
         "rawType": "float64",
         "type": "float"
        },
        {
         "name": "2071",
         "rawType": "float64",
         "type": "float"
        },
        {
         "name": "2072",
         "rawType": "float64",
         "type": "float"
        },
        {
         "name": "2073",
         "rawType": "float64",
         "type": "float"
        },
        {
         "name": "2074",
         "rawType": "float64",
         "type": "float"
        },
        {
         "name": "2075",
         "rawType": "float64",
         "type": "float"
        },
        {
         "name": "2076",
         "rawType": "float64",
         "type": "float"
        },
        {
         "name": "2077",
         "rawType": "float64",
         "type": "float"
        },
        {
         "name": "2078",
         "rawType": "float64",
         "type": "float"
        },
        {
         "name": "2079",
         "rawType": "float64",
         "type": "float"
        },
        {
         "name": "2080",
         "rawType": "float64",
         "type": "float"
        },
        {
         "name": "2081",
         "rawType": "float64",
         "type": "float"
        },
        {
         "name": "2082",
         "rawType": "float64",
         "type": "float"
        },
        {
         "name": "2083",
         "rawType": "float64",
         "type": "float"
        },
        {
         "name": "2084",
         "rawType": "float64",
         "type": "float"
        },
        {
         "name": "2085",
         "rawType": "float64",
         "type": "float"
        },
        {
         "name": "2086",
         "rawType": "float64",
         "type": "float"
        },
        {
         "name": "2087",
         "rawType": "float64",
         "type": "float"
        },
        {
         "name": "2088",
         "rawType": "float64",
         "type": "float"
        },
        {
         "name": "2089",
         "rawType": "float64",
         "type": "float"
        },
        {
         "name": "2090",
         "rawType": "float64",
         "type": "float"
        },
        {
         "name": "2091",
         "rawType": "float64",
         "type": "float"
        },
        {
         "name": "2092",
         "rawType": "float64",
         "type": "float"
        },
        {
         "name": "2093",
         "rawType": "float64",
         "type": "float"
        },
        {
         "name": "2094",
         "rawType": "float64",
         "type": "float"
        },
        {
         "name": "2095",
         "rawType": "float64",
         "type": "float"
        },
        {
         "name": "2096",
         "rawType": "float64",
         "type": "float"
        },
        {
         "name": "2097",
         "rawType": "float64",
         "type": "float"
        },
        {
         "name": "2098",
         "rawType": "float64",
         "type": "float"
        },
        {
         "name": "2099",
         "rawType": "float64",
         "type": "float"
        },
        {
         "name": "2100",
         "rawType": "float64",
         "type": "float"
        }
       ],
       "ref": "e842fe82-35cd-4b23-999f-76356a855210",
       "rows": [
        [
         "0",
         "afg",
         "Afghanistan",
         "480.75476",
         "480.75476",
         "480.75476",
         "480.75476",
         "480.75476",
         "480.75476",
         "480.75476",
         "480.75476",
         "480.75476",
         "480.75476",
         "480.75476",
         "480.75476",
         "480.75476",
         "480.75476",
         "480.75476",
         "480.75476",
         "480.75476",
         "480.75476",
         "480.75476",
         "480.75476",
         "480.75476",
         "480.75476",
         "481.84405",
         "482.93582",
         "484.03006",
         "485.12678",
         "486.22598",
         "487.32768",
         "488.43187",
         "489.53856",
         "490.64776",
         "491.75947",
         "492.8737",
         "493.99046",
         "495.10975",
         "496.23157",
         "497.35594",
         "498.48285",
         "499.61231",
         "500.74434",
         "501.87893",
         "503.01609",
         "504.15583",
         "505.29815",
         "506.44306",
         "507.59056",
         "508.74066",
         "509.89337",
         "511.04869",
         "512.20663",
         "513.36719",
         "514.53038",
         "515.6962",
         "516.86467",
         "518.03579",
         "519.20956",
         "520.38599",
         "521.56508",
         "522.74685",
         "523.93129",
         "525.11842",
         "526.30823",
         "527.50075",
         "528.69596",
         "529.89388",
         "531.09452",
         "532.29788",
         "533.50396",
         "534.71278",
         "535.92434",
         "537.13864",
         "538.35569",
         "539.5755",
         "540.79807",
         "542.02342",
         "543.25154",
         "544.48244",
         "545.71613",
         "546.95262",
         "548.19191",
         "549.43401",
         "549.43401",
         "556.37631",
         "563.40633",
         "570.52518",
         "577.73398",
         "585.03387",
         "592.42599",
         "599.91151",
         "607.49162",
         "615.1675",
         "622.94037",
         "630.81146",
         "638.782",
         "646.85325",
         "655.02648",
         "663.30298",
         "671.68406",
         "680.17104",
         "688.76526",
         "697.46807",
         "706.28083",
         "715.20496",
         "724.24184",
         "733.39291",
         "742.6596",
         "752.04338",
         "761.54573",
         "771.16814",
         "780.91214",
         "790.77926",
         "800.77105",
         "810.88909",
         "821.13498",
         "831.51033",
         "842.01677",
         "852.65597",
         "863.42959",
         "874.33935",
         "885.38695",
         "896.57415",
         "907.9027",
         "919.37439",
         "930.99103",
         "942.75445",
         "954.6665",
         "966.72907",
         "978.94405",
         "991.31338",
         "1003.83899",
         "1016.52287",
         "1029.36702",
         "1042.37345",
         "1055.54423",
         "1068.88143",
         "1082.38714",
         "1096.06351",
         "1109.91268",
         "1123.93684",
         "1138.13821",
         "1152.51901",
         "1179.1682",
         "1206.43359",
         "1234.32942",
         "1262.87028",
         "1292.07108",
         "1321.94707",
         "1352.51387",
         "1383.78746",
         "1415.78417",
         "1448.52073",
         "1499.9625",
         "1540.10724",
         "1622.80135",
         "1646.21894",
         "1664.60369",
         "1725.03627",
         "1708.80701",
         "1788.50931",
         "1819.5612",
         "1865.13027",
         "1860.28661",
         "1869.50128",
         "1883.0595",
         "1892.30074",
         "1910.41709",
         "1903.26895",
         "1930.53872",
         "1970.38865",
         "1972.27563",
         "1983.34576",
         "1948.74758",
         "1602.83909",
         "1625.87135",
         "1688.20483",
         "1763.14666",
         "1832.82501",
         "1712.7114",
         "1811.72233",
         "1750.08064",
         "1761.29126",
         "1997.82566",
         "2240.83485",
         "2401.31035",
         "2408.16739",
         "2373.05292",
         "2471.17595",
         "2249.69224",
         "2066.5259",
         "1894.49555",
         "1845.13844",
         "1705.50558",
         "1650.7992",
         "1142.2317",
         "854.56422",
         "1276.96565",
         "1222.92923",
         "1175.8739",
         "1133.95471",
         "1091.04116",
         "1066.23285",
         "978.75105",
         "1232.33488",
         "1255.67947",
         "1235.33094",
         "1333.42339",
         "1358.11765",
         "1525.2672",
         "1556.25429",
         "1824.02338",
         "2027.15667",
         "1962.05729",
         "2123.87098",
         "2166.40197",
         "2145.50045",
         "2109.74748",
         "2102.45192",
         "2097.12023",
         "2061.70875",
         "2080.94106",
         "1969.30552",
         "1517.01627",
         "1386.75536",
         "1359.02025",
         "1331.83985",
         "1331.83985",
         "1345.15825",
         "1358.60983",
         "1385.78202",
         "1420.42658",
         "1415.5754",
         "1441.05575",
         "1466.99476",
         "1493.40066",
         "1520.28187",
         "1547.64695",
         "1575.50459",
         "1603.86368",
         "1632.73322",
         "1662.12242",
         "1692.04062",
         "1722.49735",
         "1753.50231",
         "1785.06535",
         "1817.19653",
         "1849.90606",
         "1883.20437",
         "1917.10205",
         "1951.60989",
         "1986.21369",
         "2021.71422",
         "2058.13745",
         "2095.51013",
         "2133.85979",
         "2173.21476",
         "2213.60423",
         "2255.05821",
         "2297.60759",
         "2341.28417",
         "2386.12064",
         "2432.15065",
         "2479.4088",
         "2527.93066",
         "2577.75283",
         "2628.9129",
         "2681.44953",
         "2735.40245",
         "2790.81247",
         "2847.72151",
         "2906.17265",
         "2966.21008",
         "3027.87921",
         "3091.22662",
         "3156.30011",
         "3223.14871",
         "3291.8227",
         "3362.37365",
         "3434.85441",
         "3509.3191",
         "3585.8232",
         "3664.4235",
         "3745.17813",
         "3828.14658",
         "3913.38971",
         "4000.96973",
         "4090.95023",
         "4183.3962",
         "4278.37399",
         "4375.95133",
         "4476.19735",
         "4579.18251",
         "4684.97868",
         "4793.65905",
         "4905.29816",
         "5019.97187",
         "5137.75735",
         "5258.73302",
         "5382.97857",
         "5510.5749",
         "5641.60409",
         "5776.14935"
        ],
        [
         "1",
         "ago",
         "Angola",
         "373.05144",
         "374.25872",
         "376.06965",
         "377.88058",
         "379.08787",
         "380.8988",
         "382.70973",
         "384.52066",
         "386.33159",
         "387.53887",
         "389.3498",
         "391.16073",
         "392.97166",
         "394.78259",
         "396.59352",
         "398.40445",
         "399.61173",
         "401.42266",
         "403.23359",
         "405.04452",
         "406.85545",
         "408.66638",
         "410.47731",
         "412.28824",
         "414.09917",
         "415.9101",
         "417.72103",
         "419.53196",
         "421.34289",
         "423.15381",
         "424.96474",
         "427.37932",
         "429.19025",
         "431.00117",
         "432.8121",
         "434.62303",
         "436.43396",
         "438.24489",
         "440.65946",
         "442.47039",
         "444.28132",
         "446.09225",
         "448.50682",
         "450.31775",
         "452.12868",
         "453.93961",
         "456.35418",
         "458.16511",
         "459.97604",
         "462.39062",
         "464.20155",
         "466.61612",
         "468.42705",
         "470.23798",
         "472.65255",
         "474.46348",
         "476.87805",
         "478.68898",
         "481.10355",
         "482.91448",
         "485.32905",
         "487.13998",
         "489.55456",
         "491.36548",
         "493.78006",
         "496.19463",
         "498.00556",
         "500.42013",
         "502.23106",
         "504.64563",
         "507.06021",
         "509.47478",
         "511.28571",
         "513.70028",
         "516.11485",
         "517.92578",
         "520.34035",
         "522.75493",
         "525.1695",
         "527.58407",
         "529.99864",
         "531.80957",
         "534.22415",
         "536.63872",
         "539.05329",
         "541.46786",
         "543.88243",
         "546.29701",
         "548.71158",
         "551.12615",
         "553.54072",
         "555.9553",
         "558.36987",
         "560.78444",
         "563.19901",
         "565.61359",
         "568.02816",
         "571.04637",
         "573.46095",
         "575.87552",
         "578.29009",
         "580.70466",
         "583.72288",
         "586.13745",
         "588.55202",
         "590.9666",
         "593.98481",
         "596.39938",
         "598.81396",
         "601.83217",
         "604.24674",
         "607.26496",
         "609.67953",
         "612.09411",
         "630.80704",
         "649.51998",
         "668.83656",
         "688.75678",
         "708.677",
         "729.80451",
         "751.53566",
         "775.68139",
         "800.43075",
         "825.78376",
         "852.34406",
         "879.508",
         "907.27558",
         "936.25045",
         "965.82896",
         "996.61476",
         "1028.60784",
         "1061.20457",
         "1094.40494",
         "1129.41624",
         "1165.03119",
         "1202.45706",
         "1240.48657",
         "1279.72338",
         "1320.16746",
         "1362.42248",
         "1405.28114",
         "1472.17282",
         "1542.02937",
         "1615.57686",
         "1692.29954",
         "1772.29715",
         "1856.33332",
         "1944.54347",
         "2037.06667",
         "2133.35355",
         "2234.92458",
         "2320.59571",
         "2411.11559",
         "2503.86503",
         "2436.01781",
         "2631.53199",
         "2582.80101",
         "2828.44043",
         "2977.14854",
         "2984.57166",
         "3098.58478",
         "3505.26523",
         "3403.83143",
         "3572.93119",
         "3969.02298",
         "4259.22105",
         "4497.88621",
         "4751.49621",
         "4670.10817",
         "4795.06001",
         "5090.75055",
         "5178.28627",
         "5160.26603",
         "5464.73488",
         "5399.62888",
         "4155.34192",
         "3831.18748",
         "3836.63703",
         "3772.01604",
         "3780.28979",
         "3837.39551",
         "3689.76657",
         "3602.91984",
         "3618.0942",
         "3738.15114",
         "3599.29971",
         "3532.10331",
         "3758.13847",
         "4071.76667",
         "4077.40011",
         "3999.67128",
         "4046.64823",
         "3811.34619",
         "2892.51756",
         "2922.01315",
         "3341.2075",
         "3765.77546",
         "4003.84504",
         "4149.64608",
         "4193.09969",
         "4267.20548",
         "4382.47054",
         "4896.6003",
         "4953.41151",
         "5370.37885",
         "6038.69184",
         "6586.35518",
         "7307.45511",
         "7861.95632",
         "7652.62494",
         "7689.82074",
         "7663.28605",
         "8011.05009",
         "8099.67883",
         "8183.16458",
         "7966.88556",
         "7487.9251",
         "7216.06137",
         "6878.59003",
         "6602.26921",
         "6029.69189",
         "5911.83566",
         "5906.11568",
         "5778.83431",
         "5754.0385",
         "5761.20203",
         "5783.27387",
         "5842.12281",
         "5928.30421",
         "6049.69135",
         "5932.48079",
         "6074.23581",
         "6219.77665",
         "6369.19236",
         "6522.57295",
         "6680.0094",
         "6841.59351",
         "7007.41786",
         "7177.57575",
         "7352.16105",
         "7531.2682",
         "7714.99202",
         "7903.42767",
         "8096.67051",
         "8294.81599",
         "8497.95953",
         "8706.19641",
         "8919.6216",
         "9138.32963",
         "9362.41448",
         "9591.96938",
         "9827.08667",
         "10067.85766",
         "10314.37244",
         "10566.71968",
         "10824.98652",
         "11089.25832",
         "11359.61852",
         "11636.1484",
         "11918.92695",
         "12208.03061",
         "12503.53312",
         "12805.50526",
         "13114.01471",
         "13429.12579",
         "13750.8993",
         "14079.39226",
         "14414.65776",
         "14756.7447",
         "15105.69766",
         "15461.5566",
         "15824.35676",
         "16194.1284",
         "16570.89666",
         "16954.68132",
         "17345.4967",
         "17743.3514",
         "18148.24821",
         "18560.18393",
         "18979.14922",
         "19405.12847",
         "19838.09967",
         "20278.03432",
         "20724.89728",
         "21178.64674",
         "21639.2341",
         "22106.60393",
         "22580.69389",
         "23061.43475",
         "23548.75032",
         "24042.55745",
         "24542.76609",
         "25049.27925",
         "25561.99308",
         "26080.79692",
         "26605.57338",
         "27136.19842",
         "27672.54146",
         "28214.4655",
         "28761.82726",
         "29314.47731"
        ],
        [
         "2",
         "alb",
         "Albania",
         "469.30821",
         "470.65412",
         "472.00389",
         "473.35753",
         "474.71505",
         "476.07647",
         "477.44178",
         "478.81102",
         "480.18418",
         "481.56128",
         "482.94233",
         "484.32733",
         "485.71632",
         "487.10928",
         "488.50624",
         "489.9072",
         "491.31219",
         "492.7212",
         "494.13425",
         "495.55136",
         "496.97253",
         "498.39777",
         "499.82711",
         "501.26054",
         "502.69808",
         "504.13975",
         "505.58555",
         "507.03549",
         "508.4896",
         "509.94787",
         "511.41033",
         "512.87698",
         "514.34784",
         "515.82291",
         "517.30222",
         "518.78577",
         "520.27357",
         "521.76564",
         "523.26199",
         "524.76263",
         "526.26757",
         "527.77683",
         "529.29042",
         "530.80834",
         "532.33063",
         "533.85727",
         "535.3883",
         "536.92372",
         "538.46353",
         "540.00777",
         "541.55643",
         "543.10954",
         "544.6671",
         "546.22913",
         "547.79563",
         "549.36663",
         "550.94214",
         "552.52216",
         "554.10671",
         "555.69581",
         "557.28946",
         "558.88769",
         "560.4905",
         "562.09791",
         "563.70992",
         "565.32656",
         "566.94783",
         "568.57376",
         "570.20435",
         "571.83961",
         "573.47956",
         "575.12422",
         "576.77359",
         "578.4277",
         "580.08654",
         "581.75015",
         "583.41852",
         "585.09168",
         "586.76964",
         "588.45241",
         "590.14001",
         "591.83245",
         "593.52974",
         "595.23189",
         "596.93893",
         "598.65087",
         "600.36771",
         "602.08948",
         "603.81618",
         "605.54784",
         "607.28447",
         "609.02607",
         "610.77267",
         "612.52428",
         "614.28091",
         "616.04258",
         "617.8093",
         "619.58108",
         "621.35795",
         "623.13992",
         "624.92699",
         "626.71919",
         "628.51653",
         "630.31903",
         "632.12669",
         "633.93954",
         "635.75759",
         "637.58085",
         "639.40934",
         "641.24307",
         "643.08206",
         "644.92633",
         "646.77589",
         "648.63075",
         "667.93305",
         "687.80976",
         "708.27797",
         "729.35529",
         "751.05983",
         "773.41027",
         "796.42583",
         "820.1263",
         "844.53206",
         "869.66409",
         "895.54402",
         "922.1941",
         "949.63725",
         "977.89707",
         "1006.99785",
         "1036.96463",
         "1067.82318",
         "1099.60004",
         "1132.32253",
         "1166.01879",
         "1200.7178",
         "1236.4494",
         "1273.24433",
         "1311.13422",
         "1350.15165",
         "1390.33019",
         "1431.70438",
         "1478.51256",
         "1526.8511",
         "1576.77001",
         "1628.32098",
         "1681.55735",
         "1736.53423",
         "1793.30853",
         "1851.93901",
         "1912.48636",
         "1975.01325",
         "1967.65164",
         "1974.44518",
         "2062.03231",
         "2126.27891",
         "2248.21528",
         "2278.58405",
         "2430.44998",
         "2547.01823",
         "2659.39825",
         "2802.69109",
         "2833.76878",
         "2935.68146",
         "3044.26268",
         "3157.11586",
         "3281.64945",
         "3414.26291",
         "3555.02237",
         "3692.83773",
         "3828.92362",
         "3981.96247",
         "4109.94618",
         "4237.39005",
         "4391.2791",
         "4442.8963",
         "4498.06073",
         "4558.41493",
         "4617.27755",
         "4690.08609",
         "4761.10738",
         "4818.87106",
         "4945.84575",
         "4995.93924",
         "4992.61061",
         "5014.83826",
         "4925.41845",
         "5063.91376",
         "4994.20132",
         "4904.64972",
         "5159.30101",
         "4748.92655",
         "3460.93109",
         "3261.80467",
         "3596.85845",
         "3914.78561",
         "4411.38529",
         "4832.75793",
         "4330.49088",
         "4750.61959",
         "5409.67379",
         "5835.35822",
         "6389.81437",
         "6714.9047",
         "7125.45369",
         "7560.00727",
         "8026.3556",
         "8559.39663",
         "9143.79977",
         "9907.61612",
         "10311.40366",
         "10749.46643",
         "11052.77793",
         "11227.95041",
         "11361.25249",
         "11586.81745",
         "11878.4376",
         "12291.84206",
         "12770.99186",
         "13317.11926",
         "13653.18221",
         "13278.36977",
         "14595.94439",
         "15491.99186",
         "16209.87686",
         "16760.57018",
         "17385.40032",
         "18056.17879",
         "18721.27256",
         "19379.14498",
         "20031.64437",
         "19367.46911",
         "19801.39834",
         "20242.40688",
         "20690.46382",
         "21145.53152",
         "21607.56553",
         "22076.5145",
         "22552.32013",
         "23034.91715",
         "23524.23323",
         "24020.18904",
         "24522.69817",
         "25031.66722",
         "25546.99578",
         "26068.57649",
         "26596.29512",
         "27130.03064",
         "27669.6553",
         "28215.03475",
         "28766.02821",
         "29322.48854",
         "29884.26244",
         "30451.19064",
         "31023.10804",
         "31599.84395",
         "32181.22229",
         "32767.06183",
         "33357.1764",
         "33951.37518",
         "34549.46294",
         "35151.24031",
         "35756.50408",
         "36365.04745",
         "36976.66039",
         "37591.12988",
         "38208.24026",
         "38827.77351",
         "39449.50959",
         "40073.22678",
         "40698.70193",
         "41325.71087",
         "41954.02865",
         "42583.42991",
         "43213.68921",
         "43844.58127",
         "44475.88138",
         "45107.36564",
         "45738.81127",
         "46369.99692",
         "47000.70295",
         "47630.71173",
         "48259.80787",
         "48887.77851",
         "49514.41359",
         "50139.50606",
         "50762.85213",
         "51384.25149",
         "52003.50751",
         "52620.42748",
         "53234.82275",
         "53846.50893",
         "54455.30605",
         "55061.03873",
         "55663.53627",
         "56262.63285",
         "56858.16757",
         "57449.98463",
         "58037.93335",
         "58621.86829",
         "59201.64931",
         "59777.14164"
        ],
        [
         "3",
         "and",
         "Andorra",
         "1370.15106",
         "1372.44036",
         "1374.72967",
         "1378.16364",
         "1380.45294",
         "1382.74225",
         "1385.03156",
         "1387.32087",
         "1390.75483",
         "1393.04414",
         "1395.33345",
         "1397.62276",
         "1401.05672",
         "1403.34603",
         "1405.63534",
         "1407.92464",
         "1411.35861",
         "1413.64792",
         "1415.93722",
         "1418.22653",
         "1421.66049",
         "1437.68565",
         "1454.85547",
         "1472.02528",
         "1490.33974",
         "1507.50956",
         "1525.82402",
         "1544.13849",
         "1562.45296",
         "1580.76743",
         "1599.08189",
         "1618.54101",
         "1638.00014",
         "1657.45926",
         "1676.91838",
         "1696.3775",
         "1716.98127",
         "1737.58505",
         "1758.18882",
         "1778.7926",
         "1800.54103",
         "1821.1448",
         "1842.89323",
         "1864.64166",
         "1887.53475",
         "1909.28318",
         "1932.17626",
         "1955.06934",
         "1977.96243",
         "2002.00016",
         "2026.0379",
         "2050.07564",
         "2074.11338",
         "2099.29577",
         "2123.33351",
         "2148.5159",
         "2174.84295",
         "2200.02534",
         "2226.35239",
         "2252.67943",
         "2280.15113",
         "2306.47818",
         "2333.94988",
         "2362.56623",
         "2390.03793",
         "2418.65429",
         "2447.27064",
         "2477.03165",
         "2505.64801",
         "2535.40901",
         "2566.31468",
         "2596.07568",
         "2626.98135",
         "2657.88701",
         "2689.93733",
         "2721.98765",
         "2754.03796",
         "2787.23293",
         "2820.42791",
         "2853.62288",
         "2887.9625",
         "2922.30213",
         "2956.64175",
         "2992.12603",
         "3027.61031",
         "3063.09459",
         "3099.72353",
         "3136.35246",
         "3174.12605",
         "3211.89964",
         "3249.67322",
         "3288.59147",
         "3327.50971",
         "3367.5726",
         "3407.6355",
         "3447.6984",
         "3488.90595",
         "3530.1135",
         "3572.4657",
         "3614.81791",
         "3657.17011",
         "3700.66697",
         "3745.30848",
         "3788.80534",
         "3834.59151",
         "3880.37768",
         "3926.16385",
         "3973.09467",
         "4020.02549",
         "4068.10096",
         "4116.17644",
         "4165.39657",
         "4214.6167",
         "4264.98148",
         "4335.95004",
         "4409.20791",
         "4482.46578",
         "4558.01295",
         "4634.70478",
         "4712.54127",
         "4791.52241",
         "4873.93751",
         "4958.64192",
         "5044.49098",
         "5131.4847",
         "5219.62307",
         "5310.05075",
         "5401.62309",
         "5494.34008",
         "5589.34637",
         "5685.49732",
         "5782.79293",
         "5882.37784",
         "5984.25206",
         "6087.27094",
         "6192.57913",
         "6299.03197",
         "6406.62946",
         "6516.51626",
         "6628.69237",
         "6743.15779",
         "6888.60911",
         "7037.50772",
         "7189.89091",
         "7344.63158",
         "7502.92219",
         "7664.80087",
         "7830.30609",
         "7999.47659",
         "8172.35146",
         "8348.97008",
         "9064.85921",
         "9843.49547",
         "10688.08012",
         "11605.5124",
         "12601.5827",
         "13683.40117",
         "14856.96074",
         "16132.0623",
         "17516.18108",
         "19019.40823",
         "20650.74462",
         "22423.11281",
         "24345.85165",
         "26434.79879",
         "28702.22335",
         "31164.43404",
         "33836.71679",
         "36738.47998",
         "39889.44671",
         "43309.65812",
         "43257.13292",
         "44677.72603",
         "46091.36817",
         "46785.44304",
         "45427.31734",
         "45556.71056",
         "45651.42287",
         "45191.26337",
         "44025.26965",
         "43650.33485",
         "42117.00151",
         "41080.48139",
         "40205.21299",
         "39342.33448",
         "38727.24353",
         "38519.76567",
         "39209.55326",
         "39780.54648",
         "40283.55047",
         "40413.30797",
         "40034.94297",
         "39045.70402",
         "37476.54402",
         "37489.10291",
         "37995.20425",
         "39674.20659",
         "43583.74415",
         "45378.29936",
         "47233.4885",
         "47026.09236",
         "47427.60075",
         "47741.8204",
         "51912.97948",
         "54904.469",
         "60390.54225",
         "65151.94232",
         "66513.28866",
         "63702.5839",
         "64456.97248",
         "60467.086",
         "60911.089",
         "57892.718",
         "55672.916",
         "56578.793",
         "56460.538",
         "57455.308",
         "56352.197",
         "56208.168",
         "56330.948",
         "49728.236",
         "52819.99",
         "56415.783",
         "55317.396",
         "55218.64",
         "54957.623",
         "54697.84",
         "54503.9245",
         "54375.10545",
         "54310.84815",
         "51977.65399",
         "52578.08573",
         "53175.74381",
         "53770.45481",
         "54362.04992",
         "54950.36499",
         "55535.24072",
         "56116.52274",
         "56694.06167",
         "57267.71328",
         "57837.33846",
         "58402.80338",
         "58963.97947",
         "59520.74347",
         "60072.97746",
         "60620.56891",
         "61163.41061",
         "61701.40075",
         "62234.44285",
         "62762.44574",
         "63285.32359",
         "63802.99577",
         "64315.38691",
         "64822.42677",
         "65324.05021",
         "65820.19713",
         "66310.81236",
         "66795.84563",
         "67275.25146",
         "67748.98906",
         "68217.02226",
         "68679.31939",
         "69135.85322",
         "69586.60079",
         "70031.54337",
         "70470.66628",
         "70903.95886",
         "71331.41428",
         "71753.02947",
         "72168.80499",
         "72578.74491",
         "72982.85669",
         "73381.15107",
         "73773.64194",
         "74160.34623",
         "74541.28379",
         "74916.47725",
         "75285.95196",
         "75649.73581",
         "76007.85914",
         "76360.35465",
         "76707.25723",
         "77048.60394",
         "77384.43379",
         "77714.78772",
         "78039.70846",
         "78359.24043",
         "78673.42965",
         "78982.32362",
         "79285.97124",
         "79584.42272",
         "79877.72947",
         "80165.94404",
         "80449.12",
         "80727.31187",
         "81000.57506",
         "81268.96576",
         "81532.54087",
         "81791.35793",
         "82045.47508",
         "82294.95092"
        ],
        [
         "4",
         "are",
         "UAE",
         "1142.36487",
         "1145.79884",
         "1150.37745",
         "1154.95607",
         "1159.53469",
         "1162.96865",
         "1167.54727",
         "1172.12588",
         "1176.7045",
         "1181.28312",
         "1185.86173",
         "1189.2957",
         "1193.87431",
         "1198.45293",
         "1203.03155",
         "1207.61016",
         "1212.18878",
         "1216.7674",
         "1221.34601",
         "1225.92463",
         "1230.50325",
         "1235.08186",
         "1239.66048",
         "1244.2391",
         "1248.81771",
         "1253.39633",
         "1257.97495",
         "1262.55356",
         "1268.27683",
         "1272.85545",
         "1277.43407",
         "1282.01268",
         "1286.5913",
         "1292.31457",
         "1296.89319",
         "1301.4718",
         "1306.05042",
         "1311.77369",
         "1316.35231",
         "1320.93093",
         "1325.50954",
         "1331.23281",
         "1335.81143",
         "1341.5347",
         "1346.11332",
         "1350.69194",
         "1356.41521",
         "1360.99382",
         "1366.71709",
         "1371.29571",
         "1377.01898",
         "1381.5976",
         "1387.32087",
         "1391.89949",
         "1397.62276",
         "1402.20137",
         "1407.92464",
         "1412.50326",
         "1418.22653",
         "1423.9498",
         "1428.52842",
         "1434.25169",
         "1439.97496",
         "1444.55358",
         "1450.27685",
         "1456.00012",
         "1461.72339",
         "1466.30201",
         "1472.02528",
         "1477.74855",
         "1483.47182",
         "1505.22025",
         "1526.96868",
         "1548.71711",
         "1571.61019",
         "1594.50328",
         "1618.54101",
         "1641.4341",
         "1665.47184",
         "1689.50957",
         "1714.69196",
         "1739.87436",
         "1765.05675",
         "1790.23914",
         "1816.56619",
         "1842.89323",
         "1870.36493",
         "1897.83663",
         "1925.30833",
         "1952.78003",
         "1981.39639",
         "2010.01274",
         "2039.77375",
         "2069.53476",
         "2099.29577",
         "2130.20143",
         "2161.1071",
         "2193.15741",
         "2225.20773",
         "2257.25805",
         "2290.45302",
         "2323.64799",
         "2357.98762",
         "2392.32724",
         "2426.66687",
         "2462.15115",
         "2497.63543",
         "2534.26436",
         "2572.03795",
         "2608.66688",
         "2647.58512",
         "2685.35871",
         "2724.27695",
         "2764.33985",
         "2630.41531",
         "2503.3587",
         "2383.17001",
         "2267.55994",
         "2157.67313",
         "2273.28321",
         "2394.61655",
         "2522.81782",
         "2656.74236",
         "2638.42789",
         "2620.11342",
         "2601.79896",
         "2544.56625",
         "2489.62285",
         "2435.8241",
         "2258.4027",
         "2094.71715",
         "1942.47815",
         "1801.68568",
         "1671.19511",
         "1549.86176",
         "1525.82402",
         "1502.93094",
         "1480.03786",
         "1457.14477",
         "1434.25169",
         "1412.50326",
         "1420.70917",
         "1429.80781",
         "1437.4191",
         "1445.94148",
         "1487.27123",
         "1529.71056",
         "1573.28808",
         "1618.03314",
         "1663.97582",
         "1711.14694",
         "1758.1311",
         "1804.86719",
         "1854.31093",
         "1905.04727",
         "1957.10895",
         "2008.9198",
         "2063.69897",
         "2363.4767",
         "2706.09805",
         "3097.44064",
         "3533.03659",
         "4029.86181",
         "5349.97327",
         "9298.28815",
         "16155.93104",
         "28071.5711",
         "48773.11441",
         "59932.5844",
         "73641.81308",
         "84894.16713",
         "85963.48789",
         "86134.55842",
         "86371.32517",
         "92799.11532",
         "84992.9455",
         "86190.3712",
         "89667.2394",
         "78291.71086",
         "88474.52365",
         "102507.9884",
         "102150.342",
         "90360.1202",
         "83505.66803",
         "82608.5283",
         "77696.56965",
         "60374.51613",
         "61554.76501",
         "53561.9217",
         "59513.72516",
         "72062.07407",
         "72004.82677",
         "73233.7705",
         "73370.67428",
         "77636.74559",
         "81887.68569",
         "84634.29403",
         "88626.06956",
         "86027.63223",
         "85689.68131",
         "91954.61627",
         "90147.2925",
         "89212.96001",
         "93640.90134",
         "98774.2794",
         "97266.365",
         "94130.60695",
         "81657.88966",
         "71139.96279",
         "59008.92359",
         "56388.81337",
         "59241.41557",
         "59697.36052",
         "62092.83182",
         "64063.78403",
         "67790.60361",
         "70945.24301",
         "70883.28931",
         "71249.92596",
         "71480.55237",
         "67383.97009",
         "69733.79377",
         "74602.89837",
         "76528.32164",
         "78598.89948",
         "81255.00374",
         "84098.42824",
         "86325.97601",
         "87720.19095",
         "88310.13486",
         "88033.00064",
         "88165.56575",
         "88295.38084",
         "88422.49626",
         "88546.96176",
         "88668.82642",
         "88788.13872",
         "88904.94648",
         "89019.29688",
         "89131.23644",
         "89240.81104",
         "89348.06591",
         "89453.04563",
         "89555.7941",
         "89656.3546",
         "89754.76974",
         "89851.08147",
         "89945.33111",
         "90037.55931",
         "90127.8061",
         "90216.11083",
         "90302.51226",
         "90387.04846",
         "90469.75692",
         "90550.67446",
         "90629.83731",
         "90707.28107",
         "90783.04071",
         "90857.15063",
         "90929.6446",
         "91000.5558",
         "91069.91682",
         "91137.75969",
         "91204.11583",
         "91269.0161",
         "91332.49082",
         "91394.56971",
         "91455.28198",
         "91514.65628",
         "91572.72072",
         "91629.50289",
         "91685.02985",
         "91739.32815",
         "91792.42383",
         "91844.34244",
         "91895.10901",
         "91944.74812",
         "91993.28385",
         "92040.73981",
         "92087.13914",
         "92132.50455",
         "92176.85826",
         "92220.22209",
         "92262.61739",
         "92304.0651",
         "92344.58574",
         "92384.19941",
         "92422.9258",
         "92460.7842",
         "92497.79351",
         "92533.97225",
         "92569.33855",
         "92603.91018",
         "92637.70452",
         "92670.73861",
         "92703.02914",
         "92734.59243",
         "92765.44449",
         "92795.60097",
         "92825.07719",
         "92853.88818"
        ]
       ],
       "shape": {
        "columns": 303,
        "rows": 5
       }
      },
      "text/html": [
       "<div>\n",
       "<style scoped>\n",
       "    .dataframe tbody tr th:only-of-type {\n",
       "        vertical-align: middle;\n",
       "    }\n",
       "\n",
       "    .dataframe tbody tr th {\n",
       "        vertical-align: top;\n",
       "    }\n",
       "\n",
       "    .dataframe thead th {\n",
       "        text-align: right;\n",
       "    }\n",
       "</style>\n",
       "<table border=\"1\" class=\"dataframe\">\n",
       "  <thead>\n",
       "    <tr style=\"text-align: right;\">\n",
       "      <th></th>\n",
       "      <th>geo</th>\n",
       "      <th>name</th>\n",
       "      <th>1800</th>\n",
       "      <th>1801</th>\n",
       "      <th>1802</th>\n",
       "      <th>1803</th>\n",
       "      <th>1804</th>\n",
       "      <th>1805</th>\n",
       "      <th>1806</th>\n",
       "      <th>1807</th>\n",
       "      <th>...</th>\n",
       "      <th>2091</th>\n",
       "      <th>2092</th>\n",
       "      <th>2093</th>\n",
       "      <th>2094</th>\n",
       "      <th>2095</th>\n",
       "      <th>2096</th>\n",
       "      <th>2097</th>\n",
       "      <th>2098</th>\n",
       "      <th>2099</th>\n",
       "      <th>2100</th>\n",
       "    </tr>\n",
       "  </thead>\n",
       "  <tbody>\n",
       "    <tr>\n",
       "      <th>0</th>\n",
       "      <td>afg</td>\n",
       "      <td>Afghanistan</td>\n",
       "      <td>480.75476</td>\n",
       "      <td>480.75476</td>\n",
       "      <td>480.75476</td>\n",
       "      <td>480.75476</td>\n",
       "      <td>480.75476</td>\n",
       "      <td>480.75476</td>\n",
       "      <td>480.75476</td>\n",
       "      <td>480.75476</td>\n",
       "      <td>...</td>\n",
       "      <td>4684.97868</td>\n",
       "      <td>4793.65905</td>\n",
       "      <td>4905.29816</td>\n",
       "      <td>5019.97187</td>\n",
       "      <td>5137.75735</td>\n",
       "      <td>5258.73302</td>\n",
       "      <td>5382.97857</td>\n",
       "      <td>5510.57490</td>\n",
       "      <td>5641.60409</td>\n",
       "      <td>5776.14935</td>\n",
       "    </tr>\n",
       "    <tr>\n",
       "      <th>1</th>\n",
       "      <td>ago</td>\n",
       "      <td>Angola</td>\n",
       "      <td>373.05144</td>\n",
       "      <td>374.25872</td>\n",
       "      <td>376.06965</td>\n",
       "      <td>377.88058</td>\n",
       "      <td>379.08787</td>\n",
       "      <td>380.89880</td>\n",
       "      <td>382.70973</td>\n",
       "      <td>384.52066</td>\n",
       "      <td>...</td>\n",
       "      <td>24542.76609</td>\n",
       "      <td>25049.27925</td>\n",
       "      <td>25561.99308</td>\n",
       "      <td>26080.79692</td>\n",
       "      <td>26605.57338</td>\n",
       "      <td>27136.19842</td>\n",
       "      <td>27672.54146</td>\n",
       "      <td>28214.46550</td>\n",
       "      <td>28761.82726</td>\n",
       "      <td>29314.47731</td>\n",
       "    </tr>\n",
       "    <tr>\n",
       "      <th>2</th>\n",
       "      <td>alb</td>\n",
       "      <td>Albania</td>\n",
       "      <td>469.30821</td>\n",
       "      <td>470.65412</td>\n",
       "      <td>472.00389</td>\n",
       "      <td>473.35753</td>\n",
       "      <td>474.71505</td>\n",
       "      <td>476.07647</td>\n",
       "      <td>477.44178</td>\n",
       "      <td>478.81102</td>\n",
       "      <td>...</td>\n",
       "      <td>54455.30605</td>\n",
       "      <td>55061.03873</td>\n",
       "      <td>55663.53627</td>\n",
       "      <td>56262.63285</td>\n",
       "      <td>56858.16757</td>\n",
       "      <td>57449.98463</td>\n",
       "      <td>58037.93335</td>\n",
       "      <td>58621.86829</td>\n",
       "      <td>59201.64931</td>\n",
       "      <td>59777.14164</td>\n",
       "    </tr>\n",
       "    <tr>\n",
       "      <th>3</th>\n",
       "      <td>and</td>\n",
       "      <td>Andorra</td>\n",
       "      <td>1370.15106</td>\n",
       "      <td>1372.44036</td>\n",
       "      <td>1374.72967</td>\n",
       "      <td>1378.16364</td>\n",
       "      <td>1380.45294</td>\n",
       "      <td>1382.74225</td>\n",
       "      <td>1385.03156</td>\n",
       "      <td>1387.32087</td>\n",
       "      <td>...</td>\n",
       "      <td>79877.72947</td>\n",
       "      <td>80165.94404</td>\n",
       "      <td>80449.12000</td>\n",
       "      <td>80727.31187</td>\n",
       "      <td>81000.57506</td>\n",
       "      <td>81268.96576</td>\n",
       "      <td>81532.54087</td>\n",
       "      <td>81791.35793</td>\n",
       "      <td>82045.47508</td>\n",
       "      <td>82294.95092</td>\n",
       "    </tr>\n",
       "    <tr>\n",
       "      <th>4</th>\n",
       "      <td>are</td>\n",
       "      <td>UAE</td>\n",
       "      <td>1142.36487</td>\n",
       "      <td>1145.79884</td>\n",
       "      <td>1150.37745</td>\n",
       "      <td>1154.95607</td>\n",
       "      <td>1159.53469</td>\n",
       "      <td>1162.96865</td>\n",
       "      <td>1167.54727</td>\n",
       "      <td>1172.12588</td>\n",
       "      <td>...</td>\n",
       "      <td>92569.33855</td>\n",
       "      <td>92603.91018</td>\n",
       "      <td>92637.70452</td>\n",
       "      <td>92670.73861</td>\n",
       "      <td>92703.02914</td>\n",
       "      <td>92734.59243</td>\n",
       "      <td>92765.44449</td>\n",
       "      <td>92795.60097</td>\n",
       "      <td>92825.07719</td>\n",
       "      <td>92853.88818</td>\n",
       "    </tr>\n",
       "  </tbody>\n",
       "</table>\n",
       "<p>5 rows × 303 columns</p>\n",
       "</div>"
      ],
      "text/plain": [
       "   geo         name        1800        1801        1802        1803  \\\n",
       "0  afg  Afghanistan   480.75476   480.75476   480.75476   480.75476   \n",
       "1  ago       Angola   373.05144   374.25872   376.06965   377.88058   \n",
       "2  alb      Albania   469.30821   470.65412   472.00389   473.35753   \n",
       "3  and      Andorra  1370.15106  1372.44036  1374.72967  1378.16364   \n",
       "4  are          UAE  1142.36487  1145.79884  1150.37745  1154.95607   \n",
       "\n",
       "         1804        1805        1806        1807  ...         2091  \\\n",
       "0   480.75476   480.75476   480.75476   480.75476  ...   4684.97868   \n",
       "1   379.08787   380.89880   382.70973   384.52066  ...  24542.76609   \n",
       "2   474.71505   476.07647   477.44178   478.81102  ...  54455.30605   \n",
       "3  1380.45294  1382.74225  1385.03156  1387.32087  ...  79877.72947   \n",
       "4  1159.53469  1162.96865  1167.54727  1172.12588  ...  92569.33855   \n",
       "\n",
       "          2092         2093         2094         2095         2096  \\\n",
       "0   4793.65905   4905.29816   5019.97187   5137.75735   5258.73302   \n",
       "1  25049.27925  25561.99308  26080.79692  26605.57338  27136.19842   \n",
       "2  55061.03873  55663.53627  56262.63285  56858.16757  57449.98463   \n",
       "3  80165.94404  80449.12000  80727.31187  81000.57506  81268.96576   \n",
       "4  92603.91018  92637.70452  92670.73861  92703.02914  92734.59243   \n",
       "\n",
       "          2097         2098         2099         2100  \n",
       "0   5382.97857   5510.57490   5641.60409   5776.14935  \n",
       "1  27672.54146  28214.46550  28761.82726  29314.47731  \n",
       "2  58037.93335  58621.86829  59201.64931  59777.14164  \n",
       "3  81532.54087  81791.35793  82045.47508  82294.95092  \n",
       "4  92765.44449  92795.60097  92825.07719  92853.88818  \n",
       "\n",
       "[5 rows x 303 columns]"
      ]
     },
     "execution_count": 58,
     "metadata": {},
     "output_type": "execute_result"
    }
   ],
   "source": [
    "#Agora vamos agregar a tabela de GDP ajustado pela inflação\n",
    "base_gdp_ajustado = importa_csv(dataframe_name='../../avaliacao-python-ciencia-dados/Bases/gdp_pcap_inflaction_adjusted.csv', separador=',', encoding='utf-8')\n",
    "base_gdp_ajustado.head()"
   ]
  },
  {
   "cell_type": "code",
   "execution_count": 59,
   "id": "74724c82",
   "metadata": {},
   "outputs": [],
   "source": [
    "base_gdp_ajustado = wide_to_long_years(base_gdp_ajustado, id_vars=['name'])"
   ]
  },
  {
   "cell_type": "code",
   "execution_count": 60,
   "id": "7fc315a2",
   "metadata": {},
   "outputs": [
    {
     "data": {
      "application/vnd.microsoft.datawrangler.viewer.v0+json": {
       "columns": [
        {
         "name": "index",
         "rawType": "int64",
         "type": "integer"
        },
        {
         "name": "name",
         "rawType": "object",
         "type": "string"
        },
        {
         "name": "year",
         "rawType": "int64",
         "type": "integer"
        },
        {
         "name": "value",
         "rawType": "float64",
         "type": "float"
        }
       ],
       "ref": "37454d19-9dfa-40be-b759-39829eb3ee6e",
       "rows": [
        [
         "0",
         "Afghanistan",
         "1800",
         "480.75"
        ],
        [
         "1",
         "Afghanistan",
         "1801",
         "480.75"
        ],
        [
         "2",
         "Afghanistan",
         "1802",
         "480.75"
        ],
        [
         "3",
         "Afghanistan",
         "1803",
         "480.75"
        ],
        [
         "4",
         "Afghanistan",
         "1804",
         "480.75"
        ],
        [
         "5",
         "Afghanistan",
         "1805",
         "480.75"
        ],
        [
         "6",
         "Afghanistan",
         "1806",
         "480.75"
        ],
        [
         "7",
         "Afghanistan",
         "1807",
         "480.75"
        ],
        [
         "8",
         "Afghanistan",
         "1808",
         "480.75"
        ],
        [
         "9",
         "Afghanistan",
         "1809",
         "480.75"
        ],
        [
         "10",
         "Afghanistan",
         "1810",
         "480.75"
        ],
        [
         "11",
         "Afghanistan",
         "1811",
         "480.75"
        ],
        [
         "12",
         "Afghanistan",
         "1812",
         "480.75"
        ],
        [
         "13",
         "Afghanistan",
         "1813",
         "480.75"
        ],
        [
         "14",
         "Afghanistan",
         "1814",
         "480.75"
        ],
        [
         "15",
         "Afghanistan",
         "1815",
         "480.75"
        ],
        [
         "16",
         "Afghanistan",
         "1816",
         "480.75"
        ],
        [
         "17",
         "Afghanistan",
         "1817",
         "480.75"
        ],
        [
         "18",
         "Afghanistan",
         "1818",
         "480.75"
        ],
        [
         "19",
         "Afghanistan",
         "1819",
         "480.75"
        ],
        [
         "20",
         "Afghanistan",
         "1820",
         "480.75"
        ],
        [
         "21",
         "Afghanistan",
         "1821",
         "480.75"
        ],
        [
         "22",
         "Afghanistan",
         "1822",
         "481.84"
        ],
        [
         "23",
         "Afghanistan",
         "1823",
         "482.94"
        ],
        [
         "24",
         "Afghanistan",
         "1824",
         "484.03"
        ],
        [
         "25",
         "Afghanistan",
         "1825",
         "485.13"
        ],
        [
         "26",
         "Afghanistan",
         "1826",
         "486.23"
        ],
        [
         "27",
         "Afghanistan",
         "1827",
         "487.33"
        ],
        [
         "28",
         "Afghanistan",
         "1828",
         "488.43"
        ],
        [
         "29",
         "Afghanistan",
         "1829",
         "489.54"
        ],
        [
         "30",
         "Afghanistan",
         "1830",
         "490.65"
        ],
        [
         "31",
         "Afghanistan",
         "1831",
         "491.76"
        ],
        [
         "32",
         "Afghanistan",
         "1832",
         "492.87"
        ],
        [
         "33",
         "Afghanistan",
         "1833",
         "493.99"
        ],
        [
         "34",
         "Afghanistan",
         "1834",
         "495.11"
        ],
        [
         "35",
         "Afghanistan",
         "1835",
         "496.23"
        ],
        [
         "36",
         "Afghanistan",
         "1836",
         "497.36"
        ],
        [
         "37",
         "Afghanistan",
         "1837",
         "498.48"
        ],
        [
         "38",
         "Afghanistan",
         "1838",
         "499.61"
        ],
        [
         "39",
         "Afghanistan",
         "1839",
         "500.74"
        ],
        [
         "40",
         "Afghanistan",
         "1840",
         "501.88"
        ],
        [
         "41",
         "Afghanistan",
         "1841",
         "503.02"
        ],
        [
         "42",
         "Afghanistan",
         "1842",
         "504.16"
        ],
        [
         "43",
         "Afghanistan",
         "1843",
         "505.3"
        ],
        [
         "44",
         "Afghanistan",
         "1844",
         "506.44"
        ],
        [
         "45",
         "Afghanistan",
         "1845",
         "507.59"
        ],
        [
         "46",
         "Afghanistan",
         "1846",
         "508.74"
        ],
        [
         "47",
         "Afghanistan",
         "1847",
         "509.89"
        ],
        [
         "48",
         "Afghanistan",
         "1848",
         "511.05"
        ],
        [
         "49",
         "Afghanistan",
         "1849",
         "512.21"
        ]
       ],
       "shape": {
        "columns": 3,
        "rows": 50
       }
      },
      "text/html": [
       "<div>\n",
       "<style scoped>\n",
       "    .dataframe tbody tr th:only-of-type {\n",
       "        vertical-align: middle;\n",
       "    }\n",
       "\n",
       "    .dataframe tbody tr th {\n",
       "        vertical-align: top;\n",
       "    }\n",
       "\n",
       "    .dataframe thead th {\n",
       "        text-align: right;\n",
       "    }\n",
       "</style>\n",
       "<table border=\"1\" class=\"dataframe\">\n",
       "  <thead>\n",
       "    <tr style=\"text-align: right;\">\n",
       "      <th></th>\n",
       "      <th>name</th>\n",
       "      <th>year</th>\n",
       "      <th>value</th>\n",
       "    </tr>\n",
       "  </thead>\n",
       "  <tbody>\n",
       "    <tr>\n",
       "      <th>0</th>\n",
       "      <td>Afghanistan</td>\n",
       "      <td>1800</td>\n",
       "      <td>480.75</td>\n",
       "    </tr>\n",
       "    <tr>\n",
       "      <th>1</th>\n",
       "      <td>Afghanistan</td>\n",
       "      <td>1801</td>\n",
       "      <td>480.75</td>\n",
       "    </tr>\n",
       "    <tr>\n",
       "      <th>2</th>\n",
       "      <td>Afghanistan</td>\n",
       "      <td>1802</td>\n",
       "      <td>480.75</td>\n",
       "    </tr>\n",
       "    <tr>\n",
       "      <th>3</th>\n",
       "      <td>Afghanistan</td>\n",
       "      <td>1803</td>\n",
       "      <td>480.75</td>\n",
       "    </tr>\n",
       "    <tr>\n",
       "      <th>4</th>\n",
       "      <td>Afghanistan</td>\n",
       "      <td>1804</td>\n",
       "      <td>480.75</td>\n",
       "    </tr>\n",
       "    <tr>\n",
       "      <th>5</th>\n",
       "      <td>Afghanistan</td>\n",
       "      <td>1805</td>\n",
       "      <td>480.75</td>\n",
       "    </tr>\n",
       "    <tr>\n",
       "      <th>6</th>\n",
       "      <td>Afghanistan</td>\n",
       "      <td>1806</td>\n",
       "      <td>480.75</td>\n",
       "    </tr>\n",
       "    <tr>\n",
       "      <th>7</th>\n",
       "      <td>Afghanistan</td>\n",
       "      <td>1807</td>\n",
       "      <td>480.75</td>\n",
       "    </tr>\n",
       "    <tr>\n",
       "      <th>8</th>\n",
       "      <td>Afghanistan</td>\n",
       "      <td>1808</td>\n",
       "      <td>480.75</td>\n",
       "    </tr>\n",
       "    <tr>\n",
       "      <th>9</th>\n",
       "      <td>Afghanistan</td>\n",
       "      <td>1809</td>\n",
       "      <td>480.75</td>\n",
       "    </tr>\n",
       "    <tr>\n",
       "      <th>10</th>\n",
       "      <td>Afghanistan</td>\n",
       "      <td>1810</td>\n",
       "      <td>480.75</td>\n",
       "    </tr>\n",
       "    <tr>\n",
       "      <th>11</th>\n",
       "      <td>Afghanistan</td>\n",
       "      <td>1811</td>\n",
       "      <td>480.75</td>\n",
       "    </tr>\n",
       "    <tr>\n",
       "      <th>12</th>\n",
       "      <td>Afghanistan</td>\n",
       "      <td>1812</td>\n",
       "      <td>480.75</td>\n",
       "    </tr>\n",
       "    <tr>\n",
       "      <th>13</th>\n",
       "      <td>Afghanistan</td>\n",
       "      <td>1813</td>\n",
       "      <td>480.75</td>\n",
       "    </tr>\n",
       "    <tr>\n",
       "      <th>14</th>\n",
       "      <td>Afghanistan</td>\n",
       "      <td>1814</td>\n",
       "      <td>480.75</td>\n",
       "    </tr>\n",
       "    <tr>\n",
       "      <th>15</th>\n",
       "      <td>Afghanistan</td>\n",
       "      <td>1815</td>\n",
       "      <td>480.75</td>\n",
       "    </tr>\n",
       "    <tr>\n",
       "      <th>16</th>\n",
       "      <td>Afghanistan</td>\n",
       "      <td>1816</td>\n",
       "      <td>480.75</td>\n",
       "    </tr>\n",
       "    <tr>\n",
       "      <th>17</th>\n",
       "      <td>Afghanistan</td>\n",
       "      <td>1817</td>\n",
       "      <td>480.75</td>\n",
       "    </tr>\n",
       "    <tr>\n",
       "      <th>18</th>\n",
       "      <td>Afghanistan</td>\n",
       "      <td>1818</td>\n",
       "      <td>480.75</td>\n",
       "    </tr>\n",
       "    <tr>\n",
       "      <th>19</th>\n",
       "      <td>Afghanistan</td>\n",
       "      <td>1819</td>\n",
       "      <td>480.75</td>\n",
       "    </tr>\n",
       "    <tr>\n",
       "      <th>20</th>\n",
       "      <td>Afghanistan</td>\n",
       "      <td>1820</td>\n",
       "      <td>480.75</td>\n",
       "    </tr>\n",
       "    <tr>\n",
       "      <th>21</th>\n",
       "      <td>Afghanistan</td>\n",
       "      <td>1821</td>\n",
       "      <td>480.75</td>\n",
       "    </tr>\n",
       "    <tr>\n",
       "      <th>22</th>\n",
       "      <td>Afghanistan</td>\n",
       "      <td>1822</td>\n",
       "      <td>481.84</td>\n",
       "    </tr>\n",
       "    <tr>\n",
       "      <th>23</th>\n",
       "      <td>Afghanistan</td>\n",
       "      <td>1823</td>\n",
       "      <td>482.94</td>\n",
       "    </tr>\n",
       "    <tr>\n",
       "      <th>24</th>\n",
       "      <td>Afghanistan</td>\n",
       "      <td>1824</td>\n",
       "      <td>484.03</td>\n",
       "    </tr>\n",
       "    <tr>\n",
       "      <th>25</th>\n",
       "      <td>Afghanistan</td>\n",
       "      <td>1825</td>\n",
       "      <td>485.13</td>\n",
       "    </tr>\n",
       "    <tr>\n",
       "      <th>26</th>\n",
       "      <td>Afghanistan</td>\n",
       "      <td>1826</td>\n",
       "      <td>486.23</td>\n",
       "    </tr>\n",
       "    <tr>\n",
       "      <th>27</th>\n",
       "      <td>Afghanistan</td>\n",
       "      <td>1827</td>\n",
       "      <td>487.33</td>\n",
       "    </tr>\n",
       "    <tr>\n",
       "      <th>28</th>\n",
       "      <td>Afghanistan</td>\n",
       "      <td>1828</td>\n",
       "      <td>488.43</td>\n",
       "    </tr>\n",
       "    <tr>\n",
       "      <th>29</th>\n",
       "      <td>Afghanistan</td>\n",
       "      <td>1829</td>\n",
       "      <td>489.54</td>\n",
       "    </tr>\n",
       "    <tr>\n",
       "      <th>30</th>\n",
       "      <td>Afghanistan</td>\n",
       "      <td>1830</td>\n",
       "      <td>490.65</td>\n",
       "    </tr>\n",
       "    <tr>\n",
       "      <th>31</th>\n",
       "      <td>Afghanistan</td>\n",
       "      <td>1831</td>\n",
       "      <td>491.76</td>\n",
       "    </tr>\n",
       "    <tr>\n",
       "      <th>32</th>\n",
       "      <td>Afghanistan</td>\n",
       "      <td>1832</td>\n",
       "      <td>492.87</td>\n",
       "    </tr>\n",
       "    <tr>\n",
       "      <th>33</th>\n",
       "      <td>Afghanistan</td>\n",
       "      <td>1833</td>\n",
       "      <td>493.99</td>\n",
       "    </tr>\n",
       "    <tr>\n",
       "      <th>34</th>\n",
       "      <td>Afghanistan</td>\n",
       "      <td>1834</td>\n",
       "      <td>495.11</td>\n",
       "    </tr>\n",
       "    <tr>\n",
       "      <th>35</th>\n",
       "      <td>Afghanistan</td>\n",
       "      <td>1835</td>\n",
       "      <td>496.23</td>\n",
       "    </tr>\n",
       "    <tr>\n",
       "      <th>36</th>\n",
       "      <td>Afghanistan</td>\n",
       "      <td>1836</td>\n",
       "      <td>497.36</td>\n",
       "    </tr>\n",
       "    <tr>\n",
       "      <th>37</th>\n",
       "      <td>Afghanistan</td>\n",
       "      <td>1837</td>\n",
       "      <td>498.48</td>\n",
       "    </tr>\n",
       "    <tr>\n",
       "      <th>38</th>\n",
       "      <td>Afghanistan</td>\n",
       "      <td>1838</td>\n",
       "      <td>499.61</td>\n",
       "    </tr>\n",
       "    <tr>\n",
       "      <th>39</th>\n",
       "      <td>Afghanistan</td>\n",
       "      <td>1839</td>\n",
       "      <td>500.74</td>\n",
       "    </tr>\n",
       "    <tr>\n",
       "      <th>40</th>\n",
       "      <td>Afghanistan</td>\n",
       "      <td>1840</td>\n",
       "      <td>501.88</td>\n",
       "    </tr>\n",
       "    <tr>\n",
       "      <th>41</th>\n",
       "      <td>Afghanistan</td>\n",
       "      <td>1841</td>\n",
       "      <td>503.02</td>\n",
       "    </tr>\n",
       "    <tr>\n",
       "      <th>42</th>\n",
       "      <td>Afghanistan</td>\n",
       "      <td>1842</td>\n",
       "      <td>504.16</td>\n",
       "    </tr>\n",
       "    <tr>\n",
       "      <th>43</th>\n",
       "      <td>Afghanistan</td>\n",
       "      <td>1843</td>\n",
       "      <td>505.30</td>\n",
       "    </tr>\n",
       "    <tr>\n",
       "      <th>44</th>\n",
       "      <td>Afghanistan</td>\n",
       "      <td>1844</td>\n",
       "      <td>506.44</td>\n",
       "    </tr>\n",
       "    <tr>\n",
       "      <th>45</th>\n",
       "      <td>Afghanistan</td>\n",
       "      <td>1845</td>\n",
       "      <td>507.59</td>\n",
       "    </tr>\n",
       "    <tr>\n",
       "      <th>46</th>\n",
       "      <td>Afghanistan</td>\n",
       "      <td>1846</td>\n",
       "      <td>508.74</td>\n",
       "    </tr>\n",
       "    <tr>\n",
       "      <th>47</th>\n",
       "      <td>Afghanistan</td>\n",
       "      <td>1847</td>\n",
       "      <td>509.89</td>\n",
       "    </tr>\n",
       "    <tr>\n",
       "      <th>48</th>\n",
       "      <td>Afghanistan</td>\n",
       "      <td>1848</td>\n",
       "      <td>511.05</td>\n",
       "    </tr>\n",
       "    <tr>\n",
       "      <th>49</th>\n",
       "      <td>Afghanistan</td>\n",
       "      <td>1849</td>\n",
       "      <td>512.21</td>\n",
       "    </tr>\n",
       "  </tbody>\n",
       "</table>\n",
       "</div>"
      ],
      "text/plain": [
       "           name  year   value\n",
       "0   Afghanistan  1800  480.75\n",
       "1   Afghanistan  1801  480.75\n",
       "2   Afghanistan  1802  480.75\n",
       "3   Afghanistan  1803  480.75\n",
       "4   Afghanistan  1804  480.75\n",
       "5   Afghanistan  1805  480.75\n",
       "6   Afghanistan  1806  480.75\n",
       "7   Afghanistan  1807  480.75\n",
       "8   Afghanistan  1808  480.75\n",
       "9   Afghanistan  1809  480.75\n",
       "10  Afghanistan  1810  480.75\n",
       "11  Afghanistan  1811  480.75\n",
       "12  Afghanistan  1812  480.75\n",
       "13  Afghanistan  1813  480.75\n",
       "14  Afghanistan  1814  480.75\n",
       "15  Afghanistan  1815  480.75\n",
       "16  Afghanistan  1816  480.75\n",
       "17  Afghanistan  1817  480.75\n",
       "18  Afghanistan  1818  480.75\n",
       "19  Afghanistan  1819  480.75\n",
       "20  Afghanistan  1820  480.75\n",
       "21  Afghanistan  1821  480.75\n",
       "22  Afghanistan  1822  481.84\n",
       "23  Afghanistan  1823  482.94\n",
       "24  Afghanistan  1824  484.03\n",
       "25  Afghanistan  1825  485.13\n",
       "26  Afghanistan  1826  486.23\n",
       "27  Afghanistan  1827  487.33\n",
       "28  Afghanistan  1828  488.43\n",
       "29  Afghanistan  1829  489.54\n",
       "30  Afghanistan  1830  490.65\n",
       "31  Afghanistan  1831  491.76\n",
       "32  Afghanistan  1832  492.87\n",
       "33  Afghanistan  1833  493.99\n",
       "34  Afghanistan  1834  495.11\n",
       "35  Afghanistan  1835  496.23\n",
       "36  Afghanistan  1836  497.36\n",
       "37  Afghanistan  1837  498.48\n",
       "38  Afghanistan  1838  499.61\n",
       "39  Afghanistan  1839  500.74\n",
       "40  Afghanistan  1840  501.88\n",
       "41  Afghanistan  1841  503.02\n",
       "42  Afghanistan  1842  504.16\n",
       "43  Afghanistan  1843  505.30\n",
       "44  Afghanistan  1844  506.44\n",
       "45  Afghanistan  1845  507.59\n",
       "46  Afghanistan  1846  508.74\n",
       "47  Afghanistan  1847  509.89\n",
       "48  Afghanistan  1848  511.05\n",
       "49  Afghanistan  1849  512.21"
      ]
     },
     "execution_count": 60,
     "metadata": {},
     "output_type": "execute_result"
    }
   ],
   "source": [
    "# Reduzir renda per capita para 2 casas decimais\n",
    "base_gdp_ajustado['value'] = base_gdp_ajustado['value'].round(2)\n",
    "base_gdp_ajustado.head(50)"
   ]
  },
  {
   "cell_type": "code",
   "execution_count": 61,
   "id": "14bc8e02",
   "metadata": {},
   "outputs": [
    {
     "data": {
      "application/vnd.microsoft.datawrangler.viewer.v0+json": {
       "columns": [
        {
         "name": "index",
         "rawType": "int64",
         "type": "integer"
        },
        {
         "name": "country",
         "rawType": "object",
         "type": "string"
        },
        {
         "name": "year",
         "rawType": "int64",
         "type": "integer"
        },
        {
         "name": "gdpPerCaptaInflactionAdjusted",
         "rawType": "float64",
         "type": "float"
        }
       ],
       "ref": "a6e2eae2-3a32-4d7d-99bc-c5fe8e32f0ac",
       "rows": [
        [
         "0",
         "Afghanistan",
         "1800",
         "480.75"
        ],
        [
         "1",
         "Afghanistan",
         "1801",
         "480.75"
        ],
        [
         "2",
         "Afghanistan",
         "1802",
         "480.75"
        ],
        [
         "3",
         "Afghanistan",
         "1803",
         "480.75"
        ],
        [
         "4",
         "Afghanistan",
         "1804",
         "480.75"
        ],
        [
         "5",
         "Afghanistan",
         "1805",
         "480.75"
        ],
        [
         "6",
         "Afghanistan",
         "1806",
         "480.75"
        ],
        [
         "7",
         "Afghanistan",
         "1807",
         "480.75"
        ],
        [
         "8",
         "Afghanistan",
         "1808",
         "480.75"
        ],
        [
         "9",
         "Afghanistan",
         "1809",
         "480.75"
        ],
        [
         "10",
         "Afghanistan",
         "1810",
         "480.75"
        ],
        [
         "11",
         "Afghanistan",
         "1811",
         "480.75"
        ],
        [
         "12",
         "Afghanistan",
         "1812",
         "480.75"
        ],
        [
         "13",
         "Afghanistan",
         "1813",
         "480.75"
        ],
        [
         "14",
         "Afghanistan",
         "1814",
         "480.75"
        ],
        [
         "15",
         "Afghanistan",
         "1815",
         "480.75"
        ],
        [
         "16",
         "Afghanistan",
         "1816",
         "480.75"
        ],
        [
         "17",
         "Afghanistan",
         "1817",
         "480.75"
        ],
        [
         "18",
         "Afghanistan",
         "1818",
         "480.75"
        ],
        [
         "19",
         "Afghanistan",
         "1819",
         "480.75"
        ],
        [
         "20",
         "Afghanistan",
         "1820",
         "480.75"
        ],
        [
         "21",
         "Afghanistan",
         "1821",
         "480.75"
        ],
        [
         "22",
         "Afghanistan",
         "1822",
         "481.84"
        ],
        [
         "23",
         "Afghanistan",
         "1823",
         "482.94"
        ],
        [
         "24",
         "Afghanistan",
         "1824",
         "484.03"
        ],
        [
         "25",
         "Afghanistan",
         "1825",
         "485.13"
        ],
        [
         "26",
         "Afghanistan",
         "1826",
         "486.23"
        ],
        [
         "27",
         "Afghanistan",
         "1827",
         "487.33"
        ],
        [
         "28",
         "Afghanistan",
         "1828",
         "488.43"
        ],
        [
         "29",
         "Afghanistan",
         "1829",
         "489.54"
        ],
        [
         "30",
         "Afghanistan",
         "1830",
         "490.65"
        ],
        [
         "31",
         "Afghanistan",
         "1831",
         "491.76"
        ],
        [
         "32",
         "Afghanistan",
         "1832",
         "492.87"
        ],
        [
         "33",
         "Afghanistan",
         "1833",
         "493.99"
        ],
        [
         "34",
         "Afghanistan",
         "1834",
         "495.11"
        ],
        [
         "35",
         "Afghanistan",
         "1835",
         "496.23"
        ],
        [
         "36",
         "Afghanistan",
         "1836",
         "497.36"
        ],
        [
         "37",
         "Afghanistan",
         "1837",
         "498.48"
        ],
        [
         "38",
         "Afghanistan",
         "1838",
         "499.61"
        ],
        [
         "39",
         "Afghanistan",
         "1839",
         "500.74"
        ],
        [
         "40",
         "Afghanistan",
         "1840",
         "501.88"
        ],
        [
         "41",
         "Afghanistan",
         "1841",
         "503.02"
        ],
        [
         "42",
         "Afghanistan",
         "1842",
         "504.16"
        ],
        [
         "43",
         "Afghanistan",
         "1843",
         "505.3"
        ],
        [
         "44",
         "Afghanistan",
         "1844",
         "506.44"
        ],
        [
         "45",
         "Afghanistan",
         "1845",
         "507.59"
        ],
        [
         "46",
         "Afghanistan",
         "1846",
         "508.74"
        ],
        [
         "47",
         "Afghanistan",
         "1847",
         "509.89"
        ],
        [
         "48",
         "Afghanistan",
         "1848",
         "511.05"
        ],
        [
         "49",
         "Afghanistan",
         "1849",
         "512.21"
        ]
       ],
       "shape": {
        "columns": 3,
        "rows": 58093
       }
      },
      "text/html": [
       "<div>\n",
       "<style scoped>\n",
       "    .dataframe tbody tr th:only-of-type {\n",
       "        vertical-align: middle;\n",
       "    }\n",
       "\n",
       "    .dataframe tbody tr th {\n",
       "        vertical-align: top;\n",
       "    }\n",
       "\n",
       "    .dataframe thead th {\n",
       "        text-align: right;\n",
       "    }\n",
       "</style>\n",
       "<table border=\"1\" class=\"dataframe\">\n",
       "  <thead>\n",
       "    <tr style=\"text-align: right;\">\n",
       "      <th></th>\n",
       "      <th>country</th>\n",
       "      <th>year</th>\n",
       "      <th>gdpPerCaptaInflactionAdjusted</th>\n",
       "    </tr>\n",
       "  </thead>\n",
       "  <tbody>\n",
       "    <tr>\n",
       "      <th>0</th>\n",
       "      <td>Afghanistan</td>\n",
       "      <td>1800</td>\n",
       "      <td>480.75</td>\n",
       "    </tr>\n",
       "    <tr>\n",
       "      <th>1</th>\n",
       "      <td>Afghanistan</td>\n",
       "      <td>1801</td>\n",
       "      <td>480.75</td>\n",
       "    </tr>\n",
       "    <tr>\n",
       "      <th>2</th>\n",
       "      <td>Afghanistan</td>\n",
       "      <td>1802</td>\n",
       "      <td>480.75</td>\n",
       "    </tr>\n",
       "    <tr>\n",
       "      <th>3</th>\n",
       "      <td>Afghanistan</td>\n",
       "      <td>1803</td>\n",
       "      <td>480.75</td>\n",
       "    </tr>\n",
       "    <tr>\n",
       "      <th>4</th>\n",
       "      <td>Afghanistan</td>\n",
       "      <td>1804</td>\n",
       "      <td>480.75</td>\n",
       "    </tr>\n",
       "    <tr>\n",
       "      <th>...</th>\n",
       "      <td>...</td>\n",
       "      <td>...</td>\n",
       "      <td>...</td>\n",
       "    </tr>\n",
       "    <tr>\n",
       "      <th>58088</th>\n",
       "      <td>Zimbabwe</td>\n",
       "      <td>2096</td>\n",
       "      <td>11098.81</td>\n",
       "    </tr>\n",
       "    <tr>\n",
       "      <th>58089</th>\n",
       "      <td>Zimbabwe</td>\n",
       "      <td>2097</td>\n",
       "      <td>11369.25</td>\n",
       "    </tr>\n",
       "    <tr>\n",
       "      <th>58090</th>\n",
       "      <td>Zimbabwe</td>\n",
       "      <td>2098</td>\n",
       "      <td>11645.84</td>\n",
       "    </tr>\n",
       "    <tr>\n",
       "      <th>58091</th>\n",
       "      <td>Zimbabwe</td>\n",
       "      <td>2099</td>\n",
       "      <td>11928.66</td>\n",
       "    </tr>\n",
       "    <tr>\n",
       "      <th>58092</th>\n",
       "      <td>Zimbabwe</td>\n",
       "      <td>2100</td>\n",
       "      <td>12217.78</td>\n",
       "    </tr>\n",
       "  </tbody>\n",
       "</table>\n",
       "<p>58093 rows × 3 columns</p>\n",
       "</div>"
      ],
      "text/plain": [
       "           country  year  gdpPerCaptaInflactionAdjusted\n",
       "0      Afghanistan  1800                         480.75\n",
       "1      Afghanistan  1801                         480.75\n",
       "2      Afghanistan  1802                         480.75\n",
       "3      Afghanistan  1803                         480.75\n",
       "4      Afghanistan  1804                         480.75\n",
       "...            ...   ...                            ...\n",
       "58088     Zimbabwe  2096                       11098.81\n",
       "58089     Zimbabwe  2097                       11369.25\n",
       "58090     Zimbabwe  2098                       11645.84\n",
       "58091     Zimbabwe  2099                       11928.66\n",
       "58092     Zimbabwe  2100                       12217.78\n",
       "\n",
       "[58093 rows x 3 columns]"
      ]
     },
     "execution_count": 61,
     "metadata": {},
     "output_type": "execute_result"
    }
   ],
   "source": [
    "#Renomear as colunas pra manter o padrão\n",
    "rename_one_column(base_gdp_ajustado, old_name='name', new_name='country', inplace=True)\n",
    "rename_one_column(base_gdp_ajustado, old_name='value', new_name='gdpPerCaptaInflactionAdjusted', inplace=True)"
   ]
  },
  {
   "cell_type": "code",
   "execution_count": 62,
   "id": "66f4a675",
   "metadata": {},
   "outputs": [
    {
     "name": "stdout",
     "output_type": "stream",
     "text": [
      "Dataframes unidos com sucesso! \n",
      "Dimensão: (1704, 12)\n"
     ]
    },
    {
     "data": {
      "application/vnd.microsoft.datawrangler.viewer.v0+json": {
       "columns": [
        {
         "name": "index",
         "rawType": "int64",
         "type": "integer"
        },
        {
         "name": "country",
         "rawType": "object",
         "type": "string"
        },
        {
         "name": "year",
         "rawType": "int64",
         "type": "integer"
        },
        {
         "name": "pop",
         "rawType": "object",
         "type": "string"
        },
        {
         "name": "continent",
         "rawType": "object",
         "type": "string"
        },
        {
         "name": "lifeExp",
         "rawType": "float64",
         "type": "float"
        },
        {
         "name": "gdpPercap",
         "rawType": "float64",
         "type": "float"
        },
        {
         "name": "oneSidedViolence",
         "rawType": "float64",
         "type": "float"
        },
        {
         "name": "nonStateConflict",
         "rawType": "float64",
         "type": "float"
        },
        {
         "name": "extrasystemic",
         "rawType": "float64",
         "type": "float"
        },
        {
         "name": "intrastate",
         "rawType": "float64",
         "type": "float"
        },
        {
         "name": "interstate",
         "rawType": "float64",
         "type": "float"
        },
        {
         "name": "gdpPerCaptaInflactionAdjusted",
         "rawType": "float64",
         "type": "float"
        }
       ],
       "ref": "5c474e7c-e215-422d-8e17-b4a01562bedb",
       "rows": [
        [
         "0",
         "Afghanistan",
         "1952",
         "8.425.333",
         "Asia",
         "28.8",
         "779.45",
         null,
         null,
         null,
         null,
         null,
         "1540.11"
        ],
        [
         "1",
         "Afghanistan",
         "1957",
         "9.240.934",
         "Asia",
         "30.3",
         "820.85",
         null,
         null,
         null,
         null,
         null,
         "1708.81"
        ],
        [
         "2",
         "Afghanistan",
         "1962",
         "10.267.083",
         "Asia",
         "32.0",
         "853.1",
         null,
         null,
         null,
         null,
         null,
         "1869.5"
        ],
        [
         "3",
         "Afghanistan",
         "1967",
         "11.537.966",
         "Asia",
         "34.0",
         "836.2",
         null,
         null,
         null,
         null,
         null,
         "1930.54"
        ],
        [
         "4",
         "Afghanistan",
         "1972",
         "13.079.460",
         "Asia",
         "36.1",
         "739.98",
         null,
         null,
         null,
         null,
         null,
         "1602.84"
        ]
       ],
       "shape": {
        "columns": 12,
        "rows": 5
       }
      },
      "text/html": [
       "<div>\n",
       "<style scoped>\n",
       "    .dataframe tbody tr th:only-of-type {\n",
       "        vertical-align: middle;\n",
       "    }\n",
       "\n",
       "    .dataframe tbody tr th {\n",
       "        vertical-align: top;\n",
       "    }\n",
       "\n",
       "    .dataframe thead th {\n",
       "        text-align: right;\n",
       "    }\n",
       "</style>\n",
       "<table border=\"1\" class=\"dataframe\">\n",
       "  <thead>\n",
       "    <tr style=\"text-align: right;\">\n",
       "      <th></th>\n",
       "      <th>country</th>\n",
       "      <th>year</th>\n",
       "      <th>pop</th>\n",
       "      <th>continent</th>\n",
       "      <th>lifeExp</th>\n",
       "      <th>gdpPercap</th>\n",
       "      <th>oneSidedViolence</th>\n",
       "      <th>nonStateConflict</th>\n",
       "      <th>extrasystemic</th>\n",
       "      <th>intrastate</th>\n",
       "      <th>interstate</th>\n",
       "      <th>gdpPerCaptaInflactionAdjusted</th>\n",
       "    </tr>\n",
       "  </thead>\n",
       "  <tbody>\n",
       "    <tr>\n",
       "      <th>0</th>\n",
       "      <td>Afghanistan</td>\n",
       "      <td>1952</td>\n",
       "      <td>8.425.333</td>\n",
       "      <td>Asia</td>\n",
       "      <td>28.8</td>\n",
       "      <td>779.45</td>\n",
       "      <td>NaN</td>\n",
       "      <td>NaN</td>\n",
       "      <td>NaN</td>\n",
       "      <td>NaN</td>\n",
       "      <td>NaN</td>\n",
       "      <td>1540.11</td>\n",
       "    </tr>\n",
       "    <tr>\n",
       "      <th>1</th>\n",
       "      <td>Afghanistan</td>\n",
       "      <td>1957</td>\n",
       "      <td>9.240.934</td>\n",
       "      <td>Asia</td>\n",
       "      <td>30.3</td>\n",
       "      <td>820.85</td>\n",
       "      <td>NaN</td>\n",
       "      <td>NaN</td>\n",
       "      <td>NaN</td>\n",
       "      <td>NaN</td>\n",
       "      <td>NaN</td>\n",
       "      <td>1708.81</td>\n",
       "    </tr>\n",
       "    <tr>\n",
       "      <th>2</th>\n",
       "      <td>Afghanistan</td>\n",
       "      <td>1962</td>\n",
       "      <td>10.267.083</td>\n",
       "      <td>Asia</td>\n",
       "      <td>32.0</td>\n",
       "      <td>853.10</td>\n",
       "      <td>NaN</td>\n",
       "      <td>NaN</td>\n",
       "      <td>NaN</td>\n",
       "      <td>NaN</td>\n",
       "      <td>NaN</td>\n",
       "      <td>1869.50</td>\n",
       "    </tr>\n",
       "    <tr>\n",
       "      <th>3</th>\n",
       "      <td>Afghanistan</td>\n",
       "      <td>1967</td>\n",
       "      <td>11.537.966</td>\n",
       "      <td>Asia</td>\n",
       "      <td>34.0</td>\n",
       "      <td>836.20</td>\n",
       "      <td>NaN</td>\n",
       "      <td>NaN</td>\n",
       "      <td>NaN</td>\n",
       "      <td>NaN</td>\n",
       "      <td>NaN</td>\n",
       "      <td>1930.54</td>\n",
       "    </tr>\n",
       "    <tr>\n",
       "      <th>4</th>\n",
       "      <td>Afghanistan</td>\n",
       "      <td>1972</td>\n",
       "      <td>13.079.460</td>\n",
       "      <td>Asia</td>\n",
       "      <td>36.1</td>\n",
       "      <td>739.98</td>\n",
       "      <td>NaN</td>\n",
       "      <td>NaN</td>\n",
       "      <td>NaN</td>\n",
       "      <td>NaN</td>\n",
       "      <td>NaN</td>\n",
       "      <td>1602.84</td>\n",
       "    </tr>\n",
       "  </tbody>\n",
       "</table>\n",
       "</div>"
      ],
      "text/plain": [
       "       country  year         pop continent  lifeExp  gdpPercap  \\\n",
       "0  Afghanistan  1952   8.425.333      Asia     28.8     779.45   \n",
       "1  Afghanistan  1957   9.240.934      Asia     30.3     820.85   \n",
       "2  Afghanistan  1962  10.267.083      Asia     32.0     853.10   \n",
       "3  Afghanistan  1967  11.537.966      Asia     34.0     836.20   \n",
       "4  Afghanistan  1972  13.079.460      Asia     36.1     739.98   \n",
       "\n",
       "   oneSidedViolence  nonStateConflict  extrasystemic  intrastate  interstate  \\\n",
       "0               NaN               NaN            NaN         NaN         NaN   \n",
       "1               NaN               NaN            NaN         NaN         NaN   \n",
       "2               NaN               NaN            NaN         NaN         NaN   \n",
       "3               NaN               NaN            NaN         NaN         NaN   \n",
       "4               NaN               NaN            NaN         NaN         NaN   \n",
       "\n",
       "   gdpPerCaptaInflactionAdjusted  \n",
       "0                        1540.11  \n",
       "1                        1708.81  \n",
       "2                        1869.50  \n",
       "3                        1930.54  \n",
       "4                        1602.84  "
      ]
     },
     "execution_count": 62,
     "metadata": {},
     "output_type": "execute_result"
    }
   ],
   "source": [
    "#Agora a gente junta as 2 bases pra ver no que dá\n",
    "juncao = junta_dataframes(juncao, base_gdp_ajustado, chave=['country', 'year'], tipo_juncao='left')\n",
    "juncao.head()"
   ]
  },
  {
   "cell_type": "code",
   "execution_count": 63,
   "id": "a322d5ea",
   "metadata": {},
   "outputs": [
    {
     "name": "stdout",
     "output_type": "stream",
     "text": [
      "Exportando o dataframe para o arquivo: ../../avaliacao-python-ciencia-dados/Bases/tratada/gapminder_tratada.csv ...\n",
      "Dataframe exportado com sucesso!\n",
      "Exportando o dataframe para o arquivo: ../../avaliacao-python-ciencia-dados/Bases/tratada/mortes_guerra_tratada.csv ...\n",
      "Dataframe exportado com sucesso!\n",
      "Exportando o dataframe para o arquivo: ../../avaliacao-python-ciencia-dados/Bases/tratada/gdp_ajustado_inflacao_tratada.csv ...\n",
      "Dataframe exportado com sucesso!\n",
      "Exportando o dataframe para o arquivo: ../../avaliacao-python-ciencia-dados/Bases/tratada/gapminder_juncao_tratada.csv ...\n",
      "Dataframe exportado com sucesso!\n"
     ]
    }
   ],
   "source": [
    "#Escreve o arquivo em uma base tratada\n",
    "exporta_csv(base_limpa, '../../avaliacao-python-ciencia-dados/Bases/tratada/gapminder_tratada.csv', separador=';', encoding='utf-8', index=False)\n",
    "exporta_csv(mortes_guerra, '../../avaliacao-python-ciencia-dados/Bases/tratada/mortes_guerra_tratada.csv', separador=';', encoding='utf-8', index=False)\n",
    "exporta_csv(base_gdp_ajustado, '../../avaliacao-python-ciencia-dados/Bases/tratada/gdp_ajustado_inflacao_tratada.csv', separador=';', encoding='utf-8', index=False)\n",
    "exporta_csv(juncao, '../../avaliacao-python-ciencia-dados/Bases/tratada/gapminder_juncao_tratada.csv', separador=';', encoding='utf-8', index=False)\n"
   ]
  },
  {
   "cell_type": "markdown",
   "metadata": {},
   "source": [
    "---\n",
    "## 3. Funções de Visualização e Análise Gráfica\n",
    "\n",
    "### Objetivo\n",
    "Criar funções reutilizáveis para gerar gráficos e apoiar a análise.\n",
    "\n",
    "### Itens a incluir\n",
    "- Definição de **funções dinâmicas** para gráficos (usando parâmetros flexíveis).  \n",
    "- Tipos de gráficos recomendados:\n",
    "  - Evolução temporal (ex: expectativa de vida ao longo dos anos).  \n",
    "  - Comparações entre continentes.  \n",
    "  - Relações entre PIB per capita, expectativa de vida e população.  \n",
    "- Exemplos de uso das funções com resultados visuais.  \n",
    "\n",
    "### Markdown deve conter\n",
    "- Explicação do propósito de cada função.  \n",
    "- Descrição dos tipos de visualizações utilizadas.  \n",
    "- Observações sobre padrões ou correlações identificadas."
   ]
  },
  {
   "cell_type": "markdown",
   "metadata": {},
   "source": [
    "---\n",
    "## 4. Interpretação das Visualizações\n",
    "\n",
    "### Objetivo\n",
    "Interpretar criticamente os dados com base nos gráficos e tabelas.\n",
    "\n",
    "### Itens a incluir\n",
    "- Explicação de cada gráfico gerado.  \n",
    "- Justificativa da escolha do tipo de visualização.  \n",
    "- Interpretação dos resultados observados.  \n",
    "- Discussão sobre **tendências globais** e **diferenças regionais**."
   ]
  },
  {
   "cell_type": "markdown",
   "metadata": {},
   "source": [
    "---\n",
    "## 5. Síntese dos Principais Insights\n",
    "\n",
    "### Objetivo\n",
    "Resumir os principais achados da análise.\n",
    "\n",
    "### Itens a incluir\n",
    "- **Padrões e tendências principais** (ex: crescimento da expectativa de vida, desigualdade econômica).  \n",
    "- **Anomalias** ou exceções notáveis.  \n",
    "- **Correlação** entre os indicadores analisados (PIB, população, expectativa de vida).  \n",
    "\n",
    "### Markdown deve conter\n",
    "- **Resumo analítico** dos resultados obtidos.  \n",
    "- **Aplicações práticas**:\n",
    "  - Implicações para políticas públicas.  \n",
    "  - Relação com o desenvolvimento social e econômico.  \n",
    "  - Observações sobre desigualdade global."
   ]
  },
  {
   "cell_type": "markdown",
   "metadata": {},
   "source": [
    "---\n",
    "## 6. Conclusão e Reflexão\n",
    "\n",
    "### Objetivo\n",
    "Refletir sobre o processo de análise e o aprendizado obtido.\n",
    "\n",
    "### Itens a incluir\n",
    "- **Maiores desafios enfrentados** durante o trabalho.  \n",
    "- **Principais aprendizados** obtidos.  \n",
    "- **Habilidades desenvolvidas** (técnicas e analíticas).  \n",
    "- **Reflexão final** sobre o impacto e relevância da análise."
   ]
  },
  {
   "cell_type": "markdown",
   "id": "296edc43",
   "metadata": {},
   "source": [
    "#### Membros\n",
    "1. Andre Augusto Ferreira Cabelo\n",
    "2. Bruno Braga Guedes Cardoso\n",
    "3. Bruno dos Santos Crivelli\n",
    "4. Marcelo Tranche de Souza Junior"
   ]
  },
  {
   "cell_type": "markdown",
   "id": "adf6af3a",
   "metadata": {},
   "source": [
    "### Adicionando a importação do arquivo Utils"
   ]
  }
 ],
 "metadata": {
  "kernelspec": {
   "display_name": "PUCMINAS_PPCDD",
   "language": "python",
   "name": "python3"
  },
  "language_info": {
   "codemirror_mode": {
    "name": "ipython",
    "version": 3
   },
   "file_extension": ".py",
   "mimetype": "text/x-python",
   "name": "python",
   "nbconvert_exporter": "python",
   "pygments_lexer": "ipython3",
   "version": "3.13.7"
  }
 },
 "nbformat": 4,
 "nbformat_minor": 5
}
