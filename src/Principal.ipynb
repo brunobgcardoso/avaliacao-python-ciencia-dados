{
 "cells": [
  {
   "cell_type": "markdown",
   "id": "e48df13c",
   "metadata": {},
   "source": [
    "<font color=\"#0D9DF0\"><h3><B>Trabalho Final - Python para Ciência de Dados</b></h3></font>\n",
    "***"
   ]
  },
  {
   "cell_type": "code",
   "execution_count": null,
   "id": "9b679e31",
   "metadata": {},
   "outputs": [],
   "source": [
    "import sys\n",
    "sys.path.append('../utils/')\n",
    "\n",
    "from src.data_analisys.data_info import *"
   ]
  },
  {
   "cell_type": "markdown",
   "metadata": {},
   "source": [
    "# 🧠 Análise do Desenvolvimento Humano e Econômico Global com Base no Dataset Gapminder\n",
    "\n",
    "---\n",
    "\n",
    "## 1. Título e Introdução\n",
    "\n",
    "- Apresente o **tema do projeto**.  \n",
    "- Descreva **brevemente os objetivos da análise**.  \n",
    "- Explique o **contexto da base de dados Gapminder**.  \n",
    "- Liste as **etapas que serão realizadas** no notebook."
   ]
  },
  {
   "cell_type": "markdown",
   "metadata": {},
   "source": [
    "---\n",
    "## 2. Coleta, Limpeza e Análise Exploratória (AED)\n",
    "\n",
    "### Objetivo\n",
    "Preparar os dados, tratando inconsistências e identificando padrões iniciais.\n",
    "\n",
    "### Itens a incluir\n",
    "- **Carregamento do dataset** Gapminder.  \n",
    "- **Verificação de valores ausentes**.  \n",
    "- **Remoção de duplicados**.  \n",
    "- **Análise estatística descritiva inicial** (médias, medianas, desvios etc.).  \n",
    "- **Visualizações exploratórias básicas** (ex: histogramas, boxplots, contagens por continente).  \n",
    "\n",
    "### Markdown deve conter\n",
    "- Justificativas das decisões tomadas.  \n",
    "- Observações sobre a qualidade dos dados.  \n",
    "- Interpretação dos primeiros resultados."
   ]
  },
  {
   "cell_type": "markdown",
   "metadata": {},
   "source": [
    "---\n",
    "## 3. Funções de Visualização e Análise Gráfica\n",
    "\n",
    "### Objetivo\n",
    "Criar funções reutilizáveis para gerar gráficos e apoiar a análise.\n",
    "\n",
    "### Itens a incluir\n",
    "- Definição de **funções dinâmicas** para gráficos (usando parâmetros flexíveis).  \n",
    "- Tipos de gráficos recomendados:\n",
    "  - Evolução temporal (ex: expectativa de vida ao longo dos anos).  \n",
    "  - Comparações entre continentes.  \n",
    "  - Relações entre PIB per capita, expectativa de vida e população.  \n",
    "- Exemplos de uso das funções com resultados visuais.  \n",
    "\n",
    "### Markdown deve conter\n",
    "- Explicação do propósito de cada função.  \n",
    "- Descrição dos tipos de visualizações utilizadas.  \n",
    "- Observações sobre padrões ou correlações identificadas."
   ]
  },
  {
   "cell_type": "markdown",
   "metadata": {},
   "source": [
    "---\n",
    "## 4. Interpretação das Visualizações\n",
    "\n",
    "### Objetivo\n",
    "Interpretar criticamente os dados com base nos gráficos e tabelas.\n",
    "\n",
    "### Itens a incluir\n",
    "- Explicação de cada gráfico gerado.  \n",
    "- Justificativa da escolha do tipo de visualização.  \n",
    "- Interpretação dos resultados observados.  \n",
    "- Discussão sobre **tendências globais** e **diferenças regionais**."
   ]
  },
  {
   "cell_type": "markdown",
   "metadata": {},
   "source": [
    "---\n",
    "## 5. Síntese dos Principais Insights\n",
    "\n",
    "### Objetivo\n",
    "Resumir os principais achados da análise.\n",
    "\n",
    "### Itens a incluir\n",
    "- **Padrões e tendências principais** (ex: crescimento da expectativa de vida, desigualdade econômica).  \n",
    "- **Anomalias** ou exceções notáveis.  \n",
    "- **Correlação** entre os indicadores analisados (PIB, população, expectativa de vida).  \n",
    "\n",
    "### Markdown deve conter\n",
    "- **Resumo analítico** dos resultados obtidos.  \n",
    "- **Aplicações práticas**:\n",
    "  - Implicações para políticas públicas.  \n",
    "  - Relação com o desenvolvimento social e econômico.  \n",
    "  - Observações sobre desigualdade global."
   ]
  },
  {
   "cell_type": "markdown",
   "metadata": {},
   "source": [
    "---\n",
    "## 6. Conclusão e Reflexão\n",
    "\n",
    "### Objetivo\n",
    "Refletir sobre o processo de análise e o aprendizado obtido.\n",
    "\n",
    "### Itens a incluir\n",
    "- **Maiores desafios enfrentados** durante o trabalho.  \n",
    "- **Principais aprendizados** obtidos.  \n",
    "- **Habilidades desenvolvidas** (técnicas e analíticas).  \n",
    "- **Reflexão final** sobre o impacto e relevância da análise."
   ]
  },
  {
   "cell_type": "markdown",
   "metadata": {},
   "source": [
    "---\n",
    "## ⚙️ Bônus (Itens Opcionais)\n",
    "\n",
    "### Modularização de Código\n",
    "- Uso de **funções bem definidas** e código limpo.  \n",
    "- Estrutura modular e reutilizável.\n",
    "\n",
    "### Integração com Outras Bases de Dados\n",
    "- Inclusão de **fontes externas relevantes** (ex: IDH, educação, meio ambiente).  \n",
    "- Indicar claramente:\n",
    "  - Nome e origem da base adicional.  \n",
    "  - Como ela complementa o estudo.  \n",
    "  - Insights adicionais obtidos."
   ]
  },
  {
   "cell_type": "markdown",
   "metadata": {},
   "source": [
    "---\n",
    "## 🚫 Penalizações Importantes\n",
    "\n",
    "- **Proibido uso de IA generativa** para gerar código ou análises.  \n",
    "- O trabalho deve refletir **entendimento autoral** do aluno.  \n",
    "- Seguir a estrutura sugerida é **obrigatório** para evitar perda de nota."
   ]
  },
  {
   "cell_type": "markdown",
   "metadata": {},
   "source": [
    "---\n",
    "## 🧰 Ferramentas Sugeridas\n",
    "\n",
    "- **Pandas** → manipulação e análise de dados.  \n",
    "- **Matplotlib / Seaborn** → visualizações estáticas e interativas.  \n",
    "- **NumPy** → cálculos estatísticos.  \n",
    "- **Markdown** → documentação e explicações."
   ]
  },
  {
   "cell_type": "markdown",
   "metadata": {},
   "source": [
    "---\n",
    "## ✍️ Dicas de Documentação\n",
    "\n",
    "- Use **cabeçalhos e listas** para organizar o conteúdo.  \n",
    "- Escreva **explicações claras e concisas**.  \n",
    "- Comente o código de forma objetiva e funcional.  \n",
    "- Inclua **interpretações visuais e conclusões** em cada seção."
   ]
  }
 ],
 "metadata": {
  "kernelspec": {
   "display_name": "PUCMINAS_PPCDD",
   "language": "python",
   "name": "python3"
  },
  "language_info": {
   "name": "python",
   "version": "3.13.7"
  }
 },
 "nbformat": 4,
 "nbformat_minor": 5
}
