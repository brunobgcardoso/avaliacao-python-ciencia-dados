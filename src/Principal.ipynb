{
 "cells": [
  {
   "cell_type": "markdown",
   "id": "e48df13c",
   "metadata": {},
   "source": [
    "<font color=\"#0D9DF0\"><h3><B>Trabalho Final - Python para Ciência de Dados</b></h3></font>\n",
    "***"
   ]
  },
  {
   "cell_type": "markdown",
   "metadata": {},
   "source": [
    "# \n",
    "\n",
    "---\n",
    "## 1. Título e Introdução\n",
    "- Apresente o **tema do projeto**.\n",
    "    Análise do Desenvolvimento Humano e Econômico Global com base nos dados obtidos no site Gapminder\n",
    "\n",
    "- Descreva **brevemente os objetivos da análise**.\n",
    "    O objetivo da análise é averiguar o quanto índices de corrupção e guerras, por exemplo, resultam em um baixo desenvolvimento humano e qualidade de vida nos países\n",
    "\n",
    "- Explique o **contexto da base de dados Gapminder**.\n",
    "    A base reune métricas desde 1952 de fatores como renda per capta, expectativa de vida, continente e população\n",
    "\n",
    "- Liste as **etapas que serão realizadas** no notebook.\n",
    "    Coleta de dados\n",
    "    Limpeza e preparação\n",
    "    Análise e modelagem\n",
    "    Visualização\n",
    "    Interpretação\n",
    "    Síntese e Conclusão"
   ]
  },
  {
   "cell_type": "markdown",
   "metadata": {},
   "source": [
    "---\n",
    "## 2. Coleta, Limpeza e Análise Exploratória (AED)\n",
    "\n",
    "### Objetivo\n",
    "Preparar os dados, tratando inconsistências e identificando padrões iniciais.\n",
    "\n",
    "### Itens a incluir\n",
    "- **Carregamento do dataset** Gapminder.  \n",
    "- **Verificação de valores ausentes**.  \n",
    "- **Remoção de duplicados**.  \n",
    "- **Análise estatística descritiva inicial** (médias, medianas, desvios etc.).  \n",
    "- **Visualizações exploratórias básicas** (ex: histogramas, boxplots, contagens por continente).  \n",
    "\n",
    "### Markdown deve conter\n",
    "- Justificativas das decisões tomadas.  \n",
    "- Observações sobre a qualidade dos dados.  \n",
    "- Interpretação dos primeiros resultados."
   ]
  },
  {
   "cell_type": "markdown",
   "metadata": {},
   "source": [
    "---\n",
    "## 3. Funções de Visualização e Análise Gráfica\n",
    "\n",
    "### Objetivo\n",
    "Criar funções reutilizáveis para gerar gráficos e apoiar a análise.\n",
    "\n",
    "### Itens a incluir\n",
    "- Definição de **funções dinâmicas** para gráficos (usando parâmetros flexíveis).  \n",
    "- Tipos de gráficos recomendados:\n",
    "  - Evolução temporal (ex: expectativa de vida ao longo dos anos).  \n",
    "  - Comparações entre continentes.  \n",
    "  - Relações entre PIB per capita, expectativa de vida e população.  \n",
    "- Exemplos de uso das funções com resultados visuais.  \n",
    "\n",
    "### Markdown deve conter\n",
    "- Explicação do propósito de cada função.  \n",
    "- Descrição dos tipos de visualizações utilizadas.  \n",
    "- Observações sobre padrões ou correlações identificadas."
   ]
  },
  {
   "cell_type": "markdown",
   "metadata": {},
   "source": [
    "---\n",
    "## 4. Interpretação das Visualizações\n",
    "\n",
    "### Objetivo\n",
    "Interpretar criticamente os dados com base nos gráficos e tabelas.\n",
    "\n",
    "### Itens a incluir\n",
    "- Explicação de cada gráfico gerado.  \n",
    "- Justificativa da escolha do tipo de visualização.  \n",
    "- Interpretação dos resultados observados.  \n",
    "- Discussão sobre **tendências globais** e **diferenças regionais**."
   ]
  },
  {
   "cell_type": "markdown",
   "metadata": {},
   "source": [
    "---\n",
    "## 5. Síntese dos Principais Insights\n",
    "\n",
    "### Objetivo\n",
    "Resumir os principais achados da análise.\n",
    "\n",
    "### Itens a incluir\n",
    "- **Padrões e tendências principais** (ex: crescimento da expectativa de vida, desigualdade econômica).  \n",
    "- **Anomalias** ou exceções notáveis.  \n",
    "- **Correlação** entre os indicadores analisados (PIB, população, expectativa de vida).  \n",
    "\n",
    "### Markdown deve conter\n",
    "- **Resumo analítico** dos resultados obtidos.  \n",
    "- **Aplicações práticas**:\n",
    "  - Implicações para políticas públicas.  \n",
    "  - Relação com o desenvolvimento social e econômico.  \n",
    "  - Observações sobre desigualdade global."
   ]
  },
  {
   "cell_type": "markdown",
   "metadata": {},
   "source": [
    "---\n",
    "## 6. Conclusão e Reflexão\n",
    "\n",
    "### Objetivo\n",
    "Refletir sobre o processo de análise e o aprendizado obtido.\n",
    "\n",
    "### Itens a incluir\n",
    "- **Maiores desafios enfrentados** durante o trabalho.  \n",
    "- **Principais aprendizados** obtidos.  \n",
    "- **Habilidades desenvolvidas** (técnicas e analíticas).  \n",
    "- **Reflexão final** sobre o impacto e relevância da análise."
   ]
  },
  {
   "cell_type": "markdown",
   "id": "296edc43",
   "metadata": {},
   "source": [
    "#### Membros\n",
    "1. Andre Augusto Ferreira Cabelo\n",
    "2. Bruno Braga Guedes Cardoso\n",
    "3. Bruno dos Santos Crivelli\n",
    "4. Marcelo Tranche de Souza Junior"
   ]
  },
  {
   "cell_type": "markdown",
   "id": "adf6af3a",
   "metadata": {},
   "source": [
    "### Adicionando a importação do arquivo Utils"
   ]
  },
  {
   "cell_type": "code",
   "execution_count": 1,
   "id": "9b679e31",
   "metadata": {},
   "outputs": [],
   "source": [
    "import sys\n",
    "sys.path.append('../avaliacao-python-ciencia-dados/')\n",
    "\n",
    "from utils.data_info import *"
   ]
  },
  {
   "cell_type": "code",
   "execution_count": 2,
   "id": "ae6978da",
   "metadata": {},
   "outputs": [
    {
     "name": "stdout",
     "output_type": "stream",
     "text": [
      "Importando o dataframe: ../../avaliacao-python-ciencia-dados/Bases/gapminder_full.csv ...\n",
      "Dataframe importado com sucesso! \n",
      "Dimensão: (1736, 6)\n"
     ]
    },
    {
     "data": {
      "application/vnd.microsoft.datawrangler.viewer.v0+json": {
       "columns": [
        {
         "name": "index",
         "rawType": "int64",
         "type": "integer"
        },
        {
         "name": "country",
         "rawType": "object",
         "type": "string"
        },
        {
         "name": "year",
         "rawType": "int64",
         "type": "integer"
        },
        {
         "name": "pop",
         "rawType": "float64",
         "type": "float"
        },
        {
         "name": "continent",
         "rawType": "object",
         "type": "string"
        },
        {
         "name": "lifeExp",
         "rawType": "float64",
         "type": "float"
        },
        {
         "name": "gdpPercap",
         "rawType": "float64",
         "type": "float"
        }
       ],
       "ref": "8e1c564a-56ec-4485-ae7f-64cfad616edf",
       "rows": [
        [
         "0",
         "Afghanistan",
         "1952",
         "8425333.0",
         "Asia",
         "28.801",
         "779.4453145"
        ],
        [
         "1",
         "Afghanistan",
         "1957",
         "9240934.0",
         "Asia",
         "30.332",
         "820.8530296"
        ],
        [
         "2",
         "Afghanistan",
         "1962",
         "10267083.0",
         "Asia",
         "31.997",
         "853.10071"
        ],
        [
         "3",
         "Afghanistan",
         "1967",
         "11537966.0",
         "Asia",
         "34.02",
         "836.1971382"
        ],
        [
         "4",
         "Afghanistan",
         "1972",
         "13079460.0",
         "Asia",
         "36.088",
         "739.9811058"
        ]
       ],
       "shape": {
        "columns": 6,
        "rows": 5
       }
      },
      "text/html": [
       "<div>\n",
       "<style scoped>\n",
       "    .dataframe tbody tr th:only-of-type {\n",
       "        vertical-align: middle;\n",
       "    }\n",
       "\n",
       "    .dataframe tbody tr th {\n",
       "        vertical-align: top;\n",
       "    }\n",
       "\n",
       "    .dataframe thead th {\n",
       "        text-align: right;\n",
       "    }\n",
       "</style>\n",
       "<table border=\"1\" class=\"dataframe\">\n",
       "  <thead>\n",
       "    <tr style=\"text-align: right;\">\n",
       "      <th></th>\n",
       "      <th>country</th>\n",
       "      <th>year</th>\n",
       "      <th>pop</th>\n",
       "      <th>continent</th>\n",
       "      <th>lifeExp</th>\n",
       "      <th>gdpPercap</th>\n",
       "    </tr>\n",
       "  </thead>\n",
       "  <tbody>\n",
       "    <tr>\n",
       "      <th>0</th>\n",
       "      <td>Afghanistan</td>\n",
       "      <td>1952</td>\n",
       "      <td>8425333.0</td>\n",
       "      <td>Asia</td>\n",
       "      <td>28.801</td>\n",
       "      <td>779.445314</td>\n",
       "    </tr>\n",
       "    <tr>\n",
       "      <th>1</th>\n",
       "      <td>Afghanistan</td>\n",
       "      <td>1957</td>\n",
       "      <td>9240934.0</td>\n",
       "      <td>Asia</td>\n",
       "      <td>30.332</td>\n",
       "      <td>820.853030</td>\n",
       "    </tr>\n",
       "    <tr>\n",
       "      <th>2</th>\n",
       "      <td>Afghanistan</td>\n",
       "      <td>1962</td>\n",
       "      <td>10267083.0</td>\n",
       "      <td>Asia</td>\n",
       "      <td>31.997</td>\n",
       "      <td>853.100710</td>\n",
       "    </tr>\n",
       "    <tr>\n",
       "      <th>3</th>\n",
       "      <td>Afghanistan</td>\n",
       "      <td>1967</td>\n",
       "      <td>11537966.0</td>\n",
       "      <td>Asia</td>\n",
       "      <td>34.020</td>\n",
       "      <td>836.197138</td>\n",
       "    </tr>\n",
       "    <tr>\n",
       "      <th>4</th>\n",
       "      <td>Afghanistan</td>\n",
       "      <td>1972</td>\n",
       "      <td>13079460.0</td>\n",
       "      <td>Asia</td>\n",
       "      <td>36.088</td>\n",
       "      <td>739.981106</td>\n",
       "    </tr>\n",
       "  </tbody>\n",
       "</table>\n",
       "</div>"
      ],
      "text/plain": [
       "       country  year         pop continent  lifeExp   gdpPercap\n",
       "0  Afghanistan  1952   8425333.0      Asia   28.801  779.445314\n",
       "1  Afghanistan  1957   9240934.0      Asia   30.332  820.853030\n",
       "2  Afghanistan  1962  10267083.0      Asia   31.997  853.100710\n",
       "3  Afghanistan  1967  11537966.0      Asia   34.020  836.197138\n",
       "4  Afghanistan  1972  13079460.0      Asia   36.088  739.981106"
      ]
     },
     "execution_count": 2,
     "metadata": {},
     "output_type": "execute_result"
    }
   ],
   "source": [
    "base_gapminder = importa_csv(dataframe_name='../../avaliacao-python-ciencia-dados/Bases/gapminder_full.csv', separador=',', encoding='utf-8')\n",
    "base_gapminder.head()"
   ]
  },
  {
   "cell_type": "code",
   "execution_count": 3,
   "id": "ae3a605a",
   "metadata": {},
   "outputs": [
    {
     "data": {
      "application/vnd.microsoft.datawrangler.viewer.v0+json": {
       "columns": [
        {
         "name": "index",
         "rawType": "int64",
         "type": "integer"
        },
        {
         "name": "variavel_analisada",
         "rawType": "object",
         "type": "string"
        },
        {
         "name": "Quantidade",
         "rawType": "int64",
         "type": "integer"
        },
        {
         "name": "Percentual",
         "rawType": "object",
         "type": "string"
        }
       ],
       "ref": "5cd91d1a-bb3e-4edd-b03d-489be231bdb0",
       "rows": [],
       "shape": {
        "columns": 3,
        "rows": 0
       }
      },
      "text/html": [
       "<div>\n",
       "<style scoped>\n",
       "    .dataframe tbody tr th:only-of-type {\n",
       "        vertical-align: middle;\n",
       "    }\n",
       "\n",
       "    .dataframe tbody tr th {\n",
       "        vertical-align: top;\n",
       "    }\n",
       "\n",
       "    .dataframe thead th {\n",
       "        text-align: right;\n",
       "    }\n",
       "</style>\n",
       "<table border=\"1\" class=\"dataframe\">\n",
       "  <thead>\n",
       "    <tr style=\"text-align: right;\">\n",
       "      <th></th>\n",
       "      <th>variavel_analisada</th>\n",
       "      <th>Quantidade</th>\n",
       "      <th>Percentual</th>\n",
       "    </tr>\n",
       "  </thead>\n",
       "  <tbody>\n",
       "  </tbody>\n",
       "</table>\n",
       "</div>"
      ],
      "text/plain": [
       "Empty DataFrame\n",
       "Columns: [variavel_analisada, Quantidade, Percentual]\n",
       "Index: []"
      ]
     },
     "execution_count": 3,
     "metadata": {},
     "output_type": "execute_result"
    }
   ],
   "source": [
    "analisa_dados_ausentes(base_gapminder)"
   ]
  },
  {
   "cell_type": "code",
   "execution_count": 4,
   "id": "dfa0498c",
   "metadata": {},
   "outputs": [
    {
     "name": "stdout",
     "output_type": "stream",
     "text": [
      "Foram encontrados 32 registros duplicados\n",
      "\n",
      "Prévia dos dados duplicados:\n"
     ]
    },
    {
     "data": {
      "application/vnd.microsoft.datawrangler.viewer.v0+json": {
       "columns": [
        {
         "name": "index",
         "rawType": "int64",
         "type": "integer"
        },
        {
         "name": "country",
         "rawType": "object",
         "type": "string"
        },
        {
         "name": "year",
         "rawType": "int64",
         "type": "integer"
        },
        {
         "name": "pop",
         "rawType": "float64",
         "type": "float"
        },
        {
         "name": "continent",
         "rawType": "object",
         "type": "string"
        },
        {
         "name": "lifeExp",
         "rawType": "float64",
         "type": "float"
        },
        {
         "name": "gdpPercap",
         "rawType": "float64",
         "type": "float"
        }
       ],
       "ref": "f38ebf4c-7594-4f08-b99d-f0f3b7d88c26",
       "rows": [
        [
         "72",
         "Afghanistan",
         "1997",
         "22227415.0",
         "Asia",
         "41.763",
         "635.341351"
        ],
        [
         "145",
         "Bolivia",
         "1987",
         "6156369.0",
         "Americas",
         "57.251",
         "2753.69149"
        ],
        [
         "146",
         "Bolivia",
         "1992",
         "6893451.0",
         "Americas",
         "59.957",
         "2961.699694"
        ],
        [
         "147",
         "Bolivia",
         "1997",
         "7693188.0",
         "Americas",
         "62.05",
         "3326.143191"
        ],
        [
         "148",
         "Bolivia",
         "2002",
         "8445134.0",
         "Americas",
         "63.883",
         "3413.26269"
        ]
       ],
       "shape": {
        "columns": 6,
        "rows": 5
       }
      },
      "text/html": [
       "<div>\n",
       "<style scoped>\n",
       "    .dataframe tbody tr th:only-of-type {\n",
       "        vertical-align: middle;\n",
       "    }\n",
       "\n",
       "    .dataframe tbody tr th {\n",
       "        vertical-align: top;\n",
       "    }\n",
       "\n",
       "    .dataframe thead th {\n",
       "        text-align: right;\n",
       "    }\n",
       "</style>\n",
       "<table border=\"1\" class=\"dataframe\">\n",
       "  <thead>\n",
       "    <tr style=\"text-align: right;\">\n",
       "      <th></th>\n",
       "      <th>country</th>\n",
       "      <th>year</th>\n",
       "      <th>pop</th>\n",
       "      <th>continent</th>\n",
       "      <th>lifeExp</th>\n",
       "      <th>gdpPercap</th>\n",
       "    </tr>\n",
       "  </thead>\n",
       "  <tbody>\n",
       "    <tr>\n",
       "      <th>72</th>\n",
       "      <td>Afghanistan</td>\n",
       "      <td>1997</td>\n",
       "      <td>22227415.0</td>\n",
       "      <td>Asia</td>\n",
       "      <td>41.763</td>\n",
       "      <td>635.341351</td>\n",
       "    </tr>\n",
       "    <tr>\n",
       "      <th>145</th>\n",
       "      <td>Bolivia</td>\n",
       "      <td>1987</td>\n",
       "      <td>6156369.0</td>\n",
       "      <td>Americas</td>\n",
       "      <td>57.251</td>\n",
       "      <td>2753.691490</td>\n",
       "    </tr>\n",
       "    <tr>\n",
       "      <th>146</th>\n",
       "      <td>Bolivia</td>\n",
       "      <td>1992</td>\n",
       "      <td>6893451.0</td>\n",
       "      <td>Americas</td>\n",
       "      <td>59.957</td>\n",
       "      <td>2961.699694</td>\n",
       "    </tr>\n",
       "    <tr>\n",
       "      <th>147</th>\n",
       "      <td>Bolivia</td>\n",
       "      <td>1997</td>\n",
       "      <td>7693188.0</td>\n",
       "      <td>Americas</td>\n",
       "      <td>62.050</td>\n",
       "      <td>3326.143191</td>\n",
       "    </tr>\n",
       "    <tr>\n",
       "      <th>148</th>\n",
       "      <td>Bolivia</td>\n",
       "      <td>2002</td>\n",
       "      <td>8445134.0</td>\n",
       "      <td>Americas</td>\n",
       "      <td>63.883</td>\n",
       "      <td>3413.262690</td>\n",
       "    </tr>\n",
       "  </tbody>\n",
       "</table>\n",
       "</div>"
      ],
      "text/plain": [
       "         country  year         pop continent  lifeExp    gdpPercap\n",
       "72   Afghanistan  1997  22227415.0      Asia   41.763   635.341351\n",
       "145      Bolivia  1987   6156369.0  Americas   57.251  2753.691490\n",
       "146      Bolivia  1992   6893451.0  Americas   59.957  2961.699694\n",
       "147      Bolivia  1997   7693188.0  Americas   62.050  3326.143191\n",
       "148      Bolivia  2002   8445134.0  Americas   63.883  3413.262690"
      ]
     },
     "execution_count": 4,
     "metadata": {},
     "output_type": "execute_result"
    }
   ],
   "source": [
    "verifica_dados_duplicados(base_gapminder)\n"
   ]
  },
  {
   "cell_type": "code",
   "execution_count": 5,
   "id": "12d8d417",
   "metadata": {},
   "outputs": [
    {
     "name": "stdout",
     "output_type": "stream",
     "text": [
      "Removendo dados duplicados ...\n",
      "Foram encontrados 32 registros duplicados\n",
      "\n",
      "Prévia dos dados duplicados:\n",
      "Dados duplicados removidos com sucesso! \n",
      "Dimensão: (1704, 6)\n"
     ]
    },
    {
     "data": {
      "application/vnd.microsoft.datawrangler.viewer.v0+json": {
       "columns": [
        {
         "name": "index",
         "rawType": "int64",
         "type": "integer"
        },
        {
         "name": "country",
         "rawType": "object",
         "type": "string"
        },
        {
         "name": "year",
         "rawType": "int64",
         "type": "integer"
        },
        {
         "name": "pop",
         "rawType": "float64",
         "type": "float"
        },
        {
         "name": "continent",
         "rawType": "object",
         "type": "string"
        },
        {
         "name": "lifeExp",
         "rawType": "float64",
         "type": "float"
        },
        {
         "name": "gdpPercap",
         "rawType": "float64",
         "type": "float"
        }
       ],
       "ref": "73bb4856-6e9f-4360-9a1b-e38445264774",
       "rows": [
        [
         "0",
         "Afghanistan",
         "1952",
         "8425333.0",
         "Asia",
         "28.801",
         "779.4453145"
        ],
        [
         "1",
         "Afghanistan",
         "1957",
         "9240934.0",
         "Asia",
         "30.332",
         "820.8530296"
        ],
        [
         "2",
         "Afghanistan",
         "1962",
         "10267083.0",
         "Asia",
         "31.997",
         "853.10071"
        ],
        [
         "3",
         "Afghanistan",
         "1967",
         "11537966.0",
         "Asia",
         "34.02",
         "836.1971382"
        ],
        [
         "4",
         "Afghanistan",
         "1972",
         "13079460.0",
         "Asia",
         "36.088",
         "739.9811058"
        ]
       ],
       "shape": {
        "columns": 6,
        "rows": 5
       }
      },
      "text/html": [
       "<div>\n",
       "<style scoped>\n",
       "    .dataframe tbody tr th:only-of-type {\n",
       "        vertical-align: middle;\n",
       "    }\n",
       "\n",
       "    .dataframe tbody tr th {\n",
       "        vertical-align: top;\n",
       "    }\n",
       "\n",
       "    .dataframe thead th {\n",
       "        text-align: right;\n",
       "    }\n",
       "</style>\n",
       "<table border=\"1\" class=\"dataframe\">\n",
       "  <thead>\n",
       "    <tr style=\"text-align: right;\">\n",
       "      <th></th>\n",
       "      <th>country</th>\n",
       "      <th>year</th>\n",
       "      <th>pop</th>\n",
       "      <th>continent</th>\n",
       "      <th>lifeExp</th>\n",
       "      <th>gdpPercap</th>\n",
       "    </tr>\n",
       "  </thead>\n",
       "  <tbody>\n",
       "    <tr>\n",
       "      <th>0</th>\n",
       "      <td>Afghanistan</td>\n",
       "      <td>1952</td>\n",
       "      <td>8425333.0</td>\n",
       "      <td>Asia</td>\n",
       "      <td>28.801</td>\n",
       "      <td>779.445314</td>\n",
       "    </tr>\n",
       "    <tr>\n",
       "      <th>1</th>\n",
       "      <td>Afghanistan</td>\n",
       "      <td>1957</td>\n",
       "      <td>9240934.0</td>\n",
       "      <td>Asia</td>\n",
       "      <td>30.332</td>\n",
       "      <td>820.853030</td>\n",
       "    </tr>\n",
       "    <tr>\n",
       "      <th>2</th>\n",
       "      <td>Afghanistan</td>\n",
       "      <td>1962</td>\n",
       "      <td>10267083.0</td>\n",
       "      <td>Asia</td>\n",
       "      <td>31.997</td>\n",
       "      <td>853.100710</td>\n",
       "    </tr>\n",
       "    <tr>\n",
       "      <th>3</th>\n",
       "      <td>Afghanistan</td>\n",
       "      <td>1967</td>\n",
       "      <td>11537966.0</td>\n",
       "      <td>Asia</td>\n",
       "      <td>34.020</td>\n",
       "      <td>836.197138</td>\n",
       "    </tr>\n",
       "    <tr>\n",
       "      <th>4</th>\n",
       "      <td>Afghanistan</td>\n",
       "      <td>1972</td>\n",
       "      <td>13079460.0</td>\n",
       "      <td>Asia</td>\n",
       "      <td>36.088</td>\n",
       "      <td>739.981106</td>\n",
       "    </tr>\n",
       "  </tbody>\n",
       "</table>\n",
       "</div>"
      ],
      "text/plain": [
       "       country  year         pop continent  lifeExp   gdpPercap\n",
       "0  Afghanistan  1952   8425333.0      Asia   28.801  779.445314\n",
       "1  Afghanistan  1957   9240934.0      Asia   30.332  820.853030\n",
       "2  Afghanistan  1962  10267083.0      Asia   31.997  853.100710\n",
       "3  Afghanistan  1967  11537966.0      Asia   34.020  836.197138\n",
       "4  Afghanistan  1972  13079460.0      Asia   36.088  739.981106"
      ]
     },
     "execution_count": 5,
     "metadata": {},
     "output_type": "execute_result"
    }
   ],
   "source": [
    "base_limpa = remove_dados_duplicados(base_gapminder)\n",
    "base_limpa.head()"
   ]
  },
  {
   "cell_type": "code",
   "execution_count": 6,
   "id": "026fdc43",
   "metadata": {},
   "outputs": [
    {
     "name": "stdout",
     "output_type": "stream",
     "text": [
      "<class 'pandas.core.frame.DataFrame'>\n",
      "Index: 1704 entries, 0 to 1735\n",
      "Data columns (total 6 columns):\n",
      " #   Column     Non-Null Count  Dtype  \n",
      "---  ------     --------------  -----  \n",
      " 0   country    1704 non-null   object \n",
      " 1   year       1704 non-null   int64  \n",
      " 2   pop        1704 non-null   float64\n",
      " 3   continent  1704 non-null   object \n",
      " 4   lifeExp    1704 non-null   float64\n",
      " 5   gdpPercap  1704 non-null   float64\n",
      "dtypes: float64(3), int64(1), object(2)\n",
      "memory usage: 93.2+ KB\n"
     ]
    },
    {
     "data": {
      "application/vnd.microsoft.datawrangler.viewer.v0+json": {
       "columns": [
        {
         "name": "index",
         "rawType": "object",
         "type": "string"
        },
        {
         "name": "year",
         "rawType": "float64",
         "type": "float"
        },
        {
         "name": "pop",
         "rawType": "float64",
         "type": "float"
        },
        {
         "name": "lifeExp",
         "rawType": "float64",
         "type": "float"
        },
        {
         "name": "gdpPercap",
         "rawType": "float64",
         "type": "float"
        }
       ],
       "ref": "735dabd8-5db1-468d-9f1e-77b6e695cfc7",
       "rows": [
        [
         "count",
         "1704.0",
         "1704.0",
         "1704.0",
         "1704.0"
        ],
        [
         "mean",
         "1979.5",
         "29601212.32511736",
         "59.474439366197174",
         "7215.327081212383"
        ],
        [
         "std",
         "17.265329508973615",
         "106157896.74682792",
         "12.917107415241192",
         "9857.454542541522"
        ],
        [
         "min",
         "1952.0",
         "60011.0",
         "23.599",
         "241.1658765"
        ],
        [
         "25%",
         "1965.75",
         "2793664.0",
         "48.198",
         "1202.06030925"
        ],
        [
         "50%",
         "1979.5",
         "7023595.5",
         "60.7125",
         "3531.8469885"
        ],
        [
         "75%",
         "1993.25",
         "19585221.75",
         "70.8455",
         "9325.462346"
        ],
        [
         "max",
         "2007.0",
         "1318683096.0",
         "82.603",
         "113523.1329"
        ]
       ],
       "shape": {
        "columns": 4,
        "rows": 8
       }
      },
      "text/html": [
       "<div>\n",
       "<style scoped>\n",
       "    .dataframe tbody tr th:only-of-type {\n",
       "        vertical-align: middle;\n",
       "    }\n",
       "\n",
       "    .dataframe tbody tr th {\n",
       "        vertical-align: top;\n",
       "    }\n",
       "\n",
       "    .dataframe thead th {\n",
       "        text-align: right;\n",
       "    }\n",
       "</style>\n",
       "<table border=\"1\" class=\"dataframe\">\n",
       "  <thead>\n",
       "    <tr style=\"text-align: right;\">\n",
       "      <th></th>\n",
       "      <th>year</th>\n",
       "      <th>pop</th>\n",
       "      <th>lifeExp</th>\n",
       "      <th>gdpPercap</th>\n",
       "    </tr>\n",
       "  </thead>\n",
       "  <tbody>\n",
       "    <tr>\n",
       "      <th>count</th>\n",
       "      <td>1704.00000</td>\n",
       "      <td>1.704000e+03</td>\n",
       "      <td>1704.000000</td>\n",
       "      <td>1704.000000</td>\n",
       "    </tr>\n",
       "    <tr>\n",
       "      <th>mean</th>\n",
       "      <td>1979.50000</td>\n",
       "      <td>2.960121e+07</td>\n",
       "      <td>59.474439</td>\n",
       "      <td>7215.327081</td>\n",
       "    </tr>\n",
       "    <tr>\n",
       "      <th>std</th>\n",
       "      <td>17.26533</td>\n",
       "      <td>1.061579e+08</td>\n",
       "      <td>12.917107</td>\n",
       "      <td>9857.454543</td>\n",
       "    </tr>\n",
       "    <tr>\n",
       "      <th>min</th>\n",
       "      <td>1952.00000</td>\n",
       "      <td>6.001100e+04</td>\n",
       "      <td>23.599000</td>\n",
       "      <td>241.165876</td>\n",
       "    </tr>\n",
       "    <tr>\n",
       "      <th>25%</th>\n",
       "      <td>1965.75000</td>\n",
       "      <td>2.793664e+06</td>\n",
       "      <td>48.198000</td>\n",
       "      <td>1202.060309</td>\n",
       "    </tr>\n",
       "    <tr>\n",
       "      <th>50%</th>\n",
       "      <td>1979.50000</td>\n",
       "      <td>7.023596e+06</td>\n",
       "      <td>60.712500</td>\n",
       "      <td>3531.846988</td>\n",
       "    </tr>\n",
       "    <tr>\n",
       "      <th>75%</th>\n",
       "      <td>1993.25000</td>\n",
       "      <td>1.958522e+07</td>\n",
       "      <td>70.845500</td>\n",
       "      <td>9325.462346</td>\n",
       "    </tr>\n",
       "    <tr>\n",
       "      <th>max</th>\n",
       "      <td>2007.00000</td>\n",
       "      <td>1.318683e+09</td>\n",
       "      <td>82.603000</td>\n",
       "      <td>113523.132900</td>\n",
       "    </tr>\n",
       "  </tbody>\n",
       "</table>\n",
       "</div>"
      ],
      "text/plain": [
       "             year           pop      lifeExp      gdpPercap\n",
       "count  1704.00000  1.704000e+03  1704.000000    1704.000000\n",
       "mean   1979.50000  2.960121e+07    59.474439    7215.327081\n",
       "std      17.26533  1.061579e+08    12.917107    9857.454543\n",
       "min    1952.00000  6.001100e+04    23.599000     241.165876\n",
       "25%    1965.75000  2.793664e+06    48.198000    1202.060309\n",
       "50%    1979.50000  7.023596e+06    60.712500    3531.846988\n",
       "75%    1993.25000  1.958522e+07    70.845500    9325.462346\n",
       "max    2007.00000  1.318683e+09    82.603000  113523.132900"
      ]
     },
     "execution_count": 6,
     "metadata": {},
     "output_type": "execute_result"
    }
   ],
   "source": [
    "# Problemas encontrados:\n",
    "# 1. Índia -> Pop com Notação Científica - Verificar se precisa tratar\n",
    "# 2. China -> Pop com decimal\n",
    "base_limpa.info()\n",
    "base_limpa.describe()"
   ]
  },
  {
   "cell_type": "code",
   "execution_count": 16,
   "id": "4bec6869",
   "metadata": {},
   "outputs": [
    {
     "name": "stderr",
     "output_type": "stream",
     "text": [
      "C:\\Users\\bruno\\AppData\\Local\\Temp\\ipykernel_28784\\2271779954.py:9: SettingWithCopyWarning: \n",
      "A value is trying to be set on a copy of a slice from a DataFrame.\n",
      "Try using .loc[row_indexer,col_indexer] = value instead\n",
      "\n",
      "See the caveats in the documentation: https://pandas.pydata.org/pandas-docs/stable/user_guide/indexing.html#returning-a-view-versus-a-copy\n",
      "  base_limpa['gdpPercap_tratada'] = base_limpa['gdpPercap'].round(2)\n",
      "C:\\Users\\bruno\\AppData\\Local\\Temp\\ipykernel_28784\\2271779954.py:10: SettingWithCopyWarning: \n",
      "A value is trying to be set on a copy of a slice from a DataFrame.\n",
      "Try using .loc[row_indexer,col_indexer] = value instead\n",
      "\n",
      "See the caveats in the documentation: https://pandas.pydata.org/pandas-docs/stable/user_guide/indexing.html#returning-a-view-versus-a-copy\n",
      "  base_limpa['lifeExp_tratada'] = base_limpa['lifeExp'].round(1)\n",
      "C:\\Users\\bruno\\AppData\\Local\\Temp\\ipykernel_28784\\2271779954.py:11: SettingWithCopyWarning: \n",
      "A value is trying to be set on a copy of a slice from a DataFrame.\n",
      "Try using .loc[row_indexer,col_indexer] = value instead\n",
      "\n",
      "See the caveats in the documentation: https://pandas.pydata.org/pandas-docs/stable/user_guide/indexing.html#returning-a-view-versus-a-copy\n",
      "  base_limpa[\"pop_tratada\"] = base_limpa[\"pop\"].apply(lambda x: f\"{x:,.0f}\".replace(\",\", \".\"))\n",
      "C:\\Users\\bruno\\AppData\\Local\\Temp\\ipykernel_28784\\2271779954.py:12: SettingWithCopyWarning: \n",
      "A value is trying to be set on a copy of a slice from a DataFrame.\n",
      "Try using .loc[row_indexer,col_indexer] = value instead\n",
      "\n",
      "See the caveats in the documentation: https://pandas.pydata.org/pandas-docs/stable/user_guide/indexing.html#returning-a-view-versus-a-copy\n",
      "  base_limpa[\"pop\"] = base_limpa[\"pop\"].astype(\"int64\")\n"
     ]
    },
    {
     "data": {
      "application/vnd.microsoft.datawrangler.viewer.v0+json": {
       "columns": [
        {
         "name": "index",
         "rawType": "int64",
         "type": "integer"
        },
        {
         "name": "country",
         "rawType": "object",
         "type": "string"
        },
        {
         "name": "year",
         "rawType": "int64",
         "type": "integer"
        },
        {
         "name": "pop",
         "rawType": "int64",
         "type": "integer"
        },
        {
         "name": "continent",
         "rawType": "object",
         "type": "string"
        },
        {
         "name": "lifeExp",
         "rawType": "float64",
         "type": "float"
        },
        {
         "name": "gdpPercap",
         "rawType": "float64",
         "type": "float"
        },
        {
         "name": "gdpPercap_tratada",
         "rawType": "float64",
         "type": "float"
        },
        {
         "name": "lifeExp_tratada",
         "rawType": "float64",
         "type": "float"
        },
        {
         "name": "pop_tratada",
         "rawType": "object",
         "type": "string"
        }
       ],
       "ref": "e99d3362-ea93-4246-9948-81e1be97b913",
       "rows": [
        [
         "728",
         "India",
         "1952",
         "372000000",
         "Asia",
         "37.373",
         "546.5657493",
         "546.57",
         "37.4",
         "372.000.000"
        ],
        [
         "729",
         "India",
         "1957",
         "409000000",
         "Asia",
         "40.249",
         "590.061996",
         "590.06",
         "40.2",
         "409.000.000"
        ],
        [
         "730",
         "India",
         "1962",
         "454000000",
         "Asia",
         "43.605",
         "658.3471509",
         "658.35",
         "43.6",
         "454.000.000"
        ],
        [
         "731",
         "India",
         "1967",
         "506000000",
         "Asia",
         "47.193",
         "700.7706107",
         "700.77",
         "47.2",
         "506.000.000"
        ],
        [
         "732",
         "India",
         "1972",
         "567000000",
         "Asia",
         "50.651",
         "724.032527",
         "724.03",
         "50.7",
         "567.000.000"
        ]
       ],
       "shape": {
        "columns": 9,
        "rows": 5
       }
      },
      "text/html": [
       "<div>\n",
       "<style scoped>\n",
       "    .dataframe tbody tr th:only-of-type {\n",
       "        vertical-align: middle;\n",
       "    }\n",
       "\n",
       "    .dataframe tbody tr th {\n",
       "        vertical-align: top;\n",
       "    }\n",
       "\n",
       "    .dataframe thead th {\n",
       "        text-align: right;\n",
       "    }\n",
       "</style>\n",
       "<table border=\"1\" class=\"dataframe\">\n",
       "  <thead>\n",
       "    <tr style=\"text-align: right;\">\n",
       "      <th></th>\n",
       "      <th>country</th>\n",
       "      <th>year</th>\n",
       "      <th>pop</th>\n",
       "      <th>continent</th>\n",
       "      <th>lifeExp</th>\n",
       "      <th>gdpPercap</th>\n",
       "      <th>gdpPercap_tratada</th>\n",
       "      <th>lifeExp_tratada</th>\n",
       "      <th>pop_tratada</th>\n",
       "    </tr>\n",
       "  </thead>\n",
       "  <tbody>\n",
       "    <tr>\n",
       "      <th>728</th>\n",
       "      <td>India</td>\n",
       "      <td>1952</td>\n",
       "      <td>372000000</td>\n",
       "      <td>Asia</td>\n",
       "      <td>37.373</td>\n",
       "      <td>546.565749</td>\n",
       "      <td>546.57</td>\n",
       "      <td>37.4</td>\n",
       "      <td>372.000.000</td>\n",
       "    </tr>\n",
       "    <tr>\n",
       "      <th>729</th>\n",
       "      <td>India</td>\n",
       "      <td>1957</td>\n",
       "      <td>409000000</td>\n",
       "      <td>Asia</td>\n",
       "      <td>40.249</td>\n",
       "      <td>590.061996</td>\n",
       "      <td>590.06</td>\n",
       "      <td>40.2</td>\n",
       "      <td>409.000.000</td>\n",
       "    </tr>\n",
       "    <tr>\n",
       "      <th>730</th>\n",
       "      <td>India</td>\n",
       "      <td>1962</td>\n",
       "      <td>454000000</td>\n",
       "      <td>Asia</td>\n",
       "      <td>43.605</td>\n",
       "      <td>658.347151</td>\n",
       "      <td>658.35</td>\n",
       "      <td>43.6</td>\n",
       "      <td>454.000.000</td>\n",
       "    </tr>\n",
       "    <tr>\n",
       "      <th>731</th>\n",
       "      <td>India</td>\n",
       "      <td>1967</td>\n",
       "      <td>506000000</td>\n",
       "      <td>Asia</td>\n",
       "      <td>47.193</td>\n",
       "      <td>700.770611</td>\n",
       "      <td>700.77</td>\n",
       "      <td>47.2</td>\n",
       "      <td>506.000.000</td>\n",
       "    </tr>\n",
       "    <tr>\n",
       "      <th>732</th>\n",
       "      <td>India</td>\n",
       "      <td>1972</td>\n",
       "      <td>567000000</td>\n",
       "      <td>Asia</td>\n",
       "      <td>50.651</td>\n",
       "      <td>724.032527</td>\n",
       "      <td>724.03</td>\n",
       "      <td>50.7</td>\n",
       "      <td>567.000.000</td>\n",
       "    </tr>\n",
       "  </tbody>\n",
       "</table>\n",
       "</div>"
      ],
      "text/plain": [
       "    country  year        pop continent  lifeExp   gdpPercap  \\\n",
       "728   India  1952  372000000      Asia   37.373  546.565749   \n",
       "729   India  1957  409000000      Asia   40.249  590.061996   \n",
       "730   India  1962  454000000      Asia   43.605  658.347151   \n",
       "731   India  1967  506000000      Asia   47.193  700.770611   \n",
       "732   India  1972  567000000      Asia   50.651  724.032527   \n",
       "\n",
       "     gdpPercap_tratada  lifeExp_tratada  pop_tratada  \n",
       "728             546.57             37.4  372.000.000  \n",
       "729             590.06             40.2  409.000.000  \n",
       "730             658.35             43.6  454.000.000  \n",
       "731             700.77             47.2  506.000.000  \n",
       "732             724.03             50.7  567.000.000  "
      ]
     },
     "execution_count": 16,
     "metadata": {},
     "output_type": "execute_result"
    }
   ],
   "source": [
    "# Reduzir renda per capita para 2 casas decimais\n",
    "# Reduzir expectativa de vida para 1 casa decimal\n",
    "# Tratar população da Índia e China\n",
    "# Rwanda teve uma guerra civil em 1994, o que impactou a expectativa de vida do país. Talvez seja interessante analisar esse ponto.\n",
    "# Analisar quais paises tem anos faltando -> Não parece ter impacto\n",
    "#anos_por_pais = base_limpa.groupby(\"country\").count()[\"year\"].reset_index().sort_values(by=\"year\", ascending=True)\n",
    "#anos_por_pais.head(1000)\n",
    "\n",
    "base_limpa['gdpPercap_tratada'] = base_limpa['gdpPercap'].round(2)\n",
    "base_limpa['lifeExp_tratada'] = base_limpa['lifeExp'].round(1)\n",
    "base_limpa[\"pop_tratada\"] = base_limpa[\"pop\"].apply(lambda x: f\"{x:,.0f}\".replace(\",\", \".\"))\n",
    "base_limpa[\"pop\"] = base_limpa[\"pop\"].astype(\"int64\")\n",
    "\n",
    "base_limpa[base_limpa['country'] == 'China'].head()\n",
    "base_limpa[base_limpa['country'] == 'India'].head()\n"
   ]
  },
  {
   "cell_type": "code",
   "execution_count": null,
   "id": "f7761c71",
   "metadata": {},
   "outputs": [
    {
     "name": "stdout",
     "output_type": "stream",
     "text": [
      "Importando o dataframe: ../../avaliacao-python-ciencia-dados/Bases/deaths-in-armed-conflicts-by-type.csv ...\n",
      "Dataframe importado com sucesso! \n",
      "Dimensão: (7632, 8)\n"
     ]
    },
    {
     "data": {
      "application/vnd.microsoft.datawrangler.viewer.v0+json": {
       "columns": [
        {
         "name": "index",
         "rawType": "int64",
         "type": "integer"
        },
        {
         "name": "Entity",
         "rawType": "object",
         "type": "string"
        },
        {
         "name": "Code",
         "rawType": "object",
         "type": "string"
        },
        {
         "name": "Year",
         "rawType": "int64",
         "type": "integer"
        },
        {
         "name": "Deaths in ongoing conflicts (best estimate) - Conflict type: one-sided violence",
         "rawType": "int64",
         "type": "integer"
        },
        {
         "name": "Deaths in ongoing conflicts (best estimate) - Conflict type: non-state conflict",
         "rawType": "int64",
         "type": "integer"
        },
        {
         "name": "Deaths in ongoing conflicts (best estimate) - Conflict type: extrasystemic",
         "rawType": "int64",
         "type": "integer"
        },
        {
         "name": "Deaths in ongoing conflicts (best estimate) - Conflict type: intrastate",
         "rawType": "int64",
         "type": "integer"
        },
        {
         "name": "Deaths in ongoing conflicts (best estimate) - Conflict type: interstate",
         "rawType": "int64",
         "type": "integer"
        },
        {
         "name": "country",
         "rawType": "object",
         "type": "string"
        }
       ],
       "ref": "ed8503fa-9aa9-41a2-9ba1-013a26b63ffa",
       "rows": [
        [
         "0",
         "Abkhazia",
         "OWID_ABK",
         "1989",
         "0",
         "0",
         "0",
         "0",
         "0",
         "Abkhazia"
        ],
        [
         "1",
         "Abkhazia",
         "OWID_ABK",
         "1990",
         "0",
         "0",
         "0",
         "0",
         "0",
         "Abkhazia"
        ],
        [
         "2",
         "Abkhazia",
         "OWID_ABK",
         "1991",
         "0",
         "0",
         "0",
         "0",
         "0",
         "Abkhazia"
        ],
        [
         "3",
         "Abkhazia",
         "OWID_ABK",
         "1992",
         "0",
         "0",
         "0",
         "0",
         "0",
         "Abkhazia"
        ],
        [
         "4",
         "Abkhazia",
         "OWID_ABK",
         "1993",
         "0",
         "0",
         "0",
         "0",
         "0",
         "Abkhazia"
        ]
       ],
       "shape": {
        "columns": 9,
        "rows": 5
       }
      },
      "text/html": [
       "<div>\n",
       "<style scoped>\n",
       "    .dataframe tbody tr th:only-of-type {\n",
       "        vertical-align: middle;\n",
       "    }\n",
       "\n",
       "    .dataframe tbody tr th {\n",
       "        vertical-align: top;\n",
       "    }\n",
       "\n",
       "    .dataframe thead th {\n",
       "        text-align: right;\n",
       "    }\n",
       "</style>\n",
       "<table border=\"1\" class=\"dataframe\">\n",
       "  <thead>\n",
       "    <tr style=\"text-align: right;\">\n",
       "      <th></th>\n",
       "      <th>Entity</th>\n",
       "      <th>Code</th>\n",
       "      <th>Year</th>\n",
       "      <th>Deaths in ongoing conflicts (best estimate) - Conflict type: one-sided violence</th>\n",
       "      <th>Deaths in ongoing conflicts (best estimate) - Conflict type: non-state conflict</th>\n",
       "      <th>Deaths in ongoing conflicts (best estimate) - Conflict type: extrasystemic</th>\n",
       "      <th>Deaths in ongoing conflicts (best estimate) - Conflict type: intrastate</th>\n",
       "      <th>Deaths in ongoing conflicts (best estimate) - Conflict type: interstate</th>\n",
       "      <th>country</th>\n",
       "    </tr>\n",
       "  </thead>\n",
       "  <tbody>\n",
       "    <tr>\n",
       "      <th>0</th>\n",
       "      <td>Abkhazia</td>\n",
       "      <td>OWID_ABK</td>\n",
       "      <td>1989</td>\n",
       "      <td>0</td>\n",
       "      <td>0</td>\n",
       "      <td>0</td>\n",
       "      <td>0</td>\n",
       "      <td>0</td>\n",
       "      <td>Abkhazia</td>\n",
       "    </tr>\n",
       "    <tr>\n",
       "      <th>1</th>\n",
       "      <td>Abkhazia</td>\n",
       "      <td>OWID_ABK</td>\n",
       "      <td>1990</td>\n",
       "      <td>0</td>\n",
       "      <td>0</td>\n",
       "      <td>0</td>\n",
       "      <td>0</td>\n",
       "      <td>0</td>\n",
       "      <td>Abkhazia</td>\n",
       "    </tr>\n",
       "    <tr>\n",
       "      <th>2</th>\n",
       "      <td>Abkhazia</td>\n",
       "      <td>OWID_ABK</td>\n",
       "      <td>1991</td>\n",
       "      <td>0</td>\n",
       "      <td>0</td>\n",
       "      <td>0</td>\n",
       "      <td>0</td>\n",
       "      <td>0</td>\n",
       "      <td>Abkhazia</td>\n",
       "    </tr>\n",
       "    <tr>\n",
       "      <th>3</th>\n",
       "      <td>Abkhazia</td>\n",
       "      <td>OWID_ABK</td>\n",
       "      <td>1992</td>\n",
       "      <td>0</td>\n",
       "      <td>0</td>\n",
       "      <td>0</td>\n",
       "      <td>0</td>\n",
       "      <td>0</td>\n",
       "      <td>Abkhazia</td>\n",
       "    </tr>\n",
       "    <tr>\n",
       "      <th>4</th>\n",
       "      <td>Abkhazia</td>\n",
       "      <td>OWID_ABK</td>\n",
       "      <td>1993</td>\n",
       "      <td>0</td>\n",
       "      <td>0</td>\n",
       "      <td>0</td>\n",
       "      <td>0</td>\n",
       "      <td>0</td>\n",
       "      <td>Abkhazia</td>\n",
       "    </tr>\n",
       "  </tbody>\n",
       "</table>\n",
       "</div>"
      ],
      "text/plain": [
       "     Entity      Code  Year  \\\n",
       "0  Abkhazia  OWID_ABK  1989   \n",
       "1  Abkhazia  OWID_ABK  1990   \n",
       "2  Abkhazia  OWID_ABK  1991   \n",
       "3  Abkhazia  OWID_ABK  1992   \n",
       "4  Abkhazia  OWID_ABK  1993   \n",
       "\n",
       "   Deaths in ongoing conflicts (best estimate) - Conflict type: one-sided violence  \\\n",
       "0                                                  0                                 \n",
       "1                                                  0                                 \n",
       "2                                                  0                                 \n",
       "3                                                  0                                 \n",
       "4                                                  0                                 \n",
       "\n",
       "   Deaths in ongoing conflicts (best estimate) - Conflict type: non-state conflict  \\\n",
       "0                                                  0                                 \n",
       "1                                                  0                                 \n",
       "2                                                  0                                 \n",
       "3                                                  0                                 \n",
       "4                                                  0                                 \n",
       "\n",
       "   Deaths in ongoing conflicts (best estimate) - Conflict type: extrasystemic  \\\n",
       "0                                                  0                            \n",
       "1                                                  0                            \n",
       "2                                                  0                            \n",
       "3                                                  0                            \n",
       "4                                                  0                            \n",
       "\n",
       "   Deaths in ongoing conflicts (best estimate) - Conflict type: intrastate  \\\n",
       "0                                                  0                         \n",
       "1                                                  0                         \n",
       "2                                                  0                         \n",
       "3                                                  0                         \n",
       "4                                                  0                         \n",
       "\n",
       "   Deaths in ongoing conflicts (best estimate) - Conflict type: interstate  \\\n",
       "0                                                  0                         \n",
       "1                                                  0                         \n",
       "2                                                  0                         \n",
       "3                                                  0                         \n",
       "4                                                  0                         \n",
       "\n",
       "    country  \n",
       "0  Abkhazia  \n",
       "1  Abkhazia  \n",
       "2  Abkhazia  \n",
       "3  Abkhazia  \n",
       "4  Abkhazia  "
      ]
     },
     "execution_count": 28,
     "metadata": {},
     "output_type": "execute_result"
    }
   ],
   "source": [
    "# Adicionar a base de mortes por guerra na brincadeira:\n",
    "mortes_guerra = importa_csv(dataframe_name='../../avaliacao-python-ciencia-dados/Bases/deaths-in-armed-conflicts-by-type.csv', separador=',', encoding='utf-8')\n",
    "mortes_guerra['country'] = mortes_guerra['Entity']\n",
    "\n",
    "mortes_guerra.head()\n",
    "\n",
    "#Realizar agregação por pais e ano, equalizando a coluna de ano com as da base principal\n",
    "#A base de mortes em guerra vai de 89 a 2024 e a base principal de 1952 a 2007. teremos apenas um pequeno intervalo de anos de interseçã0\n",
    "#que será agregado e analisado\n",
    "anos = [1952, 1957, 1962, 1967, 1972,1977,1982,1987,1992,1997,2002,2007]\n",
    "\n",
    "\n",
    "#juncao = junta_dataframes(base_limpa, mortes_guerra, chave=['country', 'year'], tipo_juncao='left')\n",
    "#juncao.head()"
   ]
  },
  {
   "cell_type": "code",
   "execution_count": 26,
   "id": "cd6be41a",
   "metadata": {},
   "outputs": [
    {
     "name": "stdout",
     "output_type": "stream",
     "text": [
      "Exportando o dataframe para o arquivo: ../../avaliacao-python-ciencia-dados/Bases/tratada/gapminder_tratada.csv ...\n",
      "Dataframe exportado com sucesso!\n",
      "Exportando o dataframe para o arquivo: ../../avaliacao-python-ciencia-dados/Bases/tratada/gapminder_tratada_juncao_mortes_guerra.csv ...\n",
      "Dataframe exportado com sucesso!\n"
     ]
    }
   ],
   "source": [
    "#Escreve o arquivo em uma base tratada\n",
    "exporta_csv(base_limpa, '../../avaliacao-python-ciencia-dados/Bases/tratada/gapminder_tratada.csv', separador=';', encoding='utf-8', index=False)\n",
    "exporta_csv(juncao, '../../avaliacao-python-ciencia-dados/Bases/tratada/gapminder_tratada_juncao_mortes_guerra.csv', separador=';', encoding='utf-8', index=False)\n"
   ]
  }
 ],
 "metadata": {
  "kernelspec": {
   "display_name": "PUCMINAS_PPCDD",
   "language": "python",
   "name": "python3"
  },
  "language_info": {
   "codemirror_mode": {
    "name": "ipython",
    "version": 3
   },
   "file_extension": ".py",
   "mimetype": "text/x-python",
   "name": "python",
   "nbconvert_exporter": "python",
   "pygments_lexer": "ipython3",
   "version": "3.13.7"
  }
 },
 "nbformat": 4,
 "nbformat_minor": 5
}
