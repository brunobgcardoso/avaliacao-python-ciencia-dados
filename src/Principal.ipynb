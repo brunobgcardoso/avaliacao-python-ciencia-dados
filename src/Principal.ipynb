{
 "cells": [
  {
   "cell_type": "markdown",
   "id": "e48df13c",
   "metadata": {},
   "source": [
    "<font color=\"#0D9DF0\"><h3><B>Trabalho Final - Python para Ciência de Dados</b></h3></font>\n",
    "***"
   ]
  },
  {
   "cell_type": "markdown",
   "metadata": {},
   "source": [
    "# \n",
    "\n",
    "---\n",
    "## 1. Título e Introdução\n",
    "- Apresente o **tema do projeto**.\n",
    "    Análise do Desenvolvimento Humano e Econômico Global com base nos dados obtidos no site Gapminder\n",
    "\n",
    "- Descreva **brevemente os objetivos da análise**.\n",
    "    O objetivo da análise é averiguar o quanto índices de corrupção e guerras, por exemplo, resultam em um baixo desenvolvimento humano e qualidade de vida nos países\n",
    "\n",
    "- Explique o **contexto da base de dados Gapminder**.\n",
    "    A base reune métricas desde 1952 de fatores como renda per capta, expectativa de vida, continente e população\n",
    "\n",
    "- Liste as **etapas que serão realizadas** no notebook.\n",
    "    Coleta de dados\n",
    "    Limpeza e preparação\n",
    "    Análise e modelagem\n",
    "    Visualização\n",
    "    Interpretação\n",
    "    Síntese e Conclusão"
   ]
  },
  {
   "cell_type": "markdown",
   "metadata": {},
   "source": [
    "---\n",
    "## 2. Coleta, Limpeza e Análise Exploratória (AED)\n",
    "\n",
    "### Objetivo\n",
    "Preparar os dados, tratando inconsistências e identificando padrões iniciais.\n",
    "\n",
    "### Itens a incluir\n",
    "- **Carregamento do dataset** Gapminder.  \n",
    "- **Verificação de valores ausentes**.  \n",
    "- **Remoção de duplicados**.  \n",
    "- **Análise estatística descritiva inicial** (médias, medianas, desvios etc.).  \n",
    "- **Visualizações exploratórias básicas** (ex: histogramas, boxplots, contagens por continente).  \n",
    "\n",
    "### Markdown deve conter\n",
    "- Justificativas das decisões tomadas.  \n",
    "- Observações sobre a qualidade dos dados.  \n",
    "- Interpretação dos primeiros resultados."
   ]
  },
  {
   "cell_type": "markdown",
   "id": "1d1e52d0",
   "metadata": {},
   "source": [
    "Neste primeiro momento, estaremos tratando a base principal"
   ]
  },
  {
   "cell_type": "code",
   "execution_count": 1,
   "id": "d58595ef",
   "metadata": {},
   "outputs": [],
   "source": [
    "import sys\n",
    "sys.path.append('../avaliacao-python-ciencia-dados/')\n",
    "\n",
    "from utils.data_info import *"
   ]
  },
  {
   "cell_type": "code",
   "execution_count": 76,
   "id": "1bdb7368",
   "metadata": {},
   "outputs": [
    {
     "name": "stdout",
     "output_type": "stream",
     "text": [
      "Importando o dataframe: ../../avaliacao-python-ciencia-dados/Bases/gapminder_full.csv ...\n",
      "Dataframe importado com sucesso! \n",
      "Dimensão: (1736, 6)\n"
     ]
    },
    {
     "data": {
      "application/vnd.microsoft.datawrangler.viewer.v0+json": {
       "columns": [
        {
         "name": "index",
         "rawType": "int64",
         "type": "integer"
        },
        {
         "name": "country",
         "rawType": "object",
         "type": "string"
        },
        {
         "name": "year",
         "rawType": "int64",
         "type": "integer"
        },
        {
         "name": "pop",
         "rawType": "float64",
         "type": "float"
        },
        {
         "name": "continent",
         "rawType": "object",
         "type": "string"
        },
        {
         "name": "lifeExp",
         "rawType": "float64",
         "type": "float"
        },
        {
         "name": "gdpPercap",
         "rawType": "float64",
         "type": "float"
        }
       ],
       "ref": "0a684814-e851-4e93-b8df-fd41bbb540f6",
       "rows": [
        [
         "0",
         "Afghanistan",
         "1952",
         "8425333.0",
         "Asia",
         "28.801",
         "779.4453145"
        ],
        [
         "1",
         "Afghanistan",
         "1957",
         "9240934.0",
         "Asia",
         "30.332",
         "820.8530296"
        ],
        [
         "2",
         "Afghanistan",
         "1962",
         "10267083.0",
         "Asia",
         "31.997",
         "853.10071"
        ],
        [
         "3",
         "Afghanistan",
         "1967",
         "11537966.0",
         "Asia",
         "34.02",
         "836.1971382"
        ],
        [
         "4",
         "Afghanistan",
         "1972",
         "13079460.0",
         "Asia",
         "36.088",
         "739.9811058"
        ]
       ],
       "shape": {
        "columns": 6,
        "rows": 5
       }
      },
      "text/html": [
       "<div>\n",
       "<style scoped>\n",
       "    .dataframe tbody tr th:only-of-type {\n",
       "        vertical-align: middle;\n",
       "    }\n",
       "\n",
       "    .dataframe tbody tr th {\n",
       "        vertical-align: top;\n",
       "    }\n",
       "\n",
       "    .dataframe thead th {\n",
       "        text-align: right;\n",
       "    }\n",
       "</style>\n",
       "<table border=\"1\" class=\"dataframe\">\n",
       "  <thead>\n",
       "    <tr style=\"text-align: right;\">\n",
       "      <th></th>\n",
       "      <th>country</th>\n",
       "      <th>year</th>\n",
       "      <th>pop</th>\n",
       "      <th>continent</th>\n",
       "      <th>lifeExp</th>\n",
       "      <th>gdpPercap</th>\n",
       "    </tr>\n",
       "  </thead>\n",
       "  <tbody>\n",
       "    <tr>\n",
       "      <th>0</th>\n",
       "      <td>Afghanistan</td>\n",
       "      <td>1952</td>\n",
       "      <td>8425333.0</td>\n",
       "      <td>Asia</td>\n",
       "      <td>28.801</td>\n",
       "      <td>779.445314</td>\n",
       "    </tr>\n",
       "    <tr>\n",
       "      <th>1</th>\n",
       "      <td>Afghanistan</td>\n",
       "      <td>1957</td>\n",
       "      <td>9240934.0</td>\n",
       "      <td>Asia</td>\n",
       "      <td>30.332</td>\n",
       "      <td>820.853030</td>\n",
       "    </tr>\n",
       "    <tr>\n",
       "      <th>2</th>\n",
       "      <td>Afghanistan</td>\n",
       "      <td>1962</td>\n",
       "      <td>10267083.0</td>\n",
       "      <td>Asia</td>\n",
       "      <td>31.997</td>\n",
       "      <td>853.100710</td>\n",
       "    </tr>\n",
       "    <tr>\n",
       "      <th>3</th>\n",
       "      <td>Afghanistan</td>\n",
       "      <td>1967</td>\n",
       "      <td>11537966.0</td>\n",
       "      <td>Asia</td>\n",
       "      <td>34.020</td>\n",
       "      <td>836.197138</td>\n",
       "    </tr>\n",
       "    <tr>\n",
       "      <th>4</th>\n",
       "      <td>Afghanistan</td>\n",
       "      <td>1972</td>\n",
       "      <td>13079460.0</td>\n",
       "      <td>Asia</td>\n",
       "      <td>36.088</td>\n",
       "      <td>739.981106</td>\n",
       "    </tr>\n",
       "  </tbody>\n",
       "</table>\n",
       "</div>"
      ],
      "text/plain": [
       "       country  year         pop continent  lifeExp   gdpPercap\n",
       "0  Afghanistan  1952   8425333.0      Asia   28.801  779.445314\n",
       "1  Afghanistan  1957   9240934.0      Asia   30.332  820.853030\n",
       "2  Afghanistan  1962  10267083.0      Asia   31.997  853.100710\n",
       "3  Afghanistan  1967  11537966.0      Asia   34.020  836.197138\n",
       "4  Afghanistan  1972  13079460.0      Asia   36.088  739.981106"
      ]
     },
     "execution_count": 76,
     "metadata": {},
     "output_type": "execute_result"
    }
   ],
   "source": [
    "base_gapminder = importa_csv(dataframe_name='../../avaliacao-python-ciencia-dados/Bases/gapminder_full.csv', separador=',', encoding='utf-8')\n",
    "base_gapminder.head()"
   ]
  },
  {
   "cell_type": "code",
   "execution_count": 77,
   "id": "2f6b63e3",
   "metadata": {},
   "outputs": [
    {
     "data": {
      "application/vnd.microsoft.datawrangler.viewer.v0+json": {
       "columns": [
        {
         "name": "index",
         "rawType": "int64",
         "type": "integer"
        },
        {
         "name": "variavel_analisada",
         "rawType": "object",
         "type": "string"
        },
        {
         "name": "Quantidade",
         "rawType": "int64",
         "type": "integer"
        },
        {
         "name": "Percentual",
         "rawType": "object",
         "type": "string"
        }
       ],
       "ref": "6930723c-9029-40d6-9cf6-f2cc0ca3fb26",
       "rows": [],
       "shape": {
        "columns": 3,
        "rows": 0
       }
      },
      "text/html": [
       "<div>\n",
       "<style scoped>\n",
       "    .dataframe tbody tr th:only-of-type {\n",
       "        vertical-align: middle;\n",
       "    }\n",
       "\n",
       "    .dataframe tbody tr th {\n",
       "        vertical-align: top;\n",
       "    }\n",
       "\n",
       "    .dataframe thead th {\n",
       "        text-align: right;\n",
       "    }\n",
       "</style>\n",
       "<table border=\"1\" class=\"dataframe\">\n",
       "  <thead>\n",
       "    <tr style=\"text-align: right;\">\n",
       "      <th></th>\n",
       "      <th>variavel_analisada</th>\n",
       "      <th>Quantidade</th>\n",
       "      <th>Percentual</th>\n",
       "    </tr>\n",
       "  </thead>\n",
       "  <tbody>\n",
       "  </tbody>\n",
       "</table>\n",
       "</div>"
      ],
      "text/plain": [
       "Empty DataFrame\n",
       "Columns: [variavel_analisada, Quantidade, Percentual]\n",
       "Index: []"
      ]
     },
     "execution_count": 77,
     "metadata": {},
     "output_type": "execute_result"
    }
   ],
   "source": [
    "analisa_dados_ausentes(base_gapminder)"
   ]
  },
  {
   "cell_type": "code",
   "execution_count": 78,
   "id": "13ca9c0b",
   "metadata": {},
   "outputs": [
    {
     "name": "stdout",
     "output_type": "stream",
     "text": [
      "Foram encontrados 32 registros duplicados\n",
      "\n",
      "Prévia dos dados duplicados:\n"
     ]
    },
    {
     "data": {
      "application/vnd.microsoft.datawrangler.viewer.v0+json": {
       "columns": [
        {
         "name": "index",
         "rawType": "int64",
         "type": "integer"
        },
        {
         "name": "country",
         "rawType": "object",
         "type": "string"
        },
        {
         "name": "year",
         "rawType": "int64",
         "type": "integer"
        },
        {
         "name": "pop",
         "rawType": "float64",
         "type": "float"
        },
        {
         "name": "continent",
         "rawType": "object",
         "type": "string"
        },
        {
         "name": "lifeExp",
         "rawType": "float64",
         "type": "float"
        },
        {
         "name": "gdpPercap",
         "rawType": "float64",
         "type": "float"
        }
       ],
       "ref": "9accbfb4-32ee-412f-86a2-5d02bf4ef399",
       "rows": [
        [
         "72",
         "Afghanistan",
         "1997",
         "22227415.0",
         "Asia",
         "41.763",
         "635.341351"
        ],
        [
         "145",
         "Bolivia",
         "1987",
         "6156369.0",
         "Americas",
         "57.251",
         "2753.69149"
        ],
        [
         "146",
         "Bolivia",
         "1992",
         "6893451.0",
         "Americas",
         "59.957",
         "2961.699694"
        ],
        [
         "147",
         "Bolivia",
         "1997",
         "7693188.0",
         "Americas",
         "62.05",
         "3326.143191"
        ],
        [
         "148",
         "Bolivia",
         "2002",
         "8445134.0",
         "Americas",
         "63.883",
         "3413.26269"
        ]
       ],
       "shape": {
        "columns": 6,
        "rows": 5
       }
      },
      "text/html": [
       "<div>\n",
       "<style scoped>\n",
       "    .dataframe tbody tr th:only-of-type {\n",
       "        vertical-align: middle;\n",
       "    }\n",
       "\n",
       "    .dataframe tbody tr th {\n",
       "        vertical-align: top;\n",
       "    }\n",
       "\n",
       "    .dataframe thead th {\n",
       "        text-align: right;\n",
       "    }\n",
       "</style>\n",
       "<table border=\"1\" class=\"dataframe\">\n",
       "  <thead>\n",
       "    <tr style=\"text-align: right;\">\n",
       "      <th></th>\n",
       "      <th>country</th>\n",
       "      <th>year</th>\n",
       "      <th>pop</th>\n",
       "      <th>continent</th>\n",
       "      <th>lifeExp</th>\n",
       "      <th>gdpPercap</th>\n",
       "    </tr>\n",
       "  </thead>\n",
       "  <tbody>\n",
       "    <tr>\n",
       "      <th>72</th>\n",
       "      <td>Afghanistan</td>\n",
       "      <td>1997</td>\n",
       "      <td>22227415.0</td>\n",
       "      <td>Asia</td>\n",
       "      <td>41.763</td>\n",
       "      <td>635.341351</td>\n",
       "    </tr>\n",
       "    <tr>\n",
       "      <th>145</th>\n",
       "      <td>Bolivia</td>\n",
       "      <td>1987</td>\n",
       "      <td>6156369.0</td>\n",
       "      <td>Americas</td>\n",
       "      <td>57.251</td>\n",
       "      <td>2753.691490</td>\n",
       "    </tr>\n",
       "    <tr>\n",
       "      <th>146</th>\n",
       "      <td>Bolivia</td>\n",
       "      <td>1992</td>\n",
       "      <td>6893451.0</td>\n",
       "      <td>Americas</td>\n",
       "      <td>59.957</td>\n",
       "      <td>2961.699694</td>\n",
       "    </tr>\n",
       "    <tr>\n",
       "      <th>147</th>\n",
       "      <td>Bolivia</td>\n",
       "      <td>1997</td>\n",
       "      <td>7693188.0</td>\n",
       "      <td>Americas</td>\n",
       "      <td>62.050</td>\n",
       "      <td>3326.143191</td>\n",
       "    </tr>\n",
       "    <tr>\n",
       "      <th>148</th>\n",
       "      <td>Bolivia</td>\n",
       "      <td>2002</td>\n",
       "      <td>8445134.0</td>\n",
       "      <td>Americas</td>\n",
       "      <td>63.883</td>\n",
       "      <td>3413.262690</td>\n",
       "    </tr>\n",
       "  </tbody>\n",
       "</table>\n",
       "</div>"
      ],
      "text/plain": [
       "         country  year         pop continent  lifeExp    gdpPercap\n",
       "72   Afghanistan  1997  22227415.0      Asia   41.763   635.341351\n",
       "145      Bolivia  1987   6156369.0  Americas   57.251  2753.691490\n",
       "146      Bolivia  1992   6893451.0  Americas   59.957  2961.699694\n",
       "147      Bolivia  1997   7693188.0  Americas   62.050  3326.143191\n",
       "148      Bolivia  2002   8445134.0  Americas   63.883  3413.262690"
      ]
     },
     "execution_count": 78,
     "metadata": {},
     "output_type": "execute_result"
    }
   ],
   "source": [
    "verifica_dados_duplicados(base_gapminder)"
   ]
  },
  {
   "cell_type": "code",
   "execution_count": 79,
   "id": "e15401bc",
   "metadata": {},
   "outputs": [
    {
     "name": "stdout",
     "output_type": "stream",
     "text": [
      "Removendo dados duplicados ...\n",
      "Foram encontrados 32 registros duplicados\n",
      "\n",
      "Prévia dos dados duplicados:\n",
      "Dados duplicados removidos com sucesso! \n",
      "Dimensão: (1704, 6)\n"
     ]
    },
    {
     "data": {
      "application/vnd.microsoft.datawrangler.viewer.v0+json": {
       "columns": [
        {
         "name": "index",
         "rawType": "int64",
         "type": "integer"
        },
        {
         "name": "country",
         "rawType": "object",
         "type": "string"
        },
        {
         "name": "year",
         "rawType": "int64",
         "type": "integer"
        },
        {
         "name": "pop",
         "rawType": "float64",
         "type": "float"
        },
        {
         "name": "continent",
         "rawType": "object",
         "type": "string"
        },
        {
         "name": "lifeExp",
         "rawType": "float64",
         "type": "float"
        },
        {
         "name": "gdpPercap",
         "rawType": "float64",
         "type": "float"
        }
       ],
       "ref": "3ed7d03b-541f-4f20-90c6-64aa1d996c67",
       "rows": [
        [
         "0",
         "Afghanistan",
         "1952",
         "8425333.0",
         "Asia",
         "28.801",
         "779.4453145"
        ],
        [
         "1",
         "Afghanistan",
         "1957",
         "9240934.0",
         "Asia",
         "30.332",
         "820.8530296"
        ],
        [
         "2",
         "Afghanistan",
         "1962",
         "10267083.0",
         "Asia",
         "31.997",
         "853.10071"
        ],
        [
         "3",
         "Afghanistan",
         "1967",
         "11537966.0",
         "Asia",
         "34.02",
         "836.1971382"
        ],
        [
         "4",
         "Afghanistan",
         "1972",
         "13079460.0",
         "Asia",
         "36.088",
         "739.9811058"
        ]
       ],
       "shape": {
        "columns": 6,
        "rows": 5
       }
      },
      "text/html": [
       "<div>\n",
       "<style scoped>\n",
       "    .dataframe tbody tr th:only-of-type {\n",
       "        vertical-align: middle;\n",
       "    }\n",
       "\n",
       "    .dataframe tbody tr th {\n",
       "        vertical-align: top;\n",
       "    }\n",
       "\n",
       "    .dataframe thead th {\n",
       "        text-align: right;\n",
       "    }\n",
       "</style>\n",
       "<table border=\"1\" class=\"dataframe\">\n",
       "  <thead>\n",
       "    <tr style=\"text-align: right;\">\n",
       "      <th></th>\n",
       "      <th>country</th>\n",
       "      <th>year</th>\n",
       "      <th>pop</th>\n",
       "      <th>continent</th>\n",
       "      <th>lifeExp</th>\n",
       "      <th>gdpPercap</th>\n",
       "    </tr>\n",
       "  </thead>\n",
       "  <tbody>\n",
       "    <tr>\n",
       "      <th>0</th>\n",
       "      <td>Afghanistan</td>\n",
       "      <td>1952</td>\n",
       "      <td>8425333.0</td>\n",
       "      <td>Asia</td>\n",
       "      <td>28.801</td>\n",
       "      <td>779.445314</td>\n",
       "    </tr>\n",
       "    <tr>\n",
       "      <th>1</th>\n",
       "      <td>Afghanistan</td>\n",
       "      <td>1957</td>\n",
       "      <td>9240934.0</td>\n",
       "      <td>Asia</td>\n",
       "      <td>30.332</td>\n",
       "      <td>820.853030</td>\n",
       "    </tr>\n",
       "    <tr>\n",
       "      <th>2</th>\n",
       "      <td>Afghanistan</td>\n",
       "      <td>1962</td>\n",
       "      <td>10267083.0</td>\n",
       "      <td>Asia</td>\n",
       "      <td>31.997</td>\n",
       "      <td>853.100710</td>\n",
       "    </tr>\n",
       "    <tr>\n",
       "      <th>3</th>\n",
       "      <td>Afghanistan</td>\n",
       "      <td>1967</td>\n",
       "      <td>11537966.0</td>\n",
       "      <td>Asia</td>\n",
       "      <td>34.020</td>\n",
       "      <td>836.197138</td>\n",
       "    </tr>\n",
       "    <tr>\n",
       "      <th>4</th>\n",
       "      <td>Afghanistan</td>\n",
       "      <td>1972</td>\n",
       "      <td>13079460.0</td>\n",
       "      <td>Asia</td>\n",
       "      <td>36.088</td>\n",
       "      <td>739.981106</td>\n",
       "    </tr>\n",
       "  </tbody>\n",
       "</table>\n",
       "</div>"
      ],
      "text/plain": [
       "       country  year         pop continent  lifeExp   gdpPercap\n",
       "0  Afghanistan  1952   8425333.0      Asia   28.801  779.445314\n",
       "1  Afghanistan  1957   9240934.0      Asia   30.332  820.853030\n",
       "2  Afghanistan  1962  10267083.0      Asia   31.997  853.100710\n",
       "3  Afghanistan  1967  11537966.0      Asia   34.020  836.197138\n",
       "4  Afghanistan  1972  13079460.0      Asia   36.088  739.981106"
      ]
     },
     "execution_count": 79,
     "metadata": {},
     "output_type": "execute_result"
    }
   ],
   "source": [
    "base_limpa = remove_dados_duplicados(base_gapminder)\n",
    "base_limpa.head()"
   ]
  },
  {
   "cell_type": "code",
   "execution_count": 80,
   "id": "60be55e8",
   "metadata": {},
   "outputs": [
    {
     "name": "stdout",
     "output_type": "stream",
     "text": [
      "<class 'pandas.core.frame.DataFrame'>\n",
      "Index: 1704 entries, 0 to 1735\n",
      "Data columns (total 6 columns):\n",
      " #   Column     Non-Null Count  Dtype  \n",
      "---  ------     --------------  -----  \n",
      " 0   country    1704 non-null   object \n",
      " 1   year       1704 non-null   int64  \n",
      " 2   pop        1704 non-null   float64\n",
      " 3   continent  1704 non-null   object \n",
      " 4   lifeExp    1704 non-null   float64\n",
      " 5   gdpPercap  1704 non-null   float64\n",
      "dtypes: float64(3), int64(1), object(2)\n",
      "memory usage: 93.2+ KB\n"
     ]
    },
    {
     "data": {
      "application/vnd.microsoft.datawrangler.viewer.v0+json": {
       "columns": [
        {
         "name": "index",
         "rawType": "object",
         "type": "string"
        },
        {
         "name": "year",
         "rawType": "float64",
         "type": "float"
        },
        {
         "name": "pop",
         "rawType": "float64",
         "type": "float"
        },
        {
         "name": "lifeExp",
         "rawType": "float64",
         "type": "float"
        },
        {
         "name": "gdpPercap",
         "rawType": "float64",
         "type": "float"
        }
       ],
       "ref": "a472fef2-5588-42e2-82af-7639d01fb0f6",
       "rows": [
        [
         "count",
         "1704.0",
         "1704.0",
         "1704.0",
         "1704.0"
        ],
        [
         "mean",
         "1979.5",
         "29601212.32511736",
         "59.474439366197174",
         "7215.327081212383"
        ],
        [
         "std",
         "17.265329508973615",
         "106157896.74682792",
         "12.917107415241192",
         "9857.454542541522"
        ],
        [
         "min",
         "1952.0",
         "60011.0",
         "23.599",
         "241.1658765"
        ],
        [
         "25%",
         "1965.75",
         "2793664.0",
         "48.198",
         "1202.06030925"
        ],
        [
         "50%",
         "1979.5",
         "7023595.5",
         "60.7125",
         "3531.8469885"
        ],
        [
         "75%",
         "1993.25",
         "19585221.75",
         "70.8455",
         "9325.462346"
        ],
        [
         "max",
         "2007.0",
         "1318683096.0",
         "82.603",
         "113523.1329"
        ]
       ],
       "shape": {
        "columns": 4,
        "rows": 8
       }
      },
      "text/html": [
       "<div>\n",
       "<style scoped>\n",
       "    .dataframe tbody tr th:only-of-type {\n",
       "        vertical-align: middle;\n",
       "    }\n",
       "\n",
       "    .dataframe tbody tr th {\n",
       "        vertical-align: top;\n",
       "    }\n",
       "\n",
       "    .dataframe thead th {\n",
       "        text-align: right;\n",
       "    }\n",
       "</style>\n",
       "<table border=\"1\" class=\"dataframe\">\n",
       "  <thead>\n",
       "    <tr style=\"text-align: right;\">\n",
       "      <th></th>\n",
       "      <th>year</th>\n",
       "      <th>pop</th>\n",
       "      <th>lifeExp</th>\n",
       "      <th>gdpPercap</th>\n",
       "    </tr>\n",
       "  </thead>\n",
       "  <tbody>\n",
       "    <tr>\n",
       "      <th>count</th>\n",
       "      <td>1704.00000</td>\n",
       "      <td>1.704000e+03</td>\n",
       "      <td>1704.000000</td>\n",
       "      <td>1704.000000</td>\n",
       "    </tr>\n",
       "    <tr>\n",
       "      <th>mean</th>\n",
       "      <td>1979.50000</td>\n",
       "      <td>2.960121e+07</td>\n",
       "      <td>59.474439</td>\n",
       "      <td>7215.327081</td>\n",
       "    </tr>\n",
       "    <tr>\n",
       "      <th>std</th>\n",
       "      <td>17.26533</td>\n",
       "      <td>1.061579e+08</td>\n",
       "      <td>12.917107</td>\n",
       "      <td>9857.454543</td>\n",
       "    </tr>\n",
       "    <tr>\n",
       "      <th>min</th>\n",
       "      <td>1952.00000</td>\n",
       "      <td>6.001100e+04</td>\n",
       "      <td>23.599000</td>\n",
       "      <td>241.165876</td>\n",
       "    </tr>\n",
       "    <tr>\n",
       "      <th>25%</th>\n",
       "      <td>1965.75000</td>\n",
       "      <td>2.793664e+06</td>\n",
       "      <td>48.198000</td>\n",
       "      <td>1202.060309</td>\n",
       "    </tr>\n",
       "    <tr>\n",
       "      <th>50%</th>\n",
       "      <td>1979.50000</td>\n",
       "      <td>7.023596e+06</td>\n",
       "      <td>60.712500</td>\n",
       "      <td>3531.846988</td>\n",
       "    </tr>\n",
       "    <tr>\n",
       "      <th>75%</th>\n",
       "      <td>1993.25000</td>\n",
       "      <td>1.958522e+07</td>\n",
       "      <td>70.845500</td>\n",
       "      <td>9325.462346</td>\n",
       "    </tr>\n",
       "    <tr>\n",
       "      <th>max</th>\n",
       "      <td>2007.00000</td>\n",
       "      <td>1.318683e+09</td>\n",
       "      <td>82.603000</td>\n",
       "      <td>113523.132900</td>\n",
       "    </tr>\n",
       "  </tbody>\n",
       "</table>\n",
       "</div>"
      ],
      "text/plain": [
       "             year           pop      lifeExp      gdpPercap\n",
       "count  1704.00000  1.704000e+03  1704.000000    1704.000000\n",
       "mean   1979.50000  2.960121e+07    59.474439    7215.327081\n",
       "std      17.26533  1.061579e+08    12.917107    9857.454543\n",
       "min    1952.00000  6.001100e+04    23.599000     241.165876\n",
       "25%    1965.75000  2.793664e+06    48.198000    1202.060309\n",
       "50%    1979.50000  7.023596e+06    60.712500    3531.846988\n",
       "75%    1993.25000  1.958522e+07    70.845500    9325.462346\n",
       "max    2007.00000  1.318683e+09    82.603000  113523.132900"
      ]
     },
     "execution_count": 80,
     "metadata": {},
     "output_type": "execute_result"
    }
   ],
   "source": [
    "# Problemas encontrados:\n",
    "# 1. Índia -> Pop com Notação Científica - Verificar se precisa tratar\n",
    "# 2. China -> Pop com decimal\n",
    "base_limpa.info()\n",
    "base_limpa.describe()"
   ]
  },
  {
   "cell_type": "code",
   "execution_count": 81,
   "id": "1d22b2a2",
   "metadata": {},
   "outputs": [
    {
     "name": "stderr",
     "output_type": "stream",
     "text": [
      "C:\\Users\\bruno\\AppData\\Local\\Temp\\ipykernel_7216\\2259588810.py:9: SettingWithCopyWarning: \n",
      "A value is trying to be set on a copy of a slice from a DataFrame.\n",
      "Try using .loc[row_indexer,col_indexer] = value instead\n",
      "\n",
      "See the caveats in the documentation: https://pandas.pydata.org/pandas-docs/stable/user_guide/indexing.html#returning-a-view-versus-a-copy\n",
      "  base_limpa['gdpPercap'] = base_limpa['gdpPercap'].round(2)\n",
      "C:\\Users\\bruno\\AppData\\Local\\Temp\\ipykernel_7216\\2259588810.py:10: SettingWithCopyWarning: \n",
      "A value is trying to be set on a copy of a slice from a DataFrame.\n",
      "Try using .loc[row_indexer,col_indexer] = value instead\n",
      "\n",
      "See the caveats in the documentation: https://pandas.pydata.org/pandas-docs/stable/user_guide/indexing.html#returning-a-view-versus-a-copy\n",
      "  base_limpa['lifeExp'] = base_limpa['lifeExp'].round(1)\n",
      "C:\\Users\\bruno\\AppData\\Local\\Temp\\ipykernel_7216\\2259588810.py:11: SettingWithCopyWarning: \n",
      "A value is trying to be set on a copy of a slice from a DataFrame.\n",
      "Try using .loc[row_indexer,col_indexer] = value instead\n",
      "\n",
      "See the caveats in the documentation: https://pandas.pydata.org/pandas-docs/stable/user_guide/indexing.html#returning-a-view-versus-a-copy\n",
      "  base_limpa[\"pop\"] = base_limpa[\"pop\"].astype(\"int64\")\n",
      "C:\\Users\\bruno\\AppData\\Local\\Temp\\ipykernel_7216\\2259588810.py:12: SettingWithCopyWarning: \n",
      "A value is trying to be set on a copy of a slice from a DataFrame.\n",
      "Try using .loc[row_indexer,col_indexer] = value instead\n",
      "\n",
      "See the caveats in the documentation: https://pandas.pydata.org/pandas-docs/stable/user_guide/indexing.html#returning-a-view-versus-a-copy\n",
      "  base_limpa[\"pop\"] = base_limpa[\"pop\"].apply(lambda x: f\"{x:,.0f}\".replace(\",\", \".\"))\n"
     ]
    },
    {
     "data": {
      "application/vnd.microsoft.datawrangler.viewer.v0+json": {
       "columns": [
        {
         "name": "index",
         "rawType": "int64",
         "type": "integer"
        },
        {
         "name": "country",
         "rawType": "object",
         "type": "string"
        },
        {
         "name": "year",
         "rawType": "int64",
         "type": "integer"
        },
        {
         "name": "pop",
         "rawType": "object",
         "type": "string"
        },
        {
         "name": "continent",
         "rawType": "object",
         "type": "string"
        },
        {
         "name": "lifeExp",
         "rawType": "float64",
         "type": "float"
        },
        {
         "name": "gdpPercap",
         "rawType": "float64",
         "type": "float"
        }
       ],
       "ref": "ebad9406-9f4f-4dad-b3dd-41f4df3dafc6",
       "rows": [
        [
         "297",
         "China",
         "1952",
         "556.263.527",
         "Asia",
         "44.0",
         "400.45"
        ],
        [
         "298",
         "China",
         "1957",
         "637.408.000",
         "Asia",
         "50.5",
         "575.99"
        ],
        [
         "299",
         "China",
         "1962",
         "665.770.000",
         "Asia",
         "44.5",
         "487.67"
        ],
        [
         "300",
         "China",
         "1967",
         "754.550.000",
         "Asia",
         "58.4",
         "612.71"
        ],
        [
         "301",
         "China",
         "1972",
         "862.030.000",
         "Asia",
         "63.1",
         "676.9"
        ],
        [
         "302",
         "China",
         "1977",
         "943.455.000",
         "Asia",
         "64.0",
         "741.24"
        ],
        [
         "303",
         "China",
         "1982",
         "1.000.281.000",
         "Asia",
         "65.5",
         "962.42"
        ],
        [
         "304",
         "China",
         "1987",
         "1.084.035.000",
         "Asia",
         "67.3",
         "1378.9"
        ],
        [
         "305",
         "China",
         "1992",
         "1.164.970.000",
         "Asia",
         "68.7",
         "1655.78"
        ],
        [
         "306",
         "China",
         "1997",
         "1.230.075.000",
         "Asia",
         "70.4",
         "2289.23"
        ],
        [
         "307",
         "China",
         "2002",
         "1.280.400.000",
         "Asia",
         "72.0",
         "3119.28"
        ],
        [
         "308",
         "China",
         "2007",
         "1.318.683.096",
         "Asia",
         "73.0",
         "4959.11"
        ]
       ],
       "shape": {
        "columns": 6,
        "rows": 12
       }
      },
      "text/html": [
       "<div>\n",
       "<style scoped>\n",
       "    .dataframe tbody tr th:only-of-type {\n",
       "        vertical-align: middle;\n",
       "    }\n",
       "\n",
       "    .dataframe tbody tr th {\n",
       "        vertical-align: top;\n",
       "    }\n",
       "\n",
       "    .dataframe thead th {\n",
       "        text-align: right;\n",
       "    }\n",
       "</style>\n",
       "<table border=\"1\" class=\"dataframe\">\n",
       "  <thead>\n",
       "    <tr style=\"text-align: right;\">\n",
       "      <th></th>\n",
       "      <th>country</th>\n",
       "      <th>year</th>\n",
       "      <th>pop</th>\n",
       "      <th>continent</th>\n",
       "      <th>lifeExp</th>\n",
       "      <th>gdpPercap</th>\n",
       "    </tr>\n",
       "  </thead>\n",
       "  <tbody>\n",
       "    <tr>\n",
       "      <th>297</th>\n",
       "      <td>China</td>\n",
       "      <td>1952</td>\n",
       "      <td>556.263.527</td>\n",
       "      <td>Asia</td>\n",
       "      <td>44.0</td>\n",
       "      <td>400.45</td>\n",
       "    </tr>\n",
       "    <tr>\n",
       "      <th>298</th>\n",
       "      <td>China</td>\n",
       "      <td>1957</td>\n",
       "      <td>637.408.000</td>\n",
       "      <td>Asia</td>\n",
       "      <td>50.5</td>\n",
       "      <td>575.99</td>\n",
       "    </tr>\n",
       "    <tr>\n",
       "      <th>299</th>\n",
       "      <td>China</td>\n",
       "      <td>1962</td>\n",
       "      <td>665.770.000</td>\n",
       "      <td>Asia</td>\n",
       "      <td>44.5</td>\n",
       "      <td>487.67</td>\n",
       "    </tr>\n",
       "    <tr>\n",
       "      <th>300</th>\n",
       "      <td>China</td>\n",
       "      <td>1967</td>\n",
       "      <td>754.550.000</td>\n",
       "      <td>Asia</td>\n",
       "      <td>58.4</td>\n",
       "      <td>612.71</td>\n",
       "    </tr>\n",
       "    <tr>\n",
       "      <th>301</th>\n",
       "      <td>China</td>\n",
       "      <td>1972</td>\n",
       "      <td>862.030.000</td>\n",
       "      <td>Asia</td>\n",
       "      <td>63.1</td>\n",
       "      <td>676.90</td>\n",
       "    </tr>\n",
       "    <tr>\n",
       "      <th>302</th>\n",
       "      <td>China</td>\n",
       "      <td>1977</td>\n",
       "      <td>943.455.000</td>\n",
       "      <td>Asia</td>\n",
       "      <td>64.0</td>\n",
       "      <td>741.24</td>\n",
       "    </tr>\n",
       "    <tr>\n",
       "      <th>303</th>\n",
       "      <td>China</td>\n",
       "      <td>1982</td>\n",
       "      <td>1.000.281.000</td>\n",
       "      <td>Asia</td>\n",
       "      <td>65.5</td>\n",
       "      <td>962.42</td>\n",
       "    </tr>\n",
       "    <tr>\n",
       "      <th>304</th>\n",
       "      <td>China</td>\n",
       "      <td>1987</td>\n",
       "      <td>1.084.035.000</td>\n",
       "      <td>Asia</td>\n",
       "      <td>67.3</td>\n",
       "      <td>1378.90</td>\n",
       "    </tr>\n",
       "    <tr>\n",
       "      <th>305</th>\n",
       "      <td>China</td>\n",
       "      <td>1992</td>\n",
       "      <td>1.164.970.000</td>\n",
       "      <td>Asia</td>\n",
       "      <td>68.7</td>\n",
       "      <td>1655.78</td>\n",
       "    </tr>\n",
       "    <tr>\n",
       "      <th>306</th>\n",
       "      <td>China</td>\n",
       "      <td>1997</td>\n",
       "      <td>1.230.075.000</td>\n",
       "      <td>Asia</td>\n",
       "      <td>70.4</td>\n",
       "      <td>2289.23</td>\n",
       "    </tr>\n",
       "    <tr>\n",
       "      <th>307</th>\n",
       "      <td>China</td>\n",
       "      <td>2002</td>\n",
       "      <td>1.280.400.000</td>\n",
       "      <td>Asia</td>\n",
       "      <td>72.0</td>\n",
       "      <td>3119.28</td>\n",
       "    </tr>\n",
       "    <tr>\n",
       "      <th>308</th>\n",
       "      <td>China</td>\n",
       "      <td>2007</td>\n",
       "      <td>1.318.683.096</td>\n",
       "      <td>Asia</td>\n",
       "      <td>73.0</td>\n",
       "      <td>4959.11</td>\n",
       "    </tr>\n",
       "  </tbody>\n",
       "</table>\n",
       "</div>"
      ],
      "text/plain": [
       "    country  year            pop continent  lifeExp  gdpPercap\n",
       "297   China  1952    556.263.527      Asia     44.0     400.45\n",
       "298   China  1957    637.408.000      Asia     50.5     575.99\n",
       "299   China  1962    665.770.000      Asia     44.5     487.67\n",
       "300   China  1967    754.550.000      Asia     58.4     612.71\n",
       "301   China  1972    862.030.000      Asia     63.1     676.90\n",
       "302   China  1977    943.455.000      Asia     64.0     741.24\n",
       "303   China  1982  1.000.281.000      Asia     65.5     962.42\n",
       "304   China  1987  1.084.035.000      Asia     67.3    1378.90\n",
       "305   China  1992  1.164.970.000      Asia     68.7    1655.78\n",
       "306   China  1997  1.230.075.000      Asia     70.4    2289.23\n",
       "307   China  2002  1.280.400.000      Asia     72.0    3119.28\n",
       "308   China  2007  1.318.683.096      Asia     73.0    4959.11"
      ]
     },
     "execution_count": 81,
     "metadata": {},
     "output_type": "execute_result"
    }
   ],
   "source": [
    "# Reduzir renda per capita para 2 casas decimais\n",
    "# Reduzir expectativa de vida para 1 casa decimal\n",
    "# Tratar população da Índia e China\n",
    "# Rwanda teve uma guerra civil em 1994, o que impactou a expectativa de vida do país. Talvez seja interessante analisar esse ponto.\n",
    "# Analisar quais paises tem anos faltando -> Não parece ter impacto\n",
    "#anos_por_pais = base_limpa.groupby(\"country\").count()[\"year\"].reset_index().sort_values(by=\"year\", ascending=True)\n",
    "#anos_por_pais.head(1000)\n",
    "\n",
    "base_limpa['gdpPercap'] = base_limpa['gdpPercap'].round(2)\n",
    "base_limpa['lifeExp'] = base_limpa['lifeExp'].round(1)\n",
    "base_limpa[\"pop\"] = base_limpa[\"pop\"].astype(\"int64\")\n",
    "base_limpa[\"pop\"] = base_limpa[\"pop\"].apply(lambda x: f\"{x:,.0f}\".replace(\",\", \".\"))\n",
    "\n",
    "base_limpa[base_limpa['country'] == 'China'].head(30)\n",
    "#base_limpa[base_limpa['country'] == 'India'].head(30)\n"
   ]
  },
  {
   "cell_type": "code",
   "execution_count": null,
   "id": "0cc4fb53",
   "metadata": {},
   "outputs": [
    {
     "name": "stdout",
     "output_type": "stream",
     "text": [
      "Importando o dataframe: ../../avaliacao-python-ciencia-dados/Bases/deaths-in-armed-conflicts-by-type.csv ...\n",
      "Dataframe importado com sucesso! \n",
      "Dimensão: (7632, 8)\n",
      "Foram encontrados 0 registros duplicados\n",
      "\n",
      "Prévia dos dados duplicados:\n"
     ]
    },
    {
     "data": {
      "application/vnd.microsoft.datawrangler.viewer.v0+json": {
       "columns": [
        {
         "name": "index",
         "rawType": "int64",
         "type": "integer"
        },
        {
         "name": "Entity",
         "rawType": "object",
         "type": "string"
        },
        {
         "name": "Deaths in ongoing conflicts (best estimate) - Conflict type: one-sided violence_sum",
         "rawType": "int64",
         "type": "integer"
        },
        {
         "name": "Deaths in ongoing conflicts (best estimate) - Conflict type: non-state conflict_sum",
         "rawType": "int64",
         "type": "integer"
        },
        {
         "name": "Deaths in ongoing conflicts (best estimate) - Conflict type: extrasystemic_sum",
         "rawType": "int64",
         "type": "integer"
        },
        {
         "name": "Deaths in ongoing conflicts (best estimate) - Conflict type: intrastate_sum",
         "rawType": "int64",
         "type": "integer"
        },
        {
         "name": "Deaths in ongoing conflicts (best estimate) - Conflict type: interstate_sum",
         "rawType": "int64",
         "type": "integer"
        },
        {
         "name": "year",
         "rawType": "int64",
         "type": "integer"
        }
       ],
       "ref": "afe82836-fb10-461e-90f2-326d0fc1bf86",
       "rows": [
        [
         "0",
         "Abkhazia",
         "0",
         "0",
         "0",
         "0",
         "0",
         "1992"
        ],
        [
         "1",
         "Abkhazia",
         "0",
         "0",
         "0",
         "0",
         "0",
         "1997"
        ],
        [
         "2",
         "Abkhazia",
         "0",
         "0",
         "0",
         "0",
         "0",
         "2002"
        ],
        [
         "3",
         "Abkhazia",
         "0",
         "0",
         "0",
         "0",
         "0",
         "2007"
        ],
        [
         "4",
         "Abyei",
         "0",
         "0",
         "0",
         "0",
         "0",
         "1992"
        ]
       ],
       "shape": {
        "columns": 7,
        "rows": 5
       }
      },
      "text/html": [
       "<div>\n",
       "<style scoped>\n",
       "    .dataframe tbody tr th:only-of-type {\n",
       "        vertical-align: middle;\n",
       "    }\n",
       "\n",
       "    .dataframe tbody tr th {\n",
       "        vertical-align: top;\n",
       "    }\n",
       "\n",
       "    .dataframe thead th {\n",
       "        text-align: right;\n",
       "    }\n",
       "</style>\n",
       "<table border=\"1\" class=\"dataframe\">\n",
       "  <thead>\n",
       "    <tr style=\"text-align: right;\">\n",
       "      <th></th>\n",
       "      <th>Entity</th>\n",
       "      <th>Deaths in ongoing conflicts (best estimate) - Conflict type: one-sided violence_sum</th>\n",
       "      <th>Deaths in ongoing conflicts (best estimate) - Conflict type: non-state conflict_sum</th>\n",
       "      <th>Deaths in ongoing conflicts (best estimate) - Conflict type: extrasystemic_sum</th>\n",
       "      <th>Deaths in ongoing conflicts (best estimate) - Conflict type: intrastate_sum</th>\n",
       "      <th>Deaths in ongoing conflicts (best estimate) - Conflict type: interstate_sum</th>\n",
       "      <th>year</th>\n",
       "    </tr>\n",
       "  </thead>\n",
       "  <tbody>\n",
       "    <tr>\n",
       "      <th>0</th>\n",
       "      <td>Abkhazia</td>\n",
       "      <td>0</td>\n",
       "      <td>0</td>\n",
       "      <td>0</td>\n",
       "      <td>0</td>\n",
       "      <td>0</td>\n",
       "      <td>1992</td>\n",
       "    </tr>\n",
       "    <tr>\n",
       "      <th>1</th>\n",
       "      <td>Abkhazia</td>\n",
       "      <td>0</td>\n",
       "      <td>0</td>\n",
       "      <td>0</td>\n",
       "      <td>0</td>\n",
       "      <td>0</td>\n",
       "      <td>1997</td>\n",
       "    </tr>\n",
       "    <tr>\n",
       "      <th>2</th>\n",
       "      <td>Abkhazia</td>\n",
       "      <td>0</td>\n",
       "      <td>0</td>\n",
       "      <td>0</td>\n",
       "      <td>0</td>\n",
       "      <td>0</td>\n",
       "      <td>2002</td>\n",
       "    </tr>\n",
       "    <tr>\n",
       "      <th>3</th>\n",
       "      <td>Abkhazia</td>\n",
       "      <td>0</td>\n",
       "      <td>0</td>\n",
       "      <td>0</td>\n",
       "      <td>0</td>\n",
       "      <td>0</td>\n",
       "      <td>2007</td>\n",
       "    </tr>\n",
       "    <tr>\n",
       "      <th>4</th>\n",
       "      <td>Abyei</td>\n",
       "      <td>0</td>\n",
       "      <td>0</td>\n",
       "      <td>0</td>\n",
       "      <td>0</td>\n",
       "      <td>0</td>\n",
       "      <td>1992</td>\n",
       "    </tr>\n",
       "  </tbody>\n",
       "</table>\n",
       "</div>"
      ],
      "text/plain": [
       "     Entity  \\\n",
       "0  Abkhazia   \n",
       "1  Abkhazia   \n",
       "2  Abkhazia   \n",
       "3  Abkhazia   \n",
       "4     Abyei   \n",
       "\n",
       "   Deaths in ongoing conflicts (best estimate) - Conflict type: one-sided violence_sum  \\\n",
       "0                                                  0                                     \n",
       "1                                                  0                                     \n",
       "2                                                  0                                     \n",
       "3                                                  0                                     \n",
       "4                                                  0                                     \n",
       "\n",
       "   Deaths in ongoing conflicts (best estimate) - Conflict type: non-state conflict_sum  \\\n",
       "0                                                  0                                     \n",
       "1                                                  0                                     \n",
       "2                                                  0                                     \n",
       "3                                                  0                                     \n",
       "4                                                  0                                     \n",
       "\n",
       "   Deaths in ongoing conflicts (best estimate) - Conflict type: extrasystemic_sum  \\\n",
       "0                                                  0                                \n",
       "1                                                  0                                \n",
       "2                                                  0                                \n",
       "3                                                  0                                \n",
       "4                                                  0                                \n",
       "\n",
       "   Deaths in ongoing conflicts (best estimate) - Conflict type: intrastate_sum  \\\n",
       "0                                                  0                             \n",
       "1                                                  0                             \n",
       "2                                                  0                             \n",
       "3                                                  0                             \n",
       "4                                                  0                             \n",
       "\n",
       "   Deaths in ongoing conflicts (best estimate) - Conflict type: interstate_sum  \\\n",
       "0                                                  0                             \n",
       "1                                                  0                             \n",
       "2                                                  0                             \n",
       "3                                                  0                             \n",
       "4                                                  0                             \n",
       "\n",
       "   year  \n",
       "0  1992  \n",
       "1  1997  \n",
       "2  2002  \n",
       "3  2007  \n",
       "4  1992  "
      ]
     },
     "execution_count": 82,
     "metadata": {},
     "output_type": "execute_result"
    }
   ],
   "source": [
    "# Tratar a base de mortes por guerra e adicionar na brincadeira:\n",
    "mortes_guerra = importa_csv(dataframe_name='../../avaliacao-python-ciencia-dados/Bases/deaths-in-armed-conflicts-by-type.csv', separador=',', encoding='utf-8')\n",
    "\n",
    "analisa_dados_ausentes(mortes_guerra)\n",
    "verifica_dados_duplicados(mortes_guerra) # tem 0 registros duplicados\n",
    "\n",
    "mortes_guerra.describe()\n",
    "\n",
    "#Realizar agregação por pais e ano, equalizando a coluna de ano com as da base principal\n",
    "#A base de mortes em guerra vai de 89 a 2024 e a base principal de 1952 a 2007. teremos apenas um pequeno intervalo de anos de interseçã0\n",
    "#que será agregado e analisado\n",
    "anos = [1952, 1957, 1962, 1967, 1972,1977,1982,1987,1992,1997,2002,2007]\n",
    "colunas_agrupadas = ['Deaths in ongoing conflicts (best estimate) - Conflict type: one-sided violence','Deaths in ongoing conflicts (best estimate) - Conflict type: non-state conflict','Deaths in ongoing conflicts (best estimate) - Conflict type: extrasystemic','Deaths in ongoing conflicts (best estimate) - Conflict type: intrastate','Deaths in ongoing conflicts (best estimate) - Conflict type: interstate']\n",
    "rename_one_column(mortes_guerra, old_name='Year', new_name='year', inplace=True)\n",
    "\n",
    "mortes_guerra = agrega_anos(mortes_guerra, anos, colunas_agrupadas,coluna_agrupamento = ['Entity'])\n",
    "mortes_guerra.head()\n",
    "#juncao = junta_dataframes(base_limpa, mortes_guerra, chave=['country', 'year'], tipo_juncao='left')\n",
    "#juncao.head()"
   ]
  },
  {
   "cell_type": "code",
   "execution_count": 83,
   "id": "05b90ec0",
   "metadata": {},
   "outputs": [
    {
     "data": {
      "application/vnd.microsoft.datawrangler.viewer.v0+json": {
       "columns": [
        {
         "name": "index",
         "rawType": "int64",
         "type": "integer"
        },
        {
         "name": "country",
         "rawType": "object",
         "type": "string"
        },
        {
         "name": "one-sided violence",
         "rawType": "int64",
         "type": "integer"
        },
        {
         "name": "non-state conflict",
         "rawType": "int64",
         "type": "integer"
        },
        {
         "name": "extrasystemic",
         "rawType": "int64",
         "type": "integer"
        },
        {
         "name": "intrastate",
         "rawType": "int64",
         "type": "integer"
        },
        {
         "name": "interstate",
         "rawType": "int64",
         "type": "integer"
        },
        {
         "name": "year",
         "rawType": "int64",
         "type": "integer"
        }
       ],
       "ref": "6f396a6d-e09e-456d-914b-c79979a37aa9",
       "rows": [
        [
         "0",
         "Abkhazia",
         "0",
         "0",
         "0",
         "0",
         "0",
         "1992"
        ],
        [
         "1",
         "Abkhazia",
         "0",
         "0",
         "0",
         "0",
         "0",
         "1997"
        ],
        [
         "2",
         "Abkhazia",
         "0",
         "0",
         "0",
         "0",
         "0",
         "2002"
        ],
        [
         "3",
         "Abkhazia",
         "0",
         "0",
         "0",
         "0",
         "0",
         "2007"
        ],
        [
         "4",
         "Abyei",
         "0",
         "0",
         "0",
         "0",
         "0",
         "1992"
        ],
        [
         "5",
         "Abyei",
         "61",
         "0",
         "0",
         "0",
         "0",
         "1997"
        ],
        [
         "6",
         "Abyei",
         "18",
         "0",
         "0",
         "0",
         "0",
         "2002"
        ],
        [
         "7",
         "Abyei",
         "0",
         "0",
         "0",
         "0",
         "0",
         "2007"
        ],
        [
         "8",
         "Afghanistan",
         "0",
         "614",
         "0",
         "14230",
         "0",
         "1992"
        ],
        [
         "9",
         "Afghanistan",
         "395",
         "580",
         "0",
         "28080",
         "0",
         "1997"
        ],
        [
         "10",
         "Afghanistan",
         "6887",
         "347",
         "0",
         "20668",
         "1397",
         "2002"
        ],
        [
         "11",
         "Afghanistan",
         "477",
         "320",
         "0",
         "14656",
         "0",
         "2007"
        ],
        [
         "12",
         "Africa",
         "20013",
         "14047",
         "0",
         "132113",
         "0",
         "1992"
        ],
        [
         "13",
         "Africa",
         "874002",
         "26950",
         "0",
         "63718",
         "56",
         "1997"
        ],
        [
         "14",
         "Africa",
         "33935",
         "20873",
         "0",
         "64849",
         "98192",
         "2002"
        ],
        [
         "15",
         "Africa",
         "22477",
         "11015",
         "0",
         "21076",
         "0",
         "2007"
        ],
        [
         "16",
         "Albania",
         "0",
         "0",
         "0",
         "0",
         "0",
         "1992"
        ],
        [
         "17",
         "Albania",
         "0",
         "0",
         "0",
         "0",
         "0",
         "1997"
        ],
        [
         "18",
         "Albania",
         "0",
         "0",
         "0",
         "26",
         "0",
         "2002"
        ],
        [
         "19",
         "Albania",
         "0",
         "0",
         "0",
         "0",
         "0",
         "2007"
        ],
        [
         "20",
         "Algeria",
         "0",
         "0",
         "0",
         "291",
         "0",
         "1992"
        ],
        [
         "21",
         "Algeria",
         "381",
         "301",
         "0",
         "8187",
         "0",
         "1997"
        ],
        [
         "22",
         "Algeria",
         "1020",
         "143",
         "0",
         "6188",
         "0",
         "2002"
        ],
        [
         "23",
         "Algeria",
         "181",
         "0",
         "0",
         "2011",
         "0",
         "2007"
        ],
        [
         "24",
         "Americas",
         "2887",
         "131",
         "0",
         "15397",
         "843",
         "1992"
        ],
        [
         "25",
         "Americas",
         "1704",
         "402",
         "0",
         "5460",
         "99",
         "1997"
        ],
        [
         "26",
         "Americas",
         "9954",
         "2816",
         "0",
         "9980",
         "0",
         "2002"
        ],
        [
         "27",
         "Americas",
         "5947",
         "3991",
         "0",
         "6067",
         "0",
         "2007"
        ],
        [
         "28",
         "Andorra",
         "0",
         "0",
         "0",
         "0",
         "0",
         "1992"
        ],
        [
         "29",
         "Andorra",
         "0",
         "0",
         "0",
         "0",
         "0",
         "1997"
        ],
        [
         "30",
         "Andorra",
         "0",
         "0",
         "0",
         "0",
         "0",
         "2002"
        ],
        [
         "31",
         "Andorra",
         "0",
         "0",
         "0",
         "0",
         "0",
         "2007"
        ],
        [
         "32",
         "Angola",
         "114",
         "0",
         "0",
         "8230",
         "0",
         "1992"
        ],
        [
         "33",
         "Angola",
         "448",
         "0",
         "0",
         "16295",
         "0",
         "1997"
        ],
        [
         "34",
         "Angola",
         "1833",
         "0",
         "0",
         "5927",
         "0",
         "2002"
        ],
        [
         "35",
         "Angola",
         "18",
         "0",
         "0",
         "75",
         "0",
         "2007"
        ],
        [
         "36",
         "Antigua and Barbuda",
         "0",
         "0",
         "0",
         "0",
         "0",
         "1992"
        ],
        [
         "37",
         "Antigua and Barbuda",
         "0",
         "0",
         "0",
         "0",
         "0",
         "1997"
        ],
        [
         "38",
         "Antigua and Barbuda",
         "0",
         "0",
         "0",
         "0",
         "0",
         "2002"
        ],
        [
         "39",
         "Antigua and Barbuda",
         "0",
         "0",
         "0",
         "0",
         "0",
         "2007"
        ],
        [
         "40",
         "Argentina",
         "0",
         "0",
         "0",
         "0",
         "0",
         "1992"
        ],
        [
         "41",
         "Argentina",
         "86",
         "0",
         "0",
         "0",
         "0",
         "1997"
        ],
        [
         "42",
         "Argentina",
         "0",
         "0",
         "0",
         "0",
         "0",
         "2002"
        ],
        [
         "43",
         "Argentina",
         "0",
         "0",
         "0",
         "0",
         "0",
         "2007"
        ],
        [
         "44",
         "Armenia",
         "0",
         "2",
         "0",
         "139",
         "0",
         "1992"
        ],
        [
         "45",
         "Armenia",
         "0",
         "0",
         "0",
         "74",
         "0",
         "1997"
        ],
        [
         "46",
         "Armenia",
         "0",
         "0",
         "0",
         "0",
         "0",
         "2002"
        ],
        [
         "47",
         "Armenia",
         "0",
         "0",
         "0",
         "1",
         "0",
         "2007"
        ],
        [
         "48",
         "Asia and Oceania",
         "8193",
         "5432",
         "0",
         "52520",
         "178",
         "1992"
        ],
        [
         "49",
         "Asia and Oceania",
         "3481",
         "3304",
         "0",
         "58069",
         "204",
         "1997"
        ]
       ],
       "shape": {
        "columns": 7,
        "rows": 848
       }
      },
      "text/html": [
       "<div>\n",
       "<style scoped>\n",
       "    .dataframe tbody tr th:only-of-type {\n",
       "        vertical-align: middle;\n",
       "    }\n",
       "\n",
       "    .dataframe tbody tr th {\n",
       "        vertical-align: top;\n",
       "    }\n",
       "\n",
       "    .dataframe thead th {\n",
       "        text-align: right;\n",
       "    }\n",
       "</style>\n",
       "<table border=\"1\" class=\"dataframe\">\n",
       "  <thead>\n",
       "    <tr style=\"text-align: right;\">\n",
       "      <th></th>\n",
       "      <th>country</th>\n",
       "      <th>one-sided violence</th>\n",
       "      <th>non-state conflict</th>\n",
       "      <th>extrasystemic</th>\n",
       "      <th>intrastate</th>\n",
       "      <th>interstate</th>\n",
       "      <th>year</th>\n",
       "    </tr>\n",
       "  </thead>\n",
       "  <tbody>\n",
       "    <tr>\n",
       "      <th>0</th>\n",
       "      <td>Abkhazia</td>\n",
       "      <td>0</td>\n",
       "      <td>0</td>\n",
       "      <td>0</td>\n",
       "      <td>0</td>\n",
       "      <td>0</td>\n",
       "      <td>1992</td>\n",
       "    </tr>\n",
       "    <tr>\n",
       "      <th>1</th>\n",
       "      <td>Abkhazia</td>\n",
       "      <td>0</td>\n",
       "      <td>0</td>\n",
       "      <td>0</td>\n",
       "      <td>0</td>\n",
       "      <td>0</td>\n",
       "      <td>1997</td>\n",
       "    </tr>\n",
       "    <tr>\n",
       "      <th>2</th>\n",
       "      <td>Abkhazia</td>\n",
       "      <td>0</td>\n",
       "      <td>0</td>\n",
       "      <td>0</td>\n",
       "      <td>0</td>\n",
       "      <td>0</td>\n",
       "      <td>2002</td>\n",
       "    </tr>\n",
       "    <tr>\n",
       "      <th>3</th>\n",
       "      <td>Abkhazia</td>\n",
       "      <td>0</td>\n",
       "      <td>0</td>\n",
       "      <td>0</td>\n",
       "      <td>0</td>\n",
       "      <td>0</td>\n",
       "      <td>2007</td>\n",
       "    </tr>\n",
       "    <tr>\n",
       "      <th>4</th>\n",
       "      <td>Abyei</td>\n",
       "      <td>0</td>\n",
       "      <td>0</td>\n",
       "      <td>0</td>\n",
       "      <td>0</td>\n",
       "      <td>0</td>\n",
       "      <td>1992</td>\n",
       "    </tr>\n",
       "    <tr>\n",
       "      <th>...</th>\n",
       "      <td>...</td>\n",
       "      <td>...</td>\n",
       "      <td>...</td>\n",
       "      <td>...</td>\n",
       "      <td>...</td>\n",
       "      <td>...</td>\n",
       "      <td>...</td>\n",
       "    </tr>\n",
       "    <tr>\n",
       "      <th>843</th>\n",
       "      <td>Zambia</td>\n",
       "      <td>0</td>\n",
       "      <td>0</td>\n",
       "      <td>0</td>\n",
       "      <td>0</td>\n",
       "      <td>0</td>\n",
       "      <td>2007</td>\n",
       "    </tr>\n",
       "    <tr>\n",
       "      <th>844</th>\n",
       "      <td>Zimbabwe</td>\n",
       "      <td>51</td>\n",
       "      <td>0</td>\n",
       "      <td>0</td>\n",
       "      <td>0</td>\n",
       "      <td>0</td>\n",
       "      <td>1992</td>\n",
       "    </tr>\n",
       "    <tr>\n",
       "      <th>845</th>\n",
       "      <td>Zimbabwe</td>\n",
       "      <td>0</td>\n",
       "      <td>0</td>\n",
       "      <td>0</td>\n",
       "      <td>0</td>\n",
       "      <td>0</td>\n",
       "      <td>1997</td>\n",
       "    </tr>\n",
       "    <tr>\n",
       "      <th>846</th>\n",
       "      <td>Zimbabwe</td>\n",
       "      <td>0</td>\n",
       "      <td>0</td>\n",
       "      <td>0</td>\n",
       "      <td>0</td>\n",
       "      <td>0</td>\n",
       "      <td>2002</td>\n",
       "    </tr>\n",
       "    <tr>\n",
       "      <th>847</th>\n",
       "      <td>Zimbabwe</td>\n",
       "      <td>0</td>\n",
       "      <td>0</td>\n",
       "      <td>0</td>\n",
       "      <td>0</td>\n",
       "      <td>0</td>\n",
       "      <td>2007</td>\n",
       "    </tr>\n",
       "  </tbody>\n",
       "</table>\n",
       "<p>848 rows × 7 columns</p>\n",
       "</div>"
      ],
      "text/plain": [
       "      country  one-sided violence  non-state conflict  extrasystemic  \\\n",
       "0    Abkhazia                   0                   0              0   \n",
       "1    Abkhazia                   0                   0              0   \n",
       "2    Abkhazia                   0                   0              0   \n",
       "3    Abkhazia                   0                   0              0   \n",
       "4       Abyei                   0                   0              0   \n",
       "..        ...                 ...                 ...            ...   \n",
       "843    Zambia                   0                   0              0   \n",
       "844  Zimbabwe                  51                   0              0   \n",
       "845  Zimbabwe                   0                   0              0   \n",
       "846  Zimbabwe                   0                   0              0   \n",
       "847  Zimbabwe                   0                   0              0   \n",
       "\n",
       "     intrastate  interstate  year  \n",
       "0             0           0  1992  \n",
       "1             0           0  1997  \n",
       "2             0           0  2002  \n",
       "3             0           0  2007  \n",
       "4             0           0  1992  \n",
       "..          ...         ...   ...  \n",
       "843           0           0  2007  \n",
       "844           0           0  1992  \n",
       "845           0           0  1997  \n",
       "846           0           0  2002  \n",
       "847           0           0  2007  \n",
       "\n",
       "[848 rows x 7 columns]"
      ]
     },
     "execution_count": 83,
     "metadata": {},
     "output_type": "execute_result"
    }
   ],
   "source": [
    "# renomeiar colunas para facilitar o uso e entendimento do que tá rolando.\n",
    "rename_one_column(mortes_guerra, old_name='Entity', new_name='country', inplace=True)\n",
    "rename_one_column(mortes_guerra, old_name='Deaths in ongoing conflicts (best estimate) - Conflict type: one-sided violence_sum', new_name='one-sided violence', inplace=True)\n",
    "rename_one_column(mortes_guerra, old_name='Deaths in ongoing conflicts (best estimate) - Conflict type: non-state conflict_sum', new_name='non-state conflict', inplace=True)\n",
    "rename_one_column(mortes_guerra, old_name='Deaths in ongoing conflicts (best estimate) - Conflict type: extrasystemic_sum', new_name='extrasystemic', inplace=True)\n",
    "rename_one_column(mortes_guerra, old_name='Deaths in ongoing conflicts (best estimate) - Conflict type: intrastate_sum', new_name='intrastate', inplace=True)\n",
    "rename_one_column(mortes_guerra, old_name='Deaths in ongoing conflicts (best estimate) - Conflict type: interstate_sum', new_name='interstate', inplace=True)"
   ]
  },
  {
   "cell_type": "code",
   "execution_count": 84,
   "id": "7f9c8fce",
   "metadata": {},
   "outputs": [
    {
     "data": {
      "application/vnd.microsoft.datawrangler.viewer.v0+json": {
       "columns": [
        {
         "name": "index",
         "rawType": "int64",
         "type": "integer"
        },
        {
         "name": "country",
         "rawType": "object",
         "type": "string"
        },
        {
         "name": "one-sided violence",
         "rawType": "int64",
         "type": "integer"
        },
        {
         "name": "non-state conflict",
         "rawType": "int64",
         "type": "integer"
        },
        {
         "name": "extrasystemic",
         "rawType": "int64",
         "type": "integer"
        },
        {
         "name": "intrastate",
         "rawType": "int64",
         "type": "integer"
        },
        {
         "name": "interstate",
         "rawType": "int64",
         "type": "integer"
        },
        {
         "name": "year",
         "rawType": "int64",
         "type": "integer"
        }
       ],
       "ref": "4e247d38-e39b-45a4-98e0-e7c18b926971",
       "rows": [
        [
         "620",
         "Rwanda",
         "3013",
         "0",
         "0",
         "1366",
         "0",
         "1992"
        ],
        [
         "621",
         "Rwanda",
         "782261",
         "92",
         "0",
         "3344",
         "0",
         "1997"
        ],
        [
         "622",
         "Rwanda",
         "708",
         "0",
         "0",
         "3139",
         "0",
         "2002"
        ],
        [
         "623",
         "Rwanda",
         "0",
         "0",
         "0",
         "0",
         "0",
         "2007"
        ]
       ],
       "shape": {
        "columns": 7,
        "rows": 4
       }
      },
      "text/html": [
       "<div>\n",
       "<style scoped>\n",
       "    .dataframe tbody tr th:only-of-type {\n",
       "        vertical-align: middle;\n",
       "    }\n",
       "\n",
       "    .dataframe tbody tr th {\n",
       "        vertical-align: top;\n",
       "    }\n",
       "\n",
       "    .dataframe thead th {\n",
       "        text-align: right;\n",
       "    }\n",
       "</style>\n",
       "<table border=\"1\" class=\"dataframe\">\n",
       "  <thead>\n",
       "    <tr style=\"text-align: right;\">\n",
       "      <th></th>\n",
       "      <th>country</th>\n",
       "      <th>one-sided violence</th>\n",
       "      <th>non-state conflict</th>\n",
       "      <th>extrasystemic</th>\n",
       "      <th>intrastate</th>\n",
       "      <th>interstate</th>\n",
       "      <th>year</th>\n",
       "    </tr>\n",
       "  </thead>\n",
       "  <tbody>\n",
       "    <tr>\n",
       "      <th>620</th>\n",
       "      <td>Rwanda</td>\n",
       "      <td>3013</td>\n",
       "      <td>0</td>\n",
       "      <td>0</td>\n",
       "      <td>1366</td>\n",
       "      <td>0</td>\n",
       "      <td>1992</td>\n",
       "    </tr>\n",
       "    <tr>\n",
       "      <th>621</th>\n",
       "      <td>Rwanda</td>\n",
       "      <td>782261</td>\n",
       "      <td>92</td>\n",
       "      <td>0</td>\n",
       "      <td>3344</td>\n",
       "      <td>0</td>\n",
       "      <td>1997</td>\n",
       "    </tr>\n",
       "    <tr>\n",
       "      <th>622</th>\n",
       "      <td>Rwanda</td>\n",
       "      <td>708</td>\n",
       "      <td>0</td>\n",
       "      <td>0</td>\n",
       "      <td>3139</td>\n",
       "      <td>0</td>\n",
       "      <td>2002</td>\n",
       "    </tr>\n",
       "    <tr>\n",
       "      <th>623</th>\n",
       "      <td>Rwanda</td>\n",
       "      <td>0</td>\n",
       "      <td>0</td>\n",
       "      <td>0</td>\n",
       "      <td>0</td>\n",
       "      <td>0</td>\n",
       "      <td>2007</td>\n",
       "    </tr>\n",
       "  </tbody>\n",
       "</table>\n",
       "</div>"
      ],
      "text/plain": [
       "    country  one-sided violence  non-state conflict  extrasystemic  \\\n",
       "620  Rwanda                3013                   0              0   \n",
       "621  Rwanda              782261                  92              0   \n",
       "622  Rwanda                 708                   0              0   \n",
       "623  Rwanda                   0                   0              0   \n",
       "\n",
       "     intrastate  interstate  year  \n",
       "620        1366           0  1992  \n",
       "621        3344           0  1997  \n",
       "622        3139           0  2002  \n",
       "623           0           0  2007  "
      ]
     },
     "execution_count": 84,
     "metadata": {},
     "output_type": "execute_result"
    }
   ],
   "source": [
    "# Validando o caso de Rwanda pra ver se deu tudo certo\n",
    "filtro = mortes_guerra['country'] == 'Rwanda'\n",
    "ausentes = mortes_guerra[filtro].index\n",
    "mortes_guerra.loc[ausentes].head()\n",
    "\n",
    "# A soma pra Rwanda deu bom \\o/"
   ]
  },
  {
   "cell_type": "code",
   "execution_count": 85,
   "id": "1206db64",
   "metadata": {},
   "outputs": [
    {
     "name": "stdout",
     "output_type": "stream",
     "text": [
      "Dataframes unidos com sucesso! \n",
      "Dimensão: (1704, 11)\n"
     ]
    },
    {
     "data": {
      "application/vnd.microsoft.datawrangler.viewer.v0+json": {
       "columns": [
        {
         "name": "index",
         "rawType": "int64",
         "type": "integer"
        },
        {
         "name": "country",
         "rawType": "object",
         "type": "string"
        },
        {
         "name": "year",
         "rawType": "int64",
         "type": "integer"
        },
        {
         "name": "pop",
         "rawType": "object",
         "type": "string"
        },
        {
         "name": "continent",
         "rawType": "object",
         "type": "string"
        },
        {
         "name": "lifeExp",
         "rawType": "float64",
         "type": "float"
        },
        {
         "name": "gdpPercap",
         "rawType": "float64",
         "type": "float"
        },
        {
         "name": "one-sided violence",
         "rawType": "float64",
         "type": "float"
        },
        {
         "name": "non-state conflict",
         "rawType": "float64",
         "type": "float"
        },
        {
         "name": "extrasystemic",
         "rawType": "float64",
         "type": "float"
        },
        {
         "name": "intrastate",
         "rawType": "float64",
         "type": "float"
        },
        {
         "name": "interstate",
         "rawType": "float64",
         "type": "float"
        }
       ],
       "ref": "4f8879b4-7601-47bc-97f9-f9dd9b0b658d",
       "rows": [
        [
         "0",
         "Afghanistan",
         "1952",
         "8.425.333",
         "Asia",
         "28.8",
         "779.45",
         null,
         null,
         null,
         null,
         null
        ],
        [
         "1",
         "Afghanistan",
         "1957",
         "9.240.934",
         "Asia",
         "30.3",
         "820.85",
         null,
         null,
         null,
         null,
         null
        ],
        [
         "2",
         "Afghanistan",
         "1962",
         "10.267.083",
         "Asia",
         "32.0",
         "853.1",
         null,
         null,
         null,
         null,
         null
        ],
        [
         "3",
         "Afghanistan",
         "1967",
         "11.537.966",
         "Asia",
         "34.0",
         "836.2",
         null,
         null,
         null,
         null,
         null
        ],
        [
         "4",
         "Afghanistan",
         "1972",
         "13.079.460",
         "Asia",
         "36.1",
         "739.98",
         null,
         null,
         null,
         null,
         null
        ]
       ],
       "shape": {
        "columns": 11,
        "rows": 5
       }
      },
      "text/html": [
       "<div>\n",
       "<style scoped>\n",
       "    .dataframe tbody tr th:only-of-type {\n",
       "        vertical-align: middle;\n",
       "    }\n",
       "\n",
       "    .dataframe tbody tr th {\n",
       "        vertical-align: top;\n",
       "    }\n",
       "\n",
       "    .dataframe thead th {\n",
       "        text-align: right;\n",
       "    }\n",
       "</style>\n",
       "<table border=\"1\" class=\"dataframe\">\n",
       "  <thead>\n",
       "    <tr style=\"text-align: right;\">\n",
       "      <th></th>\n",
       "      <th>country</th>\n",
       "      <th>year</th>\n",
       "      <th>pop</th>\n",
       "      <th>continent</th>\n",
       "      <th>lifeExp</th>\n",
       "      <th>gdpPercap</th>\n",
       "      <th>one-sided violence</th>\n",
       "      <th>non-state conflict</th>\n",
       "      <th>extrasystemic</th>\n",
       "      <th>intrastate</th>\n",
       "      <th>interstate</th>\n",
       "    </tr>\n",
       "  </thead>\n",
       "  <tbody>\n",
       "    <tr>\n",
       "      <th>0</th>\n",
       "      <td>Afghanistan</td>\n",
       "      <td>1952</td>\n",
       "      <td>8.425.333</td>\n",
       "      <td>Asia</td>\n",
       "      <td>28.8</td>\n",
       "      <td>779.45</td>\n",
       "      <td>NaN</td>\n",
       "      <td>NaN</td>\n",
       "      <td>NaN</td>\n",
       "      <td>NaN</td>\n",
       "      <td>NaN</td>\n",
       "    </tr>\n",
       "    <tr>\n",
       "      <th>1</th>\n",
       "      <td>Afghanistan</td>\n",
       "      <td>1957</td>\n",
       "      <td>9.240.934</td>\n",
       "      <td>Asia</td>\n",
       "      <td>30.3</td>\n",
       "      <td>820.85</td>\n",
       "      <td>NaN</td>\n",
       "      <td>NaN</td>\n",
       "      <td>NaN</td>\n",
       "      <td>NaN</td>\n",
       "      <td>NaN</td>\n",
       "    </tr>\n",
       "    <tr>\n",
       "      <th>2</th>\n",
       "      <td>Afghanistan</td>\n",
       "      <td>1962</td>\n",
       "      <td>10.267.083</td>\n",
       "      <td>Asia</td>\n",
       "      <td>32.0</td>\n",
       "      <td>853.10</td>\n",
       "      <td>NaN</td>\n",
       "      <td>NaN</td>\n",
       "      <td>NaN</td>\n",
       "      <td>NaN</td>\n",
       "      <td>NaN</td>\n",
       "    </tr>\n",
       "    <tr>\n",
       "      <th>3</th>\n",
       "      <td>Afghanistan</td>\n",
       "      <td>1967</td>\n",
       "      <td>11.537.966</td>\n",
       "      <td>Asia</td>\n",
       "      <td>34.0</td>\n",
       "      <td>836.20</td>\n",
       "      <td>NaN</td>\n",
       "      <td>NaN</td>\n",
       "      <td>NaN</td>\n",
       "      <td>NaN</td>\n",
       "      <td>NaN</td>\n",
       "    </tr>\n",
       "    <tr>\n",
       "      <th>4</th>\n",
       "      <td>Afghanistan</td>\n",
       "      <td>1972</td>\n",
       "      <td>13.079.460</td>\n",
       "      <td>Asia</td>\n",
       "      <td>36.1</td>\n",
       "      <td>739.98</td>\n",
       "      <td>NaN</td>\n",
       "      <td>NaN</td>\n",
       "      <td>NaN</td>\n",
       "      <td>NaN</td>\n",
       "      <td>NaN</td>\n",
       "    </tr>\n",
       "  </tbody>\n",
       "</table>\n",
       "</div>"
      ],
      "text/plain": [
       "       country  year         pop continent  lifeExp  gdpPercap  \\\n",
       "0  Afghanistan  1952   8.425.333      Asia     28.8     779.45   \n",
       "1  Afghanistan  1957   9.240.934      Asia     30.3     820.85   \n",
       "2  Afghanistan  1962  10.267.083      Asia     32.0     853.10   \n",
       "3  Afghanistan  1967  11.537.966      Asia     34.0     836.20   \n",
       "4  Afghanistan  1972  13.079.460      Asia     36.1     739.98   \n",
       "\n",
       "   one-sided violence  non-state conflict  extrasystemic  intrastate  \\\n",
       "0                 NaN                 NaN            NaN         NaN   \n",
       "1                 NaN                 NaN            NaN         NaN   \n",
       "2                 NaN                 NaN            NaN         NaN   \n",
       "3                 NaN                 NaN            NaN         NaN   \n",
       "4                 NaN                 NaN            NaN         NaN   \n",
       "\n",
       "   interstate  \n",
       "0         NaN  \n",
       "1         NaN  \n",
       "2         NaN  \n",
       "3         NaN  \n",
       "4         NaN  "
      ]
     },
     "execution_count": 85,
     "metadata": {},
     "output_type": "execute_result"
    }
   ],
   "source": [
    "#Agora a gente junta as 2 bases pra ver no que dá\n",
    "juncao = junta_dataframes(base_limpa, mortes_guerra, chave=['country', 'year'], tipo_juncao='left')\n",
    "juncao.head()"
   ]
  },
  {
   "cell_type": "code",
   "execution_count": null,
   "id": "a322d5ea",
   "metadata": {},
   "outputs": [
    {
     "name": "stdout",
     "output_type": "stream",
     "text": [
      "Exportando o dataframe para o arquivo: ../../avaliacao-python-ciencia-dados/Bases/tratada/gapminder_tratada.csv ...\n",
      "Dataframe exportado com sucesso!\n",
      "Exportando o dataframe para o arquivo: ../../avaliacao-python-ciencia-dados/Bases/tratada/mortes_guerra_tratada.csv ...\n",
      "Dataframe exportado com sucesso!\n",
      "Exportando o dataframe para o arquivo: ../../avaliacao-python-ciencia-dados/Bases/tratada/gapminder_juncao_mortes_guerra_tratada.csv ...\n",
      "Dataframe exportado com sucesso!\n"
     ]
    }
   ],
   "source": [
    "#Escreve o arquivo em uma base tratada\n",
    "exporta_csv(base_limpa, '../../avaliacao-python-ciencia-dados/Bases/tratada/gapminder_tratada.csv', separador=';', encoding='utf-8', index=False)\n",
    "exporta_csv(mortes_guerra, '../../avaliacao-python-ciencia-dados/Bases/tratada/mortes_guerra_tratada.csv', separador=';', encoding='utf-8', index=False)\n",
    "exporta_csv(juncao, '../../avaliacao-python-ciencia-dados/Bases/tratada/gapminder_juncao_tratada.csv', separador=';', encoding='utf-8', index=False)\n"
   ]
  },
  {
   "cell_type": "markdown",
   "metadata": {},
   "source": [
    "---\n",
    "## 3. Funções de Visualização e Análise Gráfica\n",
    "\n",
    "### Objetivo\n",
    "Criar funções reutilizáveis para gerar gráficos e apoiar a análise.\n",
    "\n",
    "### Itens a incluir\n",
    "- Definição de **funções dinâmicas** para gráficos (usando parâmetros flexíveis).  \n",
    "- Tipos de gráficos recomendados:\n",
    "  - Evolução temporal (ex: expectativa de vida ao longo dos anos).  \n",
    "  - Comparações entre continentes.  \n",
    "  - Relações entre PIB per capita, expectativa de vida e população.  \n",
    "- Exemplos de uso das funções com resultados visuais.  \n",
    "\n",
    "### Markdown deve conter\n",
    "- Explicação do propósito de cada função.  \n",
    "- Descrição dos tipos de visualizações utilizadas.  \n",
    "- Observações sobre padrões ou correlações identificadas."
   ]
  },
  {
   "cell_type": "markdown",
   "metadata": {},
   "source": [
    "---\n",
    "## 4. Interpretação das Visualizações\n",
    "\n",
    "### Objetivo\n",
    "Interpretar criticamente os dados com base nos gráficos e tabelas.\n",
    "\n",
    "### Itens a incluir\n",
    "- Explicação de cada gráfico gerado.  \n",
    "- Justificativa da escolha do tipo de visualização.  \n",
    "- Interpretação dos resultados observados.  \n",
    "- Discussão sobre **tendências globais** e **diferenças regionais**."
   ]
  },
  {
   "cell_type": "markdown",
   "metadata": {},
   "source": [
    "---\n",
    "## 5. Síntese dos Principais Insights\n",
    "\n",
    "### Objetivo\n",
    "Resumir os principais achados da análise.\n",
    "\n",
    "### Itens a incluir\n",
    "- **Padrões e tendências principais** (ex: crescimento da expectativa de vida, desigualdade econômica).  \n",
    "- **Anomalias** ou exceções notáveis.  \n",
    "- **Correlação** entre os indicadores analisados (PIB, população, expectativa de vida).  \n",
    "\n",
    "### Markdown deve conter\n",
    "- **Resumo analítico** dos resultados obtidos.  \n",
    "- **Aplicações práticas**:\n",
    "  - Implicações para políticas públicas.  \n",
    "  - Relação com o desenvolvimento social e econômico.  \n",
    "  - Observações sobre desigualdade global."
   ]
  },
  {
   "cell_type": "markdown",
   "metadata": {},
   "source": [
    "---\n",
    "## 6. Conclusão e Reflexão\n",
    "\n",
    "### Objetivo\n",
    "Refletir sobre o processo de análise e o aprendizado obtido.\n",
    "\n",
    "### Itens a incluir\n",
    "- **Maiores desafios enfrentados** durante o trabalho.  \n",
    "- **Principais aprendizados** obtidos.  \n",
    "- **Habilidades desenvolvidas** (técnicas e analíticas).  \n",
    "- **Reflexão final** sobre o impacto e relevância da análise."
   ]
  },
  {
   "cell_type": "markdown",
   "id": "296edc43",
   "metadata": {},
   "source": [
    "#### Membros\n",
    "1. Andre Augusto Ferreira Cabelo\n",
    "2. Bruno Braga Guedes Cardoso\n",
    "3. Bruno dos Santos Crivelli\n",
    "4. Marcelo Tranche de Souza Junior"
   ]
  },
  {
   "cell_type": "markdown",
   "id": "adf6af3a",
   "metadata": {},
   "source": [
    "### Adicionando a importação do arquivo Utils"
   ]
  }
 ],
 "metadata": {
  "kernelspec": {
   "display_name": "PUCMINAS_PPCDD",
   "language": "python",
   "name": "python3"
  },
  "language_info": {
   "codemirror_mode": {
    "name": "ipython",
    "version": 3
   },
   "file_extension": ".py",
   "mimetype": "text/x-python",
   "name": "python",
   "nbconvert_exporter": "python",
   "pygments_lexer": "ipython3",
   "version": "3.13.7"
  }
 },
 "nbformat": 4,
 "nbformat_minor": 5
}
