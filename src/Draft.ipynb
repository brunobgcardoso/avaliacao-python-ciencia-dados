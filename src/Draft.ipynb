{
 "cells": [
  {
   "cell_type": "markdown",
   "id": "e48df13c",
   "metadata": {},
   "source": [
    "<font color=\"#0D9DF0\"><h3><B>Trabalho Final - Python para Ciência de Dados</b></h3></font>\n",
    "***"
   ]
  },
  {
   "cell_type": "markdown",
   "metadata": {},
   "source": [
    "# \n",
    "\n",
    "---\n",
    "## 1. Título e Introdução\n",
    "- Apresente o **tema do projeto**.\n",
    "    Análise do Desenvolvimento Humano e Econômico Global com base nos dados obtidos no site Gapminder\n",
    "\n",
    "- Descreva **brevemente os objetivos da análise**.\n",
    "    O objetivo da análise é averiguar o quanto índices de corrupção e guerras, por exemplo, resultam em um baixo desenvolvimento humano e qualidade de vida nos países\n",
    "\n",
    "- Explique o **contexto da base de dados Gapminder**.\n",
    "    A base reune métricas desde 1952 de fatores como renda per capta, expectativa de vida, continente e população\n",
    "\n",
    "- Liste as **etapas que serão realizadas** no notebook.\n",
    "    Coleta de dados\n",
    "    Limpeza e preparação\n",
    "    Análise e modelagem\n",
    "    Visualização\n",
    "    Interpretação\n",
    "    Síntese e Conclusão"
   ]
  },
  {
   "cell_type": "markdown",
   "metadata": {},
   "source": [
    "---\n",
    "## 2. Coleta, Limpeza e Análise Exploratória (AED)\n",
    "\n",
    "### Objetivo\n",
    "Preparar os dados, tratando inconsistências e identificando padrões iniciais.\n",
    "\n",
    "### Itens a incluir\n",
    "- **Carregamento do dataset** Gapminder.  \n",
    "- **Verificação de valores ausentes**.  \n",
    "- **Remoção de duplicados**.  \n",
    "- **Análise estatística descritiva inicial** (médias, medianas, desvios etc.).  \n",
    "- **Visualizações exploratórias básicas** (ex: histogramas, boxplots, contagens por continente).  \n",
    "\n",
    "### Markdown deve conter\n",
    "- Justificativas das decisões tomadas.  \n",
    "- Observações sobre a qualidade dos dados.  \n",
    "- Interpretação dos primeiros resultados."
   ]
  },
  {
   "cell_type": "markdown",
   "id": "1d1e52d0",
   "metadata": {},
   "source": [
    "Neste primeiro momento, estaremos tratando a base principal"
   ]
  },
  {
   "cell_type": "code",
   "execution_count": 1,
   "id": "d58595ef",
   "metadata": {},
   "outputs": [],
   "source": [
    "import sys\n",
    "sys.path.append('../avaliacao-python-ciencia-dados/')\n",
    "\n",
    "from utils.data_info import *"
   ]
  },
  {
   "cell_type": "code",
   "execution_count": 2,
   "id": "1bdb7368",
   "metadata": {},
   "outputs": [
    {
     "name": "stdout",
     "output_type": "stream",
     "text": [
      "Importando o dataframe: ../../avaliacao-python-ciencia-dados/Bases/gapminder_full.csv ...\n",
      "Dataframe importado com sucesso! \n",
      "Dimensão: (1736, 6)\n"
     ]
    },
    {
     "data": {
      "application/vnd.microsoft.datawrangler.viewer.v0+json": {
       "columns": [
        {
         "name": "index",
         "rawType": "int64",
         "type": "integer"
        },
        {
         "name": "country",
         "rawType": "object",
         "type": "string"
        },
        {
         "name": "year",
         "rawType": "int64",
         "type": "integer"
        },
        {
         "name": "pop",
         "rawType": "float64",
         "type": "float"
        },
        {
         "name": "continent",
         "rawType": "object",
         "type": "string"
        },
        {
         "name": "lifeExp",
         "rawType": "float64",
         "type": "float"
        },
        {
         "name": "gdpPercap",
         "rawType": "float64",
         "type": "float"
        }
       ],
       "ref": "fbce1b85-1f36-4aed-b92b-08c28b56a140",
       "rows": [
        [
         "0",
         "Afghanistan",
         "1952",
         "8425333.0",
         "Asia",
         "28.801",
         "779.4453145"
        ],
        [
         "1",
         "Afghanistan",
         "1957",
         "9240934.0",
         "Asia",
         "30.332",
         "820.8530296"
        ],
        [
         "2",
         "Afghanistan",
         "1962",
         "10267083.0",
         "Asia",
         "31.997",
         "853.10071"
        ],
        [
         "3",
         "Afghanistan",
         "1967",
         "11537966.0",
         "Asia",
         "34.02",
         "836.1971382"
        ],
        [
         "4",
         "Afghanistan",
         "1972",
         "13079460.0",
         "Asia",
         "36.088",
         "739.9811058"
        ]
       ],
       "shape": {
        "columns": 6,
        "rows": 5
       }
      },
      "text/html": [
       "<div>\n",
       "<style scoped>\n",
       "    .dataframe tbody tr th:only-of-type {\n",
       "        vertical-align: middle;\n",
       "    }\n",
       "\n",
       "    .dataframe tbody tr th {\n",
       "        vertical-align: top;\n",
       "    }\n",
       "\n",
       "    .dataframe thead th {\n",
       "        text-align: right;\n",
       "    }\n",
       "</style>\n",
       "<table border=\"1\" class=\"dataframe\">\n",
       "  <thead>\n",
       "    <tr style=\"text-align: right;\">\n",
       "      <th></th>\n",
       "      <th>country</th>\n",
       "      <th>year</th>\n",
       "      <th>pop</th>\n",
       "      <th>continent</th>\n",
       "      <th>lifeExp</th>\n",
       "      <th>gdpPercap</th>\n",
       "    </tr>\n",
       "  </thead>\n",
       "  <tbody>\n",
       "    <tr>\n",
       "      <th>0</th>\n",
       "      <td>Afghanistan</td>\n",
       "      <td>1952</td>\n",
       "      <td>8425333.0</td>\n",
       "      <td>Asia</td>\n",
       "      <td>28.801</td>\n",
       "      <td>779.445314</td>\n",
       "    </tr>\n",
       "    <tr>\n",
       "      <th>1</th>\n",
       "      <td>Afghanistan</td>\n",
       "      <td>1957</td>\n",
       "      <td>9240934.0</td>\n",
       "      <td>Asia</td>\n",
       "      <td>30.332</td>\n",
       "      <td>820.853030</td>\n",
       "    </tr>\n",
       "    <tr>\n",
       "      <th>2</th>\n",
       "      <td>Afghanistan</td>\n",
       "      <td>1962</td>\n",
       "      <td>10267083.0</td>\n",
       "      <td>Asia</td>\n",
       "      <td>31.997</td>\n",
       "      <td>853.100710</td>\n",
       "    </tr>\n",
       "    <tr>\n",
       "      <th>3</th>\n",
       "      <td>Afghanistan</td>\n",
       "      <td>1967</td>\n",
       "      <td>11537966.0</td>\n",
       "      <td>Asia</td>\n",
       "      <td>34.020</td>\n",
       "      <td>836.197138</td>\n",
       "    </tr>\n",
       "    <tr>\n",
       "      <th>4</th>\n",
       "      <td>Afghanistan</td>\n",
       "      <td>1972</td>\n",
       "      <td>13079460.0</td>\n",
       "      <td>Asia</td>\n",
       "      <td>36.088</td>\n",
       "      <td>739.981106</td>\n",
       "    </tr>\n",
       "  </tbody>\n",
       "</table>\n",
       "</div>"
      ],
      "text/plain": [
       "       country  year         pop continent  lifeExp   gdpPercap\n",
       "0  Afghanistan  1952   8425333.0      Asia   28.801  779.445314\n",
       "1  Afghanistan  1957   9240934.0      Asia   30.332  820.853030\n",
       "2  Afghanistan  1962  10267083.0      Asia   31.997  853.100710\n",
       "3  Afghanistan  1967  11537966.0      Asia   34.020  836.197138\n",
       "4  Afghanistan  1972  13079460.0      Asia   36.088  739.981106"
      ]
     },
     "execution_count": 2,
     "metadata": {},
     "output_type": "execute_result"
    }
   ],
   "source": [
    "base_gapminder = importa_csv(dataframe_name='../../avaliacao-python-ciencia-dados/Bases/gapminder_full.csv', separador=',', encoding='utf-8')\n",
    "base_gapminder.head()"
   ]
  },
  {
   "cell_type": "code",
   "execution_count": 3,
   "id": "2f6b63e3",
   "metadata": {},
   "outputs": [
    {
     "data": {
      "application/vnd.microsoft.datawrangler.viewer.v0+json": {
       "columns": [
        {
         "name": "index",
         "rawType": "int64",
         "type": "integer"
        },
        {
         "name": "variavel_analisada",
         "rawType": "object",
         "type": "string"
        },
        {
         "name": "Quantidade",
         "rawType": "int64",
         "type": "integer"
        },
        {
         "name": "Percentual",
         "rawType": "object",
         "type": "string"
        }
       ],
       "ref": "e8ca7857-9f8b-4614-a168-af32df09e4c6",
       "rows": [],
       "shape": {
        "columns": 3,
        "rows": 0
       }
      },
      "text/html": [
       "<div>\n",
       "<style scoped>\n",
       "    .dataframe tbody tr th:only-of-type {\n",
       "        vertical-align: middle;\n",
       "    }\n",
       "\n",
       "    .dataframe tbody tr th {\n",
       "        vertical-align: top;\n",
       "    }\n",
       "\n",
       "    .dataframe thead th {\n",
       "        text-align: right;\n",
       "    }\n",
       "</style>\n",
       "<table border=\"1\" class=\"dataframe\">\n",
       "  <thead>\n",
       "    <tr style=\"text-align: right;\">\n",
       "      <th></th>\n",
       "      <th>variavel_analisada</th>\n",
       "      <th>Quantidade</th>\n",
       "      <th>Percentual</th>\n",
       "    </tr>\n",
       "  </thead>\n",
       "  <tbody>\n",
       "  </tbody>\n",
       "</table>\n",
       "</div>"
      ],
      "text/plain": [
       "Empty DataFrame\n",
       "Columns: [variavel_analisada, Quantidade, Percentual]\n",
       "Index: []"
      ]
     },
     "execution_count": 3,
     "metadata": {},
     "output_type": "execute_result"
    }
   ],
   "source": [
    "analisa_dados_ausentes(base_gapminder)"
   ]
  },
  {
   "cell_type": "code",
   "execution_count": 4,
   "id": "13ca9c0b",
   "metadata": {},
   "outputs": [
    {
     "name": "stdout",
     "output_type": "stream",
     "text": [
      "Foram encontrados 32 registros duplicados\n",
      "\n",
      "Prévia dos dados duplicados:\n"
     ]
    },
    {
     "data": {
      "application/vnd.microsoft.datawrangler.viewer.v0+json": {
       "columns": [
        {
         "name": "index",
         "rawType": "int64",
         "type": "integer"
        },
        {
         "name": "country",
         "rawType": "object",
         "type": "string"
        },
        {
         "name": "year",
         "rawType": "int64",
         "type": "integer"
        },
        {
         "name": "pop",
         "rawType": "float64",
         "type": "float"
        },
        {
         "name": "continent",
         "rawType": "object",
         "type": "string"
        },
        {
         "name": "lifeExp",
         "rawType": "float64",
         "type": "float"
        },
        {
         "name": "gdpPercap",
         "rawType": "float64",
         "type": "float"
        }
       ],
       "ref": "774afb1c-7654-42ca-a6c3-60e914a835ef",
       "rows": [
        [
         "72",
         "Afghanistan",
         "1997",
         "22227415.0",
         "Asia",
         "41.763",
         "635.341351"
        ],
        [
         "145",
         "Bolivia",
         "1987",
         "6156369.0",
         "Americas",
         "57.251",
         "2753.69149"
        ],
        [
         "146",
         "Bolivia",
         "1992",
         "6893451.0",
         "Americas",
         "59.957",
         "2961.699694"
        ],
        [
         "147",
         "Bolivia",
         "1997",
         "7693188.0",
         "Americas",
         "62.05",
         "3326.143191"
        ],
        [
         "148",
         "Bolivia",
         "2002",
         "8445134.0",
         "Americas",
         "63.883",
         "3413.26269"
        ]
       ],
       "shape": {
        "columns": 6,
        "rows": 5
       }
      },
      "text/html": [
       "<div>\n",
       "<style scoped>\n",
       "    .dataframe tbody tr th:only-of-type {\n",
       "        vertical-align: middle;\n",
       "    }\n",
       "\n",
       "    .dataframe tbody tr th {\n",
       "        vertical-align: top;\n",
       "    }\n",
       "\n",
       "    .dataframe thead th {\n",
       "        text-align: right;\n",
       "    }\n",
       "</style>\n",
       "<table border=\"1\" class=\"dataframe\">\n",
       "  <thead>\n",
       "    <tr style=\"text-align: right;\">\n",
       "      <th></th>\n",
       "      <th>country</th>\n",
       "      <th>year</th>\n",
       "      <th>pop</th>\n",
       "      <th>continent</th>\n",
       "      <th>lifeExp</th>\n",
       "      <th>gdpPercap</th>\n",
       "    </tr>\n",
       "  </thead>\n",
       "  <tbody>\n",
       "    <tr>\n",
       "      <th>72</th>\n",
       "      <td>Afghanistan</td>\n",
       "      <td>1997</td>\n",
       "      <td>22227415.0</td>\n",
       "      <td>Asia</td>\n",
       "      <td>41.763</td>\n",
       "      <td>635.341351</td>\n",
       "    </tr>\n",
       "    <tr>\n",
       "      <th>145</th>\n",
       "      <td>Bolivia</td>\n",
       "      <td>1987</td>\n",
       "      <td>6156369.0</td>\n",
       "      <td>Americas</td>\n",
       "      <td>57.251</td>\n",
       "      <td>2753.691490</td>\n",
       "    </tr>\n",
       "    <tr>\n",
       "      <th>146</th>\n",
       "      <td>Bolivia</td>\n",
       "      <td>1992</td>\n",
       "      <td>6893451.0</td>\n",
       "      <td>Americas</td>\n",
       "      <td>59.957</td>\n",
       "      <td>2961.699694</td>\n",
       "    </tr>\n",
       "    <tr>\n",
       "      <th>147</th>\n",
       "      <td>Bolivia</td>\n",
       "      <td>1997</td>\n",
       "      <td>7693188.0</td>\n",
       "      <td>Americas</td>\n",
       "      <td>62.050</td>\n",
       "      <td>3326.143191</td>\n",
       "    </tr>\n",
       "    <tr>\n",
       "      <th>148</th>\n",
       "      <td>Bolivia</td>\n",
       "      <td>2002</td>\n",
       "      <td>8445134.0</td>\n",
       "      <td>Americas</td>\n",
       "      <td>63.883</td>\n",
       "      <td>3413.262690</td>\n",
       "    </tr>\n",
       "  </tbody>\n",
       "</table>\n",
       "</div>"
      ],
      "text/plain": [
       "         country  year         pop continent  lifeExp    gdpPercap\n",
       "72   Afghanistan  1997  22227415.0      Asia   41.763   635.341351\n",
       "145      Bolivia  1987   6156369.0  Americas   57.251  2753.691490\n",
       "146      Bolivia  1992   6893451.0  Americas   59.957  2961.699694\n",
       "147      Bolivia  1997   7693188.0  Americas   62.050  3326.143191\n",
       "148      Bolivia  2002   8445134.0  Americas   63.883  3413.262690"
      ]
     },
     "execution_count": 4,
     "metadata": {},
     "output_type": "execute_result"
    }
   ],
   "source": [
    "verifica_dados_duplicados(base_gapminder)"
   ]
  },
  {
   "cell_type": "code",
   "execution_count": 5,
   "id": "e15401bc",
   "metadata": {},
   "outputs": [
    {
     "name": "stdout",
     "output_type": "stream",
     "text": [
      "Removendo dados duplicados ...\n",
      "Foram encontrados 32 registros duplicados\n",
      "\n",
      "Prévia dos dados duplicados:\n",
      "Dados duplicados removidos com sucesso! \n",
      "Dimensão: (1704, 6)\n"
     ]
    },
    {
     "data": {
      "application/vnd.microsoft.datawrangler.viewer.v0+json": {
       "columns": [
        {
         "name": "index",
         "rawType": "int64",
         "type": "integer"
        },
        {
         "name": "country",
         "rawType": "object",
         "type": "string"
        },
        {
         "name": "year",
         "rawType": "int64",
         "type": "integer"
        },
        {
         "name": "pop",
         "rawType": "float64",
         "type": "float"
        },
        {
         "name": "continent",
         "rawType": "object",
         "type": "string"
        },
        {
         "name": "lifeExp",
         "rawType": "float64",
         "type": "float"
        },
        {
         "name": "gdpPercap",
         "rawType": "float64",
         "type": "float"
        }
       ],
       "ref": "5e81f54d-9d80-4cfc-a211-7f5788000c50",
       "rows": [
        [
         "0",
         "Afghanistan",
         "1952",
         "8425333.0",
         "Asia",
         "28.801",
         "779.4453145"
        ],
        [
         "1",
         "Afghanistan",
         "1957",
         "9240934.0",
         "Asia",
         "30.332",
         "820.8530296"
        ],
        [
         "2",
         "Afghanistan",
         "1962",
         "10267083.0",
         "Asia",
         "31.997",
         "853.10071"
        ],
        [
         "3",
         "Afghanistan",
         "1967",
         "11537966.0",
         "Asia",
         "34.02",
         "836.1971382"
        ],
        [
         "4",
         "Afghanistan",
         "1972",
         "13079460.0",
         "Asia",
         "36.088",
         "739.9811058"
        ]
       ],
       "shape": {
        "columns": 6,
        "rows": 5
       }
      },
      "text/html": [
       "<div>\n",
       "<style scoped>\n",
       "    .dataframe tbody tr th:only-of-type {\n",
       "        vertical-align: middle;\n",
       "    }\n",
       "\n",
       "    .dataframe tbody tr th {\n",
       "        vertical-align: top;\n",
       "    }\n",
       "\n",
       "    .dataframe thead th {\n",
       "        text-align: right;\n",
       "    }\n",
       "</style>\n",
       "<table border=\"1\" class=\"dataframe\">\n",
       "  <thead>\n",
       "    <tr style=\"text-align: right;\">\n",
       "      <th></th>\n",
       "      <th>country</th>\n",
       "      <th>year</th>\n",
       "      <th>pop</th>\n",
       "      <th>continent</th>\n",
       "      <th>lifeExp</th>\n",
       "      <th>gdpPercap</th>\n",
       "    </tr>\n",
       "  </thead>\n",
       "  <tbody>\n",
       "    <tr>\n",
       "      <th>0</th>\n",
       "      <td>Afghanistan</td>\n",
       "      <td>1952</td>\n",
       "      <td>8425333.0</td>\n",
       "      <td>Asia</td>\n",
       "      <td>28.801</td>\n",
       "      <td>779.445314</td>\n",
       "    </tr>\n",
       "    <tr>\n",
       "      <th>1</th>\n",
       "      <td>Afghanistan</td>\n",
       "      <td>1957</td>\n",
       "      <td>9240934.0</td>\n",
       "      <td>Asia</td>\n",
       "      <td>30.332</td>\n",
       "      <td>820.853030</td>\n",
       "    </tr>\n",
       "    <tr>\n",
       "      <th>2</th>\n",
       "      <td>Afghanistan</td>\n",
       "      <td>1962</td>\n",
       "      <td>10267083.0</td>\n",
       "      <td>Asia</td>\n",
       "      <td>31.997</td>\n",
       "      <td>853.100710</td>\n",
       "    </tr>\n",
       "    <tr>\n",
       "      <th>3</th>\n",
       "      <td>Afghanistan</td>\n",
       "      <td>1967</td>\n",
       "      <td>11537966.0</td>\n",
       "      <td>Asia</td>\n",
       "      <td>34.020</td>\n",
       "      <td>836.197138</td>\n",
       "    </tr>\n",
       "    <tr>\n",
       "      <th>4</th>\n",
       "      <td>Afghanistan</td>\n",
       "      <td>1972</td>\n",
       "      <td>13079460.0</td>\n",
       "      <td>Asia</td>\n",
       "      <td>36.088</td>\n",
       "      <td>739.981106</td>\n",
       "    </tr>\n",
       "  </tbody>\n",
       "</table>\n",
       "</div>"
      ],
      "text/plain": [
       "       country  year         pop continent  lifeExp   gdpPercap\n",
       "0  Afghanistan  1952   8425333.0      Asia   28.801  779.445314\n",
       "1  Afghanistan  1957   9240934.0      Asia   30.332  820.853030\n",
       "2  Afghanistan  1962  10267083.0      Asia   31.997  853.100710\n",
       "3  Afghanistan  1967  11537966.0      Asia   34.020  836.197138\n",
       "4  Afghanistan  1972  13079460.0      Asia   36.088  739.981106"
      ]
     },
     "execution_count": 5,
     "metadata": {},
     "output_type": "execute_result"
    }
   ],
   "source": [
    "base_limpa = remove_dados_duplicados(base_gapminder)\n",
    "base_limpa.head()"
   ]
  },
  {
   "cell_type": "code",
   "execution_count": 6,
   "id": "60be55e8",
   "metadata": {},
   "outputs": [
    {
     "name": "stdout",
     "output_type": "stream",
     "text": [
      "<class 'pandas.core.frame.DataFrame'>\n",
      "Index: 1704 entries, 0 to 1735\n",
      "Data columns (total 6 columns):\n",
      " #   Column     Non-Null Count  Dtype  \n",
      "---  ------     --------------  -----  \n",
      " 0   country    1704 non-null   object \n",
      " 1   year       1704 non-null   int64  \n",
      " 2   pop        1704 non-null   float64\n",
      " 3   continent  1704 non-null   object \n",
      " 4   lifeExp    1704 non-null   float64\n",
      " 5   gdpPercap  1704 non-null   float64\n",
      "dtypes: float64(3), int64(1), object(2)\n",
      "memory usage: 93.2+ KB\n"
     ]
    },
    {
     "data": {
      "application/vnd.microsoft.datawrangler.viewer.v0+json": {
       "columns": [
        {
         "name": "index",
         "rawType": "object",
         "type": "string"
        },
        {
         "name": "year",
         "rawType": "float64",
         "type": "float"
        },
        {
         "name": "pop",
         "rawType": "float64",
         "type": "float"
        },
        {
         "name": "lifeExp",
         "rawType": "float64",
         "type": "float"
        },
        {
         "name": "gdpPercap",
         "rawType": "float64",
         "type": "float"
        }
       ],
       "ref": "aee045fe-aa01-456d-8edf-65f06c710448",
       "rows": [
        [
         "count",
         "1704.0",
         "1704.0",
         "1704.0",
         "1704.0"
        ],
        [
         "mean",
         "1979.5",
         "29601212.32511736",
         "59.474439366197174",
         "7215.327081212383"
        ],
        [
         "std",
         "17.265329508973615",
         "106157896.74682792",
         "12.917107415241192",
         "9857.454542541522"
        ],
        [
         "min",
         "1952.0",
         "60011.0",
         "23.599",
         "241.1658765"
        ],
        [
         "25%",
         "1965.75",
         "2793664.0",
         "48.198",
         "1202.06030925"
        ],
        [
         "50%",
         "1979.5",
         "7023595.5",
         "60.7125",
         "3531.8469885"
        ],
        [
         "75%",
         "1993.25",
         "19585221.75",
         "70.8455",
         "9325.462346"
        ],
        [
         "max",
         "2007.0",
         "1318683096.0",
         "82.603",
         "113523.1329"
        ]
       ],
       "shape": {
        "columns": 4,
        "rows": 8
       }
      },
      "text/html": [
       "<div>\n",
       "<style scoped>\n",
       "    .dataframe tbody tr th:only-of-type {\n",
       "        vertical-align: middle;\n",
       "    }\n",
       "\n",
       "    .dataframe tbody tr th {\n",
       "        vertical-align: top;\n",
       "    }\n",
       "\n",
       "    .dataframe thead th {\n",
       "        text-align: right;\n",
       "    }\n",
       "</style>\n",
       "<table border=\"1\" class=\"dataframe\">\n",
       "  <thead>\n",
       "    <tr style=\"text-align: right;\">\n",
       "      <th></th>\n",
       "      <th>year</th>\n",
       "      <th>pop</th>\n",
       "      <th>lifeExp</th>\n",
       "      <th>gdpPercap</th>\n",
       "    </tr>\n",
       "  </thead>\n",
       "  <tbody>\n",
       "    <tr>\n",
       "      <th>count</th>\n",
       "      <td>1704.00000</td>\n",
       "      <td>1.704000e+03</td>\n",
       "      <td>1704.000000</td>\n",
       "      <td>1704.000000</td>\n",
       "    </tr>\n",
       "    <tr>\n",
       "      <th>mean</th>\n",
       "      <td>1979.50000</td>\n",
       "      <td>2.960121e+07</td>\n",
       "      <td>59.474439</td>\n",
       "      <td>7215.327081</td>\n",
       "    </tr>\n",
       "    <tr>\n",
       "      <th>std</th>\n",
       "      <td>17.26533</td>\n",
       "      <td>1.061579e+08</td>\n",
       "      <td>12.917107</td>\n",
       "      <td>9857.454543</td>\n",
       "    </tr>\n",
       "    <tr>\n",
       "      <th>min</th>\n",
       "      <td>1952.00000</td>\n",
       "      <td>6.001100e+04</td>\n",
       "      <td>23.599000</td>\n",
       "      <td>241.165876</td>\n",
       "    </tr>\n",
       "    <tr>\n",
       "      <th>25%</th>\n",
       "      <td>1965.75000</td>\n",
       "      <td>2.793664e+06</td>\n",
       "      <td>48.198000</td>\n",
       "      <td>1202.060309</td>\n",
       "    </tr>\n",
       "    <tr>\n",
       "      <th>50%</th>\n",
       "      <td>1979.50000</td>\n",
       "      <td>7.023596e+06</td>\n",
       "      <td>60.712500</td>\n",
       "      <td>3531.846988</td>\n",
       "    </tr>\n",
       "    <tr>\n",
       "      <th>75%</th>\n",
       "      <td>1993.25000</td>\n",
       "      <td>1.958522e+07</td>\n",
       "      <td>70.845500</td>\n",
       "      <td>9325.462346</td>\n",
       "    </tr>\n",
       "    <tr>\n",
       "      <th>max</th>\n",
       "      <td>2007.00000</td>\n",
       "      <td>1.318683e+09</td>\n",
       "      <td>82.603000</td>\n",
       "      <td>113523.132900</td>\n",
       "    </tr>\n",
       "  </tbody>\n",
       "</table>\n",
       "</div>"
      ],
      "text/plain": [
       "             year           pop      lifeExp      gdpPercap\n",
       "count  1704.00000  1.704000e+03  1704.000000    1704.000000\n",
       "mean   1979.50000  2.960121e+07    59.474439    7215.327081\n",
       "std      17.26533  1.061579e+08    12.917107    9857.454543\n",
       "min    1952.00000  6.001100e+04    23.599000     241.165876\n",
       "25%    1965.75000  2.793664e+06    48.198000    1202.060309\n",
       "50%    1979.50000  7.023596e+06    60.712500    3531.846988\n",
       "75%    1993.25000  1.958522e+07    70.845500    9325.462346\n",
       "max    2007.00000  1.318683e+09    82.603000  113523.132900"
      ]
     },
     "execution_count": 6,
     "metadata": {},
     "output_type": "execute_result"
    }
   ],
   "source": [
    "# Problemas encontrados:\n",
    "# 1. Índia -> Pop com Notação Científica - Verificar se precisa tratar\n",
    "# 2. China -> Pop com decimal\n",
    "base_limpa.info()\n",
    "base_limpa.describe()"
   ]
  },
  {
   "cell_type": "code",
   "execution_count": 7,
   "id": "1d22b2a2",
   "metadata": {},
   "outputs": [
    {
     "name": "stderr",
     "output_type": "stream",
     "text": [
      "C:\\Users\\bruno\\AppData\\Local\\Temp\\ipykernel_17620\\2259588810.py:9: SettingWithCopyWarning: \n",
      "A value is trying to be set on a copy of a slice from a DataFrame.\n",
      "Try using .loc[row_indexer,col_indexer] = value instead\n",
      "\n",
      "See the caveats in the documentation: https://pandas.pydata.org/pandas-docs/stable/user_guide/indexing.html#returning-a-view-versus-a-copy\n",
      "  base_limpa['gdpPercap'] = base_limpa['gdpPercap'].round(2)\n",
      "C:\\Users\\bruno\\AppData\\Local\\Temp\\ipykernel_17620\\2259588810.py:10: SettingWithCopyWarning: \n",
      "A value is trying to be set on a copy of a slice from a DataFrame.\n",
      "Try using .loc[row_indexer,col_indexer] = value instead\n",
      "\n",
      "See the caveats in the documentation: https://pandas.pydata.org/pandas-docs/stable/user_guide/indexing.html#returning-a-view-versus-a-copy\n",
      "  base_limpa['lifeExp'] = base_limpa['lifeExp'].round(1)\n",
      "C:\\Users\\bruno\\AppData\\Local\\Temp\\ipykernel_17620\\2259588810.py:11: SettingWithCopyWarning: \n",
      "A value is trying to be set on a copy of a slice from a DataFrame.\n",
      "Try using .loc[row_indexer,col_indexer] = value instead\n",
      "\n",
      "See the caveats in the documentation: https://pandas.pydata.org/pandas-docs/stable/user_guide/indexing.html#returning-a-view-versus-a-copy\n",
      "  base_limpa[\"pop\"] = base_limpa[\"pop\"].astype(\"int64\")\n",
      "C:\\Users\\bruno\\AppData\\Local\\Temp\\ipykernel_17620\\2259588810.py:12: SettingWithCopyWarning: \n",
      "A value is trying to be set on a copy of a slice from a DataFrame.\n",
      "Try using .loc[row_indexer,col_indexer] = value instead\n",
      "\n",
      "See the caveats in the documentation: https://pandas.pydata.org/pandas-docs/stable/user_guide/indexing.html#returning-a-view-versus-a-copy\n",
      "  base_limpa[\"pop\"] = base_limpa[\"pop\"].apply(lambda x: f\"{x:,.0f}\".replace(\",\", \".\"))\n"
     ]
    },
    {
     "data": {
      "application/vnd.microsoft.datawrangler.viewer.v0+json": {
       "columns": [
        {
         "name": "index",
         "rawType": "int64",
         "type": "integer"
        },
        {
         "name": "country",
         "rawType": "object",
         "type": "string"
        },
        {
         "name": "year",
         "rawType": "int64",
         "type": "integer"
        },
        {
         "name": "pop",
         "rawType": "object",
         "type": "string"
        },
        {
         "name": "continent",
         "rawType": "object",
         "type": "string"
        },
        {
         "name": "lifeExp",
         "rawType": "float64",
         "type": "float"
        },
        {
         "name": "gdpPercap",
         "rawType": "float64",
         "type": "float"
        }
       ],
       "ref": "9d60c5bc-3eef-4b62-8d39-3b377327b3f4",
       "rows": [
        [
         "297",
         "China",
         "1952",
         "556.263.527",
         "Asia",
         "44.0",
         "400.45"
        ],
        [
         "298",
         "China",
         "1957",
         "637.408.000",
         "Asia",
         "50.5",
         "575.99"
        ],
        [
         "299",
         "China",
         "1962",
         "665.770.000",
         "Asia",
         "44.5",
         "487.67"
        ],
        [
         "300",
         "China",
         "1967",
         "754.550.000",
         "Asia",
         "58.4",
         "612.71"
        ],
        [
         "301",
         "China",
         "1972",
         "862.030.000",
         "Asia",
         "63.1",
         "676.9"
        ],
        [
         "302",
         "China",
         "1977",
         "943.455.000",
         "Asia",
         "64.0",
         "741.24"
        ],
        [
         "303",
         "China",
         "1982",
         "1.000.281.000",
         "Asia",
         "65.5",
         "962.42"
        ],
        [
         "304",
         "China",
         "1987",
         "1.084.035.000",
         "Asia",
         "67.3",
         "1378.9"
        ],
        [
         "305",
         "China",
         "1992",
         "1.164.970.000",
         "Asia",
         "68.7",
         "1655.78"
        ],
        [
         "306",
         "China",
         "1997",
         "1.230.075.000",
         "Asia",
         "70.4",
         "2289.23"
        ],
        [
         "307",
         "China",
         "2002",
         "1.280.400.000",
         "Asia",
         "72.0",
         "3119.28"
        ],
        [
         "308",
         "China",
         "2007",
         "1.318.683.096",
         "Asia",
         "73.0",
         "4959.11"
        ]
       ],
       "shape": {
        "columns": 6,
        "rows": 12
       }
      },
      "text/html": [
       "<div>\n",
       "<style scoped>\n",
       "    .dataframe tbody tr th:only-of-type {\n",
       "        vertical-align: middle;\n",
       "    }\n",
       "\n",
       "    .dataframe tbody tr th {\n",
       "        vertical-align: top;\n",
       "    }\n",
       "\n",
       "    .dataframe thead th {\n",
       "        text-align: right;\n",
       "    }\n",
       "</style>\n",
       "<table border=\"1\" class=\"dataframe\">\n",
       "  <thead>\n",
       "    <tr style=\"text-align: right;\">\n",
       "      <th></th>\n",
       "      <th>country</th>\n",
       "      <th>year</th>\n",
       "      <th>pop</th>\n",
       "      <th>continent</th>\n",
       "      <th>lifeExp</th>\n",
       "      <th>gdpPercap</th>\n",
       "    </tr>\n",
       "  </thead>\n",
       "  <tbody>\n",
       "    <tr>\n",
       "      <th>297</th>\n",
       "      <td>China</td>\n",
       "      <td>1952</td>\n",
       "      <td>556.263.527</td>\n",
       "      <td>Asia</td>\n",
       "      <td>44.0</td>\n",
       "      <td>400.45</td>\n",
       "    </tr>\n",
       "    <tr>\n",
       "      <th>298</th>\n",
       "      <td>China</td>\n",
       "      <td>1957</td>\n",
       "      <td>637.408.000</td>\n",
       "      <td>Asia</td>\n",
       "      <td>50.5</td>\n",
       "      <td>575.99</td>\n",
       "    </tr>\n",
       "    <tr>\n",
       "      <th>299</th>\n",
       "      <td>China</td>\n",
       "      <td>1962</td>\n",
       "      <td>665.770.000</td>\n",
       "      <td>Asia</td>\n",
       "      <td>44.5</td>\n",
       "      <td>487.67</td>\n",
       "    </tr>\n",
       "    <tr>\n",
       "      <th>300</th>\n",
       "      <td>China</td>\n",
       "      <td>1967</td>\n",
       "      <td>754.550.000</td>\n",
       "      <td>Asia</td>\n",
       "      <td>58.4</td>\n",
       "      <td>612.71</td>\n",
       "    </tr>\n",
       "    <tr>\n",
       "      <th>301</th>\n",
       "      <td>China</td>\n",
       "      <td>1972</td>\n",
       "      <td>862.030.000</td>\n",
       "      <td>Asia</td>\n",
       "      <td>63.1</td>\n",
       "      <td>676.90</td>\n",
       "    </tr>\n",
       "    <tr>\n",
       "      <th>302</th>\n",
       "      <td>China</td>\n",
       "      <td>1977</td>\n",
       "      <td>943.455.000</td>\n",
       "      <td>Asia</td>\n",
       "      <td>64.0</td>\n",
       "      <td>741.24</td>\n",
       "    </tr>\n",
       "    <tr>\n",
       "      <th>303</th>\n",
       "      <td>China</td>\n",
       "      <td>1982</td>\n",
       "      <td>1.000.281.000</td>\n",
       "      <td>Asia</td>\n",
       "      <td>65.5</td>\n",
       "      <td>962.42</td>\n",
       "    </tr>\n",
       "    <tr>\n",
       "      <th>304</th>\n",
       "      <td>China</td>\n",
       "      <td>1987</td>\n",
       "      <td>1.084.035.000</td>\n",
       "      <td>Asia</td>\n",
       "      <td>67.3</td>\n",
       "      <td>1378.90</td>\n",
       "    </tr>\n",
       "    <tr>\n",
       "      <th>305</th>\n",
       "      <td>China</td>\n",
       "      <td>1992</td>\n",
       "      <td>1.164.970.000</td>\n",
       "      <td>Asia</td>\n",
       "      <td>68.7</td>\n",
       "      <td>1655.78</td>\n",
       "    </tr>\n",
       "    <tr>\n",
       "      <th>306</th>\n",
       "      <td>China</td>\n",
       "      <td>1997</td>\n",
       "      <td>1.230.075.000</td>\n",
       "      <td>Asia</td>\n",
       "      <td>70.4</td>\n",
       "      <td>2289.23</td>\n",
       "    </tr>\n",
       "    <tr>\n",
       "      <th>307</th>\n",
       "      <td>China</td>\n",
       "      <td>2002</td>\n",
       "      <td>1.280.400.000</td>\n",
       "      <td>Asia</td>\n",
       "      <td>72.0</td>\n",
       "      <td>3119.28</td>\n",
       "    </tr>\n",
       "    <tr>\n",
       "      <th>308</th>\n",
       "      <td>China</td>\n",
       "      <td>2007</td>\n",
       "      <td>1.318.683.096</td>\n",
       "      <td>Asia</td>\n",
       "      <td>73.0</td>\n",
       "      <td>4959.11</td>\n",
       "    </tr>\n",
       "  </tbody>\n",
       "</table>\n",
       "</div>"
      ],
      "text/plain": [
       "    country  year            pop continent  lifeExp  gdpPercap\n",
       "297   China  1952    556.263.527      Asia     44.0     400.45\n",
       "298   China  1957    637.408.000      Asia     50.5     575.99\n",
       "299   China  1962    665.770.000      Asia     44.5     487.67\n",
       "300   China  1967    754.550.000      Asia     58.4     612.71\n",
       "301   China  1972    862.030.000      Asia     63.1     676.90\n",
       "302   China  1977    943.455.000      Asia     64.0     741.24\n",
       "303   China  1982  1.000.281.000      Asia     65.5     962.42\n",
       "304   China  1987  1.084.035.000      Asia     67.3    1378.90\n",
       "305   China  1992  1.164.970.000      Asia     68.7    1655.78\n",
       "306   China  1997  1.230.075.000      Asia     70.4    2289.23\n",
       "307   China  2002  1.280.400.000      Asia     72.0    3119.28\n",
       "308   China  2007  1.318.683.096      Asia     73.0    4959.11"
      ]
     },
     "execution_count": 7,
     "metadata": {},
     "output_type": "execute_result"
    }
   ],
   "source": [
    "# Reduzir renda per capita para 2 casas decimais\n",
    "# Reduzir expectativa de vida para 1 casa decimal\n",
    "# Tratar população da Índia e China\n",
    "# Rwanda teve uma guerra civil em 1994, o que impactou a expectativa de vida do país. Talvez seja interessante analisar esse ponto.\n",
    "# Analisar quais paises tem anos faltando -> Não parece ter impacto\n",
    "#anos_por_pais = base_limpa.groupby(\"country\").count()[\"year\"].reset_index().sort_values(by=\"year\", ascending=True)\n",
    "#anos_por_pais.head(1000)\n",
    "\n",
    "base_limpa['gdpPercap'] = base_limpa['gdpPercap'].round(2)\n",
    "base_limpa['lifeExp'] = base_limpa['lifeExp'].round(1)\n",
    "base_limpa[\"pop\"] = base_limpa[\"pop\"].astype(\"int64\")\n",
    "base_limpa[\"pop\"] = base_limpa[\"pop\"].apply(lambda x: f\"{x:,.0f}\".replace(\",\", \".\"))\n",
    "\n",
    "base_limpa[base_limpa['country'] == 'China'].head(30)\n",
    "#base_limpa[base_limpa['country'] == 'India'].head(30)\n"
   ]
  },
  {
   "cell_type": "code",
   "execution_count": 8,
   "id": "0cc4fb53",
   "metadata": {},
   "outputs": [
    {
     "name": "stdout",
     "output_type": "stream",
     "text": [
      "Importando o dataframe: ../../avaliacao-python-ciencia-dados/Bases/deaths-in-armed-conflicts-by-type.csv ...\n",
      "Dataframe importado com sucesso! \n",
      "Dimensão: (7632, 8)\n",
      "Foram encontrados 0 registros duplicados\n",
      "\n",
      "Prévia dos dados duplicados:\n"
     ]
    },
    {
     "data": {
      "application/vnd.microsoft.datawrangler.viewer.v0+json": {
       "columns": [
        {
         "name": "index",
         "rawType": "int64",
         "type": "integer"
        },
        {
         "name": "Entity",
         "rawType": "object",
         "type": "string"
        },
        {
         "name": "Deaths in ongoing conflicts (best estimate) - Conflict type: one-sided violence_sum",
         "rawType": "int64",
         "type": "integer"
        },
        {
         "name": "Deaths in ongoing conflicts (best estimate) - Conflict type: non-state conflict_sum",
         "rawType": "int64",
         "type": "integer"
        },
        {
         "name": "Deaths in ongoing conflicts (best estimate) - Conflict type: extrasystemic_sum",
         "rawType": "int64",
         "type": "integer"
        },
        {
         "name": "Deaths in ongoing conflicts (best estimate) - Conflict type: intrastate_sum",
         "rawType": "int64",
         "type": "integer"
        },
        {
         "name": "Deaths in ongoing conflicts (best estimate) - Conflict type: interstate_sum",
         "rawType": "int64",
         "type": "integer"
        },
        {
         "name": "year",
         "rawType": "int64",
         "type": "integer"
        }
       ],
       "ref": "1ebc19de-83b4-47e4-a282-1b3f604a1586",
       "rows": [
        [
         "0",
         "Abkhazia",
         "0",
         "0",
         "0",
         "0",
         "0",
         "1992"
        ],
        [
         "1",
         "Abkhazia",
         "0",
         "0",
         "0",
         "0",
         "0",
         "1997"
        ],
        [
         "2",
         "Abkhazia",
         "0",
         "0",
         "0",
         "0",
         "0",
         "2002"
        ],
        [
         "3",
         "Abkhazia",
         "0",
         "0",
         "0",
         "0",
         "0",
         "2007"
        ],
        [
         "4",
         "Abyei",
         "0",
         "0",
         "0",
         "0",
         "0",
         "1992"
        ]
       ],
       "shape": {
        "columns": 7,
        "rows": 5
       }
      },
      "text/html": [
       "<div>\n",
       "<style scoped>\n",
       "    .dataframe tbody tr th:only-of-type {\n",
       "        vertical-align: middle;\n",
       "    }\n",
       "\n",
       "    .dataframe tbody tr th {\n",
       "        vertical-align: top;\n",
       "    }\n",
       "\n",
       "    .dataframe thead th {\n",
       "        text-align: right;\n",
       "    }\n",
       "</style>\n",
       "<table border=\"1\" class=\"dataframe\">\n",
       "  <thead>\n",
       "    <tr style=\"text-align: right;\">\n",
       "      <th></th>\n",
       "      <th>Entity</th>\n",
       "      <th>Deaths in ongoing conflicts (best estimate) - Conflict type: one-sided violence_sum</th>\n",
       "      <th>Deaths in ongoing conflicts (best estimate) - Conflict type: non-state conflict_sum</th>\n",
       "      <th>Deaths in ongoing conflicts (best estimate) - Conflict type: extrasystemic_sum</th>\n",
       "      <th>Deaths in ongoing conflicts (best estimate) - Conflict type: intrastate_sum</th>\n",
       "      <th>Deaths in ongoing conflicts (best estimate) - Conflict type: interstate_sum</th>\n",
       "      <th>year</th>\n",
       "    </tr>\n",
       "  </thead>\n",
       "  <tbody>\n",
       "    <tr>\n",
       "      <th>0</th>\n",
       "      <td>Abkhazia</td>\n",
       "      <td>0</td>\n",
       "      <td>0</td>\n",
       "      <td>0</td>\n",
       "      <td>0</td>\n",
       "      <td>0</td>\n",
       "      <td>1992</td>\n",
       "    </tr>\n",
       "    <tr>\n",
       "      <th>1</th>\n",
       "      <td>Abkhazia</td>\n",
       "      <td>0</td>\n",
       "      <td>0</td>\n",
       "      <td>0</td>\n",
       "      <td>0</td>\n",
       "      <td>0</td>\n",
       "      <td>1997</td>\n",
       "    </tr>\n",
       "    <tr>\n",
       "      <th>2</th>\n",
       "      <td>Abkhazia</td>\n",
       "      <td>0</td>\n",
       "      <td>0</td>\n",
       "      <td>0</td>\n",
       "      <td>0</td>\n",
       "      <td>0</td>\n",
       "      <td>2002</td>\n",
       "    </tr>\n",
       "    <tr>\n",
       "      <th>3</th>\n",
       "      <td>Abkhazia</td>\n",
       "      <td>0</td>\n",
       "      <td>0</td>\n",
       "      <td>0</td>\n",
       "      <td>0</td>\n",
       "      <td>0</td>\n",
       "      <td>2007</td>\n",
       "    </tr>\n",
       "    <tr>\n",
       "      <th>4</th>\n",
       "      <td>Abyei</td>\n",
       "      <td>0</td>\n",
       "      <td>0</td>\n",
       "      <td>0</td>\n",
       "      <td>0</td>\n",
       "      <td>0</td>\n",
       "      <td>1992</td>\n",
       "    </tr>\n",
       "  </tbody>\n",
       "</table>\n",
       "</div>"
      ],
      "text/plain": [
       "     Entity  \\\n",
       "0  Abkhazia   \n",
       "1  Abkhazia   \n",
       "2  Abkhazia   \n",
       "3  Abkhazia   \n",
       "4     Abyei   \n",
       "\n",
       "   Deaths in ongoing conflicts (best estimate) - Conflict type: one-sided violence_sum  \\\n",
       "0                                                  0                                     \n",
       "1                                                  0                                     \n",
       "2                                                  0                                     \n",
       "3                                                  0                                     \n",
       "4                                                  0                                     \n",
       "\n",
       "   Deaths in ongoing conflicts (best estimate) - Conflict type: non-state conflict_sum  \\\n",
       "0                                                  0                                     \n",
       "1                                                  0                                     \n",
       "2                                                  0                                     \n",
       "3                                                  0                                     \n",
       "4                                                  0                                     \n",
       "\n",
       "   Deaths in ongoing conflicts (best estimate) - Conflict type: extrasystemic_sum  \\\n",
       "0                                                  0                                \n",
       "1                                                  0                                \n",
       "2                                                  0                                \n",
       "3                                                  0                                \n",
       "4                                                  0                                \n",
       "\n",
       "   Deaths in ongoing conflicts (best estimate) - Conflict type: intrastate_sum  \\\n",
       "0                                                  0                             \n",
       "1                                                  0                             \n",
       "2                                                  0                             \n",
       "3                                                  0                             \n",
       "4                                                  0                             \n",
       "\n",
       "   Deaths in ongoing conflicts (best estimate) - Conflict type: interstate_sum  \\\n",
       "0                                                  0                             \n",
       "1                                                  0                             \n",
       "2                                                  0                             \n",
       "3                                                  0                             \n",
       "4                                                  0                             \n",
       "\n",
       "   year  \n",
       "0  1992  \n",
       "1  1997  \n",
       "2  2002  \n",
       "3  2007  \n",
       "4  1992  "
      ]
     },
     "execution_count": 8,
     "metadata": {},
     "output_type": "execute_result"
    }
   ],
   "source": [
    "# Tratar a base de mortes por guerra e adicionar na brincadeira:\n",
    "mortes_guerra = importa_csv(dataframe_name='../../avaliacao-python-ciencia-dados/Bases/deaths-in-armed-conflicts-by-type.csv', separador=',', encoding='utf-8')\n",
    "\n",
    "analisa_dados_ausentes(mortes_guerra)\n",
    "verifica_dados_duplicados(mortes_guerra) # tem 0 registros duplicados\n",
    "\n",
    "mortes_guerra.describe()\n",
    "\n",
    "#Realizar agregação por pais e ano, equalizando a coluna de ano com as da base principal\n",
    "#A base de mortes em guerra vai de 89 a 2024 e a base principal de 1952 a 2007. teremos apenas um pequeno intervalo de anos de interseçã0\n",
    "#que será agregado e analisado\n",
    "anos = [1952, 1957, 1962, 1967, 1972,1977,1982,1987,1992,1997,2002,2007]\n",
    "colunas_agrupadas = ['Deaths in ongoing conflicts (best estimate) - Conflict type: one-sided violence','Deaths in ongoing conflicts (best estimate) - Conflict type: non-state conflict','Deaths in ongoing conflicts (best estimate) - Conflict type: extrasystemic','Deaths in ongoing conflicts (best estimate) - Conflict type: intrastate','Deaths in ongoing conflicts (best estimate) - Conflict type: interstate']\n",
    "rename_one_column(mortes_guerra, old_name='Year', new_name='year', inplace=True)\n",
    "\n",
    "mortes_guerra = agrega_anos(mortes_guerra, anos, colunas_agrupadas,coluna_agrupamento = ['Entity'])\n",
    "mortes_guerra.head()\n",
    "#juncao = junta_dataframes(base_limpa, mortes_guerra, chave=['country', 'year'], tipo_juncao='left')\n",
    "#juncao.head()"
   ]
  },
  {
   "cell_type": "code",
   "execution_count": 9,
   "id": "05b90ec0",
   "metadata": {},
   "outputs": [
    {
     "data": {
      "application/vnd.microsoft.datawrangler.viewer.v0+json": {
       "columns": [
        {
         "name": "index",
         "rawType": "int64",
         "type": "integer"
        },
        {
         "name": "country",
         "rawType": "object",
         "type": "string"
        },
        {
         "name": "oneSidedViolence",
         "rawType": "int64",
         "type": "integer"
        },
        {
         "name": "nonStateConflict",
         "rawType": "int64",
         "type": "integer"
        },
        {
         "name": "extrasystemic",
         "rawType": "int64",
         "type": "integer"
        },
        {
         "name": "intrastate",
         "rawType": "int64",
         "type": "integer"
        },
        {
         "name": "interstate",
         "rawType": "int64",
         "type": "integer"
        },
        {
         "name": "year",
         "rawType": "int64",
         "type": "integer"
        }
       ],
       "ref": "428fe18f-b32a-4a33-8f6b-e7fbe3a535cb",
       "rows": [
        [
         "0",
         "Abkhazia",
         "0",
         "0",
         "0",
         "0",
         "0",
         "1992"
        ],
        [
         "1",
         "Abkhazia",
         "0",
         "0",
         "0",
         "0",
         "0",
         "1997"
        ],
        [
         "2",
         "Abkhazia",
         "0",
         "0",
         "0",
         "0",
         "0",
         "2002"
        ],
        [
         "3",
         "Abkhazia",
         "0",
         "0",
         "0",
         "0",
         "0",
         "2007"
        ],
        [
         "4",
         "Abyei",
         "0",
         "0",
         "0",
         "0",
         "0",
         "1992"
        ],
        [
         "5",
         "Abyei",
         "61",
         "0",
         "0",
         "0",
         "0",
         "1997"
        ],
        [
         "6",
         "Abyei",
         "18",
         "0",
         "0",
         "0",
         "0",
         "2002"
        ],
        [
         "7",
         "Abyei",
         "0",
         "0",
         "0",
         "0",
         "0",
         "2007"
        ],
        [
         "8",
         "Afghanistan",
         "0",
         "614",
         "0",
         "14230",
         "0",
         "1992"
        ],
        [
         "9",
         "Afghanistan",
         "395",
         "580",
         "0",
         "28080",
         "0",
         "1997"
        ],
        [
         "10",
         "Afghanistan",
         "6887",
         "347",
         "0",
         "20668",
         "1397",
         "2002"
        ],
        [
         "11",
         "Afghanistan",
         "477",
         "320",
         "0",
         "14656",
         "0",
         "2007"
        ],
        [
         "12",
         "Africa",
         "20013",
         "14047",
         "0",
         "132113",
         "0",
         "1992"
        ],
        [
         "13",
         "Africa",
         "874002",
         "26950",
         "0",
         "63718",
         "56",
         "1997"
        ],
        [
         "14",
         "Africa",
         "33935",
         "20873",
         "0",
         "64849",
         "98192",
         "2002"
        ],
        [
         "15",
         "Africa",
         "22477",
         "11015",
         "0",
         "21076",
         "0",
         "2007"
        ],
        [
         "16",
         "Albania",
         "0",
         "0",
         "0",
         "0",
         "0",
         "1992"
        ],
        [
         "17",
         "Albania",
         "0",
         "0",
         "0",
         "0",
         "0",
         "1997"
        ],
        [
         "18",
         "Albania",
         "0",
         "0",
         "0",
         "26",
         "0",
         "2002"
        ],
        [
         "19",
         "Albania",
         "0",
         "0",
         "0",
         "0",
         "0",
         "2007"
        ],
        [
         "20",
         "Algeria",
         "0",
         "0",
         "0",
         "291",
         "0",
         "1992"
        ],
        [
         "21",
         "Algeria",
         "381",
         "301",
         "0",
         "8187",
         "0",
         "1997"
        ],
        [
         "22",
         "Algeria",
         "1020",
         "143",
         "0",
         "6188",
         "0",
         "2002"
        ],
        [
         "23",
         "Algeria",
         "181",
         "0",
         "0",
         "2011",
         "0",
         "2007"
        ],
        [
         "24",
         "Americas",
         "2887",
         "131",
         "0",
         "15397",
         "843",
         "1992"
        ],
        [
         "25",
         "Americas",
         "1704",
         "402",
         "0",
         "5460",
         "99",
         "1997"
        ],
        [
         "26",
         "Americas",
         "9954",
         "2816",
         "0",
         "9980",
         "0",
         "2002"
        ],
        [
         "27",
         "Americas",
         "5947",
         "3991",
         "0",
         "6067",
         "0",
         "2007"
        ],
        [
         "28",
         "Andorra",
         "0",
         "0",
         "0",
         "0",
         "0",
         "1992"
        ],
        [
         "29",
         "Andorra",
         "0",
         "0",
         "0",
         "0",
         "0",
         "1997"
        ],
        [
         "30",
         "Andorra",
         "0",
         "0",
         "0",
         "0",
         "0",
         "2002"
        ],
        [
         "31",
         "Andorra",
         "0",
         "0",
         "0",
         "0",
         "0",
         "2007"
        ],
        [
         "32",
         "Angola",
         "114",
         "0",
         "0",
         "8230",
         "0",
         "1992"
        ],
        [
         "33",
         "Angola",
         "448",
         "0",
         "0",
         "16295",
         "0",
         "1997"
        ],
        [
         "34",
         "Angola",
         "1833",
         "0",
         "0",
         "5927",
         "0",
         "2002"
        ],
        [
         "35",
         "Angola",
         "18",
         "0",
         "0",
         "75",
         "0",
         "2007"
        ],
        [
         "36",
         "Antigua and Barbuda",
         "0",
         "0",
         "0",
         "0",
         "0",
         "1992"
        ],
        [
         "37",
         "Antigua and Barbuda",
         "0",
         "0",
         "0",
         "0",
         "0",
         "1997"
        ],
        [
         "38",
         "Antigua and Barbuda",
         "0",
         "0",
         "0",
         "0",
         "0",
         "2002"
        ],
        [
         "39",
         "Antigua and Barbuda",
         "0",
         "0",
         "0",
         "0",
         "0",
         "2007"
        ],
        [
         "40",
         "Argentina",
         "0",
         "0",
         "0",
         "0",
         "0",
         "1992"
        ],
        [
         "41",
         "Argentina",
         "86",
         "0",
         "0",
         "0",
         "0",
         "1997"
        ],
        [
         "42",
         "Argentina",
         "0",
         "0",
         "0",
         "0",
         "0",
         "2002"
        ],
        [
         "43",
         "Argentina",
         "0",
         "0",
         "0",
         "0",
         "0",
         "2007"
        ],
        [
         "44",
         "Armenia",
         "0",
         "2",
         "0",
         "139",
         "0",
         "1992"
        ],
        [
         "45",
         "Armenia",
         "0",
         "0",
         "0",
         "74",
         "0",
         "1997"
        ],
        [
         "46",
         "Armenia",
         "0",
         "0",
         "0",
         "0",
         "0",
         "2002"
        ],
        [
         "47",
         "Armenia",
         "0",
         "0",
         "0",
         "1",
         "0",
         "2007"
        ],
        [
         "48",
         "Asia and Oceania",
         "8193",
         "5432",
         "0",
         "52520",
         "178",
         "1992"
        ],
        [
         "49",
         "Asia and Oceania",
         "3481",
         "3304",
         "0",
         "58069",
         "204",
         "1997"
        ]
       ],
       "shape": {
        "columns": 7,
        "rows": 848
       }
      },
      "text/html": [
       "<div>\n",
       "<style scoped>\n",
       "    .dataframe tbody tr th:only-of-type {\n",
       "        vertical-align: middle;\n",
       "    }\n",
       "\n",
       "    .dataframe tbody tr th {\n",
       "        vertical-align: top;\n",
       "    }\n",
       "\n",
       "    .dataframe thead th {\n",
       "        text-align: right;\n",
       "    }\n",
       "</style>\n",
       "<table border=\"1\" class=\"dataframe\">\n",
       "  <thead>\n",
       "    <tr style=\"text-align: right;\">\n",
       "      <th></th>\n",
       "      <th>country</th>\n",
       "      <th>oneSidedViolence</th>\n",
       "      <th>nonStateConflict</th>\n",
       "      <th>extrasystemic</th>\n",
       "      <th>intrastate</th>\n",
       "      <th>interstate</th>\n",
       "      <th>year</th>\n",
       "    </tr>\n",
       "  </thead>\n",
       "  <tbody>\n",
       "    <tr>\n",
       "      <th>0</th>\n",
       "      <td>Abkhazia</td>\n",
       "      <td>0</td>\n",
       "      <td>0</td>\n",
       "      <td>0</td>\n",
       "      <td>0</td>\n",
       "      <td>0</td>\n",
       "      <td>1992</td>\n",
       "    </tr>\n",
       "    <tr>\n",
       "      <th>1</th>\n",
       "      <td>Abkhazia</td>\n",
       "      <td>0</td>\n",
       "      <td>0</td>\n",
       "      <td>0</td>\n",
       "      <td>0</td>\n",
       "      <td>0</td>\n",
       "      <td>1997</td>\n",
       "    </tr>\n",
       "    <tr>\n",
       "      <th>2</th>\n",
       "      <td>Abkhazia</td>\n",
       "      <td>0</td>\n",
       "      <td>0</td>\n",
       "      <td>0</td>\n",
       "      <td>0</td>\n",
       "      <td>0</td>\n",
       "      <td>2002</td>\n",
       "    </tr>\n",
       "    <tr>\n",
       "      <th>3</th>\n",
       "      <td>Abkhazia</td>\n",
       "      <td>0</td>\n",
       "      <td>0</td>\n",
       "      <td>0</td>\n",
       "      <td>0</td>\n",
       "      <td>0</td>\n",
       "      <td>2007</td>\n",
       "    </tr>\n",
       "    <tr>\n",
       "      <th>4</th>\n",
       "      <td>Abyei</td>\n",
       "      <td>0</td>\n",
       "      <td>0</td>\n",
       "      <td>0</td>\n",
       "      <td>0</td>\n",
       "      <td>0</td>\n",
       "      <td>1992</td>\n",
       "    </tr>\n",
       "    <tr>\n",
       "      <th>...</th>\n",
       "      <td>...</td>\n",
       "      <td>...</td>\n",
       "      <td>...</td>\n",
       "      <td>...</td>\n",
       "      <td>...</td>\n",
       "      <td>...</td>\n",
       "      <td>...</td>\n",
       "    </tr>\n",
       "    <tr>\n",
       "      <th>843</th>\n",
       "      <td>Zambia</td>\n",
       "      <td>0</td>\n",
       "      <td>0</td>\n",
       "      <td>0</td>\n",
       "      <td>0</td>\n",
       "      <td>0</td>\n",
       "      <td>2007</td>\n",
       "    </tr>\n",
       "    <tr>\n",
       "      <th>844</th>\n",
       "      <td>Zimbabwe</td>\n",
       "      <td>51</td>\n",
       "      <td>0</td>\n",
       "      <td>0</td>\n",
       "      <td>0</td>\n",
       "      <td>0</td>\n",
       "      <td>1992</td>\n",
       "    </tr>\n",
       "    <tr>\n",
       "      <th>845</th>\n",
       "      <td>Zimbabwe</td>\n",
       "      <td>0</td>\n",
       "      <td>0</td>\n",
       "      <td>0</td>\n",
       "      <td>0</td>\n",
       "      <td>0</td>\n",
       "      <td>1997</td>\n",
       "    </tr>\n",
       "    <tr>\n",
       "      <th>846</th>\n",
       "      <td>Zimbabwe</td>\n",
       "      <td>0</td>\n",
       "      <td>0</td>\n",
       "      <td>0</td>\n",
       "      <td>0</td>\n",
       "      <td>0</td>\n",
       "      <td>2002</td>\n",
       "    </tr>\n",
       "    <tr>\n",
       "      <th>847</th>\n",
       "      <td>Zimbabwe</td>\n",
       "      <td>0</td>\n",
       "      <td>0</td>\n",
       "      <td>0</td>\n",
       "      <td>0</td>\n",
       "      <td>0</td>\n",
       "      <td>2007</td>\n",
       "    </tr>\n",
       "  </tbody>\n",
       "</table>\n",
       "<p>848 rows × 7 columns</p>\n",
       "</div>"
      ],
      "text/plain": [
       "      country  oneSidedViolence  nonStateConflict  extrasystemic  intrastate  \\\n",
       "0    Abkhazia                 0                 0              0           0   \n",
       "1    Abkhazia                 0                 0              0           0   \n",
       "2    Abkhazia                 0                 0              0           0   \n",
       "3    Abkhazia                 0                 0              0           0   \n",
       "4       Abyei                 0                 0              0           0   \n",
       "..        ...               ...               ...            ...         ...   \n",
       "843    Zambia                 0                 0              0           0   \n",
       "844  Zimbabwe                51                 0              0           0   \n",
       "845  Zimbabwe                 0                 0              0           0   \n",
       "846  Zimbabwe                 0                 0              0           0   \n",
       "847  Zimbabwe                 0                 0              0           0   \n",
       "\n",
       "     interstate  year  \n",
       "0             0  1992  \n",
       "1             0  1997  \n",
       "2             0  2002  \n",
       "3             0  2007  \n",
       "4             0  1992  \n",
       "..          ...   ...  \n",
       "843           0  2007  \n",
       "844           0  1992  \n",
       "845           0  1997  \n",
       "846           0  2002  \n",
       "847           0  2007  \n",
       "\n",
       "[848 rows x 7 columns]"
      ]
     },
     "execution_count": 9,
     "metadata": {},
     "output_type": "execute_result"
    }
   ],
   "source": [
    "# renomeiar colunas para facilitar o uso e entendimento do que tá rolando.\n",
    "rename_one_column(mortes_guerra, old_name='Entity', new_name='country', inplace=True)\n",
    "rename_one_column(mortes_guerra, old_name='Deaths in ongoing conflicts (best estimate) - Conflict type: one-sided violence_sum', new_name='oneSidedViolence', inplace=True)\n",
    "rename_one_column(mortes_guerra, old_name='Deaths in ongoing conflicts (best estimate) - Conflict type: non-state conflict_sum', new_name='nonStateConflict', inplace=True)\n",
    "rename_one_column(mortes_guerra, old_name='Deaths in ongoing conflicts (best estimate) - Conflict type: extrasystemic_sum', new_name='extrasystemic', inplace=True)\n",
    "rename_one_column(mortes_guerra, old_name='Deaths in ongoing conflicts (best estimate) - Conflict type: intrastate_sum', new_name='intrastate', inplace=True)\n",
    "rename_one_column(mortes_guerra, old_name='Deaths in ongoing conflicts (best estimate) - Conflict type: interstate_sum', new_name='interstate', inplace=True)"
   ]
  },
  {
   "cell_type": "code",
   "execution_count": 10,
   "id": "7f9c8fce",
   "metadata": {},
   "outputs": [
    {
     "data": {
      "application/vnd.microsoft.datawrangler.viewer.v0+json": {
       "columns": [
        {
         "name": "index",
         "rawType": "int64",
         "type": "integer"
        },
        {
         "name": "country",
         "rawType": "object",
         "type": "string"
        },
        {
         "name": "oneSidedViolence",
         "rawType": "int64",
         "type": "integer"
        },
        {
         "name": "nonStateConflict",
         "rawType": "int64",
         "type": "integer"
        },
        {
         "name": "extrasystemic",
         "rawType": "int64",
         "type": "integer"
        },
        {
         "name": "intrastate",
         "rawType": "int64",
         "type": "integer"
        },
        {
         "name": "interstate",
         "rawType": "int64",
         "type": "integer"
        },
        {
         "name": "year",
         "rawType": "int64",
         "type": "integer"
        }
       ],
       "ref": "921b4533-afb7-41d1-b267-606ed3ebd682",
       "rows": [
        [
         "620",
         "Rwanda",
         "3013",
         "0",
         "0",
         "1366",
         "0",
         "1992"
        ],
        [
         "621",
         "Rwanda",
         "782261",
         "92",
         "0",
         "3344",
         "0",
         "1997"
        ],
        [
         "622",
         "Rwanda",
         "708",
         "0",
         "0",
         "3139",
         "0",
         "2002"
        ],
        [
         "623",
         "Rwanda",
         "0",
         "0",
         "0",
         "0",
         "0",
         "2007"
        ]
       ],
       "shape": {
        "columns": 7,
        "rows": 4
       }
      },
      "text/html": [
       "<div>\n",
       "<style scoped>\n",
       "    .dataframe tbody tr th:only-of-type {\n",
       "        vertical-align: middle;\n",
       "    }\n",
       "\n",
       "    .dataframe tbody tr th {\n",
       "        vertical-align: top;\n",
       "    }\n",
       "\n",
       "    .dataframe thead th {\n",
       "        text-align: right;\n",
       "    }\n",
       "</style>\n",
       "<table border=\"1\" class=\"dataframe\">\n",
       "  <thead>\n",
       "    <tr style=\"text-align: right;\">\n",
       "      <th></th>\n",
       "      <th>country</th>\n",
       "      <th>oneSidedViolence</th>\n",
       "      <th>nonStateConflict</th>\n",
       "      <th>extrasystemic</th>\n",
       "      <th>intrastate</th>\n",
       "      <th>interstate</th>\n",
       "      <th>year</th>\n",
       "    </tr>\n",
       "  </thead>\n",
       "  <tbody>\n",
       "    <tr>\n",
       "      <th>620</th>\n",
       "      <td>Rwanda</td>\n",
       "      <td>3013</td>\n",
       "      <td>0</td>\n",
       "      <td>0</td>\n",
       "      <td>1366</td>\n",
       "      <td>0</td>\n",
       "      <td>1992</td>\n",
       "    </tr>\n",
       "    <tr>\n",
       "      <th>621</th>\n",
       "      <td>Rwanda</td>\n",
       "      <td>782261</td>\n",
       "      <td>92</td>\n",
       "      <td>0</td>\n",
       "      <td>3344</td>\n",
       "      <td>0</td>\n",
       "      <td>1997</td>\n",
       "    </tr>\n",
       "    <tr>\n",
       "      <th>622</th>\n",
       "      <td>Rwanda</td>\n",
       "      <td>708</td>\n",
       "      <td>0</td>\n",
       "      <td>0</td>\n",
       "      <td>3139</td>\n",
       "      <td>0</td>\n",
       "      <td>2002</td>\n",
       "    </tr>\n",
       "    <tr>\n",
       "      <th>623</th>\n",
       "      <td>Rwanda</td>\n",
       "      <td>0</td>\n",
       "      <td>0</td>\n",
       "      <td>0</td>\n",
       "      <td>0</td>\n",
       "      <td>0</td>\n",
       "      <td>2007</td>\n",
       "    </tr>\n",
       "  </tbody>\n",
       "</table>\n",
       "</div>"
      ],
      "text/plain": [
       "    country  oneSidedViolence  nonStateConflict  extrasystemic  intrastate  \\\n",
       "620  Rwanda              3013                 0              0        1366   \n",
       "621  Rwanda            782261                92              0        3344   \n",
       "622  Rwanda               708                 0              0        3139   \n",
       "623  Rwanda                 0                 0              0           0   \n",
       "\n",
       "     interstate  year  \n",
       "620           0  1992  \n",
       "621           0  1997  \n",
       "622           0  2002  \n",
       "623           0  2007  "
      ]
     },
     "execution_count": 10,
     "metadata": {},
     "output_type": "execute_result"
    }
   ],
   "source": [
    "# Validando o caso de Rwanda pra ver se deu tudo certo\n",
    "filtro = mortes_guerra['country'] == 'Rwanda'\n",
    "ausentes = mortes_guerra[filtro].index\n",
    "mortes_guerra.loc[ausentes].head()\n",
    "\n",
    "# A soma pra Rwanda deu bom \\o/"
   ]
  },
  {
   "cell_type": "code",
   "execution_count": 11,
   "id": "1206db64",
   "metadata": {},
   "outputs": [
    {
     "name": "stdout",
     "output_type": "stream",
     "text": [
      "Dataframes unidos com sucesso! \n",
      "Dimensão: (1704, 11)\n"
     ]
    },
    {
     "data": {
      "application/vnd.microsoft.datawrangler.viewer.v0+json": {
       "columns": [
        {
         "name": "index",
         "rawType": "int64",
         "type": "integer"
        },
        {
         "name": "country",
         "rawType": "object",
         "type": "string"
        },
        {
         "name": "year",
         "rawType": "int64",
         "type": "integer"
        },
        {
         "name": "pop",
         "rawType": "object",
         "type": "string"
        },
        {
         "name": "continent",
         "rawType": "object",
         "type": "string"
        },
        {
         "name": "lifeExp",
         "rawType": "float64",
         "type": "float"
        },
        {
         "name": "gdpPercap",
         "rawType": "float64",
         "type": "float"
        },
        {
         "name": "oneSidedViolence",
         "rawType": "float64",
         "type": "float"
        },
        {
         "name": "nonStateConflict",
         "rawType": "float64",
         "type": "float"
        },
        {
         "name": "extrasystemic",
         "rawType": "float64",
         "type": "float"
        },
        {
         "name": "intrastate",
         "rawType": "float64",
         "type": "float"
        },
        {
         "name": "interstate",
         "rawType": "float64",
         "type": "float"
        }
       ],
       "ref": "4b10fb6c-3623-4331-bad6-b71fabb8fe21",
       "rows": [
        [
         "0",
         "Afghanistan",
         "1952",
         "8.425.333",
         "Asia",
         "28.8",
         "779.45",
         null,
         null,
         null,
         null,
         null
        ],
        [
         "1",
         "Afghanistan",
         "1957",
         "9.240.934",
         "Asia",
         "30.3",
         "820.85",
         null,
         null,
         null,
         null,
         null
        ],
        [
         "2",
         "Afghanistan",
         "1962",
         "10.267.083",
         "Asia",
         "32.0",
         "853.1",
         null,
         null,
         null,
         null,
         null
        ],
        [
         "3",
         "Afghanistan",
         "1967",
         "11.537.966",
         "Asia",
         "34.0",
         "836.2",
         null,
         null,
         null,
         null,
         null
        ],
        [
         "4",
         "Afghanistan",
         "1972",
         "13.079.460",
         "Asia",
         "36.1",
         "739.98",
         null,
         null,
         null,
         null,
         null
        ]
       ],
       "shape": {
        "columns": 11,
        "rows": 5
       }
      },
      "text/html": [
       "<div>\n",
       "<style scoped>\n",
       "    .dataframe tbody tr th:only-of-type {\n",
       "        vertical-align: middle;\n",
       "    }\n",
       "\n",
       "    .dataframe tbody tr th {\n",
       "        vertical-align: top;\n",
       "    }\n",
       "\n",
       "    .dataframe thead th {\n",
       "        text-align: right;\n",
       "    }\n",
       "</style>\n",
       "<table border=\"1\" class=\"dataframe\">\n",
       "  <thead>\n",
       "    <tr style=\"text-align: right;\">\n",
       "      <th></th>\n",
       "      <th>country</th>\n",
       "      <th>year</th>\n",
       "      <th>pop</th>\n",
       "      <th>continent</th>\n",
       "      <th>lifeExp</th>\n",
       "      <th>gdpPercap</th>\n",
       "      <th>oneSidedViolence</th>\n",
       "      <th>nonStateConflict</th>\n",
       "      <th>extrasystemic</th>\n",
       "      <th>intrastate</th>\n",
       "      <th>interstate</th>\n",
       "    </tr>\n",
       "  </thead>\n",
       "  <tbody>\n",
       "    <tr>\n",
       "      <th>0</th>\n",
       "      <td>Afghanistan</td>\n",
       "      <td>1952</td>\n",
       "      <td>8.425.333</td>\n",
       "      <td>Asia</td>\n",
       "      <td>28.8</td>\n",
       "      <td>779.45</td>\n",
       "      <td>NaN</td>\n",
       "      <td>NaN</td>\n",
       "      <td>NaN</td>\n",
       "      <td>NaN</td>\n",
       "      <td>NaN</td>\n",
       "    </tr>\n",
       "    <tr>\n",
       "      <th>1</th>\n",
       "      <td>Afghanistan</td>\n",
       "      <td>1957</td>\n",
       "      <td>9.240.934</td>\n",
       "      <td>Asia</td>\n",
       "      <td>30.3</td>\n",
       "      <td>820.85</td>\n",
       "      <td>NaN</td>\n",
       "      <td>NaN</td>\n",
       "      <td>NaN</td>\n",
       "      <td>NaN</td>\n",
       "      <td>NaN</td>\n",
       "    </tr>\n",
       "    <tr>\n",
       "      <th>2</th>\n",
       "      <td>Afghanistan</td>\n",
       "      <td>1962</td>\n",
       "      <td>10.267.083</td>\n",
       "      <td>Asia</td>\n",
       "      <td>32.0</td>\n",
       "      <td>853.10</td>\n",
       "      <td>NaN</td>\n",
       "      <td>NaN</td>\n",
       "      <td>NaN</td>\n",
       "      <td>NaN</td>\n",
       "      <td>NaN</td>\n",
       "    </tr>\n",
       "    <tr>\n",
       "      <th>3</th>\n",
       "      <td>Afghanistan</td>\n",
       "      <td>1967</td>\n",
       "      <td>11.537.966</td>\n",
       "      <td>Asia</td>\n",
       "      <td>34.0</td>\n",
       "      <td>836.20</td>\n",
       "      <td>NaN</td>\n",
       "      <td>NaN</td>\n",
       "      <td>NaN</td>\n",
       "      <td>NaN</td>\n",
       "      <td>NaN</td>\n",
       "    </tr>\n",
       "    <tr>\n",
       "      <th>4</th>\n",
       "      <td>Afghanistan</td>\n",
       "      <td>1972</td>\n",
       "      <td>13.079.460</td>\n",
       "      <td>Asia</td>\n",
       "      <td>36.1</td>\n",
       "      <td>739.98</td>\n",
       "      <td>NaN</td>\n",
       "      <td>NaN</td>\n",
       "      <td>NaN</td>\n",
       "      <td>NaN</td>\n",
       "      <td>NaN</td>\n",
       "    </tr>\n",
       "  </tbody>\n",
       "</table>\n",
       "</div>"
      ],
      "text/plain": [
       "       country  year         pop continent  lifeExp  gdpPercap  \\\n",
       "0  Afghanistan  1952   8.425.333      Asia     28.8     779.45   \n",
       "1  Afghanistan  1957   9.240.934      Asia     30.3     820.85   \n",
       "2  Afghanistan  1962  10.267.083      Asia     32.0     853.10   \n",
       "3  Afghanistan  1967  11.537.966      Asia     34.0     836.20   \n",
       "4  Afghanistan  1972  13.079.460      Asia     36.1     739.98   \n",
       "\n",
       "   oneSidedViolence  nonStateConflict  extrasystemic  intrastate  interstate  \n",
       "0               NaN               NaN            NaN         NaN         NaN  \n",
       "1               NaN               NaN            NaN         NaN         NaN  \n",
       "2               NaN               NaN            NaN         NaN         NaN  \n",
       "3               NaN               NaN            NaN         NaN         NaN  \n",
       "4               NaN               NaN            NaN         NaN         NaN  "
      ]
     },
     "execution_count": 11,
     "metadata": {},
     "output_type": "execute_result"
    }
   ],
   "source": [
    "#Agora a gente junta as 2 bases pra ver no que dá\n",
    "juncao = junta_dataframes(base_limpa, mortes_guerra, chave=['country', 'year'], tipo_juncao='left')\n",
    "juncao.head()"
   ]
  },
  {
   "cell_type": "code",
   "execution_count": 12,
   "id": "f4375a57",
   "metadata": {},
   "outputs": [
    {
     "name": "stdout",
     "output_type": "stream",
     "text": [
      "Importando o dataframe: ../../avaliacao-python-ciencia-dados/Bases/gdp_pcap_inflaction_adjusted.csv ...\n",
      "Dataframe importado com sucesso! \n",
      "Dimensão: (193, 303)\n"
     ]
    },
    {
     "data": {
      "application/vnd.microsoft.datawrangler.viewer.v0+json": {
       "columns": [
        {
         "name": "index",
         "rawType": "int64",
         "type": "integer"
        },
        {
         "name": "geo",
         "rawType": "object",
         "type": "string"
        },
        {
         "name": "name",
         "rawType": "object",
         "type": "string"
        },
        {
         "name": "1800",
         "rawType": "float64",
         "type": "float"
        },
        {
         "name": "1801",
         "rawType": "float64",
         "type": "float"
        },
        {
         "name": "1802",
         "rawType": "float64",
         "type": "float"
        },
        {
         "name": "1803",
         "rawType": "float64",
         "type": "float"
        },
        {
         "name": "1804",
         "rawType": "float64",
         "type": "float"
        },
        {
         "name": "1805",
         "rawType": "float64",
         "type": "float"
        },
        {
         "name": "1806",
         "rawType": "float64",
         "type": "float"
        },
        {
         "name": "1807",
         "rawType": "float64",
         "type": "float"
        },
        {
         "name": "1808",
         "rawType": "float64",
         "type": "float"
        },
        {
         "name": "1809",
         "rawType": "float64",
         "type": "float"
        },
        {
         "name": "1810",
         "rawType": "float64",
         "type": "float"
        },
        {
         "name": "1811",
         "rawType": "float64",
         "type": "float"
        },
        {
         "name": "1812",
         "rawType": "float64",
         "type": "float"
        },
        {
         "name": "1813",
         "rawType": "float64",
         "type": "float"
        },
        {
         "name": "1814",
         "rawType": "float64",
         "type": "float"
        },
        {
         "name": "1815",
         "rawType": "float64",
         "type": "float"
        },
        {
         "name": "1816",
         "rawType": "float64",
         "type": "float"
        },
        {
         "name": "1817",
         "rawType": "float64",
         "type": "float"
        },
        {
         "name": "1818",
         "rawType": "float64",
         "type": "float"
        },
        {
         "name": "1819",
         "rawType": "float64",
         "type": "float"
        },
        {
         "name": "1820",
         "rawType": "float64",
         "type": "float"
        },
        {
         "name": "1821",
         "rawType": "float64",
         "type": "float"
        },
        {
         "name": "1822",
         "rawType": "float64",
         "type": "float"
        },
        {
         "name": "1823",
         "rawType": "float64",
         "type": "float"
        },
        {
         "name": "1824",
         "rawType": "float64",
         "type": "float"
        },
        {
         "name": "1825",
         "rawType": "float64",
         "type": "float"
        },
        {
         "name": "1826",
         "rawType": "float64",
         "type": "float"
        },
        {
         "name": "1827",
         "rawType": "float64",
         "type": "float"
        },
        {
         "name": "1828",
         "rawType": "float64",
         "type": "float"
        },
        {
         "name": "1829",
         "rawType": "float64",
         "type": "float"
        },
        {
         "name": "1830",
         "rawType": "float64",
         "type": "float"
        },
        {
         "name": "1831",
         "rawType": "float64",
         "type": "float"
        },
        {
         "name": "1832",
         "rawType": "float64",
         "type": "float"
        },
        {
         "name": "1833",
         "rawType": "float64",
         "type": "float"
        },
        {
         "name": "1834",
         "rawType": "float64",
         "type": "float"
        },
        {
         "name": "1835",
         "rawType": "float64",
         "type": "float"
        },
        {
         "name": "1836",
         "rawType": "float64",
         "type": "float"
        },
        {
         "name": "1837",
         "rawType": "float64",
         "type": "float"
        },
        {
         "name": "1838",
         "rawType": "float64",
         "type": "float"
        },
        {
         "name": "1839",
         "rawType": "float64",
         "type": "float"
        },
        {
         "name": "1840",
         "rawType": "float64",
         "type": "float"
        },
        {
         "name": "1841",
         "rawType": "float64",
         "type": "float"
        },
        {
         "name": "1842",
         "rawType": "float64",
         "type": "float"
        },
        {
         "name": "1843",
         "rawType": "float64",
         "type": "float"
        },
        {
         "name": "1844",
         "rawType": "float64",
         "type": "float"
        },
        {
         "name": "1845",
         "rawType": "float64",
         "type": "float"
        },
        {
         "name": "1846",
         "rawType": "float64",
         "type": "float"
        },
        {
         "name": "1847",
         "rawType": "float64",
         "type": "float"
        },
        {
         "name": "1848",
         "rawType": "float64",
         "type": "float"
        },
        {
         "name": "1849",
         "rawType": "float64",
         "type": "float"
        },
        {
         "name": "1850",
         "rawType": "float64",
         "type": "float"
        },
        {
         "name": "1851",
         "rawType": "float64",
         "type": "float"
        },
        {
         "name": "1852",
         "rawType": "float64",
         "type": "float"
        },
        {
         "name": "1853",
         "rawType": "float64",
         "type": "float"
        },
        {
         "name": "1854",
         "rawType": "float64",
         "type": "float"
        },
        {
         "name": "1855",
         "rawType": "float64",
         "type": "float"
        },
        {
         "name": "1856",
         "rawType": "float64",
         "type": "float"
        },
        {
         "name": "1857",
         "rawType": "float64",
         "type": "float"
        },
        {
         "name": "1858",
         "rawType": "float64",
         "type": "float"
        },
        {
         "name": "1859",
         "rawType": "float64",
         "type": "float"
        },
        {
         "name": "1860",
         "rawType": "float64",
         "type": "float"
        },
        {
         "name": "1861",
         "rawType": "float64",
         "type": "float"
        },
        {
         "name": "1862",
         "rawType": "float64",
         "type": "float"
        },
        {
         "name": "1863",
         "rawType": "float64",
         "type": "float"
        },
        {
         "name": "1864",
         "rawType": "float64",
         "type": "float"
        },
        {
         "name": "1865",
         "rawType": "float64",
         "type": "float"
        },
        {
         "name": "1866",
         "rawType": "float64",
         "type": "float"
        },
        {
         "name": "1867",
         "rawType": "float64",
         "type": "float"
        },
        {
         "name": "1868",
         "rawType": "float64",
         "type": "float"
        },
        {
         "name": "1869",
         "rawType": "float64",
         "type": "float"
        },
        {
         "name": "1870",
         "rawType": "float64",
         "type": "float"
        },
        {
         "name": "1871",
         "rawType": "float64",
         "type": "float"
        },
        {
         "name": "1872",
         "rawType": "float64",
         "type": "float"
        },
        {
         "name": "1873",
         "rawType": "float64",
         "type": "float"
        },
        {
         "name": "1874",
         "rawType": "float64",
         "type": "float"
        },
        {
         "name": "1875",
         "rawType": "float64",
         "type": "float"
        },
        {
         "name": "1876",
         "rawType": "float64",
         "type": "float"
        },
        {
         "name": "1877",
         "rawType": "float64",
         "type": "float"
        },
        {
         "name": "1878",
         "rawType": "float64",
         "type": "float"
        },
        {
         "name": "1879",
         "rawType": "float64",
         "type": "float"
        },
        {
         "name": "1880",
         "rawType": "float64",
         "type": "float"
        },
        {
         "name": "1881",
         "rawType": "float64",
         "type": "float"
        },
        {
         "name": "1882",
         "rawType": "float64",
         "type": "float"
        },
        {
         "name": "1883",
         "rawType": "float64",
         "type": "float"
        },
        {
         "name": "1884",
         "rawType": "float64",
         "type": "float"
        },
        {
         "name": "1885",
         "rawType": "float64",
         "type": "float"
        },
        {
         "name": "1886",
         "rawType": "float64",
         "type": "float"
        },
        {
         "name": "1887",
         "rawType": "float64",
         "type": "float"
        },
        {
         "name": "1888",
         "rawType": "float64",
         "type": "float"
        },
        {
         "name": "1889",
         "rawType": "float64",
         "type": "float"
        },
        {
         "name": "1890",
         "rawType": "float64",
         "type": "float"
        },
        {
         "name": "1891",
         "rawType": "float64",
         "type": "float"
        },
        {
         "name": "1892",
         "rawType": "float64",
         "type": "float"
        },
        {
         "name": "1893",
         "rawType": "float64",
         "type": "float"
        },
        {
         "name": "1894",
         "rawType": "float64",
         "type": "float"
        },
        {
         "name": "1895",
         "rawType": "float64",
         "type": "float"
        },
        {
         "name": "1896",
         "rawType": "float64",
         "type": "float"
        },
        {
         "name": "1897",
         "rawType": "float64",
         "type": "float"
        },
        {
         "name": "1898",
         "rawType": "float64",
         "type": "float"
        },
        {
         "name": "1899",
         "rawType": "float64",
         "type": "float"
        },
        {
         "name": "1900",
         "rawType": "float64",
         "type": "float"
        },
        {
         "name": "1901",
         "rawType": "float64",
         "type": "float"
        },
        {
         "name": "1902",
         "rawType": "float64",
         "type": "float"
        },
        {
         "name": "1903",
         "rawType": "float64",
         "type": "float"
        },
        {
         "name": "1904",
         "rawType": "float64",
         "type": "float"
        },
        {
         "name": "1905",
         "rawType": "float64",
         "type": "float"
        },
        {
         "name": "1906",
         "rawType": "float64",
         "type": "float"
        },
        {
         "name": "1907",
         "rawType": "float64",
         "type": "float"
        },
        {
         "name": "1908",
         "rawType": "float64",
         "type": "float"
        },
        {
         "name": "1909",
         "rawType": "float64",
         "type": "float"
        },
        {
         "name": "1910",
         "rawType": "float64",
         "type": "float"
        },
        {
         "name": "1911",
         "rawType": "float64",
         "type": "float"
        },
        {
         "name": "1912",
         "rawType": "float64",
         "type": "float"
        },
        {
         "name": "1913",
         "rawType": "float64",
         "type": "float"
        },
        {
         "name": "1914",
         "rawType": "float64",
         "type": "float"
        },
        {
         "name": "1915",
         "rawType": "float64",
         "type": "float"
        },
        {
         "name": "1916",
         "rawType": "float64",
         "type": "float"
        },
        {
         "name": "1917",
         "rawType": "float64",
         "type": "float"
        },
        {
         "name": "1918",
         "rawType": "float64",
         "type": "float"
        },
        {
         "name": "1919",
         "rawType": "float64",
         "type": "float"
        },
        {
         "name": "1920",
         "rawType": "float64",
         "type": "float"
        },
        {
         "name": "1921",
         "rawType": "float64",
         "type": "float"
        },
        {
         "name": "1922",
         "rawType": "float64",
         "type": "float"
        },
        {
         "name": "1923",
         "rawType": "float64",
         "type": "float"
        },
        {
         "name": "1924",
         "rawType": "float64",
         "type": "float"
        },
        {
         "name": "1925",
         "rawType": "float64",
         "type": "float"
        },
        {
         "name": "1926",
         "rawType": "float64",
         "type": "float"
        },
        {
         "name": "1927",
         "rawType": "float64",
         "type": "float"
        },
        {
         "name": "1928",
         "rawType": "float64",
         "type": "float"
        },
        {
         "name": "1929",
         "rawType": "float64",
         "type": "float"
        },
        {
         "name": "1930",
         "rawType": "float64",
         "type": "float"
        },
        {
         "name": "1931",
         "rawType": "float64",
         "type": "float"
        },
        {
         "name": "1932",
         "rawType": "float64",
         "type": "float"
        },
        {
         "name": "1933",
         "rawType": "float64",
         "type": "float"
        },
        {
         "name": "1934",
         "rawType": "float64",
         "type": "float"
        },
        {
         "name": "1935",
         "rawType": "float64",
         "type": "float"
        },
        {
         "name": "1936",
         "rawType": "float64",
         "type": "float"
        },
        {
         "name": "1937",
         "rawType": "float64",
         "type": "float"
        },
        {
         "name": "1938",
         "rawType": "float64",
         "type": "float"
        },
        {
         "name": "1939",
         "rawType": "float64",
         "type": "float"
        },
        {
         "name": "1940",
         "rawType": "float64",
         "type": "float"
        },
        {
         "name": "1941",
         "rawType": "float64",
         "type": "float"
        },
        {
         "name": "1942",
         "rawType": "float64",
         "type": "float"
        },
        {
         "name": "1943",
         "rawType": "float64",
         "type": "float"
        },
        {
         "name": "1944",
         "rawType": "float64",
         "type": "float"
        },
        {
         "name": "1945",
         "rawType": "float64",
         "type": "float"
        },
        {
         "name": "1946",
         "rawType": "float64",
         "type": "float"
        },
        {
         "name": "1947",
         "rawType": "float64",
         "type": "float"
        },
        {
         "name": "1948",
         "rawType": "float64",
         "type": "float"
        },
        {
         "name": "1949",
         "rawType": "float64",
         "type": "float"
        },
        {
         "name": "1950",
         "rawType": "float64",
         "type": "float"
        },
        {
         "name": "1951",
         "rawType": "float64",
         "type": "float"
        },
        {
         "name": "1952",
         "rawType": "float64",
         "type": "float"
        },
        {
         "name": "1953",
         "rawType": "float64",
         "type": "float"
        },
        {
         "name": "1954",
         "rawType": "float64",
         "type": "float"
        },
        {
         "name": "1955",
         "rawType": "float64",
         "type": "float"
        },
        {
         "name": "1956",
         "rawType": "float64",
         "type": "float"
        },
        {
         "name": "1957",
         "rawType": "float64",
         "type": "float"
        },
        {
         "name": "1958",
         "rawType": "float64",
         "type": "float"
        },
        {
         "name": "1959",
         "rawType": "float64",
         "type": "float"
        },
        {
         "name": "1960",
         "rawType": "float64",
         "type": "float"
        },
        {
         "name": "1961",
         "rawType": "float64",
         "type": "float"
        },
        {
         "name": "1962",
         "rawType": "float64",
         "type": "float"
        },
        {
         "name": "1963",
         "rawType": "float64",
         "type": "float"
        },
        {
         "name": "1964",
         "rawType": "float64",
         "type": "float"
        },
        {
         "name": "1965",
         "rawType": "float64",
         "type": "float"
        },
        {
         "name": "1966",
         "rawType": "float64",
         "type": "float"
        },
        {
         "name": "1967",
         "rawType": "float64",
         "type": "float"
        },
        {
         "name": "1968",
         "rawType": "float64",
         "type": "float"
        },
        {
         "name": "1969",
         "rawType": "float64",
         "type": "float"
        },
        {
         "name": "1970",
         "rawType": "float64",
         "type": "float"
        },
        {
         "name": "1971",
         "rawType": "float64",
         "type": "float"
        },
        {
         "name": "1972",
         "rawType": "float64",
         "type": "float"
        },
        {
         "name": "1973",
         "rawType": "float64",
         "type": "float"
        },
        {
         "name": "1974",
         "rawType": "float64",
         "type": "float"
        },
        {
         "name": "1975",
         "rawType": "float64",
         "type": "float"
        },
        {
         "name": "1976",
         "rawType": "float64",
         "type": "float"
        },
        {
         "name": "1977",
         "rawType": "float64",
         "type": "float"
        },
        {
         "name": "1978",
         "rawType": "float64",
         "type": "float"
        },
        {
         "name": "1979",
         "rawType": "float64",
         "type": "float"
        },
        {
         "name": "1980",
         "rawType": "float64",
         "type": "float"
        },
        {
         "name": "1981",
         "rawType": "float64",
         "type": "float"
        },
        {
         "name": "1982",
         "rawType": "float64",
         "type": "float"
        },
        {
         "name": "1983",
         "rawType": "float64",
         "type": "float"
        },
        {
         "name": "1984",
         "rawType": "float64",
         "type": "float"
        },
        {
         "name": "1985",
         "rawType": "float64",
         "type": "float"
        },
        {
         "name": "1986",
         "rawType": "float64",
         "type": "float"
        },
        {
         "name": "1987",
         "rawType": "float64",
         "type": "float"
        },
        {
         "name": "1988",
         "rawType": "float64",
         "type": "float"
        },
        {
         "name": "1989",
         "rawType": "float64",
         "type": "float"
        },
        {
         "name": "1990",
         "rawType": "float64",
         "type": "float"
        },
        {
         "name": "1991",
         "rawType": "float64",
         "type": "float"
        },
        {
         "name": "1992",
         "rawType": "float64",
         "type": "float"
        },
        {
         "name": "1993",
         "rawType": "float64",
         "type": "float"
        },
        {
         "name": "1994",
         "rawType": "float64",
         "type": "float"
        },
        {
         "name": "1995",
         "rawType": "float64",
         "type": "float"
        },
        {
         "name": "1996",
         "rawType": "float64",
         "type": "float"
        },
        {
         "name": "1997",
         "rawType": "float64",
         "type": "float"
        },
        {
         "name": "1998",
         "rawType": "float64",
         "type": "float"
        },
        {
         "name": "1999",
         "rawType": "float64",
         "type": "float"
        },
        {
         "name": "2000",
         "rawType": "float64",
         "type": "float"
        },
        {
         "name": "2001",
         "rawType": "float64",
         "type": "float"
        },
        {
         "name": "2002",
         "rawType": "float64",
         "type": "float"
        },
        {
         "name": "2003",
         "rawType": "float64",
         "type": "float"
        },
        {
         "name": "2004",
         "rawType": "float64",
         "type": "float"
        },
        {
         "name": "2005",
         "rawType": "float64",
         "type": "float"
        },
        {
         "name": "2006",
         "rawType": "float64",
         "type": "float"
        },
        {
         "name": "2007",
         "rawType": "float64",
         "type": "float"
        },
        {
         "name": "2008",
         "rawType": "float64",
         "type": "float"
        },
        {
         "name": "2009",
         "rawType": "float64",
         "type": "float"
        },
        {
         "name": "2010",
         "rawType": "float64",
         "type": "float"
        },
        {
         "name": "2011",
         "rawType": "float64",
         "type": "float"
        },
        {
         "name": "2012",
         "rawType": "float64",
         "type": "float"
        },
        {
         "name": "2013",
         "rawType": "float64",
         "type": "float"
        },
        {
         "name": "2014",
         "rawType": "float64",
         "type": "float"
        },
        {
         "name": "2015",
         "rawType": "float64",
         "type": "float"
        },
        {
         "name": "2016",
         "rawType": "float64",
         "type": "float"
        },
        {
         "name": "2017",
         "rawType": "float64",
         "type": "float"
        },
        {
         "name": "2018",
         "rawType": "float64",
         "type": "float"
        },
        {
         "name": "2019",
         "rawType": "float64",
         "type": "float"
        },
        {
         "name": "2020",
         "rawType": "float64",
         "type": "float"
        },
        {
         "name": "2021",
         "rawType": "float64",
         "type": "float"
        },
        {
         "name": "2022",
         "rawType": "float64",
         "type": "float"
        },
        {
         "name": "2023",
         "rawType": "float64",
         "type": "float"
        },
        {
         "name": "2024",
         "rawType": "float64",
         "type": "float"
        },
        {
         "name": "2025",
         "rawType": "float64",
         "type": "float"
        },
        {
         "name": "2026",
         "rawType": "float64",
         "type": "float"
        },
        {
         "name": "2027",
         "rawType": "float64",
         "type": "float"
        },
        {
         "name": "2028",
         "rawType": "float64",
         "type": "float"
        },
        {
         "name": "2029",
         "rawType": "float64",
         "type": "float"
        },
        {
         "name": "2030",
         "rawType": "float64",
         "type": "float"
        },
        {
         "name": "2031",
         "rawType": "float64",
         "type": "float"
        },
        {
         "name": "2032",
         "rawType": "float64",
         "type": "float"
        },
        {
         "name": "2033",
         "rawType": "float64",
         "type": "float"
        },
        {
         "name": "2034",
         "rawType": "float64",
         "type": "float"
        },
        {
         "name": "2035",
         "rawType": "float64",
         "type": "float"
        },
        {
         "name": "2036",
         "rawType": "float64",
         "type": "float"
        },
        {
         "name": "2037",
         "rawType": "float64",
         "type": "float"
        },
        {
         "name": "2038",
         "rawType": "float64",
         "type": "float"
        },
        {
         "name": "2039",
         "rawType": "float64",
         "type": "float"
        },
        {
         "name": "2040",
         "rawType": "float64",
         "type": "float"
        },
        {
         "name": "2041",
         "rawType": "float64",
         "type": "float"
        },
        {
         "name": "2042",
         "rawType": "float64",
         "type": "float"
        },
        {
         "name": "2043",
         "rawType": "float64",
         "type": "float"
        },
        {
         "name": "2044",
         "rawType": "float64",
         "type": "float"
        },
        {
         "name": "2045",
         "rawType": "float64",
         "type": "float"
        },
        {
         "name": "2046",
         "rawType": "float64",
         "type": "float"
        },
        {
         "name": "2047",
         "rawType": "float64",
         "type": "float"
        },
        {
         "name": "2048",
         "rawType": "float64",
         "type": "float"
        },
        {
         "name": "2049",
         "rawType": "float64",
         "type": "float"
        },
        {
         "name": "2050",
         "rawType": "float64",
         "type": "float"
        },
        {
         "name": "2051",
         "rawType": "float64",
         "type": "float"
        },
        {
         "name": "2052",
         "rawType": "float64",
         "type": "float"
        },
        {
         "name": "2053",
         "rawType": "float64",
         "type": "float"
        },
        {
         "name": "2054",
         "rawType": "float64",
         "type": "float"
        },
        {
         "name": "2055",
         "rawType": "float64",
         "type": "float"
        },
        {
         "name": "2056",
         "rawType": "float64",
         "type": "float"
        },
        {
         "name": "2057",
         "rawType": "float64",
         "type": "float"
        },
        {
         "name": "2058",
         "rawType": "float64",
         "type": "float"
        },
        {
         "name": "2059",
         "rawType": "float64",
         "type": "float"
        },
        {
         "name": "2060",
         "rawType": "float64",
         "type": "float"
        },
        {
         "name": "2061",
         "rawType": "float64",
         "type": "float"
        },
        {
         "name": "2062",
         "rawType": "float64",
         "type": "float"
        },
        {
         "name": "2063",
         "rawType": "float64",
         "type": "float"
        },
        {
         "name": "2064",
         "rawType": "float64",
         "type": "float"
        },
        {
         "name": "2065",
         "rawType": "float64",
         "type": "float"
        },
        {
         "name": "2066",
         "rawType": "float64",
         "type": "float"
        },
        {
         "name": "2067",
         "rawType": "float64",
         "type": "float"
        },
        {
         "name": "2068",
         "rawType": "float64",
         "type": "float"
        },
        {
         "name": "2069",
         "rawType": "float64",
         "type": "float"
        },
        {
         "name": "2070",
         "rawType": "float64",
         "type": "float"
        },
        {
         "name": "2071",
         "rawType": "float64",
         "type": "float"
        },
        {
         "name": "2072",
         "rawType": "float64",
         "type": "float"
        },
        {
         "name": "2073",
         "rawType": "float64",
         "type": "float"
        },
        {
         "name": "2074",
         "rawType": "float64",
         "type": "float"
        },
        {
         "name": "2075",
         "rawType": "float64",
         "type": "float"
        },
        {
         "name": "2076",
         "rawType": "float64",
         "type": "float"
        },
        {
         "name": "2077",
         "rawType": "float64",
         "type": "float"
        },
        {
         "name": "2078",
         "rawType": "float64",
         "type": "float"
        },
        {
         "name": "2079",
         "rawType": "float64",
         "type": "float"
        },
        {
         "name": "2080",
         "rawType": "float64",
         "type": "float"
        },
        {
         "name": "2081",
         "rawType": "float64",
         "type": "float"
        },
        {
         "name": "2082",
         "rawType": "float64",
         "type": "float"
        },
        {
         "name": "2083",
         "rawType": "float64",
         "type": "float"
        },
        {
         "name": "2084",
         "rawType": "float64",
         "type": "float"
        },
        {
         "name": "2085",
         "rawType": "float64",
         "type": "float"
        },
        {
         "name": "2086",
         "rawType": "float64",
         "type": "float"
        },
        {
         "name": "2087",
         "rawType": "float64",
         "type": "float"
        },
        {
         "name": "2088",
         "rawType": "float64",
         "type": "float"
        },
        {
         "name": "2089",
         "rawType": "float64",
         "type": "float"
        },
        {
         "name": "2090",
         "rawType": "float64",
         "type": "float"
        },
        {
         "name": "2091",
         "rawType": "float64",
         "type": "float"
        },
        {
         "name": "2092",
         "rawType": "float64",
         "type": "float"
        },
        {
         "name": "2093",
         "rawType": "float64",
         "type": "float"
        },
        {
         "name": "2094",
         "rawType": "float64",
         "type": "float"
        },
        {
         "name": "2095",
         "rawType": "float64",
         "type": "float"
        },
        {
         "name": "2096",
         "rawType": "float64",
         "type": "float"
        },
        {
         "name": "2097",
         "rawType": "float64",
         "type": "float"
        },
        {
         "name": "2098",
         "rawType": "float64",
         "type": "float"
        },
        {
         "name": "2099",
         "rawType": "float64",
         "type": "float"
        },
        {
         "name": "2100",
         "rawType": "float64",
         "type": "float"
        }
       ],
       "ref": "d2dfbf0a-66bf-46e8-9bf4-15b7958cf223",
       "rows": [
        [
         "0",
         "afg",
         "Afghanistan",
         "480.75476",
         "480.75476",
         "480.75476",
         "480.75476",
         "480.75476",
         "480.75476",
         "480.75476",
         "480.75476",
         "480.75476",
         "480.75476",
         "480.75476",
         "480.75476",
         "480.75476",
         "480.75476",
         "480.75476",
         "480.75476",
         "480.75476",
         "480.75476",
         "480.75476",
         "480.75476",
         "480.75476",
         "480.75476",
         "481.84405",
         "482.93582",
         "484.03006",
         "485.12678",
         "486.22598",
         "487.32768",
         "488.43187",
         "489.53856",
         "490.64776",
         "491.75947",
         "492.8737",
         "493.99046",
         "495.10975",
         "496.23157",
         "497.35594",
         "498.48285",
         "499.61231",
         "500.74434",
         "501.87893",
         "503.01609",
         "504.15583",
         "505.29815",
         "506.44306",
         "507.59056",
         "508.74066",
         "509.89337",
         "511.04869",
         "512.20663",
         "513.36719",
         "514.53038",
         "515.6962",
         "516.86467",
         "518.03579",
         "519.20956",
         "520.38599",
         "521.56508",
         "522.74685",
         "523.93129",
         "525.11842",
         "526.30823",
         "527.50075",
         "528.69596",
         "529.89388",
         "531.09452",
         "532.29788",
         "533.50396",
         "534.71278",
         "535.92434",
         "537.13864",
         "538.35569",
         "539.5755",
         "540.79807",
         "542.02342",
         "543.25154",
         "544.48244",
         "545.71613",
         "546.95262",
         "548.19191",
         "549.43401",
         "549.43401",
         "556.37631",
         "563.40633",
         "570.52518",
         "577.73398",
         "585.03387",
         "592.42599",
         "599.91151",
         "607.49162",
         "615.1675",
         "622.94037",
         "630.81146",
         "638.782",
         "646.85325",
         "655.02648",
         "663.30298",
         "671.68406",
         "680.17104",
         "688.76526",
         "697.46807",
         "706.28083",
         "715.20496",
         "724.24184",
         "733.39291",
         "742.6596",
         "752.04338",
         "761.54573",
         "771.16814",
         "780.91214",
         "790.77926",
         "800.77105",
         "810.88909",
         "821.13498",
         "831.51033",
         "842.01677",
         "852.65597",
         "863.42959",
         "874.33935",
         "885.38695",
         "896.57415",
         "907.9027",
         "919.37439",
         "930.99103",
         "942.75445",
         "954.6665",
         "966.72907",
         "978.94405",
         "991.31338",
         "1003.83899",
         "1016.52287",
         "1029.36702",
         "1042.37345",
         "1055.54423",
         "1068.88143",
         "1082.38714",
         "1096.06351",
         "1109.91268",
         "1123.93684",
         "1138.13821",
         "1152.51901",
         "1179.1682",
         "1206.43359",
         "1234.32942",
         "1262.87028",
         "1292.07108",
         "1321.94707",
         "1352.51387",
         "1383.78746",
         "1415.78417",
         "1448.52073",
         "1499.9625",
         "1540.10724",
         "1622.80135",
         "1646.21894",
         "1664.60369",
         "1725.03627",
         "1708.80701",
         "1788.50931",
         "1819.5612",
         "1865.13027",
         "1860.28661",
         "1869.50128",
         "1883.0595",
         "1892.30074",
         "1910.41709",
         "1903.26895",
         "1930.53872",
         "1970.38865",
         "1972.27563",
         "1983.34576",
         "1948.74758",
         "1602.83909",
         "1625.87135",
         "1688.20483",
         "1763.14666",
         "1832.82501",
         "1712.7114",
         "1811.72233",
         "1750.08064",
         "1761.29126",
         "1997.82566",
         "2240.83485",
         "2401.31035",
         "2408.16739",
         "2373.05292",
         "2471.17595",
         "2249.69224",
         "2066.5259",
         "1894.49555",
         "1845.13844",
         "1705.50558",
         "1650.7992",
         "1142.2317",
         "854.56422",
         "1276.96565",
         "1222.92923",
         "1175.8739",
         "1133.95471",
         "1091.04116",
         "1066.23285",
         "978.75105",
         "1232.33488",
         "1255.67947",
         "1235.33094",
         "1333.42339",
         "1358.11765",
         "1525.2672",
         "1556.25429",
         "1824.02338",
         "2027.15667",
         "1962.05729",
         "2123.87098",
         "2166.40197",
         "2145.50045",
         "2109.74748",
         "2102.45192",
         "2097.12023",
         "2061.70875",
         "2080.94106",
         "1969.30552",
         "1517.01627",
         "1386.75536",
         "1359.02025",
         "1331.83985",
         "1331.83985",
         "1345.15825",
         "1358.60983",
         "1385.78202",
         "1420.42658",
         "1415.5754",
         "1441.05575",
         "1466.99476",
         "1493.40066",
         "1520.28187",
         "1547.64695",
         "1575.50459",
         "1603.86368",
         "1632.73322",
         "1662.12242",
         "1692.04062",
         "1722.49735",
         "1753.50231",
         "1785.06535",
         "1817.19653",
         "1849.90606",
         "1883.20437",
         "1917.10205",
         "1951.60989",
         "1986.21369",
         "2021.71422",
         "2058.13745",
         "2095.51013",
         "2133.85979",
         "2173.21476",
         "2213.60423",
         "2255.05821",
         "2297.60759",
         "2341.28417",
         "2386.12064",
         "2432.15065",
         "2479.4088",
         "2527.93066",
         "2577.75283",
         "2628.9129",
         "2681.44953",
         "2735.40245",
         "2790.81247",
         "2847.72151",
         "2906.17265",
         "2966.21008",
         "3027.87921",
         "3091.22662",
         "3156.30011",
         "3223.14871",
         "3291.8227",
         "3362.37365",
         "3434.85441",
         "3509.3191",
         "3585.8232",
         "3664.4235",
         "3745.17813",
         "3828.14658",
         "3913.38971",
         "4000.96973",
         "4090.95023",
         "4183.3962",
         "4278.37399",
         "4375.95133",
         "4476.19735",
         "4579.18251",
         "4684.97868",
         "4793.65905",
         "4905.29816",
         "5019.97187",
         "5137.75735",
         "5258.73302",
         "5382.97857",
         "5510.5749",
         "5641.60409",
         "5776.14935"
        ],
        [
         "1",
         "ago",
         "Angola",
         "373.05144",
         "374.25872",
         "376.06965",
         "377.88058",
         "379.08787",
         "380.8988",
         "382.70973",
         "384.52066",
         "386.33159",
         "387.53887",
         "389.3498",
         "391.16073",
         "392.97166",
         "394.78259",
         "396.59352",
         "398.40445",
         "399.61173",
         "401.42266",
         "403.23359",
         "405.04452",
         "406.85545",
         "408.66638",
         "410.47731",
         "412.28824",
         "414.09917",
         "415.9101",
         "417.72103",
         "419.53196",
         "421.34289",
         "423.15381",
         "424.96474",
         "427.37932",
         "429.19025",
         "431.00117",
         "432.8121",
         "434.62303",
         "436.43396",
         "438.24489",
         "440.65946",
         "442.47039",
         "444.28132",
         "446.09225",
         "448.50682",
         "450.31775",
         "452.12868",
         "453.93961",
         "456.35418",
         "458.16511",
         "459.97604",
         "462.39062",
         "464.20155",
         "466.61612",
         "468.42705",
         "470.23798",
         "472.65255",
         "474.46348",
         "476.87805",
         "478.68898",
         "481.10355",
         "482.91448",
         "485.32905",
         "487.13998",
         "489.55456",
         "491.36548",
         "493.78006",
         "496.19463",
         "498.00556",
         "500.42013",
         "502.23106",
         "504.64563",
         "507.06021",
         "509.47478",
         "511.28571",
         "513.70028",
         "516.11485",
         "517.92578",
         "520.34035",
         "522.75493",
         "525.1695",
         "527.58407",
         "529.99864",
         "531.80957",
         "534.22415",
         "536.63872",
         "539.05329",
         "541.46786",
         "543.88243",
         "546.29701",
         "548.71158",
         "551.12615",
         "553.54072",
         "555.9553",
         "558.36987",
         "560.78444",
         "563.19901",
         "565.61359",
         "568.02816",
         "571.04637",
         "573.46095",
         "575.87552",
         "578.29009",
         "580.70466",
         "583.72288",
         "586.13745",
         "588.55202",
         "590.9666",
         "593.98481",
         "596.39938",
         "598.81396",
         "601.83217",
         "604.24674",
         "607.26496",
         "609.67953",
         "612.09411",
         "630.80704",
         "649.51998",
         "668.83656",
         "688.75678",
         "708.677",
         "729.80451",
         "751.53566",
         "775.68139",
         "800.43075",
         "825.78376",
         "852.34406",
         "879.508",
         "907.27558",
         "936.25045",
         "965.82896",
         "996.61476",
         "1028.60784",
         "1061.20457",
         "1094.40494",
         "1129.41624",
         "1165.03119",
         "1202.45706",
         "1240.48657",
         "1279.72338",
         "1320.16746",
         "1362.42248",
         "1405.28114",
         "1472.17282",
         "1542.02937",
         "1615.57686",
         "1692.29954",
         "1772.29715",
         "1856.33332",
         "1944.54347",
         "2037.06667",
         "2133.35355",
         "2234.92458",
         "2320.59571",
         "2411.11559",
         "2503.86503",
         "2436.01781",
         "2631.53199",
         "2582.80101",
         "2828.44043",
         "2977.14854",
         "2984.57166",
         "3098.58478",
         "3505.26523",
         "3403.83143",
         "3572.93119",
         "3969.02298",
         "4259.22105",
         "4497.88621",
         "4751.49621",
         "4670.10817",
         "4795.06001",
         "5090.75055",
         "5178.28627",
         "5160.26603",
         "5464.73488",
         "5399.62888",
         "4155.34192",
         "3831.18748",
         "3836.63703",
         "3772.01604",
         "3780.28979",
         "3837.39551",
         "3689.76657",
         "3602.91984",
         "3618.0942",
         "3738.15114",
         "3599.29971",
         "3532.10331",
         "3758.13847",
         "4071.76667",
         "4077.40011",
         "3999.67128",
         "4046.64823",
         "3811.34619",
         "2892.51756",
         "2922.01315",
         "3341.2075",
         "3765.77546",
         "4003.84504",
         "4149.64608",
         "4193.09969",
         "4267.20548",
         "4382.47054",
         "4896.6003",
         "4953.41151",
         "5370.37885",
         "6038.69184",
         "6586.35518",
         "7307.45511",
         "7861.95632",
         "7652.62494",
         "7689.82074",
         "7663.28605",
         "8011.05009",
         "8099.67883",
         "8183.16458",
         "7966.88556",
         "7487.9251",
         "7216.06137",
         "6878.59003",
         "6602.26921",
         "6029.69189",
         "5911.83566",
         "5906.11568",
         "5778.83431",
         "5754.0385",
         "5761.20203",
         "5783.27387",
         "5842.12281",
         "5928.30421",
         "6049.69135",
         "5932.48079",
         "6074.23581",
         "6219.77665",
         "6369.19236",
         "6522.57295",
         "6680.0094",
         "6841.59351",
         "7007.41786",
         "7177.57575",
         "7352.16105",
         "7531.2682",
         "7714.99202",
         "7903.42767",
         "8096.67051",
         "8294.81599",
         "8497.95953",
         "8706.19641",
         "8919.6216",
         "9138.32963",
         "9362.41448",
         "9591.96938",
         "9827.08667",
         "10067.85766",
         "10314.37244",
         "10566.71968",
         "10824.98652",
         "11089.25832",
         "11359.61852",
         "11636.1484",
         "11918.92695",
         "12208.03061",
         "12503.53312",
         "12805.50526",
         "13114.01471",
         "13429.12579",
         "13750.8993",
         "14079.39226",
         "14414.65776",
         "14756.7447",
         "15105.69766",
         "15461.5566",
         "15824.35676",
         "16194.1284",
         "16570.89666",
         "16954.68132",
         "17345.4967",
         "17743.3514",
         "18148.24821",
         "18560.18393",
         "18979.14922",
         "19405.12847",
         "19838.09967",
         "20278.03432",
         "20724.89728",
         "21178.64674",
         "21639.2341",
         "22106.60393",
         "22580.69389",
         "23061.43475",
         "23548.75032",
         "24042.55745",
         "24542.76609",
         "25049.27925",
         "25561.99308",
         "26080.79692",
         "26605.57338",
         "27136.19842",
         "27672.54146",
         "28214.4655",
         "28761.82726",
         "29314.47731"
        ],
        [
         "2",
         "alb",
         "Albania",
         "469.30821",
         "470.65412",
         "472.00389",
         "473.35753",
         "474.71505",
         "476.07647",
         "477.44178",
         "478.81102",
         "480.18418",
         "481.56128",
         "482.94233",
         "484.32733",
         "485.71632",
         "487.10928",
         "488.50624",
         "489.9072",
         "491.31219",
         "492.7212",
         "494.13425",
         "495.55136",
         "496.97253",
         "498.39777",
         "499.82711",
         "501.26054",
         "502.69808",
         "504.13975",
         "505.58555",
         "507.03549",
         "508.4896",
         "509.94787",
         "511.41033",
         "512.87698",
         "514.34784",
         "515.82291",
         "517.30222",
         "518.78577",
         "520.27357",
         "521.76564",
         "523.26199",
         "524.76263",
         "526.26757",
         "527.77683",
         "529.29042",
         "530.80834",
         "532.33063",
         "533.85727",
         "535.3883",
         "536.92372",
         "538.46353",
         "540.00777",
         "541.55643",
         "543.10954",
         "544.6671",
         "546.22913",
         "547.79563",
         "549.36663",
         "550.94214",
         "552.52216",
         "554.10671",
         "555.69581",
         "557.28946",
         "558.88769",
         "560.4905",
         "562.09791",
         "563.70992",
         "565.32656",
         "566.94783",
         "568.57376",
         "570.20435",
         "571.83961",
         "573.47956",
         "575.12422",
         "576.77359",
         "578.4277",
         "580.08654",
         "581.75015",
         "583.41852",
         "585.09168",
         "586.76964",
         "588.45241",
         "590.14001",
         "591.83245",
         "593.52974",
         "595.23189",
         "596.93893",
         "598.65087",
         "600.36771",
         "602.08948",
         "603.81618",
         "605.54784",
         "607.28447",
         "609.02607",
         "610.77267",
         "612.52428",
         "614.28091",
         "616.04258",
         "617.8093",
         "619.58108",
         "621.35795",
         "623.13992",
         "624.92699",
         "626.71919",
         "628.51653",
         "630.31903",
         "632.12669",
         "633.93954",
         "635.75759",
         "637.58085",
         "639.40934",
         "641.24307",
         "643.08206",
         "644.92633",
         "646.77589",
         "648.63075",
         "667.93305",
         "687.80976",
         "708.27797",
         "729.35529",
         "751.05983",
         "773.41027",
         "796.42583",
         "820.1263",
         "844.53206",
         "869.66409",
         "895.54402",
         "922.1941",
         "949.63725",
         "977.89707",
         "1006.99785",
         "1036.96463",
         "1067.82318",
         "1099.60004",
         "1132.32253",
         "1166.01879",
         "1200.7178",
         "1236.4494",
         "1273.24433",
         "1311.13422",
         "1350.15165",
         "1390.33019",
         "1431.70438",
         "1478.51256",
         "1526.8511",
         "1576.77001",
         "1628.32098",
         "1681.55735",
         "1736.53423",
         "1793.30853",
         "1851.93901",
         "1912.48636",
         "1975.01325",
         "1967.65164",
         "1974.44518",
         "2062.03231",
         "2126.27891",
         "2248.21528",
         "2278.58405",
         "2430.44998",
         "2547.01823",
         "2659.39825",
         "2802.69109",
         "2833.76878",
         "2935.68146",
         "3044.26268",
         "3157.11586",
         "3281.64945",
         "3414.26291",
         "3555.02237",
         "3692.83773",
         "3828.92362",
         "3981.96247",
         "4109.94618",
         "4237.39005",
         "4391.2791",
         "4442.8963",
         "4498.06073",
         "4558.41493",
         "4617.27755",
         "4690.08609",
         "4761.10738",
         "4818.87106",
         "4945.84575",
         "4995.93924",
         "4992.61061",
         "5014.83826",
         "4925.41845",
         "5063.91376",
         "4994.20132",
         "4904.64972",
         "5159.30101",
         "4748.92655",
         "3460.93109",
         "3261.80467",
         "3596.85845",
         "3914.78561",
         "4411.38529",
         "4832.75793",
         "4330.49088",
         "4750.61959",
         "5409.67379",
         "5835.35822",
         "6389.81437",
         "6714.9047",
         "7125.45369",
         "7560.00727",
         "8026.3556",
         "8559.39663",
         "9143.79977",
         "9907.61612",
         "10311.40366",
         "10749.46643",
         "11052.77793",
         "11227.95041",
         "11361.25249",
         "11586.81745",
         "11878.4376",
         "12291.84206",
         "12770.99186",
         "13317.11926",
         "13653.18221",
         "13278.36977",
         "14595.94439",
         "15491.99186",
         "16209.87686",
         "16760.57018",
         "17385.40032",
         "18056.17879",
         "18721.27256",
         "19379.14498",
         "20031.64437",
         "19367.46911",
         "19801.39834",
         "20242.40688",
         "20690.46382",
         "21145.53152",
         "21607.56553",
         "22076.5145",
         "22552.32013",
         "23034.91715",
         "23524.23323",
         "24020.18904",
         "24522.69817",
         "25031.66722",
         "25546.99578",
         "26068.57649",
         "26596.29512",
         "27130.03064",
         "27669.6553",
         "28215.03475",
         "28766.02821",
         "29322.48854",
         "29884.26244",
         "30451.19064",
         "31023.10804",
         "31599.84395",
         "32181.22229",
         "32767.06183",
         "33357.1764",
         "33951.37518",
         "34549.46294",
         "35151.24031",
         "35756.50408",
         "36365.04745",
         "36976.66039",
         "37591.12988",
         "38208.24026",
         "38827.77351",
         "39449.50959",
         "40073.22678",
         "40698.70193",
         "41325.71087",
         "41954.02865",
         "42583.42991",
         "43213.68921",
         "43844.58127",
         "44475.88138",
         "45107.36564",
         "45738.81127",
         "46369.99692",
         "47000.70295",
         "47630.71173",
         "48259.80787",
         "48887.77851",
         "49514.41359",
         "50139.50606",
         "50762.85213",
         "51384.25149",
         "52003.50751",
         "52620.42748",
         "53234.82275",
         "53846.50893",
         "54455.30605",
         "55061.03873",
         "55663.53627",
         "56262.63285",
         "56858.16757",
         "57449.98463",
         "58037.93335",
         "58621.86829",
         "59201.64931",
         "59777.14164"
        ],
        [
         "3",
         "and",
         "Andorra",
         "1370.15106",
         "1372.44036",
         "1374.72967",
         "1378.16364",
         "1380.45294",
         "1382.74225",
         "1385.03156",
         "1387.32087",
         "1390.75483",
         "1393.04414",
         "1395.33345",
         "1397.62276",
         "1401.05672",
         "1403.34603",
         "1405.63534",
         "1407.92464",
         "1411.35861",
         "1413.64792",
         "1415.93722",
         "1418.22653",
         "1421.66049",
         "1437.68565",
         "1454.85547",
         "1472.02528",
         "1490.33974",
         "1507.50956",
         "1525.82402",
         "1544.13849",
         "1562.45296",
         "1580.76743",
         "1599.08189",
         "1618.54101",
         "1638.00014",
         "1657.45926",
         "1676.91838",
         "1696.3775",
         "1716.98127",
         "1737.58505",
         "1758.18882",
         "1778.7926",
         "1800.54103",
         "1821.1448",
         "1842.89323",
         "1864.64166",
         "1887.53475",
         "1909.28318",
         "1932.17626",
         "1955.06934",
         "1977.96243",
         "2002.00016",
         "2026.0379",
         "2050.07564",
         "2074.11338",
         "2099.29577",
         "2123.33351",
         "2148.5159",
         "2174.84295",
         "2200.02534",
         "2226.35239",
         "2252.67943",
         "2280.15113",
         "2306.47818",
         "2333.94988",
         "2362.56623",
         "2390.03793",
         "2418.65429",
         "2447.27064",
         "2477.03165",
         "2505.64801",
         "2535.40901",
         "2566.31468",
         "2596.07568",
         "2626.98135",
         "2657.88701",
         "2689.93733",
         "2721.98765",
         "2754.03796",
         "2787.23293",
         "2820.42791",
         "2853.62288",
         "2887.9625",
         "2922.30213",
         "2956.64175",
         "2992.12603",
         "3027.61031",
         "3063.09459",
         "3099.72353",
         "3136.35246",
         "3174.12605",
         "3211.89964",
         "3249.67322",
         "3288.59147",
         "3327.50971",
         "3367.5726",
         "3407.6355",
         "3447.6984",
         "3488.90595",
         "3530.1135",
         "3572.4657",
         "3614.81791",
         "3657.17011",
         "3700.66697",
         "3745.30848",
         "3788.80534",
         "3834.59151",
         "3880.37768",
         "3926.16385",
         "3973.09467",
         "4020.02549",
         "4068.10096",
         "4116.17644",
         "4165.39657",
         "4214.6167",
         "4264.98148",
         "4335.95004",
         "4409.20791",
         "4482.46578",
         "4558.01295",
         "4634.70478",
         "4712.54127",
         "4791.52241",
         "4873.93751",
         "4958.64192",
         "5044.49098",
         "5131.4847",
         "5219.62307",
         "5310.05075",
         "5401.62309",
         "5494.34008",
         "5589.34637",
         "5685.49732",
         "5782.79293",
         "5882.37784",
         "5984.25206",
         "6087.27094",
         "6192.57913",
         "6299.03197",
         "6406.62946",
         "6516.51626",
         "6628.69237",
         "6743.15779",
         "6888.60911",
         "7037.50772",
         "7189.89091",
         "7344.63158",
         "7502.92219",
         "7664.80087",
         "7830.30609",
         "7999.47659",
         "8172.35146",
         "8348.97008",
         "9064.85921",
         "9843.49547",
         "10688.08012",
         "11605.5124",
         "12601.5827",
         "13683.40117",
         "14856.96074",
         "16132.0623",
         "17516.18108",
         "19019.40823",
         "20650.74462",
         "22423.11281",
         "24345.85165",
         "26434.79879",
         "28702.22335",
         "31164.43404",
         "33836.71679",
         "36738.47998",
         "39889.44671",
         "43309.65812",
         "43257.13292",
         "44677.72603",
         "46091.36817",
         "46785.44304",
         "45427.31734",
         "45556.71056",
         "45651.42287",
         "45191.26337",
         "44025.26965",
         "43650.33485",
         "42117.00151",
         "41080.48139",
         "40205.21299",
         "39342.33448",
         "38727.24353",
         "38519.76567",
         "39209.55326",
         "39780.54648",
         "40283.55047",
         "40413.30797",
         "40034.94297",
         "39045.70402",
         "37476.54402",
         "37489.10291",
         "37995.20425",
         "39674.20659",
         "43583.74415",
         "45378.29936",
         "47233.4885",
         "47026.09236",
         "47427.60075",
         "47741.8204",
         "51912.97948",
         "54904.469",
         "60390.54225",
         "65151.94232",
         "66513.28866",
         "63702.5839",
         "64456.97248",
         "60467.086",
         "60911.089",
         "57892.718",
         "55672.916",
         "56578.793",
         "56460.538",
         "57455.308",
         "56352.197",
         "56208.168",
         "56330.948",
         "49728.236",
         "52819.99",
         "56415.783",
         "55317.396",
         "55218.64",
         "54957.623",
         "54697.84",
         "54503.9245",
         "54375.10545",
         "54310.84815",
         "51977.65399",
         "52578.08573",
         "53175.74381",
         "53770.45481",
         "54362.04992",
         "54950.36499",
         "55535.24072",
         "56116.52274",
         "56694.06167",
         "57267.71328",
         "57837.33846",
         "58402.80338",
         "58963.97947",
         "59520.74347",
         "60072.97746",
         "60620.56891",
         "61163.41061",
         "61701.40075",
         "62234.44285",
         "62762.44574",
         "63285.32359",
         "63802.99577",
         "64315.38691",
         "64822.42677",
         "65324.05021",
         "65820.19713",
         "66310.81236",
         "66795.84563",
         "67275.25146",
         "67748.98906",
         "68217.02226",
         "68679.31939",
         "69135.85322",
         "69586.60079",
         "70031.54337",
         "70470.66628",
         "70903.95886",
         "71331.41428",
         "71753.02947",
         "72168.80499",
         "72578.74491",
         "72982.85669",
         "73381.15107",
         "73773.64194",
         "74160.34623",
         "74541.28379",
         "74916.47725",
         "75285.95196",
         "75649.73581",
         "76007.85914",
         "76360.35465",
         "76707.25723",
         "77048.60394",
         "77384.43379",
         "77714.78772",
         "78039.70846",
         "78359.24043",
         "78673.42965",
         "78982.32362",
         "79285.97124",
         "79584.42272",
         "79877.72947",
         "80165.94404",
         "80449.12",
         "80727.31187",
         "81000.57506",
         "81268.96576",
         "81532.54087",
         "81791.35793",
         "82045.47508",
         "82294.95092"
        ],
        [
         "4",
         "are",
         "UAE",
         "1142.36487",
         "1145.79884",
         "1150.37745",
         "1154.95607",
         "1159.53469",
         "1162.96865",
         "1167.54727",
         "1172.12588",
         "1176.7045",
         "1181.28312",
         "1185.86173",
         "1189.2957",
         "1193.87431",
         "1198.45293",
         "1203.03155",
         "1207.61016",
         "1212.18878",
         "1216.7674",
         "1221.34601",
         "1225.92463",
         "1230.50325",
         "1235.08186",
         "1239.66048",
         "1244.2391",
         "1248.81771",
         "1253.39633",
         "1257.97495",
         "1262.55356",
         "1268.27683",
         "1272.85545",
         "1277.43407",
         "1282.01268",
         "1286.5913",
         "1292.31457",
         "1296.89319",
         "1301.4718",
         "1306.05042",
         "1311.77369",
         "1316.35231",
         "1320.93093",
         "1325.50954",
         "1331.23281",
         "1335.81143",
         "1341.5347",
         "1346.11332",
         "1350.69194",
         "1356.41521",
         "1360.99382",
         "1366.71709",
         "1371.29571",
         "1377.01898",
         "1381.5976",
         "1387.32087",
         "1391.89949",
         "1397.62276",
         "1402.20137",
         "1407.92464",
         "1412.50326",
         "1418.22653",
         "1423.9498",
         "1428.52842",
         "1434.25169",
         "1439.97496",
         "1444.55358",
         "1450.27685",
         "1456.00012",
         "1461.72339",
         "1466.30201",
         "1472.02528",
         "1477.74855",
         "1483.47182",
         "1505.22025",
         "1526.96868",
         "1548.71711",
         "1571.61019",
         "1594.50328",
         "1618.54101",
         "1641.4341",
         "1665.47184",
         "1689.50957",
         "1714.69196",
         "1739.87436",
         "1765.05675",
         "1790.23914",
         "1816.56619",
         "1842.89323",
         "1870.36493",
         "1897.83663",
         "1925.30833",
         "1952.78003",
         "1981.39639",
         "2010.01274",
         "2039.77375",
         "2069.53476",
         "2099.29577",
         "2130.20143",
         "2161.1071",
         "2193.15741",
         "2225.20773",
         "2257.25805",
         "2290.45302",
         "2323.64799",
         "2357.98762",
         "2392.32724",
         "2426.66687",
         "2462.15115",
         "2497.63543",
         "2534.26436",
         "2572.03795",
         "2608.66688",
         "2647.58512",
         "2685.35871",
         "2724.27695",
         "2764.33985",
         "2630.41531",
         "2503.3587",
         "2383.17001",
         "2267.55994",
         "2157.67313",
         "2273.28321",
         "2394.61655",
         "2522.81782",
         "2656.74236",
         "2638.42789",
         "2620.11342",
         "2601.79896",
         "2544.56625",
         "2489.62285",
         "2435.8241",
         "2258.4027",
         "2094.71715",
         "1942.47815",
         "1801.68568",
         "1671.19511",
         "1549.86176",
         "1525.82402",
         "1502.93094",
         "1480.03786",
         "1457.14477",
         "1434.25169",
         "1412.50326",
         "1420.70917",
         "1429.80781",
         "1437.4191",
         "1445.94148",
         "1487.27123",
         "1529.71056",
         "1573.28808",
         "1618.03314",
         "1663.97582",
         "1711.14694",
         "1758.1311",
         "1804.86719",
         "1854.31093",
         "1905.04727",
         "1957.10895",
         "2008.9198",
         "2063.69897",
         "2363.4767",
         "2706.09805",
         "3097.44064",
         "3533.03659",
         "4029.86181",
         "5349.97327",
         "9298.28815",
         "16155.93104",
         "28071.5711",
         "48773.11441",
         "59932.5844",
         "73641.81308",
         "84894.16713",
         "85963.48789",
         "86134.55842",
         "86371.32517",
         "92799.11532",
         "84992.9455",
         "86190.3712",
         "89667.2394",
         "78291.71086",
         "88474.52365",
         "102507.9884",
         "102150.342",
         "90360.1202",
         "83505.66803",
         "82608.5283",
         "77696.56965",
         "60374.51613",
         "61554.76501",
         "53561.9217",
         "59513.72516",
         "72062.07407",
         "72004.82677",
         "73233.7705",
         "73370.67428",
         "77636.74559",
         "81887.68569",
         "84634.29403",
         "88626.06956",
         "86027.63223",
         "85689.68131",
         "91954.61627",
         "90147.2925",
         "89212.96001",
         "93640.90134",
         "98774.2794",
         "97266.365",
         "94130.60695",
         "81657.88966",
         "71139.96279",
         "59008.92359",
         "56388.81337",
         "59241.41557",
         "59697.36052",
         "62092.83182",
         "64063.78403",
         "67790.60361",
         "70945.24301",
         "70883.28931",
         "71249.92596",
         "71480.55237",
         "67383.97009",
         "69733.79377",
         "74602.89837",
         "76528.32164",
         "78598.89948",
         "81255.00374",
         "84098.42824",
         "86325.97601",
         "87720.19095",
         "88310.13486",
         "88033.00064",
         "88165.56575",
         "88295.38084",
         "88422.49626",
         "88546.96176",
         "88668.82642",
         "88788.13872",
         "88904.94648",
         "89019.29688",
         "89131.23644",
         "89240.81104",
         "89348.06591",
         "89453.04563",
         "89555.7941",
         "89656.3546",
         "89754.76974",
         "89851.08147",
         "89945.33111",
         "90037.55931",
         "90127.8061",
         "90216.11083",
         "90302.51226",
         "90387.04846",
         "90469.75692",
         "90550.67446",
         "90629.83731",
         "90707.28107",
         "90783.04071",
         "90857.15063",
         "90929.6446",
         "91000.5558",
         "91069.91682",
         "91137.75969",
         "91204.11583",
         "91269.0161",
         "91332.49082",
         "91394.56971",
         "91455.28198",
         "91514.65628",
         "91572.72072",
         "91629.50289",
         "91685.02985",
         "91739.32815",
         "91792.42383",
         "91844.34244",
         "91895.10901",
         "91944.74812",
         "91993.28385",
         "92040.73981",
         "92087.13914",
         "92132.50455",
         "92176.85826",
         "92220.22209",
         "92262.61739",
         "92304.0651",
         "92344.58574",
         "92384.19941",
         "92422.9258",
         "92460.7842",
         "92497.79351",
         "92533.97225",
         "92569.33855",
         "92603.91018",
         "92637.70452",
         "92670.73861",
         "92703.02914",
         "92734.59243",
         "92765.44449",
         "92795.60097",
         "92825.07719",
         "92853.88818"
        ]
       ],
       "shape": {
        "columns": 303,
        "rows": 5
       }
      },
      "text/html": [
       "<div>\n",
       "<style scoped>\n",
       "    .dataframe tbody tr th:only-of-type {\n",
       "        vertical-align: middle;\n",
       "    }\n",
       "\n",
       "    .dataframe tbody tr th {\n",
       "        vertical-align: top;\n",
       "    }\n",
       "\n",
       "    .dataframe thead th {\n",
       "        text-align: right;\n",
       "    }\n",
       "</style>\n",
       "<table border=\"1\" class=\"dataframe\">\n",
       "  <thead>\n",
       "    <tr style=\"text-align: right;\">\n",
       "      <th></th>\n",
       "      <th>geo</th>\n",
       "      <th>name</th>\n",
       "      <th>1800</th>\n",
       "      <th>1801</th>\n",
       "      <th>1802</th>\n",
       "      <th>1803</th>\n",
       "      <th>1804</th>\n",
       "      <th>1805</th>\n",
       "      <th>1806</th>\n",
       "      <th>1807</th>\n",
       "      <th>...</th>\n",
       "      <th>2091</th>\n",
       "      <th>2092</th>\n",
       "      <th>2093</th>\n",
       "      <th>2094</th>\n",
       "      <th>2095</th>\n",
       "      <th>2096</th>\n",
       "      <th>2097</th>\n",
       "      <th>2098</th>\n",
       "      <th>2099</th>\n",
       "      <th>2100</th>\n",
       "    </tr>\n",
       "  </thead>\n",
       "  <tbody>\n",
       "    <tr>\n",
       "      <th>0</th>\n",
       "      <td>afg</td>\n",
       "      <td>Afghanistan</td>\n",
       "      <td>480.75476</td>\n",
       "      <td>480.75476</td>\n",
       "      <td>480.75476</td>\n",
       "      <td>480.75476</td>\n",
       "      <td>480.75476</td>\n",
       "      <td>480.75476</td>\n",
       "      <td>480.75476</td>\n",
       "      <td>480.75476</td>\n",
       "      <td>...</td>\n",
       "      <td>4684.97868</td>\n",
       "      <td>4793.65905</td>\n",
       "      <td>4905.29816</td>\n",
       "      <td>5019.97187</td>\n",
       "      <td>5137.75735</td>\n",
       "      <td>5258.73302</td>\n",
       "      <td>5382.97857</td>\n",
       "      <td>5510.57490</td>\n",
       "      <td>5641.60409</td>\n",
       "      <td>5776.14935</td>\n",
       "    </tr>\n",
       "    <tr>\n",
       "      <th>1</th>\n",
       "      <td>ago</td>\n",
       "      <td>Angola</td>\n",
       "      <td>373.05144</td>\n",
       "      <td>374.25872</td>\n",
       "      <td>376.06965</td>\n",
       "      <td>377.88058</td>\n",
       "      <td>379.08787</td>\n",
       "      <td>380.89880</td>\n",
       "      <td>382.70973</td>\n",
       "      <td>384.52066</td>\n",
       "      <td>...</td>\n",
       "      <td>24542.76609</td>\n",
       "      <td>25049.27925</td>\n",
       "      <td>25561.99308</td>\n",
       "      <td>26080.79692</td>\n",
       "      <td>26605.57338</td>\n",
       "      <td>27136.19842</td>\n",
       "      <td>27672.54146</td>\n",
       "      <td>28214.46550</td>\n",
       "      <td>28761.82726</td>\n",
       "      <td>29314.47731</td>\n",
       "    </tr>\n",
       "    <tr>\n",
       "      <th>2</th>\n",
       "      <td>alb</td>\n",
       "      <td>Albania</td>\n",
       "      <td>469.30821</td>\n",
       "      <td>470.65412</td>\n",
       "      <td>472.00389</td>\n",
       "      <td>473.35753</td>\n",
       "      <td>474.71505</td>\n",
       "      <td>476.07647</td>\n",
       "      <td>477.44178</td>\n",
       "      <td>478.81102</td>\n",
       "      <td>...</td>\n",
       "      <td>54455.30605</td>\n",
       "      <td>55061.03873</td>\n",
       "      <td>55663.53627</td>\n",
       "      <td>56262.63285</td>\n",
       "      <td>56858.16757</td>\n",
       "      <td>57449.98463</td>\n",
       "      <td>58037.93335</td>\n",
       "      <td>58621.86829</td>\n",
       "      <td>59201.64931</td>\n",
       "      <td>59777.14164</td>\n",
       "    </tr>\n",
       "    <tr>\n",
       "      <th>3</th>\n",
       "      <td>and</td>\n",
       "      <td>Andorra</td>\n",
       "      <td>1370.15106</td>\n",
       "      <td>1372.44036</td>\n",
       "      <td>1374.72967</td>\n",
       "      <td>1378.16364</td>\n",
       "      <td>1380.45294</td>\n",
       "      <td>1382.74225</td>\n",
       "      <td>1385.03156</td>\n",
       "      <td>1387.32087</td>\n",
       "      <td>...</td>\n",
       "      <td>79877.72947</td>\n",
       "      <td>80165.94404</td>\n",
       "      <td>80449.12000</td>\n",
       "      <td>80727.31187</td>\n",
       "      <td>81000.57506</td>\n",
       "      <td>81268.96576</td>\n",
       "      <td>81532.54087</td>\n",
       "      <td>81791.35793</td>\n",
       "      <td>82045.47508</td>\n",
       "      <td>82294.95092</td>\n",
       "    </tr>\n",
       "    <tr>\n",
       "      <th>4</th>\n",
       "      <td>are</td>\n",
       "      <td>UAE</td>\n",
       "      <td>1142.36487</td>\n",
       "      <td>1145.79884</td>\n",
       "      <td>1150.37745</td>\n",
       "      <td>1154.95607</td>\n",
       "      <td>1159.53469</td>\n",
       "      <td>1162.96865</td>\n",
       "      <td>1167.54727</td>\n",
       "      <td>1172.12588</td>\n",
       "      <td>...</td>\n",
       "      <td>92569.33855</td>\n",
       "      <td>92603.91018</td>\n",
       "      <td>92637.70452</td>\n",
       "      <td>92670.73861</td>\n",
       "      <td>92703.02914</td>\n",
       "      <td>92734.59243</td>\n",
       "      <td>92765.44449</td>\n",
       "      <td>92795.60097</td>\n",
       "      <td>92825.07719</td>\n",
       "      <td>92853.88818</td>\n",
       "    </tr>\n",
       "  </tbody>\n",
       "</table>\n",
       "<p>5 rows × 303 columns</p>\n",
       "</div>"
      ],
      "text/plain": [
       "   geo         name        1800        1801        1802        1803  \\\n",
       "0  afg  Afghanistan   480.75476   480.75476   480.75476   480.75476   \n",
       "1  ago       Angola   373.05144   374.25872   376.06965   377.88058   \n",
       "2  alb      Albania   469.30821   470.65412   472.00389   473.35753   \n",
       "3  and      Andorra  1370.15106  1372.44036  1374.72967  1378.16364   \n",
       "4  are          UAE  1142.36487  1145.79884  1150.37745  1154.95607   \n",
       "\n",
       "         1804        1805        1806        1807  ...         2091  \\\n",
       "0   480.75476   480.75476   480.75476   480.75476  ...   4684.97868   \n",
       "1   379.08787   380.89880   382.70973   384.52066  ...  24542.76609   \n",
       "2   474.71505   476.07647   477.44178   478.81102  ...  54455.30605   \n",
       "3  1380.45294  1382.74225  1385.03156  1387.32087  ...  79877.72947   \n",
       "4  1159.53469  1162.96865  1167.54727  1172.12588  ...  92569.33855   \n",
       "\n",
       "          2092         2093         2094         2095         2096  \\\n",
       "0   4793.65905   4905.29816   5019.97187   5137.75735   5258.73302   \n",
       "1  25049.27925  25561.99308  26080.79692  26605.57338  27136.19842   \n",
       "2  55061.03873  55663.53627  56262.63285  56858.16757  57449.98463   \n",
       "3  80165.94404  80449.12000  80727.31187  81000.57506  81268.96576   \n",
       "4  92603.91018  92637.70452  92670.73861  92703.02914  92734.59243   \n",
       "\n",
       "          2097         2098         2099         2100  \n",
       "0   5382.97857   5510.57490   5641.60409   5776.14935  \n",
       "1  27672.54146  28214.46550  28761.82726  29314.47731  \n",
       "2  58037.93335  58621.86829  59201.64931  59777.14164  \n",
       "3  81532.54087  81791.35793  82045.47508  82294.95092  \n",
       "4  92765.44449  92795.60097  92825.07719  92853.88818  \n",
       "\n",
       "[5 rows x 303 columns]"
      ]
     },
     "execution_count": 12,
     "metadata": {},
     "output_type": "execute_result"
    }
   ],
   "source": [
    "#Agora vamos agregar a tabela de GDP ajustado pela inflação\n",
    "base_gdp_ajustado = importa_csv(dataframe_name='../../avaliacao-python-ciencia-dados/Bases/gdp_pcap_inflaction_adjusted.csv', separador=',', encoding='utf-8')\n",
    "base_gdp_ajustado.head()"
   ]
  },
  {
   "cell_type": "code",
   "execution_count": 13,
   "id": "74724c82",
   "metadata": {},
   "outputs": [
    {
     "name": "stdout",
     "output_type": "stream",
     "text": [
      "Removendo dados duplicados ...\n",
      "Foram encontrados 0 registros duplicados\n",
      "\n",
      "Prévia dos dados duplicados:\n",
      "Dados duplicados removidos com sucesso! \n",
      "Dimensão: (58093, 3)\n"
     ]
    },
    {
     "data": {
      "application/vnd.microsoft.datawrangler.viewer.v0+json": {
       "columns": [
        {
         "name": "index",
         "rawType": "int64",
         "type": "integer"
        },
        {
         "name": "country",
         "rawType": "object",
         "type": "string"
        },
        {
         "name": "year",
         "rawType": "int64",
         "type": "integer"
        },
        {
         "name": "gdpPerCaptaInflactionAdjusted",
         "rawType": "float64",
         "type": "float"
        }
       ],
       "ref": "8a6370b8-5657-4657-ad84-2ef263166b2f",
       "rows": [
        [
         "0",
         "Afghanistan",
         "1800",
         "480.75"
        ],
        [
         "1",
         "Afghanistan",
         "1801",
         "480.75"
        ],
        [
         "2",
         "Afghanistan",
         "1802",
         "480.75"
        ],
        [
         "3",
         "Afghanistan",
         "1803",
         "480.75"
        ],
        [
         "4",
         "Afghanistan",
         "1804",
         "480.75"
        ]
       ],
       "shape": {
        "columns": 3,
        "rows": 5
       }
      },
      "text/html": [
       "<div>\n",
       "<style scoped>\n",
       "    .dataframe tbody tr th:only-of-type {\n",
       "        vertical-align: middle;\n",
       "    }\n",
       "\n",
       "    .dataframe tbody tr th {\n",
       "        vertical-align: top;\n",
       "    }\n",
       "\n",
       "    .dataframe thead th {\n",
       "        text-align: right;\n",
       "    }\n",
       "</style>\n",
       "<table border=\"1\" class=\"dataframe\">\n",
       "  <thead>\n",
       "    <tr style=\"text-align: right;\">\n",
       "      <th></th>\n",
       "      <th>country</th>\n",
       "      <th>year</th>\n",
       "      <th>gdpPerCaptaInflactionAdjusted</th>\n",
       "    </tr>\n",
       "  </thead>\n",
       "  <tbody>\n",
       "    <tr>\n",
       "      <th>0</th>\n",
       "      <td>Afghanistan</td>\n",
       "      <td>1800</td>\n",
       "      <td>480.75</td>\n",
       "    </tr>\n",
       "    <tr>\n",
       "      <th>1</th>\n",
       "      <td>Afghanistan</td>\n",
       "      <td>1801</td>\n",
       "      <td>480.75</td>\n",
       "    </tr>\n",
       "    <tr>\n",
       "      <th>2</th>\n",
       "      <td>Afghanistan</td>\n",
       "      <td>1802</td>\n",
       "      <td>480.75</td>\n",
       "    </tr>\n",
       "    <tr>\n",
       "      <th>3</th>\n",
       "      <td>Afghanistan</td>\n",
       "      <td>1803</td>\n",
       "      <td>480.75</td>\n",
       "    </tr>\n",
       "    <tr>\n",
       "      <th>4</th>\n",
       "      <td>Afghanistan</td>\n",
       "      <td>1804</td>\n",
       "      <td>480.75</td>\n",
       "    </tr>\n",
       "  </tbody>\n",
       "</table>\n",
       "</div>"
      ],
      "text/plain": [
       "       country  year  gdpPerCaptaInflactionAdjusted\n",
       "0  Afghanistan  1800                         480.75\n",
       "1  Afghanistan  1801                         480.75\n",
       "2  Afghanistan  1802                         480.75\n",
       "3  Afghanistan  1803                         480.75\n",
       "4  Afghanistan  1804                         480.75"
      ]
     },
     "execution_count": 13,
     "metadata": {},
     "output_type": "execute_result"
    }
   ],
   "source": [
    "#Trata a tabela usando a função que vai ser reutilizada nas próximas tb\n",
    "\n",
    "base_gdp_ajustado = transpoe_e_trata_dataframe(base_gdp_ajustado, nome_coluna_resultado='gdpPerCaptaInflactionAdjusted')\n",
    "base_gdp_ajustado.head()"
   ]
  },
  {
   "cell_type": "code",
   "execution_count": 14,
   "id": "66f4a675",
   "metadata": {},
   "outputs": [
    {
     "name": "stdout",
     "output_type": "stream",
     "text": [
      "Dataframes unidos com sucesso! \n",
      "Dimensão: (1704, 12)\n"
     ]
    },
    {
     "data": {
      "application/vnd.microsoft.datawrangler.viewer.v0+json": {
       "columns": [
        {
         "name": "index",
         "rawType": "int64",
         "type": "integer"
        },
        {
         "name": "country",
         "rawType": "object",
         "type": "string"
        },
        {
         "name": "year",
         "rawType": "int64",
         "type": "integer"
        },
        {
         "name": "pop",
         "rawType": "object",
         "type": "string"
        },
        {
         "name": "continent",
         "rawType": "object",
         "type": "string"
        },
        {
         "name": "lifeExp",
         "rawType": "float64",
         "type": "float"
        },
        {
         "name": "gdpPercap",
         "rawType": "float64",
         "type": "float"
        },
        {
         "name": "oneSidedViolence",
         "rawType": "float64",
         "type": "float"
        },
        {
         "name": "nonStateConflict",
         "rawType": "float64",
         "type": "float"
        },
        {
         "name": "extrasystemic",
         "rawType": "float64",
         "type": "float"
        },
        {
         "name": "intrastate",
         "rawType": "float64",
         "type": "float"
        },
        {
         "name": "interstate",
         "rawType": "float64",
         "type": "float"
        },
        {
         "name": "gdpPerCaptaInflactionAdjusted",
         "rawType": "float64",
         "type": "float"
        }
       ],
       "ref": "e45c8882-7b25-4092-8d8f-2ada232328b5",
       "rows": [
        [
         "0",
         "Afghanistan",
         "1952",
         "8.425.333",
         "Asia",
         "28.8",
         "779.45",
         null,
         null,
         null,
         null,
         null,
         "1540.11"
        ],
        [
         "1",
         "Afghanistan",
         "1957",
         "9.240.934",
         "Asia",
         "30.3",
         "820.85",
         null,
         null,
         null,
         null,
         null,
         "1708.81"
        ],
        [
         "2",
         "Afghanistan",
         "1962",
         "10.267.083",
         "Asia",
         "32.0",
         "853.1",
         null,
         null,
         null,
         null,
         null,
         "1869.5"
        ],
        [
         "3",
         "Afghanistan",
         "1967",
         "11.537.966",
         "Asia",
         "34.0",
         "836.2",
         null,
         null,
         null,
         null,
         null,
         "1930.54"
        ],
        [
         "4",
         "Afghanistan",
         "1972",
         "13.079.460",
         "Asia",
         "36.1",
         "739.98",
         null,
         null,
         null,
         null,
         null,
         "1602.84"
        ]
       ],
       "shape": {
        "columns": 12,
        "rows": 5
       }
      },
      "text/html": [
       "<div>\n",
       "<style scoped>\n",
       "    .dataframe tbody tr th:only-of-type {\n",
       "        vertical-align: middle;\n",
       "    }\n",
       "\n",
       "    .dataframe tbody tr th {\n",
       "        vertical-align: top;\n",
       "    }\n",
       "\n",
       "    .dataframe thead th {\n",
       "        text-align: right;\n",
       "    }\n",
       "</style>\n",
       "<table border=\"1\" class=\"dataframe\">\n",
       "  <thead>\n",
       "    <tr style=\"text-align: right;\">\n",
       "      <th></th>\n",
       "      <th>country</th>\n",
       "      <th>year</th>\n",
       "      <th>pop</th>\n",
       "      <th>continent</th>\n",
       "      <th>lifeExp</th>\n",
       "      <th>gdpPercap</th>\n",
       "      <th>oneSidedViolence</th>\n",
       "      <th>nonStateConflict</th>\n",
       "      <th>extrasystemic</th>\n",
       "      <th>intrastate</th>\n",
       "      <th>interstate</th>\n",
       "      <th>gdpPerCaptaInflactionAdjusted</th>\n",
       "    </tr>\n",
       "  </thead>\n",
       "  <tbody>\n",
       "    <tr>\n",
       "      <th>0</th>\n",
       "      <td>Afghanistan</td>\n",
       "      <td>1952</td>\n",
       "      <td>8.425.333</td>\n",
       "      <td>Asia</td>\n",
       "      <td>28.8</td>\n",
       "      <td>779.45</td>\n",
       "      <td>NaN</td>\n",
       "      <td>NaN</td>\n",
       "      <td>NaN</td>\n",
       "      <td>NaN</td>\n",
       "      <td>NaN</td>\n",
       "      <td>1540.11</td>\n",
       "    </tr>\n",
       "    <tr>\n",
       "      <th>1</th>\n",
       "      <td>Afghanistan</td>\n",
       "      <td>1957</td>\n",
       "      <td>9.240.934</td>\n",
       "      <td>Asia</td>\n",
       "      <td>30.3</td>\n",
       "      <td>820.85</td>\n",
       "      <td>NaN</td>\n",
       "      <td>NaN</td>\n",
       "      <td>NaN</td>\n",
       "      <td>NaN</td>\n",
       "      <td>NaN</td>\n",
       "      <td>1708.81</td>\n",
       "    </tr>\n",
       "    <tr>\n",
       "      <th>2</th>\n",
       "      <td>Afghanistan</td>\n",
       "      <td>1962</td>\n",
       "      <td>10.267.083</td>\n",
       "      <td>Asia</td>\n",
       "      <td>32.0</td>\n",
       "      <td>853.10</td>\n",
       "      <td>NaN</td>\n",
       "      <td>NaN</td>\n",
       "      <td>NaN</td>\n",
       "      <td>NaN</td>\n",
       "      <td>NaN</td>\n",
       "      <td>1869.50</td>\n",
       "    </tr>\n",
       "    <tr>\n",
       "      <th>3</th>\n",
       "      <td>Afghanistan</td>\n",
       "      <td>1967</td>\n",
       "      <td>11.537.966</td>\n",
       "      <td>Asia</td>\n",
       "      <td>34.0</td>\n",
       "      <td>836.20</td>\n",
       "      <td>NaN</td>\n",
       "      <td>NaN</td>\n",
       "      <td>NaN</td>\n",
       "      <td>NaN</td>\n",
       "      <td>NaN</td>\n",
       "      <td>1930.54</td>\n",
       "    </tr>\n",
       "    <tr>\n",
       "      <th>4</th>\n",
       "      <td>Afghanistan</td>\n",
       "      <td>1972</td>\n",
       "      <td>13.079.460</td>\n",
       "      <td>Asia</td>\n",
       "      <td>36.1</td>\n",
       "      <td>739.98</td>\n",
       "      <td>NaN</td>\n",
       "      <td>NaN</td>\n",
       "      <td>NaN</td>\n",
       "      <td>NaN</td>\n",
       "      <td>NaN</td>\n",
       "      <td>1602.84</td>\n",
       "    </tr>\n",
       "  </tbody>\n",
       "</table>\n",
       "</div>"
      ],
      "text/plain": [
       "       country  year         pop continent  lifeExp  gdpPercap  \\\n",
       "0  Afghanistan  1952   8.425.333      Asia     28.8     779.45   \n",
       "1  Afghanistan  1957   9.240.934      Asia     30.3     820.85   \n",
       "2  Afghanistan  1962  10.267.083      Asia     32.0     853.10   \n",
       "3  Afghanistan  1967  11.537.966      Asia     34.0     836.20   \n",
       "4  Afghanistan  1972  13.079.460      Asia     36.1     739.98   \n",
       "\n",
       "   oneSidedViolence  nonStateConflict  extrasystemic  intrastate  interstate  \\\n",
       "0               NaN               NaN            NaN         NaN         NaN   \n",
       "1               NaN               NaN            NaN         NaN         NaN   \n",
       "2               NaN               NaN            NaN         NaN         NaN   \n",
       "3               NaN               NaN            NaN         NaN         NaN   \n",
       "4               NaN               NaN            NaN         NaN         NaN   \n",
       "\n",
       "   gdpPerCaptaInflactionAdjusted  \n",
       "0                        1540.11  \n",
       "1                        1708.81  \n",
       "2                        1869.50  \n",
       "3                        1930.54  \n",
       "4                        1602.84  "
      ]
     },
     "execution_count": 14,
     "metadata": {},
     "output_type": "execute_result"
    }
   ],
   "source": [
    "#Agora a gente junta as 2 bases pra ver no que dá\n",
    "juncao = junta_dataframes(juncao, base_gdp_ajustado, chave=['country', 'year'], tipo_juncao='left')\n",
    "juncao.head()"
   ]
  },
  {
   "cell_type": "code",
   "execution_count": 15,
   "id": "b34c34f7",
   "metadata": {},
   "outputs": [
    {
     "name": "stdout",
     "output_type": "stream",
     "text": [
      "Importando o dataframe: ../../avaliacao-python-ciencia-dados/Bases/gm_extreme_poverty_rate.csv ...\n",
      "Dataframe importado com sucesso! \n",
      "Dimensão: (190, 303)\n"
     ]
    },
    {
     "data": {
      "application/vnd.microsoft.datawrangler.viewer.v0+json": {
       "columns": [
        {
         "name": "index",
         "rawType": "int64",
         "type": "integer"
        },
        {
         "name": "geo",
         "rawType": "object",
         "type": "string"
        },
        {
         "name": "name",
         "rawType": "object",
         "type": "string"
        },
        {
         "name": "1800",
         "rawType": "float64",
         "type": "float"
        },
        {
         "name": "1801",
         "rawType": "float64",
         "type": "float"
        },
        {
         "name": "1802",
         "rawType": "float64",
         "type": "float"
        },
        {
         "name": "1803",
         "rawType": "float64",
         "type": "float"
        },
        {
         "name": "1804",
         "rawType": "float64",
         "type": "float"
        },
        {
         "name": "1805",
         "rawType": "float64",
         "type": "float"
        },
        {
         "name": "1806",
         "rawType": "float64",
         "type": "float"
        },
        {
         "name": "1807",
         "rawType": "float64",
         "type": "float"
        },
        {
         "name": "1808",
         "rawType": "float64",
         "type": "float"
        },
        {
         "name": "1809",
         "rawType": "float64",
         "type": "float"
        },
        {
         "name": "1810",
         "rawType": "float64",
         "type": "float"
        },
        {
         "name": "1811",
         "rawType": "float64",
         "type": "float"
        },
        {
         "name": "1812",
         "rawType": "float64",
         "type": "float"
        },
        {
         "name": "1813",
         "rawType": "float64",
         "type": "float"
        },
        {
         "name": "1814",
         "rawType": "float64",
         "type": "float"
        },
        {
         "name": "1815",
         "rawType": "float64",
         "type": "float"
        },
        {
         "name": "1816",
         "rawType": "float64",
         "type": "float"
        },
        {
         "name": "1817",
         "rawType": "float64",
         "type": "float"
        },
        {
         "name": "1818",
         "rawType": "float64",
         "type": "float"
        },
        {
         "name": "1819",
         "rawType": "float64",
         "type": "float"
        },
        {
         "name": "1820",
         "rawType": "float64",
         "type": "float"
        },
        {
         "name": "1821",
         "rawType": "float64",
         "type": "float"
        },
        {
         "name": "1822",
         "rawType": "float64",
         "type": "float"
        },
        {
         "name": "1823",
         "rawType": "float64",
         "type": "float"
        },
        {
         "name": "1824",
         "rawType": "float64",
         "type": "float"
        },
        {
         "name": "1825",
         "rawType": "float64",
         "type": "float"
        },
        {
         "name": "1826",
         "rawType": "float64",
         "type": "float"
        },
        {
         "name": "1827",
         "rawType": "float64",
         "type": "float"
        },
        {
         "name": "1828",
         "rawType": "float64",
         "type": "float"
        },
        {
         "name": "1829",
         "rawType": "float64",
         "type": "float"
        },
        {
         "name": "1830",
         "rawType": "float64",
         "type": "float"
        },
        {
         "name": "1831",
         "rawType": "float64",
         "type": "float"
        },
        {
         "name": "1832",
         "rawType": "float64",
         "type": "float"
        },
        {
         "name": "1833",
         "rawType": "float64",
         "type": "float"
        },
        {
         "name": "1834",
         "rawType": "float64",
         "type": "float"
        },
        {
         "name": "1835",
         "rawType": "float64",
         "type": "float"
        },
        {
         "name": "1836",
         "rawType": "float64",
         "type": "float"
        },
        {
         "name": "1837",
         "rawType": "float64",
         "type": "float"
        },
        {
         "name": "1838",
         "rawType": "float64",
         "type": "float"
        },
        {
         "name": "1839",
         "rawType": "float64",
         "type": "float"
        },
        {
         "name": "1840",
         "rawType": "float64",
         "type": "float"
        },
        {
         "name": "1841",
         "rawType": "float64",
         "type": "float"
        },
        {
         "name": "1842",
         "rawType": "float64",
         "type": "float"
        },
        {
         "name": "1843",
         "rawType": "float64",
         "type": "float"
        },
        {
         "name": "1844",
         "rawType": "float64",
         "type": "float"
        },
        {
         "name": "1845",
         "rawType": "float64",
         "type": "float"
        },
        {
         "name": "1846",
         "rawType": "float64",
         "type": "float"
        },
        {
         "name": "1847",
         "rawType": "float64",
         "type": "float"
        },
        {
         "name": "1848",
         "rawType": "float64",
         "type": "float"
        },
        {
         "name": "1849",
         "rawType": "float64",
         "type": "float"
        },
        {
         "name": "1850",
         "rawType": "float64",
         "type": "float"
        },
        {
         "name": "1851",
         "rawType": "float64",
         "type": "float"
        },
        {
         "name": "1852",
         "rawType": "float64",
         "type": "float"
        },
        {
         "name": "1853",
         "rawType": "float64",
         "type": "float"
        },
        {
         "name": "1854",
         "rawType": "float64",
         "type": "float"
        },
        {
         "name": "1855",
         "rawType": "float64",
         "type": "float"
        },
        {
         "name": "1856",
         "rawType": "float64",
         "type": "float"
        },
        {
         "name": "1857",
         "rawType": "float64",
         "type": "float"
        },
        {
         "name": "1858",
         "rawType": "float64",
         "type": "float"
        },
        {
         "name": "1859",
         "rawType": "float64",
         "type": "float"
        },
        {
         "name": "1860",
         "rawType": "float64",
         "type": "float"
        },
        {
         "name": "1861",
         "rawType": "float64",
         "type": "float"
        },
        {
         "name": "1862",
         "rawType": "float64",
         "type": "float"
        },
        {
         "name": "1863",
         "rawType": "float64",
         "type": "float"
        },
        {
         "name": "1864",
         "rawType": "float64",
         "type": "float"
        },
        {
         "name": "1865",
         "rawType": "float64",
         "type": "float"
        },
        {
         "name": "1866",
         "rawType": "float64",
         "type": "float"
        },
        {
         "name": "1867",
         "rawType": "float64",
         "type": "float"
        },
        {
         "name": "1868",
         "rawType": "float64",
         "type": "float"
        },
        {
         "name": "1869",
         "rawType": "float64",
         "type": "float"
        },
        {
         "name": "1870",
         "rawType": "float64",
         "type": "float"
        },
        {
         "name": "1871",
         "rawType": "float64",
         "type": "float"
        },
        {
         "name": "1872",
         "rawType": "float64",
         "type": "float"
        },
        {
         "name": "1873",
         "rawType": "float64",
         "type": "float"
        },
        {
         "name": "1874",
         "rawType": "float64",
         "type": "float"
        },
        {
         "name": "1875",
         "rawType": "float64",
         "type": "float"
        },
        {
         "name": "1876",
         "rawType": "float64",
         "type": "float"
        },
        {
         "name": "1877",
         "rawType": "float64",
         "type": "float"
        },
        {
         "name": "1878",
         "rawType": "float64",
         "type": "float"
        },
        {
         "name": "1879",
         "rawType": "float64",
         "type": "float"
        },
        {
         "name": "1880",
         "rawType": "float64",
         "type": "float"
        },
        {
         "name": "1881",
         "rawType": "float64",
         "type": "float"
        },
        {
         "name": "1882",
         "rawType": "float64",
         "type": "float"
        },
        {
         "name": "1883",
         "rawType": "float64",
         "type": "float"
        },
        {
         "name": "1884",
         "rawType": "float64",
         "type": "float"
        },
        {
         "name": "1885",
         "rawType": "float64",
         "type": "float"
        },
        {
         "name": "1886",
         "rawType": "float64",
         "type": "float"
        },
        {
         "name": "1887",
         "rawType": "float64",
         "type": "float"
        },
        {
         "name": "1888",
         "rawType": "float64",
         "type": "float"
        },
        {
         "name": "1889",
         "rawType": "float64",
         "type": "float"
        },
        {
         "name": "1890",
         "rawType": "float64",
         "type": "float"
        },
        {
         "name": "1891",
         "rawType": "float64",
         "type": "float"
        },
        {
         "name": "1892",
         "rawType": "float64",
         "type": "float"
        },
        {
         "name": "1893",
         "rawType": "float64",
         "type": "float"
        },
        {
         "name": "1894",
         "rawType": "float64",
         "type": "float"
        },
        {
         "name": "1895",
         "rawType": "float64",
         "type": "float"
        },
        {
         "name": "1896",
         "rawType": "float64",
         "type": "float"
        },
        {
         "name": "1897",
         "rawType": "float64",
         "type": "float"
        },
        {
         "name": "1898",
         "rawType": "float64",
         "type": "float"
        },
        {
         "name": "1899",
         "rawType": "float64",
         "type": "float"
        },
        {
         "name": "1900",
         "rawType": "float64",
         "type": "float"
        },
        {
         "name": "1901",
         "rawType": "float64",
         "type": "float"
        },
        {
         "name": "1902",
         "rawType": "float64",
         "type": "float"
        },
        {
         "name": "1903",
         "rawType": "float64",
         "type": "float"
        },
        {
         "name": "1904",
         "rawType": "float64",
         "type": "float"
        },
        {
         "name": "1905",
         "rawType": "float64",
         "type": "float"
        },
        {
         "name": "1906",
         "rawType": "float64",
         "type": "float"
        },
        {
         "name": "1907",
         "rawType": "float64",
         "type": "float"
        },
        {
         "name": "1908",
         "rawType": "float64",
         "type": "float"
        },
        {
         "name": "1909",
         "rawType": "float64",
         "type": "float"
        },
        {
         "name": "1910",
         "rawType": "float64",
         "type": "float"
        },
        {
         "name": "1911",
         "rawType": "float64",
         "type": "float"
        },
        {
         "name": "1912",
         "rawType": "float64",
         "type": "float"
        },
        {
         "name": "1913",
         "rawType": "float64",
         "type": "float"
        },
        {
         "name": "1914",
         "rawType": "float64",
         "type": "float"
        },
        {
         "name": "1915",
         "rawType": "float64",
         "type": "float"
        },
        {
         "name": "1916",
         "rawType": "float64",
         "type": "float"
        },
        {
         "name": "1917",
         "rawType": "float64",
         "type": "float"
        },
        {
         "name": "1918",
         "rawType": "float64",
         "type": "float"
        },
        {
         "name": "1919",
         "rawType": "float64",
         "type": "float"
        },
        {
         "name": "1920",
         "rawType": "float64",
         "type": "float"
        },
        {
         "name": "1921",
         "rawType": "float64",
         "type": "float"
        },
        {
         "name": "1922",
         "rawType": "float64",
         "type": "float"
        },
        {
         "name": "1923",
         "rawType": "float64",
         "type": "float"
        },
        {
         "name": "1924",
         "rawType": "float64",
         "type": "float"
        },
        {
         "name": "1925",
         "rawType": "float64",
         "type": "float"
        },
        {
         "name": "1926",
         "rawType": "float64",
         "type": "float"
        },
        {
         "name": "1927",
         "rawType": "float64",
         "type": "float"
        },
        {
         "name": "1928",
         "rawType": "float64",
         "type": "float"
        },
        {
         "name": "1929",
         "rawType": "float64",
         "type": "float"
        },
        {
         "name": "1930",
         "rawType": "float64",
         "type": "float"
        },
        {
         "name": "1931",
         "rawType": "float64",
         "type": "float"
        },
        {
         "name": "1932",
         "rawType": "float64",
         "type": "float"
        },
        {
         "name": "1933",
         "rawType": "float64",
         "type": "float"
        },
        {
         "name": "1934",
         "rawType": "float64",
         "type": "float"
        },
        {
         "name": "1935",
         "rawType": "float64",
         "type": "float"
        },
        {
         "name": "1936",
         "rawType": "float64",
         "type": "float"
        },
        {
         "name": "1937",
         "rawType": "float64",
         "type": "float"
        },
        {
         "name": "1938",
         "rawType": "float64",
         "type": "float"
        },
        {
         "name": "1939",
         "rawType": "float64",
         "type": "float"
        },
        {
         "name": "1940",
         "rawType": "float64",
         "type": "float"
        },
        {
         "name": "1941",
         "rawType": "float64",
         "type": "float"
        },
        {
         "name": "1942",
         "rawType": "float64",
         "type": "float"
        },
        {
         "name": "1943",
         "rawType": "float64",
         "type": "float"
        },
        {
         "name": "1944",
         "rawType": "float64",
         "type": "float"
        },
        {
         "name": "1945",
         "rawType": "float64",
         "type": "float"
        },
        {
         "name": "1946",
         "rawType": "float64",
         "type": "float"
        },
        {
         "name": "1947",
         "rawType": "float64",
         "type": "float"
        },
        {
         "name": "1948",
         "rawType": "float64",
         "type": "float"
        },
        {
         "name": "1949",
         "rawType": "float64",
         "type": "float"
        },
        {
         "name": "1950",
         "rawType": "float64",
         "type": "float"
        },
        {
         "name": "1951",
         "rawType": "float64",
         "type": "float"
        },
        {
         "name": "1952",
         "rawType": "float64",
         "type": "float"
        },
        {
         "name": "1953",
         "rawType": "float64",
         "type": "float"
        },
        {
         "name": "1954",
         "rawType": "float64",
         "type": "float"
        },
        {
         "name": "1955",
         "rawType": "float64",
         "type": "float"
        },
        {
         "name": "1956",
         "rawType": "float64",
         "type": "float"
        },
        {
         "name": "1957",
         "rawType": "float64",
         "type": "float"
        },
        {
         "name": "1958",
         "rawType": "float64",
         "type": "float"
        },
        {
         "name": "1959",
         "rawType": "float64",
         "type": "float"
        },
        {
         "name": "1960",
         "rawType": "float64",
         "type": "float"
        },
        {
         "name": "1961",
         "rawType": "float64",
         "type": "float"
        },
        {
         "name": "1962",
         "rawType": "float64",
         "type": "float"
        },
        {
         "name": "1963",
         "rawType": "float64",
         "type": "float"
        },
        {
         "name": "1964",
         "rawType": "float64",
         "type": "float"
        },
        {
         "name": "1965",
         "rawType": "float64",
         "type": "float"
        },
        {
         "name": "1966",
         "rawType": "float64",
         "type": "float"
        },
        {
         "name": "1967",
         "rawType": "float64",
         "type": "float"
        },
        {
         "name": "1968",
         "rawType": "float64",
         "type": "float"
        },
        {
         "name": "1969",
         "rawType": "float64",
         "type": "float"
        },
        {
         "name": "1970",
         "rawType": "float64",
         "type": "float"
        },
        {
         "name": "1971",
         "rawType": "float64",
         "type": "float"
        },
        {
         "name": "1972",
         "rawType": "float64",
         "type": "float"
        },
        {
         "name": "1973",
         "rawType": "float64",
         "type": "float"
        },
        {
         "name": "1974",
         "rawType": "float64",
         "type": "float"
        },
        {
         "name": "1975",
         "rawType": "float64",
         "type": "float"
        },
        {
         "name": "1976",
         "rawType": "float64",
         "type": "float"
        },
        {
         "name": "1977",
         "rawType": "float64",
         "type": "float"
        },
        {
         "name": "1978",
         "rawType": "float64",
         "type": "float"
        },
        {
         "name": "1979",
         "rawType": "float64",
         "type": "float"
        },
        {
         "name": "1980",
         "rawType": "float64",
         "type": "float"
        },
        {
         "name": "1981",
         "rawType": "float64",
         "type": "float"
        },
        {
         "name": "1982",
         "rawType": "float64",
         "type": "float"
        },
        {
         "name": "1983",
         "rawType": "float64",
         "type": "float"
        },
        {
         "name": "1984",
         "rawType": "float64",
         "type": "float"
        },
        {
         "name": "1985",
         "rawType": "float64",
         "type": "float"
        },
        {
         "name": "1986",
         "rawType": "float64",
         "type": "float"
        },
        {
         "name": "1987",
         "rawType": "float64",
         "type": "float"
        },
        {
         "name": "1988",
         "rawType": "float64",
         "type": "float"
        },
        {
         "name": "1989",
         "rawType": "float64",
         "type": "float"
        },
        {
         "name": "1990",
         "rawType": "float64",
         "type": "float"
        },
        {
         "name": "1991",
         "rawType": "float64",
         "type": "float"
        },
        {
         "name": "1992",
         "rawType": "float64",
         "type": "float"
        },
        {
         "name": "1993",
         "rawType": "float64",
         "type": "float"
        },
        {
         "name": "1994",
         "rawType": "float64",
         "type": "float"
        },
        {
         "name": "1995",
         "rawType": "float64",
         "type": "float"
        },
        {
         "name": "1996",
         "rawType": "float64",
         "type": "float"
        },
        {
         "name": "1997",
         "rawType": "float64",
         "type": "float"
        },
        {
         "name": "1998",
         "rawType": "float64",
         "type": "float"
        },
        {
         "name": "1999",
         "rawType": "float64",
         "type": "float"
        },
        {
         "name": "2000",
         "rawType": "float64",
         "type": "float"
        },
        {
         "name": "2001",
         "rawType": "float64",
         "type": "float"
        },
        {
         "name": "2002",
         "rawType": "float64",
         "type": "float"
        },
        {
         "name": "2003",
         "rawType": "float64",
         "type": "float"
        },
        {
         "name": "2004",
         "rawType": "float64",
         "type": "float"
        },
        {
         "name": "2005",
         "rawType": "float64",
         "type": "float"
        },
        {
         "name": "2006",
         "rawType": "float64",
         "type": "float"
        },
        {
         "name": "2007",
         "rawType": "float64",
         "type": "float"
        },
        {
         "name": "2008",
         "rawType": "float64",
         "type": "float"
        },
        {
         "name": "2009",
         "rawType": "float64",
         "type": "float"
        },
        {
         "name": "2010",
         "rawType": "float64",
         "type": "float"
        },
        {
         "name": "2011",
         "rawType": "float64",
         "type": "float"
        },
        {
         "name": "2012",
         "rawType": "float64",
         "type": "float"
        },
        {
         "name": "2013",
         "rawType": "float64",
         "type": "float"
        },
        {
         "name": "2014",
         "rawType": "float64",
         "type": "float"
        },
        {
         "name": "2015",
         "rawType": "float64",
         "type": "float"
        },
        {
         "name": "2016",
         "rawType": "float64",
         "type": "float"
        },
        {
         "name": "2017",
         "rawType": "float64",
         "type": "float"
        },
        {
         "name": "2018",
         "rawType": "float64",
         "type": "float"
        },
        {
         "name": "2019",
         "rawType": "float64",
         "type": "float"
        },
        {
         "name": "2020",
         "rawType": "float64",
         "type": "float"
        },
        {
         "name": "2021",
         "rawType": "float64",
         "type": "float"
        },
        {
         "name": "2022",
         "rawType": "float64",
         "type": "float"
        },
        {
         "name": "2023",
         "rawType": "float64",
         "type": "float"
        },
        {
         "name": "2024",
         "rawType": "float64",
         "type": "float"
        },
        {
         "name": "2025",
         "rawType": "float64",
         "type": "float"
        },
        {
         "name": "2026",
         "rawType": "float64",
         "type": "float"
        },
        {
         "name": "2027",
         "rawType": "float64",
         "type": "float"
        },
        {
         "name": "2028",
         "rawType": "float64",
         "type": "float"
        },
        {
         "name": "2029",
         "rawType": "float64",
         "type": "float"
        },
        {
         "name": "2030",
         "rawType": "float64",
         "type": "float"
        },
        {
         "name": "2031",
         "rawType": "float64",
         "type": "float"
        },
        {
         "name": "2032",
         "rawType": "float64",
         "type": "float"
        },
        {
         "name": "2033",
         "rawType": "float64",
         "type": "float"
        },
        {
         "name": "2034",
         "rawType": "float64",
         "type": "float"
        },
        {
         "name": "2035",
         "rawType": "float64",
         "type": "float"
        },
        {
         "name": "2036",
         "rawType": "float64",
         "type": "float"
        },
        {
         "name": "2037",
         "rawType": "float64",
         "type": "float"
        },
        {
         "name": "2038",
         "rawType": "float64",
         "type": "float"
        },
        {
         "name": "2039",
         "rawType": "float64",
         "type": "float"
        },
        {
         "name": "2040",
         "rawType": "float64",
         "type": "float"
        },
        {
         "name": "2041",
         "rawType": "float64",
         "type": "float"
        },
        {
         "name": "2042",
         "rawType": "float64",
         "type": "float"
        },
        {
         "name": "2043",
         "rawType": "float64",
         "type": "float"
        },
        {
         "name": "2044",
         "rawType": "float64",
         "type": "float"
        },
        {
         "name": "2045",
         "rawType": "float64",
         "type": "float"
        },
        {
         "name": "2046",
         "rawType": "float64",
         "type": "float"
        },
        {
         "name": "2047",
         "rawType": "float64",
         "type": "float"
        },
        {
         "name": "2048",
         "rawType": "float64",
         "type": "float"
        },
        {
         "name": "2049",
         "rawType": "float64",
         "type": "float"
        },
        {
         "name": "2050",
         "rawType": "float64",
         "type": "float"
        },
        {
         "name": "2051",
         "rawType": "float64",
         "type": "float"
        },
        {
         "name": "2052",
         "rawType": "float64",
         "type": "float"
        },
        {
         "name": "2053",
         "rawType": "float64",
         "type": "float"
        },
        {
         "name": "2054",
         "rawType": "float64",
         "type": "float"
        },
        {
         "name": "2055",
         "rawType": "float64",
         "type": "float"
        },
        {
         "name": "2056",
         "rawType": "float64",
         "type": "float"
        },
        {
         "name": "2057",
         "rawType": "float64",
         "type": "float"
        },
        {
         "name": "2058",
         "rawType": "float64",
         "type": "float"
        },
        {
         "name": "2059",
         "rawType": "float64",
         "type": "float"
        },
        {
         "name": "2060",
         "rawType": "float64",
         "type": "float"
        },
        {
         "name": "2061",
         "rawType": "float64",
         "type": "float"
        },
        {
         "name": "2062",
         "rawType": "float64",
         "type": "float"
        },
        {
         "name": "2063",
         "rawType": "float64",
         "type": "float"
        },
        {
         "name": "2064",
         "rawType": "float64",
         "type": "float"
        },
        {
         "name": "2065",
         "rawType": "float64",
         "type": "float"
        },
        {
         "name": "2066",
         "rawType": "float64",
         "type": "float"
        },
        {
         "name": "2067",
         "rawType": "float64",
         "type": "float"
        },
        {
         "name": "2068",
         "rawType": "float64",
         "type": "float"
        },
        {
         "name": "2069",
         "rawType": "float64",
         "type": "float"
        },
        {
         "name": "2070",
         "rawType": "float64",
         "type": "float"
        },
        {
         "name": "2071",
         "rawType": "float64",
         "type": "float"
        },
        {
         "name": "2072",
         "rawType": "float64",
         "type": "float"
        },
        {
         "name": "2073",
         "rawType": "float64",
         "type": "float"
        },
        {
         "name": "2074",
         "rawType": "float64",
         "type": "float"
        },
        {
         "name": "2075",
         "rawType": "float64",
         "type": "float"
        },
        {
         "name": "2076",
         "rawType": "float64",
         "type": "float"
        },
        {
         "name": "2077",
         "rawType": "float64",
         "type": "float"
        },
        {
         "name": "2078",
         "rawType": "float64",
         "type": "float"
        },
        {
         "name": "2079",
         "rawType": "float64",
         "type": "float"
        },
        {
         "name": "2080",
         "rawType": "float64",
         "type": "float"
        },
        {
         "name": "2081",
         "rawType": "float64",
         "type": "float"
        },
        {
         "name": "2082",
         "rawType": "float64",
         "type": "float"
        },
        {
         "name": "2083",
         "rawType": "float64",
         "type": "float"
        },
        {
         "name": "2084",
         "rawType": "float64",
         "type": "float"
        },
        {
         "name": "2085",
         "rawType": "float64",
         "type": "float"
        },
        {
         "name": "2086",
         "rawType": "float64",
         "type": "float"
        },
        {
         "name": "2087",
         "rawType": "float64",
         "type": "float"
        },
        {
         "name": "2088",
         "rawType": "float64",
         "type": "float"
        },
        {
         "name": "2089",
         "rawType": "float64",
         "type": "float"
        },
        {
         "name": "2090",
         "rawType": "float64",
         "type": "float"
        },
        {
         "name": "2091",
         "rawType": "float64",
         "type": "float"
        },
        {
         "name": "2092",
         "rawType": "float64",
         "type": "float"
        },
        {
         "name": "2093",
         "rawType": "float64",
         "type": "float"
        },
        {
         "name": "2094",
         "rawType": "float64",
         "type": "float"
        },
        {
         "name": "2095",
         "rawType": "float64",
         "type": "float"
        },
        {
         "name": "2096",
         "rawType": "float64",
         "type": "float"
        },
        {
         "name": "2097",
         "rawType": "float64",
         "type": "float"
        },
        {
         "name": "2098",
         "rawType": "float64",
         "type": "float"
        },
        {
         "name": "2099",
         "rawType": "float64",
         "type": "float"
        },
        {
         "name": "2100",
         "rawType": "float64",
         "type": "float"
        }
       ],
       "ref": "a785036c-bfb6-473d-81f4-36c8911cb45c",
       "rows": [
        [
         "0",
         "afg",
         "Afghanistan",
         "91.28",
         "91.28",
         "91.28",
         "91.28",
         "91.28",
         "91.28",
         "91.28",
         "91.28",
         "91.28",
         "91.28",
         "91.28",
         "91.28",
         "91.28",
         "91.28",
         "91.28",
         "91.28",
         "91.28",
         "91.28",
         "91.28",
         "91.28",
         "91.28",
         "91.28",
         "91.28",
         "91.28",
         "91.28",
         "91.28",
         "91.28",
         "91.28",
         "91.28",
         "91.28",
         "91.28",
         "91.28",
         "91.28",
         "91.28",
         "90.83",
         "90.83",
         "90.83",
         "90.83",
         "90.83",
         "90.83",
         "90.83",
         "90.83",
         "90.83",
         "90.83",
         "90.83",
         "90.76",
         "90.26",
         "90.1",
         "90.12",
         "90.29",
         "89.78",
         "90.93",
         "90.83",
         "90.76",
         "90.75",
         "88.62",
         "88.95",
         "86.96",
         "85.8",
         "86.98",
         "87.16",
         "88.0",
         "88.78",
         "88.98",
         "89.06",
         "89.34",
         "89.34",
         "89.41",
         "89.5",
         "89.61",
         "88.38",
         "88.95",
         "89.14",
         "89.16",
         "88.88",
         "88.8",
         "88.48",
         "88.41",
         "88.33",
         "88.17",
         "87.43",
         "86.86",
         "85.99",
         "85.84",
         "84.92",
         "83.83",
         "83.13",
         "83.78",
         "83.87",
         "84.38",
         "84.49",
         "83.61",
         "83.61",
         "82.69",
         "82.67",
         "81.58",
         "81.31",
         "79.57",
         "79.2",
         "79.07",
         "78.29",
         "78.86",
         "79.41",
         "79.5",
         "78.71",
         "78.91",
         "78.08",
         "77.99",
         "76.81",
         "77.95",
         "77.93",
         "76.98",
         "76.98",
         "75.99",
         "75.99",
         "74.97",
         "74.12",
         "73.27",
         "73.4",
         "72.47",
         "72.4",
         "72.33",
         "71.24",
         "71.3",
         "70.15",
         "70.18",
         "67.28",
         "66.04",
         "63.99",
         "63.61",
         "62.08",
         "61.68",
         "61.55",
         "59.89",
         "59.93",
         "58.29",
         "58.22",
         "56.6",
         "56.88",
         "56.17",
         "59.51",
         "59.3",
         "58.15",
         "57.02",
         "57.08",
         "55.23",
         "53.66",
         "51.91",
         "50.3",
         "50.3",
         "48.66",
         "45.36",
         "43.7",
         "42.02",
         "40.24",
         "39.97",
         "35.11",
         "37.13",
         "33.11",
         "31.21",
         "31.76",
         "32.31",
         "30.54",
         "27.92",
         "26.28",
         "31.03",
         "33.82",
         "33.47",
         "33.9",
         "33.9",
         "31.88",
         "32.36",
         "43.66",
         "43.57",
         "37.02",
         "33.56",
         "28.39",
         "35.58",
         "30.28",
         "33.63",
         "34.0",
         "25.26",
         "17.69",
         "11.92",
         "13.93",
         "15.32",
         "15.98",
         "20.0",
         "22.89",
         "28.06",
         "29.73",
         "33.43",
         "35.15",
         "55.1",
         "71.26",
         "48.74",
         "51.93",
         "53.52",
         "56.68",
         "58.24",
         "59.78",
         "64.29",
         "51.93",
         "50.35",
         "50.35",
         "47.17",
         "45.6",
         "39.46",
         "38.13",
         "30.31",
         "26.7",
         "28.04",
         "24.19",
         "23.16",
         "24.19",
         "24.19",
         "24.19",
         "24.19",
         "25.43",
         "25.43",
         "28.5",
         "46.56",
         "53.52",
         "54.74",
         "56.34",
         "56.14",
         "54.74",
         "54.78",
         "52.99",
         "51.51",
         "47.49",
         "43.54",
         "42.03",
         "42.08",
         "40.58",
         "39.09",
         "39.09",
         "37.62",
         "36.18",
         "36.18",
         "34.75",
         "33.34",
         "33.34",
         "31.95",
         "31.95",
         "30.82",
         "29.59",
         "29.69",
         "28.53",
         "27.19",
         "27.51",
         "26.37",
         "25.12",
         "25.12",
         "23.9",
         "22.73",
         "22.73",
         "21.59",
         "20.48",
         "20.48",
         "19.19",
         "18.17",
         "18.17",
         "17.18",
         "16.23",
         "15.31",
         "15.31",
         "14.43",
         "13.58",
         "13.43",
         "12.76",
         "11.97",
         "11.22",
         "11.05",
         "10.49",
         "9.81",
         "9.28",
         "9.29",
         "8.81",
         "8.47",
         "8.14",
         "7.93",
         "8.01",
         "7.57",
         "7.27",
         "6.96",
         "6.43",
         "6.43",
         "6.02",
         "5.42",
         "5.02",
         "4.57",
         "4.49",
         "4.15",
         "3.83",
         "3.55",
         "3.28",
         "2.97",
         "2.71",
         "2.68",
         "2.39"
        ],
        [
         "1",
         "ago",
         "Angola",
         "91.81",
         "91.81",
         "91.81",
         "91.81",
         "91.81",
         "91.33",
         "91.33",
         "91.33",
         "91.33",
         "91.33",
         "91.33",
         "91.43",
         "90.93",
         "90.93",
         "90.93",
         "90.93",
         "90.93",
         "90.93",
         "90.41",
         "90.41",
         "90.41",
         "90.41",
         "90.41",
         "90.41",
         "89.87",
         "89.87",
         "89.87",
         "89.87",
         "89.87",
         "89.87",
         "89.86",
         "89.29",
         "89.29",
         "89.29",
         "89.29",
         "89.29",
         "89.29",
         "88.7",
         "88.7",
         "88.7",
         "88.7",
         "88.7",
         "88.7",
         "88.07",
         "88.07",
         "88.07",
         "88.07",
         "88.07",
         "88.07",
         "87.42",
         "87.42",
         "87.42",
         "87.42",
         "87.42",
         "87.51",
         "87.51",
         "86.82",
         "86.82",
         "86.82",
         "86.82",
         "86.82",
         "86.82",
         "86.11",
         "86.11",
         "86.11",
         "86.11",
         "86.21",
         "86.21",
         "86.21",
         "85.47",
         "85.47",
         "85.47",
         "85.47",
         "85.48",
         "85.49",
         "84.72",
         "84.73",
         "84.74",
         "84.75",
         "84.76",
         "84.76",
         "83.97",
         "83.98",
         "83.99",
         "84.0",
         "84.01",
         "84.02",
         "83.21",
         "83.22",
         "83.23",
         "83.25",
         "83.26",
         "83.35",
         "83.37",
         "82.53",
         "82.54",
         "82.55",
         "82.6",
         "82.61",
         "82.63",
         "81.76",
         "81.78",
         "81.79",
         "81.8",
         "81.82",
         "81.83",
         "80.95",
         "80.97",
         "80.98",
         "81.0",
         "81.01",
         "81.03",
         "81.05",
         "80.15",
         "79.22",
         "78.27",
         "77.31",
         "76.3",
         "75.3",
         "74.25",
         "73.16",
         "72.06",
         "70.93",
         "69.7",
         "67.3",
         "66.1",
         "64.89",
         "63.66",
         "62.42",
         "61.18",
         "59.93",
         "58.71",
         "56.12",
         "54.86",
         "53.66",
         "52.54",
         "51.32",
         "50.08",
         "48.86",
         "47.64",
         "45.14",
         "43.95",
         "41.5",
         "39.11",
         "38.11",
         "35.82",
         "33.69",
         "32.66",
         "30.56",
         "28.54",
         "27.65",
         "25.86",
         "25.07",
         "24.31",
         "25.31",
         "22.87",
         "22.99",
         "20.75",
         "19.47",
         "19.58",
         "19.03",
         "16.11",
         "16.73",
         "16.22",
         "14.08",
         "12.66",
         "11.8",
         "10.98",
         "11.46",
         "11.07",
         "10.28",
         "9.92",
         "9.96",
         "9.22",
         "9.65",
         "13.6",
         "15.18",
         "15.23",
         "15.82",
         "15.87",
         "15.36",
         "16.79",
         "17.22",
         "17.31",
         "17.28",
         "17.15",
         "17.36",
         "17.39",
         "16.85",
         "17.31",
         "18.5",
         "18.57",
         "20.18",
         "25.8",
         "25.88",
         "24.02",
         "22.04",
         "21.33",
         "21.15",
         "21.31",
         "21.3",
         "22.2",
         "21.09",
         "21.99",
         "21.06",
         "19.09",
         "17.86",
         "16.07",
         "15.15",
         "16.42",
         "18.37",
         "19.51",
         "20.83",
         "22.09",
         "22.38",
         "21.49",
         "24.74",
         "27.76",
         "30.77",
         "32.29",
         "34.4",
         "35.37",
         "35.66",
         "35.91",
         "35.63",
         "34.61",
         "34.54",
         "34.48",
         "33.33",
         "32.18",
         "33.2",
         "32.04",
         "30.92",
         "30.85",
         "29.73",
         "28.63",
         "27.54",
         "26.46",
         "25.4",
         "24.36",
         "24.3",
         "23.27",
         "22.25",
         "21.29",
         "20.33",
         "19.41",
         "18.5",
         "17.66",
         "17.65",
         "16.82",
         "16.03",
         "15.26",
         "14.52",
         "13.81",
         "13.09",
         "12.41",
         "12.38",
         "11.69",
         "11.05",
         "10.45",
         "9.87",
         "9.33",
         "8.81",
         "8.78",
         "8.28",
         "7.8",
         "7.33",
         "6.88",
         "6.46",
         "6.06",
         "6.04",
         "5.64",
         "5.27",
         "4.92",
         "4.59",
         "4.28",
         "4.26",
         "3.96",
         "3.69",
         "3.42",
         "3.17",
         "3.16",
         "2.93",
         "2.71",
         "2.55",
         "2.36",
         "2.36",
         "2.19",
         "2.04",
         "1.91",
         "1.9",
         "1.78",
         "1.64",
         "1.51",
         "1.5",
         "1.39",
         "1.29",
         "1.28",
         "1.18",
         "1.09",
         "1.09"
        ],
        [
         "2",
         "alb",
         "Albania",
         "92.42",
         "92.42",
         "92.42",
         "92.4",
         "92.4",
         "92.01",
         "92.01",
         "92.01",
         "92.01",
         "92.01",
         "92.01",
         "92.01",
         "92.01",
         "92.01",
         "91.59",
         "91.59",
         "91.59",
         "91.59",
         "91.59",
         "91.59",
         "91.59",
         "91.59",
         "91.59",
         "91.59",
         "91.16",
         "91.16",
         "91.16",
         "91.16",
         "91.16",
         "91.16",
         "91.16",
         "91.16",
         "91.16",
         "91.16",
         "90.71",
         "90.71",
         "90.71",
         "90.71",
         "90.71",
         "90.71",
         "90.71",
         "90.71",
         "90.71",
         "90.24",
         "90.24",
         "90.24",
         "90.24",
         "90.24",
         "90.24",
         "90.24",
         "90.24",
         "90.24",
         "90.24",
         "89.75",
         "89.75",
         "89.75",
         "89.75",
         "89.75",
         "89.75",
         "89.75",
         "89.75",
         "89.75",
         "89.75",
         "89.24",
         "89.24",
         "89.24",
         "89.25",
         "89.26",
         "89.36",
         "89.3",
         "89.46",
         "90.84",
         "91.35",
         "90.92",
         "91.37",
         "92.71",
         "92.77",
         "92.86",
         "92.95",
         "91.84",
         "92.39",
         "92.22",
         "92.02",
         "92.13",
         "92.41",
         "92.46",
         "92.73",
         "92.53",
         "92.57",
         "92.6",
         "92.63",
         "92.66",
         "92.19",
         "92.22",
         "92.25",
         "92.28",
         "92.31",
         "92.34",
         "92.37",
         "92.4",
         "92.43",
         "91.91",
         "91.94",
         "91.96",
         "91.99",
         "92.02",
         "92.05",
         "92.08",
         "92.1",
         "92.13",
         "92.16",
         "91.59",
         "91.62",
         "91.64",
         "91.04",
         "90.39",
         "89.71",
         "88.99",
         "88.22",
         "87.4",
         "86.51",
         "85.56",
         "84.52",
         "83.41",
         "82.2",
         "80.9",
         "78.11",
         "76.61",
         "75.06",
         "73.48",
         "71.88",
         "70.26",
         "68.62",
         "66.96",
         "65.28",
         "63.54",
         "61.74",
         "59.86",
         "57.88",
         "55.82",
         "53.69",
         "51.53",
         "47.34",
         "45.24",
         "43.19",
         "41.2",
         "39.25",
         "37.32",
         "33.64",
         "31.73",
         "29.83",
         "29.69",
         "29.54",
         "27.65",
         "24.05",
         "20.51",
         "20.33",
         "17.04",
         "14.36",
         "12.01",
         "9.93",
         "9.85",
         "8.86",
         "7.22",
         "6.49",
         "5.83",
         "4.61",
         "4.06",
         "3.55",
         "2.72",
         "2.37",
         "2.05",
         "1.75",
         "1.29",
         "1.27",
         "1.08",
         "1.06",
         "0.89",
         "0.88",
         "0.74",
         "0.72",
         "0.65",
         "0.62",
         "0.64",
         "0.74",
         "0.76",
         "0.64",
         "0.72",
         "0.8",
         "0.63",
         "1.02",
         "3.11",
         "3.96",
         "2.82",
         "2.02",
         "1.26",
         "0.87",
         "2.01",
         "2.07",
         "1.15",
         "1.21",
         "1.3",
         "1.41",
         "1.18",
         "0.95",
         "0.79",
         "0.57",
         "0.39",
         "0.27",
         "0.41",
         "0.52",
         "0.62",
         "0.74",
         "1.23",
         "1.39",
         "0.29",
         "0.37",
         "0.52",
         "0.16",
         "0.02",
         "0.05",
         "0.03",
         "0.01",
         "0.01",
         null,
         "0.01",
         null,
         null,
         null,
         null,
         null,
         null,
         null,
         null,
         null,
         null,
         null,
         null,
         "0.01",
         "0.01",
         "0.02",
         "0.02",
         "0.03",
         "0.03",
         "0.04",
         "0.04",
         "0.04",
         "0.05",
         "0.05",
         "0.05",
         "0.05",
         "0.05",
         "0.05",
         "0.05",
         "0.06",
         "0.07",
         "0.07",
         "0.08",
         "0.1",
         "0.09",
         "0.09",
         "0.1",
         "0.09",
         "0.09",
         "0.09",
         "0.09",
         "0.09",
         "0.1",
         "0.1",
         "0.1",
         "0.1",
         "0.1",
         "0.09",
         "0.09",
         "0.09",
         "0.09",
         "0.09",
         "0.11",
         "0.11",
         "0.11",
         "0.11",
         "0.11",
         "0.11",
         "0.11",
         "0.11",
         "0.1",
         "0.1",
         "0.11",
         "0.11",
         "0.1",
         "0.11",
         "0.11",
         "0.1",
         "0.1",
         "0.1",
         "0.1",
         "0.1",
         "0.1",
         "0.1",
         "0.1",
         "0.09"
        ],
        [
         "3",
         "are",
         "UAE",
         "30.6",
         "29.5",
         "29.5",
         "29.5",
         "29.59",
         "29.59",
         "29.37",
         "29.37",
         "29.44",
         "28.02",
         "28.02",
         "28.02",
         "28.02",
         "28.02",
         "28.02",
         "28.12",
         "26.74",
         "26.74",
         "26.74",
         "26.74",
         "27.34",
         "27.44",
         "27.66",
         "26.31",
         "26.71",
         "26.61",
         "26.75",
         "26.75",
         "26.85",
         "26.85",
         "27.24",
         "25.9",
         "25.9",
         "25.78",
         "25.78",
         "26.25",
         "26.58",
         "27.0",
         "25.71",
         "26.15",
         "26.27",
         "26.52",
         "26.52",
         "26.74",
         "26.74",
         "26.84",
         "25.55",
         "25.55",
         "26.1",
         "26.09",
         "26.09",
         "26.08",
         "26.09",
         "24.83",
         "25.11",
         "25.11",
         "25.27",
         "25.27",
         "25.62",
         "25.61",
         "25.61",
         "24.67",
         "24.66",
         "24.62",
         "24.48",
         "24.66",
         "24.79",
         "24.9",
         "23.7",
         "23.7",
         "24.04",
         "24.15",
         "22.38",
         "22.44",
         "20.92",
         "20.14",
         "19.45",
         "19.19",
         "17.89",
         "17.01",
         "16.71",
         "15.33",
         "15.21",
         "14.37",
         "14.24",
         "13.51",
         "13.73",
         "12.2",
         "11.9",
         "10.74",
         "10.58",
         "10.08",
         "10.4",
         "9.59",
         "9.31",
         "8.56",
         "8.57",
         "7.97",
         "7.79",
         "7.27",
         "6.93",
         "6.98",
         "6.46",
         "6.22",
         "5.47",
         "5.52",
         "5.19",
         "5.04",
         "4.73",
         "4.8",
         "4.36",
         "4.5",
         "4.12",
         "4.1",
         "4.37",
         "5.21",
         "6.32",
         "7.41",
         "8.59",
         "7.47",
         "6.32",
         "5.23",
         "4.53",
         "4.48",
         "4.77",
         "4.93",
         "5.28",
         "5.36",
         "5.72",
         "7.41",
         "9.26",
         "10.61",
         "13.13",
         "15.73",
         "18.65",
         "18.51",
         "19.56",
         "19.33",
         "20.15",
         "20.04",
         "20.73",
         "20.77",
         "19.76",
         "19.77",
         "19.65",
         "18.89",
         "17.84",
         "16.88",
         "15.96",
         "15.03",
         "14.22",
         "13.42",
         "12.62",
         "11.98",
         "11.2",
         "10.42",
         "9.84",
         "9.27",
         "6.61",
         "4.41",
         "2.97",
         "1.65",
         "0.69",
         "0.04",
         null,
         null,
         null,
         null,
         null,
         null,
         null,
         null,
         null,
         null,
         null,
         null,
         null,
         null,
         null,
         null,
         null,
         null,
         null,
         null,
         null,
         null,
         null,
         null,
         null,
         null,
         null,
         null,
         null,
         null,
         null,
         null,
         null,
         null,
         null,
         null,
         null,
         null,
         null,
         null,
         null,
         null,
         null,
         null,
         null,
         null,
         null,
         null,
         null,
         null,
         null,
         null,
         null,
         null,
         null,
         null,
         null,
         null,
         null,
         null,
         null,
         null,
         null,
         null,
         null,
         null,
         null,
         null,
         null,
         null,
         null,
         null,
         null,
         null,
         null,
         null,
         null,
         null,
         null,
         null,
         null,
         null,
         null,
         null,
         null,
         null,
         null,
         null,
         null,
         null,
         null,
         null,
         null,
         null,
         null,
         null,
         null,
         null,
         null,
         null,
         null,
         null,
         null,
         null,
         null,
         null,
         null,
         null,
         null,
         null,
         null,
         null,
         null,
         null,
         null,
         null,
         null,
         null,
         null,
         null,
         null,
         null,
         null,
         null,
         null,
         null,
         null,
         null,
         null,
         null,
         null,
         null,
         null,
         null,
         null,
         null,
         null
        ],
        [
         "4",
         "arg",
         "Argentina",
         "38.64",
         "37.0",
         "37.01",
         "36.49",
         "36.27",
         "36.27",
         "36.04",
         "36.04",
         "36.04",
         "34.18",
         "34.18",
         "34.1",
         "34.13",
         "34.13",
         "34.13",
         "34.13",
         "34.13",
         "32.55",
         "32.63",
         "32.93",
         "32.92",
         "32.93",
         "31.39",
         "31.51",
         "31.65",
         "31.82",
         "30.33",
         "30.62",
         "30.62",
         "30.62",
         "29.51",
         "29.6",
         "29.4",
         "28.75",
         "28.05",
         "28.05",
         "28.05",
         "26.76",
         "26.76",
         "27.35",
         "27.68",
         "26.73",
         "26.77",
         "26.87",
         "27.24",
         "25.91",
         "24.16",
         "23.77",
         "22.44",
         "22.48",
         "22.52",
         "21.55",
         "20.54",
         "22.63",
         "23.89",
         "22.58",
         "31.42",
         "31.66",
         "29.08",
         "24.94",
         "27.11",
         "25.94",
         "24.34",
         "23.31",
         "24.04",
         "27.05",
         "26.31",
         "25.88",
         "25.39",
         "22.16",
         "21.13",
         "19.62",
         "19.54",
         "18.15",
         "16.82",
         "15.45",
         "15.65",
         "12.94",
         "17.78",
         "18.31",
         "20.33",
         "20.58",
         "14.49",
         "12.07",
         "11.16",
         "8.25",
         "8.62",
         "8.32",
         "7.09",
         "6.97",
         "8.34",
         "9.44",
         "7.42",
         "6.59",
         "5.41",
         "4.35",
         "3.85",
         "6.43",
         "5.22",
         "3.71",
         "5.94",
         "6.0",
         "6.96",
         "5.13",
         "4.35",
         "3.58",
         "3.58",
         "3.57",
         "2.81",
         "2.73",
         "2.49",
         "2.52",
         "2.05",
         "2.46",
         "4.0",
         "4.37",
         "4.59",
         "6.16",
         "4.19",
         "4.17",
         "3.43",
         "3.49",
         "2.91",
         "2.39",
         "1.96",
         "2.69",
         "2.5",
         "2.31",
         "1.89",
         "1.89",
         "2.26",
         "3.25",
         "3.77",
         "3.5",
         "2.67",
         "2.42",
         "2.64",
         "2.16",
         "2.08",
         "1.93",
         "1.81",
         "1.37",
         "1.21",
         "1.25",
         "0.84",
         "0.96",
         "0.74",
         "0.56",
         "0.59",
         "0.68",
         "0.82",
         "0.74",
         "0.92",
         "0.79",
         "0.72",
         "0.48",
         "0.48",
         "0.47",
         "0.41",
         "0.46",
         "0.37",
         "0.31",
         "0.32",
         "0.42",
         "0.32",
         "0.26",
         "0.24",
         "0.24",
         "0.21",
         "0.2",
         "0.19",
         "0.19",
         "0.19",
         "0.18",
         "0.17",
         "0.18",
         "0.19",
         "0.18",
         "0.19",
         "0.18",
         "0.18",
         "0.19",
         "0.02",
         "0.03",
         "0.05",
         "0.09",
         "0.09",
         "1.35",
         "1.33",
         "1.38",
         "1.44",
         "1.28",
         "2.17",
         "2.45",
         "1.15",
         "2.73",
         "2.68",
         "2.76",
         "3.46",
         "3.31",
         "4.53",
         "6.92",
         "12.07",
         "5.43",
         "4.23",
         "2.82",
         "2.48",
         "2.01",
         "1.67",
         "1.72",
         "1.02",
         "0.84",
         "0.82",
         "0.78",
         "0.73",
         "0.75",
         "0.83",
         "0.73",
         "1.19",
         "1.22",
         "1.37",
         "1.1",
         "0.8",
         "0.87",
         "0.97",
         "0.88",
         "0.82",
         "0.77",
         "0.72",
         "0.67",
         "0.73",
         "0.67",
         "0.63",
         "0.59",
         "0.59",
         "0.54",
         "0.51",
         "0.51",
         "0.48",
         "0.45",
         "0.42",
         "0.42",
         "0.39",
         "0.37",
         "0.37",
         "0.35",
         "0.33",
         "0.32",
         "0.31",
         "0.31",
         "0.29",
         "0.28",
         "0.27",
         "0.26",
         "0.26",
         "0.24",
         "0.23",
         "0.23",
         "0.22",
         "0.22",
         "0.21",
         "0.21",
         "0.2",
         "0.2",
         "0.19",
         "0.19",
         "0.18",
         "0.18",
         "0.17",
         "0.17",
         "0.16",
         "0.16",
         "0.15",
         "0.15",
         "0.14",
         "0.14",
         "0.14",
         "0.13",
         "0.13",
         "0.13",
         "0.13",
         "0.12",
         "0.12",
         "0.12",
         "0.11",
         "0.11",
         "0.11",
         "0.11",
         "0.11",
         "0.1",
         "0.1",
         "0.1",
         "0.1",
         "0.1",
         "0.09",
         "0.09",
         "0.09",
         "0.09",
         "0.09",
         "0.09",
         "0.08"
        ]
       ],
       "shape": {
        "columns": 303,
        "rows": 5
       }
      },
      "text/html": [
       "<div>\n",
       "<style scoped>\n",
       "    .dataframe tbody tr th:only-of-type {\n",
       "        vertical-align: middle;\n",
       "    }\n",
       "\n",
       "    .dataframe tbody tr th {\n",
       "        vertical-align: top;\n",
       "    }\n",
       "\n",
       "    .dataframe thead th {\n",
       "        text-align: right;\n",
       "    }\n",
       "</style>\n",
       "<table border=\"1\" class=\"dataframe\">\n",
       "  <thead>\n",
       "    <tr style=\"text-align: right;\">\n",
       "      <th></th>\n",
       "      <th>geo</th>\n",
       "      <th>name</th>\n",
       "      <th>1800</th>\n",
       "      <th>1801</th>\n",
       "      <th>1802</th>\n",
       "      <th>1803</th>\n",
       "      <th>1804</th>\n",
       "      <th>1805</th>\n",
       "      <th>1806</th>\n",
       "      <th>1807</th>\n",
       "      <th>...</th>\n",
       "      <th>2091</th>\n",
       "      <th>2092</th>\n",
       "      <th>2093</th>\n",
       "      <th>2094</th>\n",
       "      <th>2095</th>\n",
       "      <th>2096</th>\n",
       "      <th>2097</th>\n",
       "      <th>2098</th>\n",
       "      <th>2099</th>\n",
       "      <th>2100</th>\n",
       "    </tr>\n",
       "  </thead>\n",
       "  <tbody>\n",
       "    <tr>\n",
       "      <th>0</th>\n",
       "      <td>afg</td>\n",
       "      <td>Afghanistan</td>\n",
       "      <td>91.28</td>\n",
       "      <td>91.28</td>\n",
       "      <td>91.28</td>\n",
       "      <td>91.28</td>\n",
       "      <td>91.28</td>\n",
       "      <td>91.28</td>\n",
       "      <td>91.28</td>\n",
       "      <td>91.28</td>\n",
       "      <td>...</td>\n",
       "      <td>4.57</td>\n",
       "      <td>4.49</td>\n",
       "      <td>4.15</td>\n",
       "      <td>3.83</td>\n",
       "      <td>3.55</td>\n",
       "      <td>3.28</td>\n",
       "      <td>2.97</td>\n",
       "      <td>2.71</td>\n",
       "      <td>2.68</td>\n",
       "      <td>2.39</td>\n",
       "    </tr>\n",
       "    <tr>\n",
       "      <th>1</th>\n",
       "      <td>ago</td>\n",
       "      <td>Angola</td>\n",
       "      <td>91.81</td>\n",
       "      <td>91.81</td>\n",
       "      <td>91.81</td>\n",
       "      <td>91.81</td>\n",
       "      <td>91.81</td>\n",
       "      <td>91.33</td>\n",
       "      <td>91.33</td>\n",
       "      <td>91.33</td>\n",
       "      <td>...</td>\n",
       "      <td>1.78</td>\n",
       "      <td>1.64</td>\n",
       "      <td>1.51</td>\n",
       "      <td>1.50</td>\n",
       "      <td>1.39</td>\n",
       "      <td>1.29</td>\n",
       "      <td>1.28</td>\n",
       "      <td>1.18</td>\n",
       "      <td>1.09</td>\n",
       "      <td>1.09</td>\n",
       "    </tr>\n",
       "    <tr>\n",
       "      <th>2</th>\n",
       "      <td>alb</td>\n",
       "      <td>Albania</td>\n",
       "      <td>92.42</td>\n",
       "      <td>92.42</td>\n",
       "      <td>92.42</td>\n",
       "      <td>92.40</td>\n",
       "      <td>92.40</td>\n",
       "      <td>92.01</td>\n",
       "      <td>92.01</td>\n",
       "      <td>92.01</td>\n",
       "      <td>...</td>\n",
       "      <td>0.11</td>\n",
       "      <td>0.10</td>\n",
       "      <td>0.10</td>\n",
       "      <td>0.10</td>\n",
       "      <td>0.10</td>\n",
       "      <td>0.10</td>\n",
       "      <td>0.10</td>\n",
       "      <td>0.10</td>\n",
       "      <td>0.10</td>\n",
       "      <td>0.09</td>\n",
       "    </tr>\n",
       "    <tr>\n",
       "      <th>3</th>\n",
       "      <td>are</td>\n",
       "      <td>UAE</td>\n",
       "      <td>30.60</td>\n",
       "      <td>29.50</td>\n",
       "      <td>29.50</td>\n",
       "      <td>29.50</td>\n",
       "      <td>29.59</td>\n",
       "      <td>29.59</td>\n",
       "      <td>29.37</td>\n",
       "      <td>29.37</td>\n",
       "      <td>...</td>\n",
       "      <td>NaN</td>\n",
       "      <td>NaN</td>\n",
       "      <td>NaN</td>\n",
       "      <td>NaN</td>\n",
       "      <td>NaN</td>\n",
       "      <td>NaN</td>\n",
       "      <td>NaN</td>\n",
       "      <td>NaN</td>\n",
       "      <td>NaN</td>\n",
       "      <td>NaN</td>\n",
       "    </tr>\n",
       "    <tr>\n",
       "      <th>4</th>\n",
       "      <td>arg</td>\n",
       "      <td>Argentina</td>\n",
       "      <td>38.64</td>\n",
       "      <td>37.00</td>\n",
       "      <td>37.01</td>\n",
       "      <td>36.49</td>\n",
       "      <td>36.27</td>\n",
       "      <td>36.27</td>\n",
       "      <td>36.04</td>\n",
       "      <td>36.04</td>\n",
       "      <td>...</td>\n",
       "      <td>0.10</td>\n",
       "      <td>0.10</td>\n",
       "      <td>0.10</td>\n",
       "      <td>0.09</td>\n",
       "      <td>0.09</td>\n",
       "      <td>0.09</td>\n",
       "      <td>0.09</td>\n",
       "      <td>0.09</td>\n",
       "      <td>0.09</td>\n",
       "      <td>0.08</td>\n",
       "    </tr>\n",
       "  </tbody>\n",
       "</table>\n",
       "<p>5 rows × 303 columns</p>\n",
       "</div>"
      ],
      "text/plain": [
       "   geo         name   1800   1801   1802   1803   1804   1805   1806   1807  \\\n",
       "0  afg  Afghanistan  91.28  91.28  91.28  91.28  91.28  91.28  91.28  91.28   \n",
       "1  ago       Angola  91.81  91.81  91.81  91.81  91.81  91.33  91.33  91.33   \n",
       "2  alb      Albania  92.42  92.42  92.42  92.40  92.40  92.01  92.01  92.01   \n",
       "3  are          UAE  30.60  29.50  29.50  29.50  29.59  29.59  29.37  29.37   \n",
       "4  arg    Argentina  38.64  37.00  37.01  36.49  36.27  36.27  36.04  36.04   \n",
       "\n",
       "   ...  2091  2092  2093  2094  2095  2096  2097  2098  2099  2100  \n",
       "0  ...  4.57  4.49  4.15  3.83  3.55  3.28  2.97  2.71  2.68  2.39  \n",
       "1  ...  1.78  1.64  1.51  1.50  1.39  1.29  1.28  1.18  1.09  1.09  \n",
       "2  ...  0.11  0.10  0.10  0.10  0.10  0.10  0.10  0.10  0.10  0.09  \n",
       "3  ...   NaN   NaN   NaN   NaN   NaN   NaN   NaN   NaN   NaN   NaN  \n",
       "4  ...  0.10  0.10  0.10  0.09  0.09  0.09  0.09  0.09  0.09  0.08  \n",
       "\n",
       "[5 rows x 303 columns]"
      ]
     },
     "execution_count": 15,
     "metadata": {},
     "output_type": "execute_result"
    }
   ],
   "source": [
    "#Adicionando a base de extrema pobreza\n",
    "base_extrema_pobreza = importa_csv(dataframe_name='../../avaliacao-python-ciencia-dados/Bases/gm_extreme_poverty_rate.csv', separador=',', encoding='utf-8')\n",
    "base_extrema_pobreza.head()"
   ]
  },
  {
   "cell_type": "code",
   "execution_count": 16,
   "id": "c6ba1aaf",
   "metadata": {},
   "outputs": [
    {
     "name": "stdout",
     "output_type": "stream",
     "text": [
      "Removendo dados duplicados ...\n",
      "Foram encontrados 0 registros duplicados\n",
      "\n",
      "Prévia dos dados duplicados:\n",
      "Dados duplicados removidos com sucesso! \n",
      "Dimensão: (53916, 3)\n"
     ]
    },
    {
     "data": {
      "application/vnd.microsoft.datawrangler.viewer.v0+json": {
       "columns": [
        {
         "name": "index",
         "rawType": "int64",
         "type": "integer"
        },
        {
         "name": "country",
         "rawType": "object",
         "type": "string"
        },
        {
         "name": "year",
         "rawType": "int64",
         "type": "integer"
        },
        {
         "name": "extremePovertyRate",
         "rawType": "float64",
         "type": "float"
        }
       ],
       "ref": "d663f76e-a608-4a7c-8526-fd8591f4ad45",
       "rows": [
        [
         "0",
         "Afghanistan",
         "1800",
         "91.28"
        ],
        [
         "1",
         "Afghanistan",
         "1801",
         "91.28"
        ],
        [
         "2",
         "Afghanistan",
         "1802",
         "91.28"
        ],
        [
         "3",
         "Afghanistan",
         "1803",
         "91.28"
        ],
        [
         "4",
         "Afghanistan",
         "1804",
         "91.28"
        ]
       ],
       "shape": {
        "columns": 3,
        "rows": 5
       }
      },
      "text/html": [
       "<div>\n",
       "<style scoped>\n",
       "    .dataframe tbody tr th:only-of-type {\n",
       "        vertical-align: middle;\n",
       "    }\n",
       "\n",
       "    .dataframe tbody tr th {\n",
       "        vertical-align: top;\n",
       "    }\n",
       "\n",
       "    .dataframe thead th {\n",
       "        text-align: right;\n",
       "    }\n",
       "</style>\n",
       "<table border=\"1\" class=\"dataframe\">\n",
       "  <thead>\n",
       "    <tr style=\"text-align: right;\">\n",
       "      <th></th>\n",
       "      <th>country</th>\n",
       "      <th>year</th>\n",
       "      <th>extremePovertyRate</th>\n",
       "    </tr>\n",
       "  </thead>\n",
       "  <tbody>\n",
       "    <tr>\n",
       "      <th>0</th>\n",
       "      <td>Afghanistan</td>\n",
       "      <td>1800</td>\n",
       "      <td>91.28</td>\n",
       "    </tr>\n",
       "    <tr>\n",
       "      <th>1</th>\n",
       "      <td>Afghanistan</td>\n",
       "      <td>1801</td>\n",
       "      <td>91.28</td>\n",
       "    </tr>\n",
       "    <tr>\n",
       "      <th>2</th>\n",
       "      <td>Afghanistan</td>\n",
       "      <td>1802</td>\n",
       "      <td>91.28</td>\n",
       "    </tr>\n",
       "    <tr>\n",
       "      <th>3</th>\n",
       "      <td>Afghanistan</td>\n",
       "      <td>1803</td>\n",
       "      <td>91.28</td>\n",
       "    </tr>\n",
       "    <tr>\n",
       "      <th>4</th>\n",
       "      <td>Afghanistan</td>\n",
       "      <td>1804</td>\n",
       "      <td>91.28</td>\n",
       "    </tr>\n",
       "  </tbody>\n",
       "</table>\n",
       "</div>"
      ],
      "text/plain": [
       "       country  year  extremePovertyRate\n",
       "0  Afghanistan  1800               91.28\n",
       "1  Afghanistan  1801               91.28\n",
       "2  Afghanistan  1802               91.28\n",
       "3  Afghanistan  1803               91.28\n",
       "4  Afghanistan  1804               91.28"
      ]
     },
     "execution_count": 16,
     "metadata": {},
     "output_type": "execute_result"
    }
   ],
   "source": [
    "#Transposição da base\n",
    "#Redução de casas decimais\n",
    "#Ajuste do nome das colunas\n",
    "base_extrema_pobreza = transpoe_e_trata_dataframe(base_extrema_pobreza, nome_coluna_resultado='extremePovertyRate')\n",
    "base_extrema_pobreza.head()"
   ]
  },
  {
   "cell_type": "code",
   "execution_count": 17,
   "id": "ad6b20c1",
   "metadata": {},
   "outputs": [
    {
     "name": "stdout",
     "output_type": "stream",
     "text": [
      "Dataframes unidos com sucesso! \n",
      "Dimensão: (1704, 13)\n"
     ]
    },
    {
     "data": {
      "application/vnd.microsoft.datawrangler.viewer.v0+json": {
       "columns": [
        {
         "name": "index",
         "rawType": "int64",
         "type": "integer"
        },
        {
         "name": "country",
         "rawType": "object",
         "type": "string"
        },
        {
         "name": "year",
         "rawType": "int64",
         "type": "integer"
        },
        {
         "name": "pop",
         "rawType": "object",
         "type": "string"
        },
        {
         "name": "continent",
         "rawType": "object",
         "type": "string"
        },
        {
         "name": "lifeExp",
         "rawType": "float64",
         "type": "float"
        },
        {
         "name": "gdpPercap",
         "rawType": "float64",
         "type": "float"
        },
        {
         "name": "oneSidedViolence",
         "rawType": "float64",
         "type": "float"
        },
        {
         "name": "nonStateConflict",
         "rawType": "float64",
         "type": "float"
        },
        {
         "name": "extrasystemic",
         "rawType": "float64",
         "type": "float"
        },
        {
         "name": "intrastate",
         "rawType": "float64",
         "type": "float"
        },
        {
         "name": "interstate",
         "rawType": "float64",
         "type": "float"
        },
        {
         "name": "gdpPerCaptaInflactionAdjusted",
         "rawType": "float64",
         "type": "float"
        },
        {
         "name": "extremePovertyRate",
         "rawType": "float64",
         "type": "float"
        }
       ],
       "ref": "01e58314-03bb-4a23-b2ac-61d033aff5fa",
       "rows": [
        [
         "0",
         "Afghanistan",
         "1952",
         "8.425.333",
         "Asia",
         "28.8",
         "779.45",
         null,
         null,
         null,
         null,
         null,
         "1540.11",
         "43.7"
        ],
        [
         "1",
         "Afghanistan",
         "1957",
         "9.240.934",
         "Asia",
         "30.3",
         "820.85",
         null,
         null,
         null,
         null,
         null,
         "1708.81",
         "37.13"
        ],
        [
         "2",
         "Afghanistan",
         "1962",
         "10.267.083",
         "Asia",
         "32.0",
         "853.1",
         null,
         null,
         null,
         null,
         null,
         "1869.5",
         "30.54"
        ],
        [
         "3",
         "Afghanistan",
         "1967",
         "11.537.966",
         "Asia",
         "34.0",
         "836.2",
         null,
         null,
         null,
         null,
         null,
         "1930.54",
         "33.47"
        ],
        [
         "4",
         "Afghanistan",
         "1972",
         "13.079.460",
         "Asia",
         "36.1",
         "739.98",
         null,
         null,
         null,
         null,
         null,
         "1602.84",
         "43.66"
        ]
       ],
       "shape": {
        "columns": 13,
        "rows": 5
       }
      },
      "text/html": [
       "<div>\n",
       "<style scoped>\n",
       "    .dataframe tbody tr th:only-of-type {\n",
       "        vertical-align: middle;\n",
       "    }\n",
       "\n",
       "    .dataframe tbody tr th {\n",
       "        vertical-align: top;\n",
       "    }\n",
       "\n",
       "    .dataframe thead th {\n",
       "        text-align: right;\n",
       "    }\n",
       "</style>\n",
       "<table border=\"1\" class=\"dataframe\">\n",
       "  <thead>\n",
       "    <tr style=\"text-align: right;\">\n",
       "      <th></th>\n",
       "      <th>country</th>\n",
       "      <th>year</th>\n",
       "      <th>pop</th>\n",
       "      <th>continent</th>\n",
       "      <th>lifeExp</th>\n",
       "      <th>gdpPercap</th>\n",
       "      <th>oneSidedViolence</th>\n",
       "      <th>nonStateConflict</th>\n",
       "      <th>extrasystemic</th>\n",
       "      <th>intrastate</th>\n",
       "      <th>interstate</th>\n",
       "      <th>gdpPerCaptaInflactionAdjusted</th>\n",
       "      <th>extremePovertyRate</th>\n",
       "    </tr>\n",
       "  </thead>\n",
       "  <tbody>\n",
       "    <tr>\n",
       "      <th>0</th>\n",
       "      <td>Afghanistan</td>\n",
       "      <td>1952</td>\n",
       "      <td>8.425.333</td>\n",
       "      <td>Asia</td>\n",
       "      <td>28.8</td>\n",
       "      <td>779.45</td>\n",
       "      <td>NaN</td>\n",
       "      <td>NaN</td>\n",
       "      <td>NaN</td>\n",
       "      <td>NaN</td>\n",
       "      <td>NaN</td>\n",
       "      <td>1540.11</td>\n",
       "      <td>43.70</td>\n",
       "    </tr>\n",
       "    <tr>\n",
       "      <th>1</th>\n",
       "      <td>Afghanistan</td>\n",
       "      <td>1957</td>\n",
       "      <td>9.240.934</td>\n",
       "      <td>Asia</td>\n",
       "      <td>30.3</td>\n",
       "      <td>820.85</td>\n",
       "      <td>NaN</td>\n",
       "      <td>NaN</td>\n",
       "      <td>NaN</td>\n",
       "      <td>NaN</td>\n",
       "      <td>NaN</td>\n",
       "      <td>1708.81</td>\n",
       "      <td>37.13</td>\n",
       "    </tr>\n",
       "    <tr>\n",
       "      <th>2</th>\n",
       "      <td>Afghanistan</td>\n",
       "      <td>1962</td>\n",
       "      <td>10.267.083</td>\n",
       "      <td>Asia</td>\n",
       "      <td>32.0</td>\n",
       "      <td>853.10</td>\n",
       "      <td>NaN</td>\n",
       "      <td>NaN</td>\n",
       "      <td>NaN</td>\n",
       "      <td>NaN</td>\n",
       "      <td>NaN</td>\n",
       "      <td>1869.50</td>\n",
       "      <td>30.54</td>\n",
       "    </tr>\n",
       "    <tr>\n",
       "      <th>3</th>\n",
       "      <td>Afghanistan</td>\n",
       "      <td>1967</td>\n",
       "      <td>11.537.966</td>\n",
       "      <td>Asia</td>\n",
       "      <td>34.0</td>\n",
       "      <td>836.20</td>\n",
       "      <td>NaN</td>\n",
       "      <td>NaN</td>\n",
       "      <td>NaN</td>\n",
       "      <td>NaN</td>\n",
       "      <td>NaN</td>\n",
       "      <td>1930.54</td>\n",
       "      <td>33.47</td>\n",
       "    </tr>\n",
       "    <tr>\n",
       "      <th>4</th>\n",
       "      <td>Afghanistan</td>\n",
       "      <td>1972</td>\n",
       "      <td>13.079.460</td>\n",
       "      <td>Asia</td>\n",
       "      <td>36.1</td>\n",
       "      <td>739.98</td>\n",
       "      <td>NaN</td>\n",
       "      <td>NaN</td>\n",
       "      <td>NaN</td>\n",
       "      <td>NaN</td>\n",
       "      <td>NaN</td>\n",
       "      <td>1602.84</td>\n",
       "      <td>43.66</td>\n",
       "    </tr>\n",
       "  </tbody>\n",
       "</table>\n",
       "</div>"
      ],
      "text/plain": [
       "       country  year         pop continent  lifeExp  gdpPercap  \\\n",
       "0  Afghanistan  1952   8.425.333      Asia     28.8     779.45   \n",
       "1  Afghanistan  1957   9.240.934      Asia     30.3     820.85   \n",
       "2  Afghanistan  1962  10.267.083      Asia     32.0     853.10   \n",
       "3  Afghanistan  1967  11.537.966      Asia     34.0     836.20   \n",
       "4  Afghanistan  1972  13.079.460      Asia     36.1     739.98   \n",
       "\n",
       "   oneSidedViolence  nonStateConflict  extrasystemic  intrastate  interstate  \\\n",
       "0               NaN               NaN            NaN         NaN         NaN   \n",
       "1               NaN               NaN            NaN         NaN         NaN   \n",
       "2               NaN               NaN            NaN         NaN         NaN   \n",
       "3               NaN               NaN            NaN         NaN         NaN   \n",
       "4               NaN               NaN            NaN         NaN         NaN   \n",
       "\n",
       "   gdpPerCaptaInflactionAdjusted  extremePovertyRate  \n",
       "0                        1540.11               43.70  \n",
       "1                        1708.81               37.13  \n",
       "2                        1869.50               30.54  \n",
       "3                        1930.54               33.47  \n",
       "4                        1602.84               43.66  "
      ]
     },
     "execution_count": 17,
     "metadata": {},
     "output_type": "execute_result"
    }
   ],
   "source": [
    "juncao = junta_dataframes(juncao, base_extrema_pobreza, chave=['country', 'year'], tipo_juncao='left')\n",
    "juncao.head()"
   ]
  },
  {
   "cell_type": "code",
   "execution_count": 18,
   "id": "d729dc01",
   "metadata": {},
   "outputs": [
    {
     "name": "stdout",
     "output_type": "stream",
     "text": [
      "Importando o dataframe: ../../avaliacao-python-ciencia-dados/Bases/child_mortality_0_5_year_olds_dying_per_1000_born.csv ...\n",
      "Dataframe importado com sucesso! \n",
      "Dimensão: (192, 303)\n"
     ]
    },
    {
     "data": {
      "application/vnd.microsoft.datawrangler.viewer.v0+json": {
       "columns": [
        {
         "name": "index",
         "rawType": "int64",
         "type": "integer"
        },
        {
         "name": "geo",
         "rawType": "object",
         "type": "string"
        },
        {
         "name": "name",
         "rawType": "object",
         "type": "string"
        },
        {
         "name": "1800",
         "rawType": "float64",
         "type": "float"
        },
        {
         "name": "1801",
         "rawType": "float64",
         "type": "float"
        },
        {
         "name": "1802",
         "rawType": "float64",
         "type": "float"
        },
        {
         "name": "1803",
         "rawType": "float64",
         "type": "float"
        },
        {
         "name": "1804",
         "rawType": "float64",
         "type": "float"
        },
        {
         "name": "1805",
         "rawType": "float64",
         "type": "float"
        },
        {
         "name": "1806",
         "rawType": "float64",
         "type": "float"
        },
        {
         "name": "1807",
         "rawType": "float64",
         "type": "float"
        },
        {
         "name": "1808",
         "rawType": "float64",
         "type": "float"
        },
        {
         "name": "1809",
         "rawType": "float64",
         "type": "float"
        },
        {
         "name": "1810",
         "rawType": "float64",
         "type": "float"
        },
        {
         "name": "1811",
         "rawType": "float64",
         "type": "float"
        },
        {
         "name": "1812",
         "rawType": "float64",
         "type": "float"
        },
        {
         "name": "1813",
         "rawType": "float64",
         "type": "float"
        },
        {
         "name": "1814",
         "rawType": "float64",
         "type": "float"
        },
        {
         "name": "1815",
         "rawType": "float64",
         "type": "float"
        },
        {
         "name": "1816",
         "rawType": "float64",
         "type": "float"
        },
        {
         "name": "1817",
         "rawType": "float64",
         "type": "float"
        },
        {
         "name": "1818",
         "rawType": "float64",
         "type": "float"
        },
        {
         "name": "1819",
         "rawType": "float64",
         "type": "float"
        },
        {
         "name": "1820",
         "rawType": "float64",
         "type": "float"
        },
        {
         "name": "1821",
         "rawType": "float64",
         "type": "float"
        },
        {
         "name": "1822",
         "rawType": "float64",
         "type": "float"
        },
        {
         "name": "1823",
         "rawType": "float64",
         "type": "float"
        },
        {
         "name": "1824",
         "rawType": "float64",
         "type": "float"
        },
        {
         "name": "1825",
         "rawType": "float64",
         "type": "float"
        },
        {
         "name": "1826",
         "rawType": "float64",
         "type": "float"
        },
        {
         "name": "1827",
         "rawType": "float64",
         "type": "float"
        },
        {
         "name": "1828",
         "rawType": "float64",
         "type": "float"
        },
        {
         "name": "1829",
         "rawType": "float64",
         "type": "float"
        },
        {
         "name": "1830",
         "rawType": "float64",
         "type": "float"
        },
        {
         "name": "1831",
         "rawType": "float64",
         "type": "float"
        },
        {
         "name": "1832",
         "rawType": "float64",
         "type": "float"
        },
        {
         "name": "1833",
         "rawType": "float64",
         "type": "float"
        },
        {
         "name": "1834",
         "rawType": "float64",
         "type": "float"
        },
        {
         "name": "1835",
         "rawType": "float64",
         "type": "float"
        },
        {
         "name": "1836",
         "rawType": "float64",
         "type": "float"
        },
        {
         "name": "1837",
         "rawType": "float64",
         "type": "float"
        },
        {
         "name": "1838",
         "rawType": "float64",
         "type": "float"
        },
        {
         "name": "1839",
         "rawType": "float64",
         "type": "float"
        },
        {
         "name": "1840",
         "rawType": "float64",
         "type": "float"
        },
        {
         "name": "1841",
         "rawType": "float64",
         "type": "float"
        },
        {
         "name": "1842",
         "rawType": "float64",
         "type": "float"
        },
        {
         "name": "1843",
         "rawType": "float64",
         "type": "float"
        },
        {
         "name": "1844",
         "rawType": "float64",
         "type": "float"
        },
        {
         "name": "1845",
         "rawType": "float64",
         "type": "float"
        },
        {
         "name": "1846",
         "rawType": "float64",
         "type": "float"
        },
        {
         "name": "1847",
         "rawType": "float64",
         "type": "float"
        },
        {
         "name": "1848",
         "rawType": "float64",
         "type": "float"
        },
        {
         "name": "1849",
         "rawType": "float64",
         "type": "float"
        },
        {
         "name": "1850",
         "rawType": "float64",
         "type": "float"
        },
        {
         "name": "1851",
         "rawType": "float64",
         "type": "float"
        },
        {
         "name": "1852",
         "rawType": "float64",
         "type": "float"
        },
        {
         "name": "1853",
         "rawType": "float64",
         "type": "float"
        },
        {
         "name": "1854",
         "rawType": "float64",
         "type": "float"
        },
        {
         "name": "1855",
         "rawType": "float64",
         "type": "float"
        },
        {
         "name": "1856",
         "rawType": "float64",
         "type": "float"
        },
        {
         "name": "1857",
         "rawType": "float64",
         "type": "float"
        },
        {
         "name": "1858",
         "rawType": "float64",
         "type": "float"
        },
        {
         "name": "1859",
         "rawType": "float64",
         "type": "float"
        },
        {
         "name": "1860",
         "rawType": "float64",
         "type": "float"
        },
        {
         "name": "1861",
         "rawType": "float64",
         "type": "float"
        },
        {
         "name": "1862",
         "rawType": "float64",
         "type": "float"
        },
        {
         "name": "1863",
         "rawType": "float64",
         "type": "float"
        },
        {
         "name": "1864",
         "rawType": "float64",
         "type": "float"
        },
        {
         "name": "1865",
         "rawType": "float64",
         "type": "float"
        },
        {
         "name": "1866",
         "rawType": "float64",
         "type": "float"
        },
        {
         "name": "1867",
         "rawType": "float64",
         "type": "float"
        },
        {
         "name": "1868",
         "rawType": "float64",
         "type": "float"
        },
        {
         "name": "1869",
         "rawType": "float64",
         "type": "float"
        },
        {
         "name": "1870",
         "rawType": "float64",
         "type": "float"
        },
        {
         "name": "1871",
         "rawType": "float64",
         "type": "float"
        },
        {
         "name": "1872",
         "rawType": "float64",
         "type": "float"
        },
        {
         "name": "1873",
         "rawType": "float64",
         "type": "float"
        },
        {
         "name": "1874",
         "rawType": "float64",
         "type": "float"
        },
        {
         "name": "1875",
         "rawType": "float64",
         "type": "float"
        },
        {
         "name": "1876",
         "rawType": "float64",
         "type": "float"
        },
        {
         "name": "1877",
         "rawType": "float64",
         "type": "float"
        },
        {
         "name": "1878",
         "rawType": "float64",
         "type": "float"
        },
        {
         "name": "1879",
         "rawType": "float64",
         "type": "float"
        },
        {
         "name": "1880",
         "rawType": "float64",
         "type": "float"
        },
        {
         "name": "1881",
         "rawType": "float64",
         "type": "float"
        },
        {
         "name": "1882",
         "rawType": "float64",
         "type": "float"
        },
        {
         "name": "1883",
         "rawType": "float64",
         "type": "float"
        },
        {
         "name": "1884",
         "rawType": "float64",
         "type": "float"
        },
        {
         "name": "1885",
         "rawType": "float64",
         "type": "float"
        },
        {
         "name": "1886",
         "rawType": "float64",
         "type": "float"
        },
        {
         "name": "1887",
         "rawType": "float64",
         "type": "float"
        },
        {
         "name": "1888",
         "rawType": "float64",
         "type": "float"
        },
        {
         "name": "1889",
         "rawType": "float64",
         "type": "float"
        },
        {
         "name": "1890",
         "rawType": "float64",
         "type": "float"
        },
        {
         "name": "1891",
         "rawType": "float64",
         "type": "float"
        },
        {
         "name": "1892",
         "rawType": "float64",
         "type": "float"
        },
        {
         "name": "1893",
         "rawType": "float64",
         "type": "float"
        },
        {
         "name": "1894",
         "rawType": "float64",
         "type": "float"
        },
        {
         "name": "1895",
         "rawType": "float64",
         "type": "float"
        },
        {
         "name": "1896",
         "rawType": "float64",
         "type": "float"
        },
        {
         "name": "1897",
         "rawType": "float64",
         "type": "float"
        },
        {
         "name": "1898",
         "rawType": "float64",
         "type": "float"
        },
        {
         "name": "1899",
         "rawType": "float64",
         "type": "float"
        },
        {
         "name": "1900",
         "rawType": "float64",
         "type": "float"
        },
        {
         "name": "1901",
         "rawType": "float64",
         "type": "float"
        },
        {
         "name": "1902",
         "rawType": "float64",
         "type": "float"
        },
        {
         "name": "1903",
         "rawType": "float64",
         "type": "float"
        },
        {
         "name": "1904",
         "rawType": "float64",
         "type": "float"
        },
        {
         "name": "1905",
         "rawType": "float64",
         "type": "float"
        },
        {
         "name": "1906",
         "rawType": "float64",
         "type": "float"
        },
        {
         "name": "1907",
         "rawType": "float64",
         "type": "float"
        },
        {
         "name": "1908",
         "rawType": "float64",
         "type": "float"
        },
        {
         "name": "1909",
         "rawType": "float64",
         "type": "float"
        },
        {
         "name": "1910",
         "rawType": "float64",
         "type": "float"
        },
        {
         "name": "1911",
         "rawType": "float64",
         "type": "float"
        },
        {
         "name": "1912",
         "rawType": "float64",
         "type": "float"
        },
        {
         "name": "1913",
         "rawType": "float64",
         "type": "float"
        },
        {
         "name": "1914",
         "rawType": "float64",
         "type": "float"
        },
        {
         "name": "1915",
         "rawType": "float64",
         "type": "float"
        },
        {
         "name": "1916",
         "rawType": "float64",
         "type": "float"
        },
        {
         "name": "1917",
         "rawType": "float64",
         "type": "float"
        },
        {
         "name": "1918",
         "rawType": "float64",
         "type": "float"
        },
        {
         "name": "1919",
         "rawType": "float64",
         "type": "float"
        },
        {
         "name": "1920",
         "rawType": "float64",
         "type": "float"
        },
        {
         "name": "1921",
         "rawType": "float64",
         "type": "float"
        },
        {
         "name": "1922",
         "rawType": "float64",
         "type": "float"
        },
        {
         "name": "1923",
         "rawType": "float64",
         "type": "float"
        },
        {
         "name": "1924",
         "rawType": "float64",
         "type": "float"
        },
        {
         "name": "1925",
         "rawType": "float64",
         "type": "float"
        },
        {
         "name": "1926",
         "rawType": "float64",
         "type": "float"
        },
        {
         "name": "1927",
         "rawType": "float64",
         "type": "float"
        },
        {
         "name": "1928",
         "rawType": "float64",
         "type": "float"
        },
        {
         "name": "1929",
         "rawType": "float64",
         "type": "float"
        },
        {
         "name": "1930",
         "rawType": "float64",
         "type": "float"
        },
        {
         "name": "1931",
         "rawType": "float64",
         "type": "float"
        },
        {
         "name": "1932",
         "rawType": "float64",
         "type": "float"
        },
        {
         "name": "1933",
         "rawType": "float64",
         "type": "float"
        },
        {
         "name": "1934",
         "rawType": "float64",
         "type": "float"
        },
        {
         "name": "1935",
         "rawType": "float64",
         "type": "float"
        },
        {
         "name": "1936",
         "rawType": "float64",
         "type": "float"
        },
        {
         "name": "1937",
         "rawType": "float64",
         "type": "float"
        },
        {
         "name": "1938",
         "rawType": "float64",
         "type": "float"
        },
        {
         "name": "1939",
         "rawType": "float64",
         "type": "float"
        },
        {
         "name": "1940",
         "rawType": "float64",
         "type": "float"
        },
        {
         "name": "1941",
         "rawType": "float64",
         "type": "float"
        },
        {
         "name": "1942",
         "rawType": "float64",
         "type": "float"
        },
        {
         "name": "1943",
         "rawType": "float64",
         "type": "float"
        },
        {
         "name": "1944",
         "rawType": "float64",
         "type": "float"
        },
        {
         "name": "1945",
         "rawType": "float64",
         "type": "float"
        },
        {
         "name": "1946",
         "rawType": "float64",
         "type": "float"
        },
        {
         "name": "1947",
         "rawType": "float64",
         "type": "float"
        },
        {
         "name": "1948",
         "rawType": "float64",
         "type": "float"
        },
        {
         "name": "1949",
         "rawType": "float64",
         "type": "float"
        },
        {
         "name": "1950",
         "rawType": "float64",
         "type": "float"
        },
        {
         "name": "1951",
         "rawType": "float64",
         "type": "float"
        },
        {
         "name": "1952",
         "rawType": "float64",
         "type": "float"
        },
        {
         "name": "1953",
         "rawType": "float64",
         "type": "float"
        },
        {
         "name": "1954",
         "rawType": "float64",
         "type": "float"
        },
        {
         "name": "1955",
         "rawType": "float64",
         "type": "float"
        },
        {
         "name": "1956",
         "rawType": "float64",
         "type": "float"
        },
        {
         "name": "1957",
         "rawType": "float64",
         "type": "float"
        },
        {
         "name": "1958",
         "rawType": "float64",
         "type": "float"
        },
        {
         "name": "1959",
         "rawType": "float64",
         "type": "float"
        },
        {
         "name": "1960",
         "rawType": "float64",
         "type": "float"
        },
        {
         "name": "1961",
         "rawType": "float64",
         "type": "float"
        },
        {
         "name": "1962",
         "rawType": "float64",
         "type": "float"
        },
        {
         "name": "1963",
         "rawType": "float64",
         "type": "float"
        },
        {
         "name": "1964",
         "rawType": "float64",
         "type": "float"
        },
        {
         "name": "1965",
         "rawType": "float64",
         "type": "float"
        },
        {
         "name": "1966",
         "rawType": "float64",
         "type": "float"
        },
        {
         "name": "1967",
         "rawType": "float64",
         "type": "float"
        },
        {
         "name": "1968",
         "rawType": "float64",
         "type": "float"
        },
        {
         "name": "1969",
         "rawType": "float64",
         "type": "float"
        },
        {
         "name": "1970",
         "rawType": "float64",
         "type": "float"
        },
        {
         "name": "1971",
         "rawType": "float64",
         "type": "float"
        },
        {
         "name": "1972",
         "rawType": "float64",
         "type": "float"
        },
        {
         "name": "1973",
         "rawType": "float64",
         "type": "float"
        },
        {
         "name": "1974",
         "rawType": "float64",
         "type": "float"
        },
        {
         "name": "1975",
         "rawType": "float64",
         "type": "float"
        },
        {
         "name": "1976",
         "rawType": "float64",
         "type": "float"
        },
        {
         "name": "1977",
         "rawType": "float64",
         "type": "float"
        },
        {
         "name": "1978",
         "rawType": "float64",
         "type": "float"
        },
        {
         "name": "1979",
         "rawType": "float64",
         "type": "float"
        },
        {
         "name": "1980",
         "rawType": "float64",
         "type": "float"
        },
        {
         "name": "1981",
         "rawType": "float64",
         "type": "float"
        },
        {
         "name": "1982",
         "rawType": "float64",
         "type": "float"
        },
        {
         "name": "1983",
         "rawType": "float64",
         "type": "float"
        },
        {
         "name": "1984",
         "rawType": "float64",
         "type": "float"
        },
        {
         "name": "1985",
         "rawType": "float64",
         "type": "float"
        },
        {
         "name": "1986",
         "rawType": "float64",
         "type": "float"
        },
        {
         "name": "1987",
         "rawType": "float64",
         "type": "float"
        },
        {
         "name": "1988",
         "rawType": "float64",
         "type": "float"
        },
        {
         "name": "1989",
         "rawType": "float64",
         "type": "float"
        },
        {
         "name": "1990",
         "rawType": "float64",
         "type": "float"
        },
        {
         "name": "1991",
         "rawType": "float64",
         "type": "float"
        },
        {
         "name": "1992",
         "rawType": "float64",
         "type": "float"
        },
        {
         "name": "1993",
         "rawType": "float64",
         "type": "float"
        },
        {
         "name": "1994",
         "rawType": "float64",
         "type": "float"
        },
        {
         "name": "1995",
         "rawType": "float64",
         "type": "float"
        },
        {
         "name": "1996",
         "rawType": "float64",
         "type": "float"
        },
        {
         "name": "1997",
         "rawType": "float64",
         "type": "float"
        },
        {
         "name": "1998",
         "rawType": "float64",
         "type": "float"
        },
        {
         "name": "1999",
         "rawType": "float64",
         "type": "float"
        },
        {
         "name": "2000",
         "rawType": "float64",
         "type": "float"
        },
        {
         "name": "2001",
         "rawType": "float64",
         "type": "float"
        },
        {
         "name": "2002",
         "rawType": "float64",
         "type": "float"
        },
        {
         "name": "2003",
         "rawType": "float64",
         "type": "float"
        },
        {
         "name": "2004",
         "rawType": "float64",
         "type": "float"
        },
        {
         "name": "2005",
         "rawType": "float64",
         "type": "float"
        },
        {
         "name": "2006",
         "rawType": "float64",
         "type": "float"
        },
        {
         "name": "2007",
         "rawType": "float64",
         "type": "float"
        },
        {
         "name": "2008",
         "rawType": "float64",
         "type": "float"
        },
        {
         "name": "2009",
         "rawType": "float64",
         "type": "float"
        },
        {
         "name": "2010",
         "rawType": "float64",
         "type": "float"
        },
        {
         "name": "2011",
         "rawType": "float64",
         "type": "float"
        },
        {
         "name": "2012",
         "rawType": "float64",
         "type": "float"
        },
        {
         "name": "2013",
         "rawType": "float64",
         "type": "float"
        },
        {
         "name": "2014",
         "rawType": "float64",
         "type": "float"
        },
        {
         "name": "2015",
         "rawType": "float64",
         "type": "float"
        },
        {
         "name": "2016",
         "rawType": "float64",
         "type": "float"
        },
        {
         "name": "2017",
         "rawType": "float64",
         "type": "float"
        },
        {
         "name": "2018",
         "rawType": "float64",
         "type": "float"
        },
        {
         "name": "2019",
         "rawType": "float64",
         "type": "float"
        },
        {
         "name": "2020",
         "rawType": "float64",
         "type": "float"
        },
        {
         "name": "2021",
         "rawType": "float64",
         "type": "float"
        },
        {
         "name": "2022",
         "rawType": "float64",
         "type": "float"
        },
        {
         "name": "2023",
         "rawType": "float64",
         "type": "float"
        },
        {
         "name": "2024",
         "rawType": "float64",
         "type": "float"
        },
        {
         "name": "2025",
         "rawType": "float64",
         "type": "float"
        },
        {
         "name": "2026",
         "rawType": "float64",
         "type": "float"
        },
        {
         "name": "2027",
         "rawType": "float64",
         "type": "float"
        },
        {
         "name": "2028",
         "rawType": "float64",
         "type": "float"
        },
        {
         "name": "2029",
         "rawType": "float64",
         "type": "float"
        },
        {
         "name": "2030",
         "rawType": "float64",
         "type": "float"
        },
        {
         "name": "2031",
         "rawType": "float64",
         "type": "float"
        },
        {
         "name": "2032",
         "rawType": "float64",
         "type": "float"
        },
        {
         "name": "2033",
         "rawType": "float64",
         "type": "float"
        },
        {
         "name": "2034",
         "rawType": "float64",
         "type": "float"
        },
        {
         "name": "2035",
         "rawType": "float64",
         "type": "float"
        },
        {
         "name": "2036",
         "rawType": "float64",
         "type": "float"
        },
        {
         "name": "2037",
         "rawType": "float64",
         "type": "float"
        },
        {
         "name": "2038",
         "rawType": "float64",
         "type": "float"
        },
        {
         "name": "2039",
         "rawType": "float64",
         "type": "float"
        },
        {
         "name": "2040",
         "rawType": "float64",
         "type": "float"
        },
        {
         "name": "2041",
         "rawType": "float64",
         "type": "float"
        },
        {
         "name": "2042",
         "rawType": "float64",
         "type": "float"
        },
        {
         "name": "2043",
         "rawType": "float64",
         "type": "float"
        },
        {
         "name": "2044",
         "rawType": "float64",
         "type": "float"
        },
        {
         "name": "2045",
         "rawType": "float64",
         "type": "float"
        },
        {
         "name": "2046",
         "rawType": "float64",
         "type": "float"
        },
        {
         "name": "2047",
         "rawType": "float64",
         "type": "float"
        },
        {
         "name": "2048",
         "rawType": "float64",
         "type": "float"
        },
        {
         "name": "2049",
         "rawType": "float64",
         "type": "float"
        },
        {
         "name": "2050",
         "rawType": "float64",
         "type": "float"
        },
        {
         "name": "2051",
         "rawType": "float64",
         "type": "float"
        },
        {
         "name": "2052",
         "rawType": "float64",
         "type": "float"
        },
        {
         "name": "2053",
         "rawType": "float64",
         "type": "float"
        },
        {
         "name": "2054",
         "rawType": "float64",
         "type": "float"
        },
        {
         "name": "2055",
         "rawType": "float64",
         "type": "float"
        },
        {
         "name": "2056",
         "rawType": "float64",
         "type": "float"
        },
        {
         "name": "2057",
         "rawType": "float64",
         "type": "float"
        },
        {
         "name": "2058",
         "rawType": "float64",
         "type": "float"
        },
        {
         "name": "2059",
         "rawType": "float64",
         "type": "float"
        },
        {
         "name": "2060",
         "rawType": "float64",
         "type": "float"
        },
        {
         "name": "2061",
         "rawType": "float64",
         "type": "float"
        },
        {
         "name": "2062",
         "rawType": "float64",
         "type": "float"
        },
        {
         "name": "2063",
         "rawType": "float64",
         "type": "float"
        },
        {
         "name": "2064",
         "rawType": "float64",
         "type": "float"
        },
        {
         "name": "2065",
         "rawType": "float64",
         "type": "float"
        },
        {
         "name": "2066",
         "rawType": "float64",
         "type": "float"
        },
        {
         "name": "2067",
         "rawType": "float64",
         "type": "float"
        },
        {
         "name": "2068",
         "rawType": "float64",
         "type": "float"
        },
        {
         "name": "2069",
         "rawType": "float64",
         "type": "float"
        },
        {
         "name": "2070",
         "rawType": "float64",
         "type": "float"
        },
        {
         "name": "2071",
         "rawType": "float64",
         "type": "float"
        },
        {
         "name": "2072",
         "rawType": "float64",
         "type": "float"
        },
        {
         "name": "2073",
         "rawType": "float64",
         "type": "float"
        },
        {
         "name": "2074",
         "rawType": "float64",
         "type": "float"
        },
        {
         "name": "2075",
         "rawType": "float64",
         "type": "float"
        },
        {
         "name": "2076",
         "rawType": "float64",
         "type": "float"
        },
        {
         "name": "2077",
         "rawType": "float64",
         "type": "float"
        },
        {
         "name": "2078",
         "rawType": "float64",
         "type": "float"
        },
        {
         "name": "2079",
         "rawType": "float64",
         "type": "float"
        },
        {
         "name": "2080",
         "rawType": "float64",
         "type": "float"
        },
        {
         "name": "2081",
         "rawType": "float64",
         "type": "float"
        },
        {
         "name": "2082",
         "rawType": "float64",
         "type": "float"
        },
        {
         "name": "2083",
         "rawType": "float64",
         "type": "float"
        },
        {
         "name": "2084",
         "rawType": "float64",
         "type": "float"
        },
        {
         "name": "2085",
         "rawType": "float64",
         "type": "float"
        },
        {
         "name": "2086",
         "rawType": "float64",
         "type": "float"
        },
        {
         "name": "2087",
         "rawType": "float64",
         "type": "float"
        },
        {
         "name": "2088",
         "rawType": "float64",
         "type": "float"
        },
        {
         "name": "2089",
         "rawType": "float64",
         "type": "float"
        },
        {
         "name": "2090",
         "rawType": "float64",
         "type": "float"
        },
        {
         "name": "2091",
         "rawType": "float64",
         "type": "float"
        },
        {
         "name": "2092",
         "rawType": "float64",
         "type": "float"
        },
        {
         "name": "2093",
         "rawType": "float64",
         "type": "float"
        },
        {
         "name": "2094",
         "rawType": "float64",
         "type": "float"
        },
        {
         "name": "2095",
         "rawType": "float64",
         "type": "float"
        },
        {
         "name": "2096",
         "rawType": "float64",
         "type": "float"
        },
        {
         "name": "2097",
         "rawType": "float64",
         "type": "float"
        },
        {
         "name": "2098",
         "rawType": "float64",
         "type": "float"
        },
        {
         "name": "2099",
         "rawType": "float64",
         "type": "float"
        },
        {
         "name": "2100",
         "rawType": "float64",
         "type": "float"
        }
       ],
       "ref": "967c7c70-e1c7-473b-9879-7a94d9337741",
       "rows": [
        [
         "0",
         "afg",
         "Afghanistan",
         "468.58",
         "468.58",
         "468.58",
         "468.58",
         "468.58",
         "468.58",
         "469.98",
         "469.98",
         "469.98",
         "469.98",
         "469.98",
         "469.98",
         "469.98",
         "469.98",
         "469.98",
         "469.98",
         "471.38",
         "471.38",
         "471.38",
         "471.38",
         "471.38",
         "471.38",
         "471.38",
         "471.38",
         "471.38",
         "471.38",
         "472.81",
         "472.81",
         "472.81",
         "472.81",
         "472.81",
         "472.81",
         "472.81",
         "472.81",
         "472.81",
         "472.81",
         "474.24",
         "474.24",
         "474.24",
         "474.24",
         "474.24",
         "474.24",
         "474.24",
         "474.24",
         "474.24",
         "475.67",
         "475.67",
         "475.67",
         "475.67",
         "475.67",
         "475.67",
         "475.67",
         "475.67",
         "475.67",
         "475.67",
         "477.1",
         "477.1",
         "477.1",
         "477.1",
         "477.1",
         "477.1",
         "477.1",
         "477.1",
         "477.1",
         "477.1",
         "478.53",
         "478.53",
         "478.53",
         "478.53",
         "478.53",
         "478.53",
         "478.53",
         "478.53",
         "478.53",
         "478.53",
         "479.96",
         "479.96",
         "479.96",
         "479.96",
         "479.96",
         "479.96",
         "479.96",
         "479.96",
         "479.96",
         "479.96",
         "481.39",
         "481.39",
         "481.39",
         "481.39",
         "481.39",
         "481.39",
         "481.39",
         "481.39",
         "481.39",
         "482.81",
         "482.77",
         "482.69",
         "482.57",
         "482.38",
         "482.11",
         "481.77",
         "481.36",
         "480.87",
         "480.3",
         "481.08",
         "480.36",
         "479.57",
         "478.69",
         "477.75",
         "476.74",
         "475.68",
         "474.58",
         "473.45",
         "472.32",
         "472.57",
         "471.43",
         "470.29",
         "469.15",
         "468.01",
         "466.87",
         "465.74",
         "464.6",
         "463.46",
         "462.32",
         "462.57",
         "461.43",
         "460.28",
         "459.14",
         "458.0",
         "456.85",
         "455.71",
         "453.79625",
         "452.00881",
         "451.32462",
         "449.41809",
         "447.50669",
         "445.60184",
         "443.70469",
         "441.80418",
         "439.91166",
         "438.0239",
         "436.13427",
         "435.02107",
         "433.66861",
         "431.78778",
         "429.91058",
         "428.03702",
         "426.16709",
         "424.30079",
         "422.43813",
         "418.06124",
         "414.97395",
         "408.55214",
         "402.06884",
         "396.53818",
         "389.01401",
         "382.60486",
         "375.90535",
         "369.62843",
         "363.43747",
         "357.30061",
         "351.65828",
         "345.83987",
         "340.15935",
         "334.84779",
         "329.42093",
         "323.93773",
         "318.36605",
         "312.82514",
         "307.24306",
         "301.85291",
         "296.3948",
         "290.73444",
         "285.17962",
         "279.50411",
         "273.85583",
         "268.08896",
         "262.15371",
         "258.39462",
         "255.74394",
         "250.17372",
         "244.49456",
         "246.50921",
         "241.87093",
         "255.95711",
         "253.48151",
         "228.6237",
         "224.17435",
         "206.07881",
         "198.36517",
         "192.06178",
         "186.40345",
         "177.5353",
         "161.8125",
         "155.2431",
         "150.9599",
         "145.9362",
         "142.7478",
         "140.9134",
         "134.0115",
         "129.8446",
         "125.9967",
         "122.2918",
         "116.5461",
         "112.3699",
         "108.6912",
         "104.5979",
         "99.8495",
         "95.6178",
         "92.9204",
         "89.2781",
         "85.2189",
         "81.6174",
         "78.2382",
         "76.2991",
         "73.9375",
         "70.645",
         "64.2807",
         "61.8685",
         "60.5028",
         "59.4398",
         "57.9324",
         "52.8455",
         "48.8691",
         "48.0293",
         "50.0623",
         "48.5998",
         "47.2273",
         "45.8572",
         "44.6268",
         "43.3479",
         "42.2492",
         "41.1732",
         "40.1536",
         "39.1177",
         "38.1847",
         "37.2223",
         "36.3137",
         "35.2938",
         "34.3509",
         "33.3881",
         "32.4997",
         "31.5762",
         "30.7205",
         "29.9164",
         "29.1571",
         "28.3454",
         "27.614",
         "26.9265",
         "26.2399",
         "25.5626",
         "24.9568",
         "24.3663",
         "23.7122",
         "23.1182",
         "22.5522",
         "22.0346",
         "21.4506",
         "20.9586",
         "20.4548",
         "20.0344",
         "19.5549",
         "19.1221",
         "18.6745",
         "18.219",
         "17.8351",
         "17.4117",
         "17.0263",
         "16.6649",
         "16.2132",
         "15.8686",
         "15.581",
         "15.2822",
         "14.9747",
         "14.7112",
         "14.4449",
         "14.1637",
         "13.8998",
         "13.6356",
         "13.3966",
         "13.1363",
         "12.8756",
         "12.6281",
         "12.3835",
         "12.1527",
         "11.9028",
         "11.661",
         "11.4162",
         "11.2341",
         "11.0447",
         "10.8567",
         "10.6577",
         "10.473",
         "10.2963",
         "10.1103",
         "9.9446",
         "9.7574",
         "9.576",
         "9.4139",
         "9.2223",
         "9.0653"
        ],
        [
         "1",
         "ago",
         "Angola",
         "485.68",
         "485.68",
         "485.68",
         "485.68",
         "485.68",
         "485.68",
         "485.68",
         "485.68",
         "485.68",
         "485.68",
         "485.68",
         "485.68",
         "485.68",
         "485.68",
         "485.68",
         "485.68",
         "485.68",
         "485.68",
         "485.68",
         "485.68",
         "485.68",
         "485.68",
         "485.68",
         "485.68",
         "485.68",
         "485.68",
         "485.68",
         "485.68",
         "485.68",
         "485.68",
         "485.68",
         "485.68",
         "485.68",
         "485.68",
         "485.68",
         "485.68",
         "485.68",
         "485.68",
         "485.68",
         "485.68",
         "485.68",
         "485.68",
         "485.68",
         "485.68",
         "485.68",
         "485.68",
         "485.68",
         "485.68",
         "485.68",
         "485.68",
         "485.68",
         "485.68",
         "485.68",
         "485.68",
         "485.68",
         "485.68",
         "485.68",
         "485.68",
         "485.68",
         "485.68",
         "485.68",
         "485.68",
         "485.68",
         "485.68",
         "485.68",
         "485.68",
         "485.68",
         "485.68",
         "485.68",
         "485.68",
         "485.68",
         "485.68",
         "485.68",
         "485.68",
         "485.68",
         "485.68",
         "485.68",
         "485.68",
         "485.68",
         "485.68",
         "485.68",
         "485.68",
         "485.68",
         "485.68",
         "485.68",
         "485.68",
         "485.68",
         "485.68",
         "485.68",
         "485.68",
         "485.68",
         "485.68",
         "485.68",
         "485.68",
         "485.67",
         "485.63",
         "485.55",
         "485.43",
         "485.24",
         "484.97",
         "484.63",
         "484.21",
         "483.72",
         "483.15",
         "482.5",
         "481.78",
         "480.98",
         "480.11",
         "479.16",
         "478.15",
         "477.08",
         "475.98",
         "474.85",
         "473.71",
         "472.57",
         "471.43",
         "470.29",
         "469.15",
         "468.01",
         "466.87",
         "465.74",
         "464.6",
         "463.46",
         "462.32",
         "461.18",
         "460.04",
         "458.9",
         "457.76",
         "456.62",
         "455.48",
         "454.34",
         "449.1675",
         "444.01506",
         "438.88266",
         "433.77032",
         "428.67803",
         "423.60578",
         "418.55359",
         "413.52145",
         "408.50936",
         "402.44597",
         "395.02289",
         "387.68031",
         "379.72096",
         "372.11234",
         "365.06514",
         "358.10002",
         "350.33911",
         "343.35171",
         "336.67872",
         "330.08336",
         "329.13965",
         "327.28976",
         "325.28898",
         "323.16643",
         "320.79735",
         "318.36432",
         "315.76249",
         "312.99206",
         "310.01173",
         "306.84716",
         "303.53368",
         "300.07388",
         "296.43993",
         "292.66143",
         "288.77393",
         "284.78743",
         "280.863",
         "276.82521",
         "272.77752",
         "268.74903",
         "264.74005",
         "260.68286",
         "256.82169",
         "253.06933",
         "252.70955",
         "250.85619",
         "247.57242",
         "244.44943",
         "241.57682",
         "238.93875",
         "236.0795",
         "233.47865",
         "230.80125",
         "228.48293",
         "226.62649",
         "225.4729",
         "224.72025",
         "223.98886",
         "223.71523",
         "223.50458",
         "223.49578",
         "223.59591",
         "223.65105",
         "223.32357",
         "222.36928",
         "220.85526",
         "218.17664",
         "214.63055",
         "210.33408",
         "205.13586",
         "198.89958",
         "191.93564",
         "184.16428",
         "175.45228",
         "166.19028",
         "156.77907",
         "147.09866",
         "137.53609",
         "128.49972",
         "119.97302",
         "112.21589",
         "104.87527",
         "98.30584",
         "92.91186",
         "88.33902",
         "84.44892",
         "81.07953",
         "77.96841",
         "75.03838",
         "72.0743",
         "69.42133",
         "69.2605",
         "68.8143",
         "67.6013",
         "66.4215",
         "65.3304",
         "64.2044",
         "63.1014",
         "61.9915",
         "60.8713",
         "59.8716",
         "58.8626",
         "57.8955",
         "56.9066",
         "55.9831",
         "55.019",
         "54.1702",
         "53.2377",
         "52.3823",
         "51.5054",
         "50.7122",
         "49.8991",
         "49.1133",
         "48.3203",
         "47.5485",
         "46.7768",
         "46.0144",
         "45.2913",
         "44.6528",
         "43.9604",
         "43.2883",
         "42.6777",
         "41.939",
         "41.179",
         "40.5127",
         "39.8456",
         "39.1512",
         "38.4994",
         "37.8372",
         "37.2158",
         "36.6414",
         "35.9426",
         "35.3315",
         "34.7473",
         "34.2236",
         "33.6988",
         "33.1433",
         "32.6054",
         "32.1291",
         "31.6033",
         "31.0507",
         "30.5723",
         "30.1204",
         "29.6446",
         "29.1386",
         "28.6722",
         "28.2846",
         "27.8502",
         "27.4385",
         "27.0247",
         "26.5755",
         "26.2337",
         "25.8257",
         "25.4536",
         "25.1081",
         "24.7464",
         "24.4304",
         "24.0866",
         "23.7543",
         "23.4064",
         "23.1019",
         "22.802",
         "22.5032",
         "22.145",
         "21.824",
         "21.5334",
         "21.2922",
         "21.0403",
         "20.8104",
         "20.5798"
        ],
        [
         "2",
         "alb",
         "Albania",
         null,
         null,
         null,
         null,
         null,
         null,
         null,
         null,
         null,
         null,
         null,
         null,
         null,
         null,
         null,
         null,
         null,
         null,
         null,
         null,
         null,
         null,
         null,
         null,
         null,
         null,
         null,
         null,
         null,
         null,
         null,
         null,
         null,
         null,
         null,
         null,
         null,
         null,
         null,
         null,
         null,
         null,
         null,
         null,
         null,
         null,
         null,
         null,
         null,
         null,
         null,
         null,
         null,
         null,
         null,
         null,
         null,
         null,
         null,
         null,
         null,
         null,
         null,
         null,
         null,
         null,
         null,
         null,
         null,
         null,
         null,
         null,
         null,
         null,
         null,
         null,
         null,
         null,
         null,
         null,
         null,
         null,
         null,
         null,
         null,
         null,
         null,
         null,
         null,
         null,
         null,
         null,
         null,
         null,
         null,
         null,
         null,
         null,
         null,
         null,
         null,
         null,
         null,
         null,
         null,
         null,
         null,
         null,
         null,
         null,
         null,
         null,
         null,
         null,
         null,
         null,
         null,
         null,
         "361.55",
         "360.67",
         null,
         null,
         null,
         null,
         null,
         null,
         null,
         null,
         null,
         null,
         null,
         null,
         null,
         null,
         null,
         null,
         null,
         null,
         null,
         null,
         null,
         null,
         null,
         null,
         null,
         null,
         null,
         null,
         null,
         null,
         null,
         "275.00722",
         "270.46487",
         "266.20905",
         "262.06718",
         "257.87843",
         "253.48235",
         "248.72136",
         "243.46649",
         "237.65016",
         "231.23158",
         "224.24622",
         "216.81126",
         "208.87194",
         "200.69129",
         "192.39584",
         "183.99499",
         "175.4464",
         "166.65012",
         "157.75512",
         "148.85028",
         "140.09658",
         "131.59775",
         "123.59854",
         "116.32129",
         "109.85947",
         "104.38159",
         "99.90935",
         "96.36329",
         "88.65217",
         "81.32209",
         "74.78631",
         "69.02882",
         "63.70266",
         "58.90623",
         "54.75107",
         "51.08977",
         "47.90324",
         "45.15566",
         "42.79809",
         "40.8317",
         "39.14334",
         "37.62865",
         "36.28957",
         "35.03067",
         "33.80211",
         "32.53267",
         "31.21587",
         "29.89448",
         "28.54994",
         "27.18106",
         "25.79952",
         "24.3801",
         "22.93067",
         "21.45987",
         "19.98226",
         "18.52108",
         "17.10299",
         "15.76326",
         "14.49259",
         "13.2883",
         "12.17189",
         "11.21396",
         "10.46339",
         "9.92159",
         "9.57714",
         "9.39968",
         "9.33671",
         "9.34391",
         "9.3881",
         "9.43611",
         "9.45592",
         "9.1572",
         "8.9346",
         "7.5714",
         "7.3157",
         "7.0498",
         "6.8107",
         "6.5735",
         "6.3451",
         "6.1265",
         "5.9264",
         "5.727",
         "5.543",
         "5.371",
         "5.2065",
         "5.0433",
         "4.8951",
         "4.7546",
         "4.6144",
         "4.5007",
         "4.3739",
         "4.2629",
         "4.1559",
         "4.0495",
         "3.9537",
         "3.8579",
         "3.7651",
         "3.6847",
         "3.6006",
         "3.52",
         "3.4468",
         "3.3708",
         "3.3044",
         "3.2333",
         "3.1671",
         "3.1032",
         "3.0414",
         "2.9828",
         "2.9278",
         "2.8729",
         "2.8176",
         "2.7628",
         "2.7175",
         "2.6757",
         "2.6291",
         "2.5871",
         "2.5482",
         "2.5053",
         "2.4684",
         "2.4296",
         "2.3951",
         "2.3565",
         "2.3219",
         "2.2896",
         "2.2526",
         "2.2194",
         "2.1875",
         "2.1513",
         "2.1212",
         "2.0897",
         "2.0566",
         "2.0288",
         "2.0041",
         "1.9785",
         "1.9509",
         "1.9259",
         "1.9012",
         "1.8742",
         "1.8514",
         "1.8286",
         "1.8035",
         "1.7809",
         "1.7565",
         "1.7306",
         "1.709",
         "1.6871",
         "1.6672",
         "1.6437",
         "1.6208",
         "1.6005"
        ],
        [
         "3",
         "and",
         "Andorra",
         null,
         null,
         null,
         null,
         null,
         null,
         null,
         null,
         null,
         null,
         null,
         null,
         null,
         null,
         null,
         null,
         null,
         null,
         null,
         null,
         null,
         null,
         null,
         null,
         null,
         null,
         null,
         null,
         null,
         null,
         null,
         null,
         null,
         null,
         null,
         null,
         null,
         null,
         null,
         null,
         null,
         null,
         null,
         null,
         null,
         null,
         null,
         null,
         null,
         null,
         null,
         null,
         null,
         null,
         null,
         null,
         null,
         null,
         null,
         null,
         null,
         null,
         null,
         null,
         null,
         null,
         null,
         null,
         null,
         null,
         null,
         null,
         null,
         null,
         null,
         null,
         null,
         null,
         null,
         null,
         null,
         null,
         null,
         null,
         null,
         null,
         null,
         null,
         null,
         null,
         null,
         null,
         null,
         null,
         null,
         null,
         null,
         null,
         null,
         null,
         null,
         null,
         null,
         null,
         null,
         null,
         null,
         null,
         null,
         null,
         null,
         null,
         null,
         null,
         null,
         null,
         null,
         null,
         null,
         null,
         null,
         null,
         null,
         null,
         null,
         null,
         null,
         null,
         null,
         null,
         null,
         null,
         null,
         null,
         null,
         null,
         null,
         null,
         null,
         null,
         null,
         null,
         null,
         null,
         null,
         null,
         null,
         null,
         null,
         null,
         "91.06684",
         "94.13014",
         "67.03984",
         "60.83194",
         "52.2034",
         "53.70587",
         "53.29466",
         "54.51361",
         "40.78992",
         "41.48493",
         "37.24348",
         "36.8407",
         "35.30218",
         "36.48537",
         "33.39203",
         "30.85812",
         "30.64993",
         "30.94447",
         "29.83593",
         "32.23984",
         "26.78121",
         "28.91913",
         "24.38505",
         "25.4313",
         "24.40504",
         "23.72838",
         "22.95002",
         "21.7448",
         "21.40701",
         "20.18249",
         "18.9687",
         "18.59896",
         "17.2564",
         "17.89715",
         "17.23695",
         "17.47098",
         "16.46584",
         "15.56816",
         "14.70672",
         "13.85574",
         "13.1167",
         "12.38869",
         "11.71516",
         "11.08374",
         "10.46869",
         "9.88388",
         "9.37149",
         "8.86085",
         "8.40164",
         "7.98466",
         "7.60716",
         "7.21906",
         "6.87348",
         "6.53984",
         "6.26372",
         "5.96382",
         "5.64977",
         "5.35033",
         "5.07723",
         "4.82261",
         "4.57704",
         "4.32971",
         "4.13369",
         "3.92246",
         "3.72669",
         "3.52538",
         "3.35093",
         "3.19536",
         "3.05914",
         "2.9504",
         "2.84827",
         "2.75636",
         "6.2146",
         "6.0286",
         "5.8618",
         "5.7043",
         "5.5463",
         "5.3941",
         "5.2481",
         "5.1039",
         "4.9724",
         "4.8454",
         "4.7212",
         "4.5929",
         "4.4753",
         "4.3536",
         "4.2459",
         "4.1301",
         "4.0221",
         "3.9199",
         "3.8183",
         "3.7204",
         "3.6229",
         "3.5296",
         "3.4363",
         "3.3499",
         "3.259",
         "3.1771",
         "3.0978",
         "3.0248",
         "2.9487",
         "2.8749",
         "2.8063",
         "2.741",
         "2.6743",
         "2.6095",
         "2.5504",
         "2.4914",
         "2.4352",
         "2.3826",
         "2.3266",
         "2.2711",
         "2.2194",
         "2.1707",
         "2.118",
         "2.0691",
         "2.0206",
         "1.9722",
         "1.9263",
         "1.8797",
         "1.8369",
         "1.7919",
         "1.7505",
         "1.7084",
         "1.6694",
         "1.6285",
         "1.5899",
         "1.5543",
         "1.5164",
         "1.4814",
         "1.444",
         "1.4109",
         "1.3733",
         "1.3411",
         "1.3077",
         "1.2762",
         "1.245",
         "1.2152",
         "1.1863",
         "1.1551",
         "1.1269",
         "1.0973",
         "1.0704",
         "1.047",
         "1.0227",
         "0.9977",
         "0.9737",
         "0.9492",
         "0.9264",
         "0.9049",
         "0.883"
        ],
        [
         "4",
         "are",
         "UAE",
         null,
         null,
         null,
         null,
         null,
         null,
         null,
         null,
         null,
         null,
         null,
         null,
         null,
         null,
         null,
         null,
         null,
         null,
         null,
         null,
         null,
         null,
         null,
         null,
         null,
         null,
         null,
         null,
         null,
         null,
         null,
         null,
         null,
         null,
         null,
         null,
         null,
         null,
         null,
         null,
         null,
         null,
         null,
         null,
         null,
         null,
         null,
         null,
         null,
         null,
         null,
         null,
         null,
         null,
         null,
         null,
         null,
         null,
         null,
         null,
         null,
         null,
         null,
         null,
         null,
         null,
         null,
         null,
         null,
         null,
         null,
         null,
         null,
         null,
         null,
         null,
         null,
         null,
         null,
         null,
         null,
         null,
         null,
         null,
         null,
         null,
         null,
         null,
         null,
         null,
         null,
         null,
         null,
         null,
         null,
         null,
         null,
         null,
         null,
         null,
         null,
         null,
         null,
         null,
         null,
         null,
         null,
         null,
         null,
         null,
         null,
         null,
         null,
         null,
         null,
         null,
         null,
         null,
         "418.66",
         "417.64",
         null,
         null,
         null,
         null,
         null,
         null,
         null,
         null,
         null,
         null,
         null,
         null,
         null,
         null,
         null,
         null,
         null,
         null,
         null,
         null,
         null,
         null,
         null,
         null,
         null,
         null,
         null,
         null,
         null,
         null,
         null,
         "267.61182",
         "262.04703",
         "256.38535",
         "250.22723",
         "243.74087",
         "236.75476",
         "229.10227",
         "220.69419",
         "211.58008",
         "201.6245",
         "191.13379",
         "181.07947",
         "170.76257",
         "160.3617",
         "149.66627",
         "138.89516",
         "128.14607",
         "117.58638",
         "107.51021",
         "97.8856",
         "88.81661",
         "80.39583",
         "72.75882",
         "65.92997",
         "59.56088",
         "53.81636",
         "48.46694",
         "43.57875",
         "39.20476",
         "35.34536",
         "32.00679",
         "29.10643",
         "26.6401",
         "24.56846",
         "22.73923",
         "21.2009",
         "19.81432",
         "18.60341",
         "17.51119",
         "16.54381",
         "15.68294",
         "14.92082",
         "14.2341",
         "13.62044",
         "13.08777",
         "12.61597",
         "12.19059",
         "11.81258",
         "11.46446",
         "11.1486",
         "10.86455",
         "10.58923",
         "10.32215",
         "10.06867",
         "9.82749",
         "9.61158",
         "9.39982",
         "9.17166",
         "8.91802",
         "8.65732",
         "8.40639",
         "8.1768",
         "7.96979",
         "7.78636",
         "7.60639",
         "7.4165",
         "7.21081",
         "7.00002",
         "6.7872",
         "6.57933",
         "6.37178",
         "6.2316",
         "5.9448",
         "5.7221",
         "5.5115",
         "5.3069",
         "5.1116",
         "4.9351",
         "4.7717",
         "4.6098",
         "4.4476",
         "4.303",
         "4.1543",
         "4.0186",
         "3.8855",
         "3.7586",
         "3.6336",
         "3.5123",
         "3.4041",
         "3.306",
         "3.2071",
         "3.1181",
         "3.0326",
         "2.9521",
         "2.8717",
         "2.7964",
         "2.7238",
         "2.6497",
         "2.5857",
         "2.5241",
         "2.4621",
         "2.402",
         "2.3398",
         "2.2855",
         "2.2326",
         "2.1826",
         "2.1362",
         "2.0932",
         "2.0493",
         "2.0075",
         "1.9667",
         "1.9269",
         "1.889",
         "1.8501",
         "1.813",
         "1.7808",
         "1.7434",
         "1.7121",
         "1.6767",
         "1.6421",
         "1.6117",
         "1.583",
         "1.5509",
         "1.5218",
         "1.4936",
         "1.463",
         "1.4355",
         "1.4102",
         "1.3847",
         "1.3619",
         "1.3389",
         "1.317",
         "1.2934",
         "1.2711",
         "1.2507",
         "1.2288",
         "1.2064",
         "1.1845",
         "1.166",
         "1.1474",
         "1.1265",
         "1.1064",
         "1.0879",
         "1.0685",
         "1.0476",
         "1.0305",
         "1.0133",
         "0.997",
         "0.9795",
         "0.9624"
        ]
       ],
       "shape": {
        "columns": 303,
        "rows": 5
       }
      },
      "text/html": [
       "<div>\n",
       "<style scoped>\n",
       "    .dataframe tbody tr th:only-of-type {\n",
       "        vertical-align: middle;\n",
       "    }\n",
       "\n",
       "    .dataframe tbody tr th {\n",
       "        vertical-align: top;\n",
       "    }\n",
       "\n",
       "    .dataframe thead th {\n",
       "        text-align: right;\n",
       "    }\n",
       "</style>\n",
       "<table border=\"1\" class=\"dataframe\">\n",
       "  <thead>\n",
       "    <tr style=\"text-align: right;\">\n",
       "      <th></th>\n",
       "      <th>geo</th>\n",
       "      <th>name</th>\n",
       "      <th>1800</th>\n",
       "      <th>1801</th>\n",
       "      <th>1802</th>\n",
       "      <th>1803</th>\n",
       "      <th>1804</th>\n",
       "      <th>1805</th>\n",
       "      <th>1806</th>\n",
       "      <th>1807</th>\n",
       "      <th>...</th>\n",
       "      <th>2091</th>\n",
       "      <th>2092</th>\n",
       "      <th>2093</th>\n",
       "      <th>2094</th>\n",
       "      <th>2095</th>\n",
       "      <th>2096</th>\n",
       "      <th>2097</th>\n",
       "      <th>2098</th>\n",
       "      <th>2099</th>\n",
       "      <th>2100</th>\n",
       "    </tr>\n",
       "  </thead>\n",
       "  <tbody>\n",
       "    <tr>\n",
       "      <th>0</th>\n",
       "      <td>afg</td>\n",
       "      <td>Afghanistan</td>\n",
       "      <td>468.58</td>\n",
       "      <td>468.58</td>\n",
       "      <td>468.58</td>\n",
       "      <td>468.58</td>\n",
       "      <td>468.58</td>\n",
       "      <td>468.58</td>\n",
       "      <td>469.98</td>\n",
       "      <td>469.98</td>\n",
       "      <td>...</td>\n",
       "      <td>10.6577</td>\n",
       "      <td>10.4730</td>\n",
       "      <td>10.2963</td>\n",
       "      <td>10.1103</td>\n",
       "      <td>9.9446</td>\n",
       "      <td>9.7574</td>\n",
       "      <td>9.5760</td>\n",
       "      <td>9.4139</td>\n",
       "      <td>9.2223</td>\n",
       "      <td>9.0653</td>\n",
       "    </tr>\n",
       "    <tr>\n",
       "      <th>1</th>\n",
       "      <td>ago</td>\n",
       "      <td>Angola</td>\n",
       "      <td>485.68</td>\n",
       "      <td>485.68</td>\n",
       "      <td>485.68</td>\n",
       "      <td>485.68</td>\n",
       "      <td>485.68</td>\n",
       "      <td>485.68</td>\n",
       "      <td>485.68</td>\n",
       "      <td>485.68</td>\n",
       "      <td>...</td>\n",
       "      <td>23.1019</td>\n",
       "      <td>22.8020</td>\n",
       "      <td>22.5032</td>\n",
       "      <td>22.1450</td>\n",
       "      <td>21.8240</td>\n",
       "      <td>21.5334</td>\n",
       "      <td>21.2922</td>\n",
       "      <td>21.0403</td>\n",
       "      <td>20.8104</td>\n",
       "      <td>20.5798</td>\n",
       "    </tr>\n",
       "    <tr>\n",
       "      <th>2</th>\n",
       "      <td>alb</td>\n",
       "      <td>Albania</td>\n",
       "      <td>NaN</td>\n",
       "      <td>NaN</td>\n",
       "      <td>NaN</td>\n",
       "      <td>NaN</td>\n",
       "      <td>NaN</td>\n",
       "      <td>NaN</td>\n",
       "      <td>NaN</td>\n",
       "      <td>NaN</td>\n",
       "      <td>...</td>\n",
       "      <td>1.8035</td>\n",
       "      <td>1.7809</td>\n",
       "      <td>1.7565</td>\n",
       "      <td>1.7306</td>\n",
       "      <td>1.7090</td>\n",
       "      <td>1.6871</td>\n",
       "      <td>1.6672</td>\n",
       "      <td>1.6437</td>\n",
       "      <td>1.6208</td>\n",
       "      <td>1.6005</td>\n",
       "    </tr>\n",
       "    <tr>\n",
       "      <th>3</th>\n",
       "      <td>and</td>\n",
       "      <td>Andorra</td>\n",
       "      <td>NaN</td>\n",
       "      <td>NaN</td>\n",
       "      <td>NaN</td>\n",
       "      <td>NaN</td>\n",
       "      <td>NaN</td>\n",
       "      <td>NaN</td>\n",
       "      <td>NaN</td>\n",
       "      <td>NaN</td>\n",
       "      <td>...</td>\n",
       "      <td>1.0973</td>\n",
       "      <td>1.0704</td>\n",
       "      <td>1.0470</td>\n",
       "      <td>1.0227</td>\n",
       "      <td>0.9977</td>\n",
       "      <td>0.9737</td>\n",
       "      <td>0.9492</td>\n",
       "      <td>0.9264</td>\n",
       "      <td>0.9049</td>\n",
       "      <td>0.8830</td>\n",
       "    </tr>\n",
       "    <tr>\n",
       "      <th>4</th>\n",
       "      <td>are</td>\n",
       "      <td>UAE</td>\n",
       "      <td>NaN</td>\n",
       "      <td>NaN</td>\n",
       "      <td>NaN</td>\n",
       "      <td>NaN</td>\n",
       "      <td>NaN</td>\n",
       "      <td>NaN</td>\n",
       "      <td>NaN</td>\n",
       "      <td>NaN</td>\n",
       "      <td>...</td>\n",
       "      <td>1.1265</td>\n",
       "      <td>1.1064</td>\n",
       "      <td>1.0879</td>\n",
       "      <td>1.0685</td>\n",
       "      <td>1.0476</td>\n",
       "      <td>1.0305</td>\n",
       "      <td>1.0133</td>\n",
       "      <td>0.9970</td>\n",
       "      <td>0.9795</td>\n",
       "      <td>0.9624</td>\n",
       "    </tr>\n",
       "  </tbody>\n",
       "</table>\n",
       "<p>5 rows × 303 columns</p>\n",
       "</div>"
      ],
      "text/plain": [
       "   geo         name    1800    1801    1802    1803    1804    1805    1806  \\\n",
       "0  afg  Afghanistan  468.58  468.58  468.58  468.58  468.58  468.58  469.98   \n",
       "1  ago       Angola  485.68  485.68  485.68  485.68  485.68  485.68  485.68   \n",
       "2  alb      Albania     NaN     NaN     NaN     NaN     NaN     NaN     NaN   \n",
       "3  and      Andorra     NaN     NaN     NaN     NaN     NaN     NaN     NaN   \n",
       "4  are          UAE     NaN     NaN     NaN     NaN     NaN     NaN     NaN   \n",
       "\n",
       "     1807  ...     2091     2092     2093     2094     2095     2096     2097  \\\n",
       "0  469.98  ...  10.6577  10.4730  10.2963  10.1103   9.9446   9.7574   9.5760   \n",
       "1  485.68  ...  23.1019  22.8020  22.5032  22.1450  21.8240  21.5334  21.2922   \n",
       "2     NaN  ...   1.8035   1.7809   1.7565   1.7306   1.7090   1.6871   1.6672   \n",
       "3     NaN  ...   1.0973   1.0704   1.0470   1.0227   0.9977   0.9737   0.9492   \n",
       "4     NaN  ...   1.1265   1.1064   1.0879   1.0685   1.0476   1.0305   1.0133   \n",
       "\n",
       "      2098     2099     2100  \n",
       "0   9.4139   9.2223   9.0653  \n",
       "1  21.0403  20.8104  20.5798  \n",
       "2   1.6437   1.6208   1.6005  \n",
       "3   0.9264   0.9049   0.8830  \n",
       "4   0.9970   0.9795   0.9624  \n",
       "\n",
       "[5 rows x 303 columns]"
      ]
     },
     "execution_count": 18,
     "metadata": {},
     "output_type": "execute_result"
    }
   ],
   "source": [
    "#Adicionando a base de mortalidade infantil\n",
    "base_mortalidade_infantil = importa_csv(dataframe_name='../../avaliacao-python-ciencia-dados/Bases/child_mortality_0_5_year_olds_dying_per_1000_born.csv', separador=',', encoding='utf-8')\n",
    "base_mortalidade_infantil.head()"
   ]
  },
  {
   "cell_type": "code",
   "execution_count": 19,
   "id": "ecfb466c",
   "metadata": {},
   "outputs": [
    {
     "name": "stdout",
     "output_type": "stream",
     "text": [
      "Removendo dados duplicados ...\n",
      "Foram encontrados 0 registros duplicados\n",
      "\n",
      "Prévia dos dados duplicados:\n",
      "Dados duplicados removidos com sucesso! \n",
      "Dimensão: (51880, 3)\n"
     ]
    },
    {
     "data": {
      "application/vnd.microsoft.datawrangler.viewer.v0+json": {
       "columns": [
        {
         "name": "index",
         "rawType": "int64",
         "type": "integer"
        },
        {
         "name": "country",
         "rawType": "object",
         "type": "string"
        },
        {
         "name": "year",
         "rawType": "int64",
         "type": "integer"
        },
        {
         "name": "childMortalityPer1000Born",
         "rawType": "float64",
         "type": "float"
        }
       ],
       "ref": "7729a642-3c46-43d7-a2e7-e85651713f05",
       "rows": [
        [
         "0",
         "Afghanistan",
         "1800",
         "468.58"
        ],
        [
         "1",
         "Afghanistan",
         "1801",
         "468.58"
        ],
        [
         "2",
         "Afghanistan",
         "1802",
         "468.58"
        ],
        [
         "3",
         "Afghanistan",
         "1803",
         "468.58"
        ],
        [
         "4",
         "Afghanistan",
         "1804",
         "468.58"
        ]
       ],
       "shape": {
        "columns": 3,
        "rows": 5
       }
      },
      "text/html": [
       "<div>\n",
       "<style scoped>\n",
       "    .dataframe tbody tr th:only-of-type {\n",
       "        vertical-align: middle;\n",
       "    }\n",
       "\n",
       "    .dataframe tbody tr th {\n",
       "        vertical-align: top;\n",
       "    }\n",
       "\n",
       "    .dataframe thead th {\n",
       "        text-align: right;\n",
       "    }\n",
       "</style>\n",
       "<table border=\"1\" class=\"dataframe\">\n",
       "  <thead>\n",
       "    <tr style=\"text-align: right;\">\n",
       "      <th></th>\n",
       "      <th>country</th>\n",
       "      <th>year</th>\n",
       "      <th>childMortalityPer1000Born</th>\n",
       "    </tr>\n",
       "  </thead>\n",
       "  <tbody>\n",
       "    <tr>\n",
       "      <th>0</th>\n",
       "      <td>Afghanistan</td>\n",
       "      <td>1800</td>\n",
       "      <td>468.58</td>\n",
       "    </tr>\n",
       "    <tr>\n",
       "      <th>1</th>\n",
       "      <td>Afghanistan</td>\n",
       "      <td>1801</td>\n",
       "      <td>468.58</td>\n",
       "    </tr>\n",
       "    <tr>\n",
       "      <th>2</th>\n",
       "      <td>Afghanistan</td>\n",
       "      <td>1802</td>\n",
       "      <td>468.58</td>\n",
       "    </tr>\n",
       "    <tr>\n",
       "      <th>3</th>\n",
       "      <td>Afghanistan</td>\n",
       "      <td>1803</td>\n",
       "      <td>468.58</td>\n",
       "    </tr>\n",
       "    <tr>\n",
       "      <th>4</th>\n",
       "      <td>Afghanistan</td>\n",
       "      <td>1804</td>\n",
       "      <td>468.58</td>\n",
       "    </tr>\n",
       "  </tbody>\n",
       "</table>\n",
       "</div>"
      ],
      "text/plain": [
       "       country  year  childMortalityPer1000Born\n",
       "0  Afghanistan  1800                     468.58\n",
       "1  Afghanistan  1801                     468.58\n",
       "2  Afghanistan  1802                     468.58\n",
       "3  Afghanistan  1803                     468.58\n",
       "4  Afghanistan  1804                     468.58"
      ]
     },
     "execution_count": 19,
     "metadata": {},
     "output_type": "execute_result"
    }
   ],
   "source": [
    "base_mortalidade_infantil = transpoe_e_trata_dataframe(base_mortalidade_infantil, nome_coluna_resultado='childMortalityPer1000Born')\n",
    "base_mortalidade_infantil.head()"
   ]
  },
  {
   "cell_type": "code",
   "execution_count": 20,
   "id": "51a52e5b",
   "metadata": {},
   "outputs": [
    {
     "name": "stdout",
     "output_type": "stream",
     "text": [
      "Dataframes unidos com sucesso! \n",
      "Dimensão: (1704, 14)\n"
     ]
    },
    {
     "data": {
      "application/vnd.microsoft.datawrangler.viewer.v0+json": {
       "columns": [
        {
         "name": "index",
         "rawType": "int64",
         "type": "integer"
        },
        {
         "name": "country",
         "rawType": "object",
         "type": "string"
        },
        {
         "name": "year",
         "rawType": "int64",
         "type": "integer"
        },
        {
         "name": "pop",
         "rawType": "object",
         "type": "string"
        },
        {
         "name": "continent",
         "rawType": "object",
         "type": "string"
        },
        {
         "name": "lifeExp",
         "rawType": "float64",
         "type": "float"
        },
        {
         "name": "gdpPercap",
         "rawType": "float64",
         "type": "float"
        },
        {
         "name": "oneSidedViolence",
         "rawType": "float64",
         "type": "float"
        },
        {
         "name": "nonStateConflict",
         "rawType": "float64",
         "type": "float"
        },
        {
         "name": "extrasystemic",
         "rawType": "float64",
         "type": "float"
        },
        {
         "name": "intrastate",
         "rawType": "float64",
         "type": "float"
        },
        {
         "name": "interstate",
         "rawType": "float64",
         "type": "float"
        },
        {
         "name": "gdpPerCaptaInflactionAdjusted",
         "rawType": "float64",
         "type": "float"
        },
        {
         "name": "extremePovertyRate",
         "rawType": "float64",
         "type": "float"
        },
        {
         "name": "childMortalityPer1000Born",
         "rawType": "float64",
         "type": "float"
        }
       ],
       "ref": "d97d0b13-b763-4a3a-a83d-a8681fdd68f2",
       "rows": [
        [
         "0",
         "Afghanistan",
         "1952",
         "8.425.333",
         "Asia",
         "28.8",
         "779.45",
         null,
         null,
         null,
         null,
         null,
         "1540.11",
         "43.7",
         "408.55"
        ],
        [
         "1",
         "Afghanistan",
         "1957",
         "9.240.934",
         "Asia",
         "30.3",
         "820.85",
         null,
         null,
         null,
         null,
         null,
         "1708.81",
         "37.13",
         "375.91"
        ],
        [
         "2",
         "Afghanistan",
         "1962",
         "10.267.083",
         "Asia",
         "32.0",
         "853.1",
         null,
         null,
         null,
         null,
         null,
         "1869.5",
         "30.54",
         "345.84"
        ],
        [
         "3",
         "Afghanistan",
         "1967",
         "11.537.966",
         "Asia",
         "34.0",
         "836.2",
         null,
         null,
         null,
         null,
         null,
         "1930.54",
         "33.47",
         "318.37"
        ],
        [
         "4",
         "Afghanistan",
         "1972",
         "13.079.460",
         "Asia",
         "36.1",
         "739.98",
         null,
         null,
         null,
         null,
         null,
         "1602.84",
         "43.66",
         "290.73"
        ]
       ],
       "shape": {
        "columns": 14,
        "rows": 5
       }
      },
      "text/html": [
       "<div>\n",
       "<style scoped>\n",
       "    .dataframe tbody tr th:only-of-type {\n",
       "        vertical-align: middle;\n",
       "    }\n",
       "\n",
       "    .dataframe tbody tr th {\n",
       "        vertical-align: top;\n",
       "    }\n",
       "\n",
       "    .dataframe thead th {\n",
       "        text-align: right;\n",
       "    }\n",
       "</style>\n",
       "<table border=\"1\" class=\"dataframe\">\n",
       "  <thead>\n",
       "    <tr style=\"text-align: right;\">\n",
       "      <th></th>\n",
       "      <th>country</th>\n",
       "      <th>year</th>\n",
       "      <th>pop</th>\n",
       "      <th>continent</th>\n",
       "      <th>lifeExp</th>\n",
       "      <th>gdpPercap</th>\n",
       "      <th>oneSidedViolence</th>\n",
       "      <th>nonStateConflict</th>\n",
       "      <th>extrasystemic</th>\n",
       "      <th>intrastate</th>\n",
       "      <th>interstate</th>\n",
       "      <th>gdpPerCaptaInflactionAdjusted</th>\n",
       "      <th>extremePovertyRate</th>\n",
       "      <th>childMortalityPer1000Born</th>\n",
       "    </tr>\n",
       "  </thead>\n",
       "  <tbody>\n",
       "    <tr>\n",
       "      <th>0</th>\n",
       "      <td>Afghanistan</td>\n",
       "      <td>1952</td>\n",
       "      <td>8.425.333</td>\n",
       "      <td>Asia</td>\n",
       "      <td>28.8</td>\n",
       "      <td>779.45</td>\n",
       "      <td>NaN</td>\n",
       "      <td>NaN</td>\n",
       "      <td>NaN</td>\n",
       "      <td>NaN</td>\n",
       "      <td>NaN</td>\n",
       "      <td>1540.11</td>\n",
       "      <td>43.70</td>\n",
       "      <td>408.55</td>\n",
       "    </tr>\n",
       "    <tr>\n",
       "      <th>1</th>\n",
       "      <td>Afghanistan</td>\n",
       "      <td>1957</td>\n",
       "      <td>9.240.934</td>\n",
       "      <td>Asia</td>\n",
       "      <td>30.3</td>\n",
       "      <td>820.85</td>\n",
       "      <td>NaN</td>\n",
       "      <td>NaN</td>\n",
       "      <td>NaN</td>\n",
       "      <td>NaN</td>\n",
       "      <td>NaN</td>\n",
       "      <td>1708.81</td>\n",
       "      <td>37.13</td>\n",
       "      <td>375.91</td>\n",
       "    </tr>\n",
       "    <tr>\n",
       "      <th>2</th>\n",
       "      <td>Afghanistan</td>\n",
       "      <td>1962</td>\n",
       "      <td>10.267.083</td>\n",
       "      <td>Asia</td>\n",
       "      <td>32.0</td>\n",
       "      <td>853.10</td>\n",
       "      <td>NaN</td>\n",
       "      <td>NaN</td>\n",
       "      <td>NaN</td>\n",
       "      <td>NaN</td>\n",
       "      <td>NaN</td>\n",
       "      <td>1869.50</td>\n",
       "      <td>30.54</td>\n",
       "      <td>345.84</td>\n",
       "    </tr>\n",
       "    <tr>\n",
       "      <th>3</th>\n",
       "      <td>Afghanistan</td>\n",
       "      <td>1967</td>\n",
       "      <td>11.537.966</td>\n",
       "      <td>Asia</td>\n",
       "      <td>34.0</td>\n",
       "      <td>836.20</td>\n",
       "      <td>NaN</td>\n",
       "      <td>NaN</td>\n",
       "      <td>NaN</td>\n",
       "      <td>NaN</td>\n",
       "      <td>NaN</td>\n",
       "      <td>1930.54</td>\n",
       "      <td>33.47</td>\n",
       "      <td>318.37</td>\n",
       "    </tr>\n",
       "    <tr>\n",
       "      <th>4</th>\n",
       "      <td>Afghanistan</td>\n",
       "      <td>1972</td>\n",
       "      <td>13.079.460</td>\n",
       "      <td>Asia</td>\n",
       "      <td>36.1</td>\n",
       "      <td>739.98</td>\n",
       "      <td>NaN</td>\n",
       "      <td>NaN</td>\n",
       "      <td>NaN</td>\n",
       "      <td>NaN</td>\n",
       "      <td>NaN</td>\n",
       "      <td>1602.84</td>\n",
       "      <td>43.66</td>\n",
       "      <td>290.73</td>\n",
       "    </tr>\n",
       "  </tbody>\n",
       "</table>\n",
       "</div>"
      ],
      "text/plain": [
       "       country  year         pop continent  lifeExp  gdpPercap  \\\n",
       "0  Afghanistan  1952   8.425.333      Asia     28.8     779.45   \n",
       "1  Afghanistan  1957   9.240.934      Asia     30.3     820.85   \n",
       "2  Afghanistan  1962  10.267.083      Asia     32.0     853.10   \n",
       "3  Afghanistan  1967  11.537.966      Asia     34.0     836.20   \n",
       "4  Afghanistan  1972  13.079.460      Asia     36.1     739.98   \n",
       "\n",
       "   oneSidedViolence  nonStateConflict  extrasystemic  intrastate  interstate  \\\n",
       "0               NaN               NaN            NaN         NaN         NaN   \n",
       "1               NaN               NaN            NaN         NaN         NaN   \n",
       "2               NaN               NaN            NaN         NaN         NaN   \n",
       "3               NaN               NaN            NaN         NaN         NaN   \n",
       "4               NaN               NaN            NaN         NaN         NaN   \n",
       "\n",
       "   gdpPerCaptaInflactionAdjusted  extremePovertyRate  \\\n",
       "0                        1540.11               43.70   \n",
       "1                        1708.81               37.13   \n",
       "2                        1869.50               30.54   \n",
       "3                        1930.54               33.47   \n",
       "4                        1602.84               43.66   \n",
       "\n",
       "   childMortalityPer1000Born  \n",
       "0                     408.55  \n",
       "1                     375.91  \n",
       "2                     345.84  \n",
       "3                     318.37  \n",
       "4                     290.73  "
      ]
     },
     "execution_count": 20,
     "metadata": {},
     "output_type": "execute_result"
    }
   ],
   "source": [
    "juncao = junta_dataframes(juncao, base_mortalidade_infantil, chave=['country', 'year'], tipo_juncao='left')\n",
    "juncao.head()"
   ]
  },
  {
   "cell_type": "code",
   "execution_count": 21,
   "id": "d5ebba15",
   "metadata": {},
   "outputs": [
    {
     "name": "stdout",
     "output_type": "stream",
     "text": [
      "Importando o dataframe: ../../avaliacao-python-ciencia-dados/Bases/population_density_per_square_km.csv ...\n",
      "Dataframe importado com sucesso! \n",
      "Dimensão: (195, 153)\n"
     ]
    },
    {
     "data": {
      "application/vnd.microsoft.datawrangler.viewer.v0+json": {
       "columns": [
        {
         "name": "index",
         "rawType": "int64",
         "type": "integer"
        },
        {
         "name": "geo",
         "rawType": "object",
         "type": "string"
        },
        {
         "name": "name",
         "rawType": "object",
         "type": "string"
        },
        {
         "name": "1950",
         "rawType": "float64",
         "type": "float"
        },
        {
         "name": "1951",
         "rawType": "float64",
         "type": "float"
        },
        {
         "name": "1952",
         "rawType": "float64",
         "type": "float"
        },
        {
         "name": "1953",
         "rawType": "float64",
         "type": "float"
        },
        {
         "name": "1954",
         "rawType": "float64",
         "type": "float"
        },
        {
         "name": "1955",
         "rawType": "float64",
         "type": "float"
        },
        {
         "name": "1956",
         "rawType": "float64",
         "type": "float"
        },
        {
         "name": "1957",
         "rawType": "float64",
         "type": "float"
        },
        {
         "name": "1958",
         "rawType": "float64",
         "type": "float"
        },
        {
         "name": "1959",
         "rawType": "float64",
         "type": "float"
        },
        {
         "name": "1960",
         "rawType": "float64",
         "type": "float"
        },
        {
         "name": "1961",
         "rawType": "float64",
         "type": "float"
        },
        {
         "name": "1962",
         "rawType": "float64",
         "type": "float"
        },
        {
         "name": "1963",
         "rawType": "float64",
         "type": "float"
        },
        {
         "name": "1964",
         "rawType": "float64",
         "type": "float"
        },
        {
         "name": "1965",
         "rawType": "float64",
         "type": "float"
        },
        {
         "name": "1966",
         "rawType": "float64",
         "type": "float"
        },
        {
         "name": "1967",
         "rawType": "float64",
         "type": "float"
        },
        {
         "name": "1968",
         "rawType": "float64",
         "type": "float"
        },
        {
         "name": "1969",
         "rawType": "float64",
         "type": "float"
        },
        {
         "name": "1970",
         "rawType": "float64",
         "type": "float"
        },
        {
         "name": "1971",
         "rawType": "float64",
         "type": "float"
        },
        {
         "name": "1972",
         "rawType": "float64",
         "type": "float"
        },
        {
         "name": "1973",
         "rawType": "float64",
         "type": "float"
        },
        {
         "name": "1974",
         "rawType": "float64",
         "type": "float"
        },
        {
         "name": "1975",
         "rawType": "float64",
         "type": "float"
        },
        {
         "name": "1976",
         "rawType": "float64",
         "type": "float"
        },
        {
         "name": "1977",
         "rawType": "float64",
         "type": "float"
        },
        {
         "name": "1978",
         "rawType": "float64",
         "type": "float"
        },
        {
         "name": "1979",
         "rawType": "float64",
         "type": "float"
        },
        {
         "name": "1980",
         "rawType": "float64",
         "type": "float"
        },
        {
         "name": "1981",
         "rawType": "float64",
         "type": "float"
        },
        {
         "name": "1982",
         "rawType": "float64",
         "type": "float"
        },
        {
         "name": "1983",
         "rawType": "float64",
         "type": "float"
        },
        {
         "name": "1984",
         "rawType": "float64",
         "type": "float"
        },
        {
         "name": "1985",
         "rawType": "float64",
         "type": "float"
        },
        {
         "name": "1986",
         "rawType": "float64",
         "type": "float"
        },
        {
         "name": "1987",
         "rawType": "float64",
         "type": "float"
        },
        {
         "name": "1988",
         "rawType": "float64",
         "type": "float"
        },
        {
         "name": "1989",
         "rawType": "float64",
         "type": "float"
        },
        {
         "name": "1990",
         "rawType": "float64",
         "type": "float"
        },
        {
         "name": "1991",
         "rawType": "float64",
         "type": "float"
        },
        {
         "name": "1992",
         "rawType": "float64",
         "type": "float"
        },
        {
         "name": "1993",
         "rawType": "float64",
         "type": "float"
        },
        {
         "name": "1994",
         "rawType": "float64",
         "type": "float"
        },
        {
         "name": "1995",
         "rawType": "float64",
         "type": "float"
        },
        {
         "name": "1996",
         "rawType": "float64",
         "type": "float"
        },
        {
         "name": "1997",
         "rawType": "float64",
         "type": "float"
        },
        {
         "name": "1998",
         "rawType": "float64",
         "type": "float"
        },
        {
         "name": "1999",
         "rawType": "float64",
         "type": "float"
        },
        {
         "name": "2000",
         "rawType": "float64",
         "type": "float"
        },
        {
         "name": "2001",
         "rawType": "float64",
         "type": "float"
        },
        {
         "name": "2002",
         "rawType": "float64",
         "type": "float"
        },
        {
         "name": "2003",
         "rawType": "float64",
         "type": "float"
        },
        {
         "name": "2004",
         "rawType": "float64",
         "type": "float"
        },
        {
         "name": "2005",
         "rawType": "float64",
         "type": "float"
        },
        {
         "name": "2006",
         "rawType": "float64",
         "type": "float"
        },
        {
         "name": "2007",
         "rawType": "float64",
         "type": "float"
        },
        {
         "name": "2008",
         "rawType": "float64",
         "type": "float"
        },
        {
         "name": "2009",
         "rawType": "float64",
         "type": "float"
        },
        {
         "name": "2010",
         "rawType": "float64",
         "type": "float"
        },
        {
         "name": "2011",
         "rawType": "float64",
         "type": "float"
        },
        {
         "name": "2012",
         "rawType": "float64",
         "type": "float"
        },
        {
         "name": "2013",
         "rawType": "float64",
         "type": "float"
        },
        {
         "name": "2014",
         "rawType": "float64",
         "type": "float"
        },
        {
         "name": "2015",
         "rawType": "float64",
         "type": "float"
        },
        {
         "name": "2016",
         "rawType": "float64",
         "type": "float"
        },
        {
         "name": "2017",
         "rawType": "float64",
         "type": "float"
        },
        {
         "name": "2018",
         "rawType": "float64",
         "type": "float"
        },
        {
         "name": "2019",
         "rawType": "float64",
         "type": "float"
        },
        {
         "name": "2020",
         "rawType": "float64",
         "type": "float"
        },
        {
         "name": "2021",
         "rawType": "float64",
         "type": "float"
        },
        {
         "name": "2022",
         "rawType": "float64",
         "type": "float"
        },
        {
         "name": "2023",
         "rawType": "float64",
         "type": "float"
        },
        {
         "name": "2024",
         "rawType": "float64",
         "type": "float"
        },
        {
         "name": "2025",
         "rawType": "float64",
         "type": "float"
        },
        {
         "name": "2026",
         "rawType": "float64",
         "type": "float"
        },
        {
         "name": "2027",
         "rawType": "float64",
         "type": "float"
        },
        {
         "name": "2028",
         "rawType": "float64",
         "type": "float"
        },
        {
         "name": "2029",
         "rawType": "float64",
         "type": "float"
        },
        {
         "name": "2030",
         "rawType": "float64",
         "type": "float"
        },
        {
         "name": "2031",
         "rawType": "float64",
         "type": "float"
        },
        {
         "name": "2032",
         "rawType": "float64",
         "type": "float"
        },
        {
         "name": "2033",
         "rawType": "float64",
         "type": "float"
        },
        {
         "name": "2034",
         "rawType": "float64",
         "type": "float"
        },
        {
         "name": "2035",
         "rawType": "float64",
         "type": "float"
        },
        {
         "name": "2036",
         "rawType": "float64",
         "type": "float"
        },
        {
         "name": "2037",
         "rawType": "float64",
         "type": "float"
        },
        {
         "name": "2038",
         "rawType": "float64",
         "type": "float"
        },
        {
         "name": "2039",
         "rawType": "float64",
         "type": "float"
        },
        {
         "name": "2040",
         "rawType": "float64",
         "type": "float"
        },
        {
         "name": "2041",
         "rawType": "float64",
         "type": "float"
        },
        {
         "name": "2042",
         "rawType": "float64",
         "type": "float"
        },
        {
         "name": "2043",
         "rawType": "float64",
         "type": "float"
        },
        {
         "name": "2044",
         "rawType": "float64",
         "type": "float"
        },
        {
         "name": "2045",
         "rawType": "float64",
         "type": "float"
        },
        {
         "name": "2046",
         "rawType": "float64",
         "type": "float"
        },
        {
         "name": "2047",
         "rawType": "float64",
         "type": "float"
        },
        {
         "name": "2048",
         "rawType": "float64",
         "type": "float"
        },
        {
         "name": "2049",
         "rawType": "float64",
         "type": "float"
        },
        {
         "name": "2050",
         "rawType": "float64",
         "type": "float"
        },
        {
         "name": "2051",
         "rawType": "float64",
         "type": "float"
        },
        {
         "name": "2052",
         "rawType": "float64",
         "type": "float"
        },
        {
         "name": "2053",
         "rawType": "float64",
         "type": "float"
        },
        {
         "name": "2054",
         "rawType": "float64",
         "type": "float"
        },
        {
         "name": "2055",
         "rawType": "float64",
         "type": "float"
        },
        {
         "name": "2056",
         "rawType": "float64",
         "type": "float"
        },
        {
         "name": "2057",
         "rawType": "float64",
         "type": "float"
        },
        {
         "name": "2058",
         "rawType": "float64",
         "type": "float"
        },
        {
         "name": "2059",
         "rawType": "float64",
         "type": "float"
        },
        {
         "name": "2060",
         "rawType": "float64",
         "type": "float"
        },
        {
         "name": "2061",
         "rawType": "float64",
         "type": "float"
        },
        {
         "name": "2062",
         "rawType": "float64",
         "type": "float"
        },
        {
         "name": "2063",
         "rawType": "float64",
         "type": "float"
        },
        {
         "name": "2064",
         "rawType": "float64",
         "type": "float"
        },
        {
         "name": "2065",
         "rawType": "float64",
         "type": "float"
        },
        {
         "name": "2066",
         "rawType": "float64",
         "type": "float"
        },
        {
         "name": "2067",
         "rawType": "float64",
         "type": "float"
        },
        {
         "name": "2068",
         "rawType": "float64",
         "type": "float"
        },
        {
         "name": "2069",
         "rawType": "float64",
         "type": "float"
        },
        {
         "name": "2070",
         "rawType": "float64",
         "type": "float"
        },
        {
         "name": "2071",
         "rawType": "float64",
         "type": "float"
        },
        {
         "name": "2072",
         "rawType": "float64",
         "type": "float"
        },
        {
         "name": "2073",
         "rawType": "float64",
         "type": "float"
        },
        {
         "name": "2074",
         "rawType": "float64",
         "type": "float"
        },
        {
         "name": "2075",
         "rawType": "float64",
         "type": "float"
        },
        {
         "name": "2076",
         "rawType": "float64",
         "type": "float"
        },
        {
         "name": "2077",
         "rawType": "float64",
         "type": "float"
        },
        {
         "name": "2078",
         "rawType": "float64",
         "type": "float"
        },
        {
         "name": "2079",
         "rawType": "float64",
         "type": "float"
        },
        {
         "name": "2080",
         "rawType": "float64",
         "type": "float"
        },
        {
         "name": "2081",
         "rawType": "float64",
         "type": "float"
        },
        {
         "name": "2082",
         "rawType": "float64",
         "type": "float"
        },
        {
         "name": "2083",
         "rawType": "float64",
         "type": "float"
        },
        {
         "name": "2084",
         "rawType": "float64",
         "type": "float"
        },
        {
         "name": "2085",
         "rawType": "float64",
         "type": "float"
        },
        {
         "name": "2086",
         "rawType": "float64",
         "type": "float"
        },
        {
         "name": "2087",
         "rawType": "float64",
         "type": "float"
        },
        {
         "name": "2088",
         "rawType": "float64",
         "type": "float"
        },
        {
         "name": "2089",
         "rawType": "float64",
         "type": "float"
        },
        {
         "name": "2090",
         "rawType": "float64",
         "type": "float"
        },
        {
         "name": "2091",
         "rawType": "float64",
         "type": "float"
        },
        {
         "name": "2092",
         "rawType": "float64",
         "type": "float"
        },
        {
         "name": "2093",
         "rawType": "float64",
         "type": "float"
        },
        {
         "name": "2094",
         "rawType": "float64",
         "type": "float"
        },
        {
         "name": "2095",
         "rawType": "float64",
         "type": "float"
        },
        {
         "name": "2096",
         "rawType": "float64",
         "type": "float"
        },
        {
         "name": "2097",
         "rawType": "float64",
         "type": "float"
        },
        {
         "name": "2098",
         "rawType": "float64",
         "type": "float"
        },
        {
         "name": "2099",
         "rawType": "float64",
         "type": "float"
        },
        {
         "name": "2100",
         "rawType": "float64",
         "type": "float"
        }
       ],
       "ref": "0f4ca433-3f0d-4f93-9643-adcc324d2f1f",
       "rows": [
        [
         "0",
         "afg",
         "Afghanistan",
         "11.976",
         "12.135",
         "12.302",
         "12.47",
         "12.641",
         "12.825",
         "13.021",
         "13.227",
         "13.435",
         "13.66",
         "13.915",
         "14.191",
         "14.484",
         "14.792",
         "15.115",
         "15.457",
         "15.812",
         "16.181",
         "16.567",
         "16.968",
         "17.388",
         "17.816",
         "18.256",
         "18.725",
         "19.204",
         "19.674",
         "20.114",
         "20.546",
         "20.963",
         "21.031",
         "20.282",
         "18.385",
         "16.928",
         "16.815",
         "17.234",
         "17.599",
         "17.588",
         "17.539",
         "17.747",
         "18.288",
         "18.552",
         "18.849",
         "20.451",
         "23.014",
         "25.028",
         "26.284",
         "27.358",
         "28.419",
         "29.509",
         "30.63",
         "31.003",
         "31.24",
         "32.925",
         "35.012",
         "36.286",
         "37.586",
         "39.156",
         "39.905",
         "40.787",
         "42.301",
         "43.561",
         "45.199",
         "47.066",
         "48.703",
         "50.505",
         "52.105",
         "53.443",
         "54.966",
         "56.589",
         "58.303",
         "60.171",
         "61.606",
         "62.497",
         "63.846",
         "65.683",
         "67.526",
         "69.378",
         "71.245",
         "73.111",
         "75.044",
         "77.067",
         "79.126",
         "81.177",
         "83.235",
         "85.261",
         "87.244",
         "89.256",
         "91.297",
         "93.329",
         "95.403",
         "97.564",
         "99.706",
         "101.741",
         "103.766",
         "105.813",
         "107.842",
         "109.942",
         "112.054",
         "114.139",
         "116.304",
         "118.413",
         "120.369",
         "122.375",
         "124.476",
         "126.594",
         "128.722",
         "130.881",
         "133.057",
         "135.183",
         "137.197",
         "139.17",
         "141.128",
         "143.127",
         "145.197",
         "147.297",
         "149.43",
         "151.454",
         "153.362",
         "155.323",
         "157.298",
         "159.275",
         "161.186",
         "163.001",
         "164.891",
         "166.743",
         "168.418",
         "170.03",
         "171.687",
         "173.287",
         "174.933",
         "176.613",
         "178.092",
         "179.45",
         "180.778",
         "182.187",
         "183.621",
         "184.882",
         "186.137",
         "187.425",
         "188.64",
         "189.905",
         "191.145",
         "192.292",
         "193.424",
         "194.529",
         "195.581",
         "196.594",
         "197.607",
         "198.622",
         "199.626",
         "200.551"
        ],
        [
         "1",
         "ago",
         "Angola",
         "3.651",
         "3.692",
         "3.731",
         "3.775",
         "3.823",
         "3.876",
         "3.934",
         "3.995",
         "4.06",
         "4.127",
         "4.196",
         "4.252",
         "4.295",
         "4.338",
         "4.383",
         "4.429",
         "4.477",
         "4.525",
         "4.574",
         "4.623",
         "4.695",
         "4.806",
         "4.952",
         "5.124",
         "5.305",
         "5.489",
         "5.675",
         "5.87",
         "6.077",
         "6.294",
         "6.524",
         "6.766",
         "7.02",
         "7.286",
         "7.561",
         "7.844",
         "8.133",
         "8.421",
         "8.712",
         "9.015",
         "9.326",
         "9.644",
         "9.965",
         "10.289",
         "10.628",
         "10.989",
         "11.367",
         "11.759",
         "12.16",
         "12.567",
         "12.99",
         "13.433",
         "13.899",
         "14.393",
         "14.92",
         "15.474",
         "16.055",
         "16.667",
         "17.309",
         "17.979",
         "18.685",
         "19.426",
         "20.195",
         "20.988",
         "21.786",
         "22.586",
         "23.408",
         "24.252",
         "25.104",
         "25.969",
         "26.832",
         "27.699",
         "28.583",
         "29.478",
         "30.389",
         "31.315",
         "32.257",
         "33.22",
         "34.204",
         "35.206",
         "36.224",
         "37.258",
         "38.309",
         "39.377",
         "40.465",
         "41.567",
         "42.685",
         "43.816",
         "44.962",
         "46.123",
         "47.297",
         "48.481",
         "49.673",
         "50.879",
         "52.094",
         "53.312",
         "54.544",
         "55.791",
         "57.046",
         "58.315",
         "59.594",
         "60.875",
         "62.166",
         "63.466",
         "64.773",
         "66.088",
         "67.404",
         "68.725",
         "70.054",
         "71.382",
         "72.71",
         "74.044",
         "75.375",
         "76.703",
         "78.032",
         "79.356",
         "80.676",
         "81.992",
         "83.306",
         "84.622",
         "85.937",
         "87.245",
         "88.547",
         "89.849",
         "91.145",
         "92.421",
         "93.678",
         "94.936",
         "96.194",
         "97.434",
         "98.67",
         "99.898",
         "101.098",
         "102.283",
         "103.462",
         "104.639",
         "105.806",
         "106.95",
         "108.084",
         "109.219",
         "110.337",
         "111.43",
         "112.496",
         "113.54",
         "114.571",
         "115.587",
         "116.58",
         "117.55",
         "118.508",
         "119.446",
         "120.354"
        ],
        [
         "2",
         "alb",
         "Albania",
         "45.545",
         "46.586",
         "47.754",
         "49.039",
         "50.408",
         "51.787",
         "53.172",
         "54.674",
         "56.354",
         "58.216",
         "60.201",
         "62.004",
         "63.645",
         "65.38",
         "67.211",
         "69.141",
         "71.175",
         "73.309",
         "75.511",
         "77.629",
         "79.612",
         "81.575",
         "83.556",
         "85.558",
         "87.576",
         "89.6",
         "91.634",
         "93.678",
         "95.796",
         "97.868",
         "99.84",
         "101.847",
         "103.909",
         "106.034",
         "108.218",
         "110.455",
         "112.696",
         "114.93",
         "117.268",
         "119.0",
         "119.643",
         "119.812",
         "119.808",
         "119.637",
         "119.33",
         "118.934",
         "118.464",
         "117.879",
         "117.167",
         "116.381",
         "115.561",
         "114.897",
         "114.391",
         "113.807",
         "113.098",
         "112.277",
         "111.352",
         "110.332",
         "109.239",
         "108.091",
         "106.895",
         "106.267",
         "106.212",
         "106.124",
         "105.984",
         "105.797",
         "105.769",
         "105.783",
         "105.637",
         "105.3",
         "104.823",
         "104.009",
         "103.205",
         "102.623",
         "101.897",
         "101.157",
         "100.41",
         "99.687",
         "98.973",
         "98.252",
         "97.521",
         "96.791",
         "96.071",
         "95.337",
         "94.581",
         "93.824",
         "93.061",
         "92.278",
         "91.488",
         "90.677",
         "89.856",
         "89.04",
         "88.228",
         "87.421",
         "86.622",
         "85.819",
         "85.004",
         "84.198",
         "83.394",
         "82.581",
         "81.764",
         "80.955",
         "80.146",
         "79.324",
         "78.501",
         "77.681",
         "76.87",
         "76.063",
         "75.259",
         "74.457",
         "73.655",
         "72.86",
         "72.069",
         "71.276",
         "70.483",
         "69.694",
         "68.916",
         "68.138",
         "67.356",
         "66.578",
         "65.801",
         "65.02",
         "64.234",
         "63.447",
         "62.65",
         "61.843",
         "61.045",
         "60.243",
         "59.437",
         "58.635",
         "57.826",
         "57.008",
         "56.186",
         "55.361",
         "54.54",
         "53.725",
         "52.919",
         "52.125",
         "51.339",
         "50.561",
         "49.8",
         "49.057",
         "48.332",
         "47.627",
         "46.943",
         "46.281",
         "45.639",
         "45.016",
         "44.411",
         "43.824",
         "43.251"
        ],
        [
         "3",
         "and",
         "Andorra",
         "12.757",
         "12.38",
         "11.607",
         "11.326",
         "11.919",
         "13.118",
         "14.393",
         "15.744",
         "17.165",
         "18.661",
         "20.234",
         "21.878",
         "23.587",
         "25.351",
         "27.156",
         "29.009",
         "31.119",
         "33.696",
         "36.545",
         "39.479",
         "42.503",
         "45.62",
         "48.845",
         "52.177",
         "55.595",
         "59.093",
         "62.629",
         "66.164",
         "69.649",
         "72.991",
         "76.131",
         "79.082",
         "82.478",
         "86.307",
         "89.943",
         "93.244",
         "97.307",
         "101.389",
         "105.14",
         "107.701",
         "111.909",
         "120.569",
         "128.084",
         "134.621",
         "137.473",
         "135.983",
         "136.136",
         "137.659",
         "139.11",
         "139.807",
         "139.755",
         "140.111",
         "141.502",
         "147.841",
         "158.138",
         "164.724",
         "169.331",
         "174.207",
         "177.648",
         "178.485",
         "171.715",
         "165.496",
         "163.477",
         "159.986",
         "156.887",
         "153.561",
         "153.578",
         "156.941",
         "159.919",
         "162.71",
         "164.638",
         "166.731",
         "169.585",
         "172.034",
         "174.335",
         "176.393",
         "178.198",
         "179.71",
         "180.762",
         "181.583",
         "182.301",
         "182.73",
         "182.946",
         "183.095",
         "183.205",
         "183.348",
         "183.237",
         "182.995",
         "182.853",
         "182.647",
         "182.272",
         "181.867",
         "181.455",
         "180.879",
         "180.166",
         "179.349",
         "178.547",
         "177.691",
         "176.78",
         "175.832",
         "174.883",
         "173.762",
         "172.5",
         "171.184",
         "169.714",
         "168.205",
         "166.661",
         "165.055",
         "163.428",
         "161.763",
         "160.048",
         "158.312",
         "156.566",
         "154.812",
         "153.047",
         "151.274",
         "149.663",
         "148.071",
         "146.339",
         "144.636",
         "143.003",
         "141.483",
         "139.977",
         "138.43",
         "136.95",
         "135.468",
         "133.978",
         "132.461",
         "130.877",
         "129.334",
         "127.841",
         "126.357",
         "124.848",
         "123.328",
         "121.905",
         "120.563",
         "119.184",
         "117.782",
         "116.407",
         "115.021",
         "113.651",
         "112.299",
         "110.923",
         "109.54",
         "108.177",
         "106.832",
         "105.501",
         "104.198",
         "102.92",
         "101.682",
         "100.473"
        ],
        [
         "4",
         "are",
         "UAE",
         "1.049",
         "1.12",
         "1.193",
         "1.269",
         "1.347",
         "1.426",
         "1.506",
         "1.588",
         "1.672",
         "1.759",
         "1.849",
         "1.943",
         "2.041",
         "2.143",
         "2.248",
         "2.353",
         "2.45",
         "2.53",
         "2.808",
         "3.374",
         "4.034",
         "4.717",
         "5.421",
         "6.144",
         "6.886",
         "7.643",
         "8.671",
         "10.0",
         "11.394",
         "12.841",
         "14.301",
         "15.486",
         "16.422",
         "17.393",
         "18.388",
         "19.401",
         "20.66",
         "22.165",
         "23.679",
         "25.201",
         "26.726",
         "28.253",
         "29.775",
         "31.287",
         "32.78",
         "34.279",
         "36.573",
         "39.668",
         "42.808",
         "45.985",
         "49.189",
         "52.427",
         "55.711",
         "59.029",
         "62.359",
         "65.679",
         "70.527",
         "79.193",
         "88.74",
         "94.434",
         "97.69",
         "101.366",
         "105.558",
         "110.27",
         "115.973",
         "122.137",
         "127.152",
         "130.017",
         "131.602",
         "132.038",
         "133.033",
         "137.827",
         "144.206",
         "149.838",
         "155.259",
         "159.749",
         "162.969",
         "165.516",
         "167.722",
         "169.726",
         "171.641",
         "173.563",
         "175.544",
         "177.578",
         "179.659",
         "181.779",
         "183.934",
         "186.117",
         "188.327",
         "190.558",
         "192.805",
         "195.068",
         "197.346",
         "199.638",
         "201.943",
         "204.26",
         "206.603",
         "208.997",
         "211.434",
         "213.894",
         "216.369",
         "218.851",
         "221.347",
         "223.868",
         "226.423",
         "229.006",
         "231.612",
         "234.252",
         "236.929",
         "239.64",
         "242.38",
         "245.158",
         "247.989",
         "250.871",
         "253.802",
         "256.778",
         "259.792",
         "262.846",
         "265.938",
         "269.066",
         "272.222",
         "275.402",
         "278.602",
         "281.819",
         "285.045",
         "288.273",
         "291.503",
         "294.732",
         "297.953",
         "301.165",
         "304.368",
         "307.56",
         "310.74",
         "313.909",
         "317.062",
         "320.2",
         "323.33",
         "326.458",
         "329.585",
         "332.714",
         "335.842",
         "338.973",
         "342.111",
         "345.263",
         "348.432",
         "351.621",
         "354.832",
         "358.069",
         "361.336",
         "364.633",
         "367.964"
        ]
       ],
       "shape": {
        "columns": 153,
        "rows": 5
       }
      },
      "text/html": [
       "<div>\n",
       "<style scoped>\n",
       "    .dataframe tbody tr th:only-of-type {\n",
       "        vertical-align: middle;\n",
       "    }\n",
       "\n",
       "    .dataframe tbody tr th {\n",
       "        vertical-align: top;\n",
       "    }\n",
       "\n",
       "    .dataframe thead th {\n",
       "        text-align: right;\n",
       "    }\n",
       "</style>\n",
       "<table border=\"1\" class=\"dataframe\">\n",
       "  <thead>\n",
       "    <tr style=\"text-align: right;\">\n",
       "      <th></th>\n",
       "      <th>geo</th>\n",
       "      <th>name</th>\n",
       "      <th>1950</th>\n",
       "      <th>1951</th>\n",
       "      <th>1952</th>\n",
       "      <th>1953</th>\n",
       "      <th>1954</th>\n",
       "      <th>1955</th>\n",
       "      <th>1956</th>\n",
       "      <th>1957</th>\n",
       "      <th>...</th>\n",
       "      <th>2091</th>\n",
       "      <th>2092</th>\n",
       "      <th>2093</th>\n",
       "      <th>2094</th>\n",
       "      <th>2095</th>\n",
       "      <th>2096</th>\n",
       "      <th>2097</th>\n",
       "      <th>2098</th>\n",
       "      <th>2099</th>\n",
       "      <th>2100</th>\n",
       "    </tr>\n",
       "  </thead>\n",
       "  <tbody>\n",
       "    <tr>\n",
       "      <th>0</th>\n",
       "      <td>afg</td>\n",
       "      <td>Afghanistan</td>\n",
       "      <td>11.976</td>\n",
       "      <td>12.135</td>\n",
       "      <td>12.302</td>\n",
       "      <td>12.470</td>\n",
       "      <td>12.641</td>\n",
       "      <td>12.825</td>\n",
       "      <td>13.021</td>\n",
       "      <td>13.227</td>\n",
       "      <td>...</td>\n",
       "      <td>191.145</td>\n",
       "      <td>192.292</td>\n",
       "      <td>193.424</td>\n",
       "      <td>194.529</td>\n",
       "      <td>195.581</td>\n",
       "      <td>196.594</td>\n",
       "      <td>197.607</td>\n",
       "      <td>198.622</td>\n",
       "      <td>199.626</td>\n",
       "      <td>200.551</td>\n",
       "    </tr>\n",
       "    <tr>\n",
       "      <th>1</th>\n",
       "      <td>ago</td>\n",
       "      <td>Angola</td>\n",
       "      <td>3.651</td>\n",
       "      <td>3.692</td>\n",
       "      <td>3.731</td>\n",
       "      <td>3.775</td>\n",
       "      <td>3.823</td>\n",
       "      <td>3.876</td>\n",
       "      <td>3.934</td>\n",
       "      <td>3.995</td>\n",
       "      <td>...</td>\n",
       "      <td>111.430</td>\n",
       "      <td>112.496</td>\n",
       "      <td>113.540</td>\n",
       "      <td>114.571</td>\n",
       "      <td>115.587</td>\n",
       "      <td>116.580</td>\n",
       "      <td>117.550</td>\n",
       "      <td>118.508</td>\n",
       "      <td>119.446</td>\n",
       "      <td>120.354</td>\n",
       "    </tr>\n",
       "    <tr>\n",
       "      <th>2</th>\n",
       "      <td>alb</td>\n",
       "      <td>Albania</td>\n",
       "      <td>45.545</td>\n",
       "      <td>46.586</td>\n",
       "      <td>47.754</td>\n",
       "      <td>49.039</td>\n",
       "      <td>50.408</td>\n",
       "      <td>51.787</td>\n",
       "      <td>53.172</td>\n",
       "      <td>54.674</td>\n",
       "      <td>...</td>\n",
       "      <td>49.057</td>\n",
       "      <td>48.332</td>\n",
       "      <td>47.627</td>\n",
       "      <td>46.943</td>\n",
       "      <td>46.281</td>\n",
       "      <td>45.639</td>\n",
       "      <td>45.016</td>\n",
       "      <td>44.411</td>\n",
       "      <td>43.824</td>\n",
       "      <td>43.251</td>\n",
       "    </tr>\n",
       "    <tr>\n",
       "      <th>3</th>\n",
       "      <td>and</td>\n",
       "      <td>Andorra</td>\n",
       "      <td>12.757</td>\n",
       "      <td>12.380</td>\n",
       "      <td>11.607</td>\n",
       "      <td>11.326</td>\n",
       "      <td>11.919</td>\n",
       "      <td>13.118</td>\n",
       "      <td>14.393</td>\n",
       "      <td>15.744</td>\n",
       "      <td>...</td>\n",
       "      <td>112.299</td>\n",
       "      <td>110.923</td>\n",
       "      <td>109.540</td>\n",
       "      <td>108.177</td>\n",
       "      <td>106.832</td>\n",
       "      <td>105.501</td>\n",
       "      <td>104.198</td>\n",
       "      <td>102.920</td>\n",
       "      <td>101.682</td>\n",
       "      <td>100.473</td>\n",
       "    </tr>\n",
       "    <tr>\n",
       "      <th>4</th>\n",
       "      <td>are</td>\n",
       "      <td>UAE</td>\n",
       "      <td>1.049</td>\n",
       "      <td>1.120</td>\n",
       "      <td>1.193</td>\n",
       "      <td>1.269</td>\n",
       "      <td>1.347</td>\n",
       "      <td>1.426</td>\n",
       "      <td>1.506</td>\n",
       "      <td>1.588</td>\n",
       "      <td>...</td>\n",
       "      <td>338.973</td>\n",
       "      <td>342.111</td>\n",
       "      <td>345.263</td>\n",
       "      <td>348.432</td>\n",
       "      <td>351.621</td>\n",
       "      <td>354.832</td>\n",
       "      <td>358.069</td>\n",
       "      <td>361.336</td>\n",
       "      <td>364.633</td>\n",
       "      <td>367.964</td>\n",
       "    </tr>\n",
       "  </tbody>\n",
       "</table>\n",
       "<p>5 rows × 153 columns</p>\n",
       "</div>"
      ],
      "text/plain": [
       "   geo         name    1950    1951    1952    1953    1954    1955    1956  \\\n",
       "0  afg  Afghanistan  11.976  12.135  12.302  12.470  12.641  12.825  13.021   \n",
       "1  ago       Angola   3.651   3.692   3.731   3.775   3.823   3.876   3.934   \n",
       "2  alb      Albania  45.545  46.586  47.754  49.039  50.408  51.787  53.172   \n",
       "3  and      Andorra  12.757  12.380  11.607  11.326  11.919  13.118  14.393   \n",
       "4  are          UAE   1.049   1.120   1.193   1.269   1.347   1.426   1.506   \n",
       "\n",
       "     1957  ...     2091     2092     2093     2094     2095     2096     2097  \\\n",
       "0  13.227  ...  191.145  192.292  193.424  194.529  195.581  196.594  197.607   \n",
       "1   3.995  ...  111.430  112.496  113.540  114.571  115.587  116.580  117.550   \n",
       "2  54.674  ...   49.057   48.332   47.627   46.943   46.281   45.639   45.016   \n",
       "3  15.744  ...  112.299  110.923  109.540  108.177  106.832  105.501  104.198   \n",
       "4   1.588  ...  338.973  342.111  345.263  348.432  351.621  354.832  358.069   \n",
       "\n",
       "      2098     2099     2100  \n",
       "0  198.622  199.626  200.551  \n",
       "1  118.508  119.446  120.354  \n",
       "2   44.411   43.824   43.251  \n",
       "3  102.920  101.682  100.473  \n",
       "4  361.336  364.633  367.964  \n",
       "\n",
       "[5 rows x 153 columns]"
      ]
     },
     "execution_count": 21,
     "metadata": {},
     "output_type": "execute_result"
    }
   ],
   "source": [
    "#Adicionando Arquivo de densidade populacional\n",
    "base_densidade_populacional = importa_csv(dataframe_name='../../avaliacao-python-ciencia-dados/Bases/population_density_per_square_km.csv', separador=',', encoding='utf-8')\n",
    "base_densidade_populacional.head()"
   ]
  },
  {
   "cell_type": "code",
   "execution_count": 22,
   "id": "9dff941d",
   "metadata": {},
   "outputs": [
    {
     "name": "stdout",
     "output_type": "stream",
     "text": [
      "Removendo dados duplicados ...\n",
      "Foram encontrados 0 registros duplicados\n",
      "\n",
      "Prévia dos dados duplicados:\n",
      "Dados duplicados removidos com sucesso! \n",
      "Dimensão: (29445, 3)\n"
     ]
    },
    {
     "data": {
      "application/vnd.microsoft.datawrangler.viewer.v0+json": {
       "columns": [
        {
         "name": "index",
         "rawType": "int64",
         "type": "integer"
        },
        {
         "name": "country",
         "rawType": "object",
         "type": "string"
        },
        {
         "name": "year",
         "rawType": "int64",
         "type": "integer"
        },
        {
         "name": "popDensityPerSquareKm",
         "rawType": "float64",
         "type": "float"
        }
       ],
       "ref": "53c9a68a-9dbf-4e38-9833-715cd13997ab",
       "rows": [
        [
         "0",
         "Afghanistan",
         "1950",
         "11.98"
        ],
        [
         "1",
         "Afghanistan",
         "1951",
         "12.14"
        ],
        [
         "2",
         "Afghanistan",
         "1952",
         "12.3"
        ],
        [
         "3",
         "Afghanistan",
         "1953",
         "12.47"
        ],
        [
         "4",
         "Afghanistan",
         "1954",
         "12.64"
        ]
       ],
       "shape": {
        "columns": 3,
        "rows": 5
       }
      },
      "text/html": [
       "<div>\n",
       "<style scoped>\n",
       "    .dataframe tbody tr th:only-of-type {\n",
       "        vertical-align: middle;\n",
       "    }\n",
       "\n",
       "    .dataframe tbody tr th {\n",
       "        vertical-align: top;\n",
       "    }\n",
       "\n",
       "    .dataframe thead th {\n",
       "        text-align: right;\n",
       "    }\n",
       "</style>\n",
       "<table border=\"1\" class=\"dataframe\">\n",
       "  <thead>\n",
       "    <tr style=\"text-align: right;\">\n",
       "      <th></th>\n",
       "      <th>country</th>\n",
       "      <th>year</th>\n",
       "      <th>popDensityPerSquareKm</th>\n",
       "    </tr>\n",
       "  </thead>\n",
       "  <tbody>\n",
       "    <tr>\n",
       "      <th>0</th>\n",
       "      <td>Afghanistan</td>\n",
       "      <td>1950</td>\n",
       "      <td>11.98</td>\n",
       "    </tr>\n",
       "    <tr>\n",
       "      <th>1</th>\n",
       "      <td>Afghanistan</td>\n",
       "      <td>1951</td>\n",
       "      <td>12.14</td>\n",
       "    </tr>\n",
       "    <tr>\n",
       "      <th>2</th>\n",
       "      <td>Afghanistan</td>\n",
       "      <td>1952</td>\n",
       "      <td>12.30</td>\n",
       "    </tr>\n",
       "    <tr>\n",
       "      <th>3</th>\n",
       "      <td>Afghanistan</td>\n",
       "      <td>1953</td>\n",
       "      <td>12.47</td>\n",
       "    </tr>\n",
       "    <tr>\n",
       "      <th>4</th>\n",
       "      <td>Afghanistan</td>\n",
       "      <td>1954</td>\n",
       "      <td>12.64</td>\n",
       "    </tr>\n",
       "  </tbody>\n",
       "</table>\n",
       "</div>"
      ],
      "text/plain": [
       "       country  year  popDensityPerSquareKm\n",
       "0  Afghanistan  1950                  11.98\n",
       "1  Afghanistan  1951                  12.14\n",
       "2  Afghanistan  1952                  12.30\n",
       "3  Afghanistan  1953                  12.47\n",
       "4  Afghanistan  1954                  12.64"
      ]
     },
     "execution_count": 22,
     "metadata": {},
     "output_type": "execute_result"
    }
   ],
   "source": [
    "base_densidade_populacional = transpoe_e_trata_dataframe(base_densidade_populacional, nome_coluna_resultado='popDensityPerSquareKm')\n",
    "base_densidade_populacional.head()"
   ]
  },
  {
   "cell_type": "code",
   "execution_count": 23,
   "id": "97a31f90",
   "metadata": {},
   "outputs": [
    {
     "name": "stdout",
     "output_type": "stream",
     "text": [
      "Dataframes unidos com sucesso! \n",
      "Dimensão: (1704, 15)\n"
     ]
    },
    {
     "data": {
      "application/vnd.microsoft.datawrangler.viewer.v0+json": {
       "columns": [
        {
         "name": "index",
         "rawType": "int64",
         "type": "integer"
        },
        {
         "name": "country",
         "rawType": "object",
         "type": "string"
        },
        {
         "name": "year",
         "rawType": "int64",
         "type": "integer"
        },
        {
         "name": "pop",
         "rawType": "object",
         "type": "string"
        },
        {
         "name": "continent",
         "rawType": "object",
         "type": "string"
        },
        {
         "name": "lifeExp",
         "rawType": "float64",
         "type": "float"
        },
        {
         "name": "gdpPercap",
         "rawType": "float64",
         "type": "float"
        },
        {
         "name": "oneSidedViolence",
         "rawType": "float64",
         "type": "float"
        },
        {
         "name": "nonStateConflict",
         "rawType": "float64",
         "type": "float"
        },
        {
         "name": "extrasystemic",
         "rawType": "float64",
         "type": "float"
        },
        {
         "name": "intrastate",
         "rawType": "float64",
         "type": "float"
        },
        {
         "name": "interstate",
         "rawType": "float64",
         "type": "float"
        },
        {
         "name": "gdpPerCaptaInflactionAdjusted",
         "rawType": "float64",
         "type": "float"
        },
        {
         "name": "extremePovertyRate",
         "rawType": "float64",
         "type": "float"
        },
        {
         "name": "childMortalityPer1000Born",
         "rawType": "float64",
         "type": "float"
        },
        {
         "name": "popDensityPerSquareKm",
         "rawType": "float64",
         "type": "float"
        }
       ],
       "ref": "d3908869-dd30-4630-a7cf-ba01f3139fc7",
       "rows": [
        [
         "0",
         "Afghanistan",
         "1952",
         "8.425.333",
         "Asia",
         "28.8",
         "779.45",
         null,
         null,
         null,
         null,
         null,
         "1540.11",
         "43.7",
         "408.55",
         "12.3"
        ],
        [
         "1",
         "Afghanistan",
         "1957",
         "9.240.934",
         "Asia",
         "30.3",
         "820.85",
         null,
         null,
         null,
         null,
         null,
         "1708.81",
         "37.13",
         "375.91",
         "13.23"
        ],
        [
         "2",
         "Afghanistan",
         "1962",
         "10.267.083",
         "Asia",
         "32.0",
         "853.1",
         null,
         null,
         null,
         null,
         null,
         "1869.5",
         "30.54",
         "345.84",
         "14.48"
        ],
        [
         "3",
         "Afghanistan",
         "1967",
         "11.537.966",
         "Asia",
         "34.0",
         "836.2",
         null,
         null,
         null,
         null,
         null,
         "1930.54",
         "33.47",
         "318.37",
         "16.18"
        ],
        [
         "4",
         "Afghanistan",
         "1972",
         "13.079.460",
         "Asia",
         "36.1",
         "739.98",
         null,
         null,
         null,
         null,
         null,
         "1602.84",
         "43.66",
         "290.73",
         "18.26"
        ]
       ],
       "shape": {
        "columns": 15,
        "rows": 5
       }
      },
      "text/html": [
       "<div>\n",
       "<style scoped>\n",
       "    .dataframe tbody tr th:only-of-type {\n",
       "        vertical-align: middle;\n",
       "    }\n",
       "\n",
       "    .dataframe tbody tr th {\n",
       "        vertical-align: top;\n",
       "    }\n",
       "\n",
       "    .dataframe thead th {\n",
       "        text-align: right;\n",
       "    }\n",
       "</style>\n",
       "<table border=\"1\" class=\"dataframe\">\n",
       "  <thead>\n",
       "    <tr style=\"text-align: right;\">\n",
       "      <th></th>\n",
       "      <th>country</th>\n",
       "      <th>year</th>\n",
       "      <th>pop</th>\n",
       "      <th>continent</th>\n",
       "      <th>lifeExp</th>\n",
       "      <th>gdpPercap</th>\n",
       "      <th>oneSidedViolence</th>\n",
       "      <th>nonStateConflict</th>\n",
       "      <th>extrasystemic</th>\n",
       "      <th>intrastate</th>\n",
       "      <th>interstate</th>\n",
       "      <th>gdpPerCaptaInflactionAdjusted</th>\n",
       "      <th>extremePovertyRate</th>\n",
       "      <th>childMortalityPer1000Born</th>\n",
       "      <th>popDensityPerSquareKm</th>\n",
       "    </tr>\n",
       "  </thead>\n",
       "  <tbody>\n",
       "    <tr>\n",
       "      <th>0</th>\n",
       "      <td>Afghanistan</td>\n",
       "      <td>1952</td>\n",
       "      <td>8.425.333</td>\n",
       "      <td>Asia</td>\n",
       "      <td>28.8</td>\n",
       "      <td>779.45</td>\n",
       "      <td>NaN</td>\n",
       "      <td>NaN</td>\n",
       "      <td>NaN</td>\n",
       "      <td>NaN</td>\n",
       "      <td>NaN</td>\n",
       "      <td>1540.11</td>\n",
       "      <td>43.70</td>\n",
       "      <td>408.55</td>\n",
       "      <td>12.30</td>\n",
       "    </tr>\n",
       "    <tr>\n",
       "      <th>1</th>\n",
       "      <td>Afghanistan</td>\n",
       "      <td>1957</td>\n",
       "      <td>9.240.934</td>\n",
       "      <td>Asia</td>\n",
       "      <td>30.3</td>\n",
       "      <td>820.85</td>\n",
       "      <td>NaN</td>\n",
       "      <td>NaN</td>\n",
       "      <td>NaN</td>\n",
       "      <td>NaN</td>\n",
       "      <td>NaN</td>\n",
       "      <td>1708.81</td>\n",
       "      <td>37.13</td>\n",
       "      <td>375.91</td>\n",
       "      <td>13.23</td>\n",
       "    </tr>\n",
       "    <tr>\n",
       "      <th>2</th>\n",
       "      <td>Afghanistan</td>\n",
       "      <td>1962</td>\n",
       "      <td>10.267.083</td>\n",
       "      <td>Asia</td>\n",
       "      <td>32.0</td>\n",
       "      <td>853.10</td>\n",
       "      <td>NaN</td>\n",
       "      <td>NaN</td>\n",
       "      <td>NaN</td>\n",
       "      <td>NaN</td>\n",
       "      <td>NaN</td>\n",
       "      <td>1869.50</td>\n",
       "      <td>30.54</td>\n",
       "      <td>345.84</td>\n",
       "      <td>14.48</td>\n",
       "    </tr>\n",
       "    <tr>\n",
       "      <th>3</th>\n",
       "      <td>Afghanistan</td>\n",
       "      <td>1967</td>\n",
       "      <td>11.537.966</td>\n",
       "      <td>Asia</td>\n",
       "      <td>34.0</td>\n",
       "      <td>836.20</td>\n",
       "      <td>NaN</td>\n",
       "      <td>NaN</td>\n",
       "      <td>NaN</td>\n",
       "      <td>NaN</td>\n",
       "      <td>NaN</td>\n",
       "      <td>1930.54</td>\n",
       "      <td>33.47</td>\n",
       "      <td>318.37</td>\n",
       "      <td>16.18</td>\n",
       "    </tr>\n",
       "    <tr>\n",
       "      <th>4</th>\n",
       "      <td>Afghanistan</td>\n",
       "      <td>1972</td>\n",
       "      <td>13.079.460</td>\n",
       "      <td>Asia</td>\n",
       "      <td>36.1</td>\n",
       "      <td>739.98</td>\n",
       "      <td>NaN</td>\n",
       "      <td>NaN</td>\n",
       "      <td>NaN</td>\n",
       "      <td>NaN</td>\n",
       "      <td>NaN</td>\n",
       "      <td>1602.84</td>\n",
       "      <td>43.66</td>\n",
       "      <td>290.73</td>\n",
       "      <td>18.26</td>\n",
       "    </tr>\n",
       "  </tbody>\n",
       "</table>\n",
       "</div>"
      ],
      "text/plain": [
       "       country  year         pop continent  lifeExp  gdpPercap  \\\n",
       "0  Afghanistan  1952   8.425.333      Asia     28.8     779.45   \n",
       "1  Afghanistan  1957   9.240.934      Asia     30.3     820.85   \n",
       "2  Afghanistan  1962  10.267.083      Asia     32.0     853.10   \n",
       "3  Afghanistan  1967  11.537.966      Asia     34.0     836.20   \n",
       "4  Afghanistan  1972  13.079.460      Asia     36.1     739.98   \n",
       "\n",
       "   oneSidedViolence  nonStateConflict  extrasystemic  intrastate  interstate  \\\n",
       "0               NaN               NaN            NaN         NaN         NaN   \n",
       "1               NaN               NaN            NaN         NaN         NaN   \n",
       "2               NaN               NaN            NaN         NaN         NaN   \n",
       "3               NaN               NaN            NaN         NaN         NaN   \n",
       "4               NaN               NaN            NaN         NaN         NaN   \n",
       "\n",
       "   gdpPerCaptaInflactionAdjusted  extremePovertyRate  \\\n",
       "0                        1540.11               43.70   \n",
       "1                        1708.81               37.13   \n",
       "2                        1869.50               30.54   \n",
       "3                        1930.54               33.47   \n",
       "4                        1602.84               43.66   \n",
       "\n",
       "   childMortalityPer1000Born  popDensityPerSquareKm  \n",
       "0                     408.55                  12.30  \n",
       "1                     375.91                  13.23  \n",
       "2                     345.84                  14.48  \n",
       "3                     318.37                  16.18  \n",
       "4                     290.73                  18.26  "
      ]
     },
     "execution_count": 23,
     "metadata": {},
     "output_type": "execute_result"
    }
   ],
   "source": [
    "juncao = junta_dataframes(juncao, base_densidade_populacional, chave=['country', 'year'], tipo_juncao='left')\n",
    "juncao.head()"
   ]
  },
  {
   "cell_type": "code",
   "execution_count": 24,
   "id": "dfb7016e",
   "metadata": {},
   "outputs": [
    {
     "name": "stdout",
     "output_type": "stream",
     "text": [
      "Importando o dataframe: ../../avaliacao-python-ciencia-dados/Bases/hdi_human_development_index.csv ...\n",
      "Dataframe importado com sucesso! \n",
      "Dimensão: (192, 36)\n"
     ]
    },
    {
     "data": {
      "application/vnd.microsoft.datawrangler.viewer.v0+json": {
       "columns": [
        {
         "name": "index",
         "rawType": "int64",
         "type": "integer"
        },
        {
         "name": "geo",
         "rawType": "object",
         "type": "string"
        },
        {
         "name": "name",
         "rawType": "object",
         "type": "string"
        },
        {
         "name": "1990",
         "rawType": "float64",
         "type": "float"
        },
        {
         "name": "1991",
         "rawType": "float64",
         "type": "float"
        },
        {
         "name": "1992",
         "rawType": "float64",
         "type": "float"
        },
        {
         "name": "1993",
         "rawType": "float64",
         "type": "float"
        },
        {
         "name": "1994",
         "rawType": "float64",
         "type": "float"
        },
        {
         "name": "1995",
         "rawType": "float64",
         "type": "float"
        },
        {
         "name": "1996",
         "rawType": "float64",
         "type": "float"
        },
        {
         "name": "1997",
         "rawType": "float64",
         "type": "float"
        },
        {
         "name": "1998",
         "rawType": "float64",
         "type": "float"
        },
        {
         "name": "1999",
         "rawType": "float64",
         "type": "float"
        },
        {
         "name": "2000",
         "rawType": "float64",
         "type": "float"
        },
        {
         "name": "2001",
         "rawType": "float64",
         "type": "float"
        },
        {
         "name": "2002",
         "rawType": "float64",
         "type": "float"
        },
        {
         "name": "2003",
         "rawType": "float64",
         "type": "float"
        },
        {
         "name": "2004",
         "rawType": "float64",
         "type": "float"
        },
        {
         "name": "2005",
         "rawType": "float64",
         "type": "float"
        },
        {
         "name": "2006",
         "rawType": "float64",
         "type": "float"
        },
        {
         "name": "2007",
         "rawType": "float64",
         "type": "float"
        },
        {
         "name": "2008",
         "rawType": "float64",
         "type": "float"
        },
        {
         "name": "2009",
         "rawType": "float64",
         "type": "float"
        },
        {
         "name": "2010",
         "rawType": "float64",
         "type": "float"
        },
        {
         "name": "2011",
         "rawType": "float64",
         "type": "float"
        },
        {
         "name": "2012",
         "rawType": "float64",
         "type": "float"
        },
        {
         "name": "2013",
         "rawType": "float64",
         "type": "float"
        },
        {
         "name": "2014",
         "rawType": "float64",
         "type": "float"
        },
        {
         "name": "2015",
         "rawType": "float64",
         "type": "float"
        },
        {
         "name": "2016",
         "rawType": "float64",
         "type": "float"
        },
        {
         "name": "2017",
         "rawType": "float64",
         "type": "float"
        },
        {
         "name": "2018",
         "rawType": "float64",
         "type": "float"
        },
        {
         "name": "2019",
         "rawType": "float64",
         "type": "float"
        },
        {
         "name": "2020",
         "rawType": "float64",
         "type": "float"
        },
        {
         "name": "2021",
         "rawType": "float64",
         "type": "float"
        },
        {
         "name": "2022",
         "rawType": "float64",
         "type": "float"
        },
        {
         "name": "2023",
         "rawType": "float64",
         "type": "float"
        }
       ],
       "ref": "4064226f-5b3c-48a4-a2e6-f04d54cce2f4",
       "rows": [
        [
         "0",
         "afg",
         "Afghanistan",
         "0.285",
         "0.291",
         "0.301",
         "0.311",
         "0.305",
         "0.329",
         "0.334",
         "0.338",
         "0.338",
         "0.347",
         "0.351",
         "0.355",
         "0.383",
         "0.392",
         "0.408",
         "0.417",
         "0.426",
         "0.442",
         "0.446",
         "0.458",
         "0.465",
         "0.474",
         "0.484",
         "0.492",
         "0.497",
         "0.496",
         "0.495",
         "0.496",
         "0.498",
         "0.507",
         "0.501",
         "0.486",
         "0.495",
         "0.496"
        ],
        [
         "1",
         "ago",
         "Angola",
         null,
         null,
         null,
         null,
         null,
         null,
         null,
         null,
         null,
         "0.379",
         "0.391",
         "0.401",
         "0.417",
         "0.435",
         "0.448",
         "0.463",
         "0.475",
         "0.492",
         "0.504",
         "0.517",
         "0.528",
         "0.545",
         "0.557",
         "0.567",
         "0.577",
         "0.603",
         "0.609",
         "0.61",
         "0.611",
         "0.611",
         "0.61",
         "0.609",
         "0.615",
         "0.616"
        ],
        [
         "2",
         "alb",
         "Albania",
         "0.654",
         "0.638",
         "0.622",
         "0.624",
         "0.629",
         "0.638",
         "0.647",
         "0.645",
         "0.659",
         "0.671",
         "0.682",
         "0.691",
         "0.697",
         "0.705",
         "0.71",
         "0.723",
         "0.732",
         "0.742",
         "0.749",
         "0.756",
         "0.769",
         "0.781",
         "0.79",
         "0.793",
         "0.797",
         "0.797",
         "0.797",
         "0.798",
         "0.801",
         "0.805",
         "0.794",
         "0.794",
         "0.806",
         "0.81"
        ],
        [
         "3",
         "and",
         "Andorra",
         null,
         null,
         null,
         null,
         null,
         null,
         null,
         null,
         null,
         null,
         "0.825",
         "0.832",
         "0.838",
         "0.84",
         "0.849",
         "0.842",
         "0.851",
         "0.859",
         "0.864",
         "0.866",
         "0.87",
         "0.875",
         "0.876",
         "0.862",
         "0.866",
         "0.869",
         "0.872",
         "0.873",
         "0.875",
         "0.876",
         "0.851",
         "0.871",
         "0.893",
         "0.913"
        ],
        [
         "4",
         "are",
         "UAE",
         "0.713",
         "0.724",
         "0.729",
         "0.736",
         "0.742",
         "0.747",
         "0.753",
         "0.761",
         "0.77",
         "0.78",
         "0.79",
         "0.798",
         "0.805",
         "0.81",
         "0.815",
         "0.819",
         "0.823",
         "0.827",
         "0.831",
         "0.832",
         "0.835",
         "0.839",
         "0.843",
         "0.846",
         "0.853",
         "0.857",
         "0.861",
         "0.884",
         "0.901",
         "0.915",
         "0.909",
         "0.903",
         "0.921",
         "0.94"
        ]
       ],
       "shape": {
        "columns": 36,
        "rows": 5
       }
      },
      "text/html": [
       "<div>\n",
       "<style scoped>\n",
       "    .dataframe tbody tr th:only-of-type {\n",
       "        vertical-align: middle;\n",
       "    }\n",
       "\n",
       "    .dataframe tbody tr th {\n",
       "        vertical-align: top;\n",
       "    }\n",
       "\n",
       "    .dataframe thead th {\n",
       "        text-align: right;\n",
       "    }\n",
       "</style>\n",
       "<table border=\"1\" class=\"dataframe\">\n",
       "  <thead>\n",
       "    <tr style=\"text-align: right;\">\n",
       "      <th></th>\n",
       "      <th>geo</th>\n",
       "      <th>name</th>\n",
       "      <th>1990</th>\n",
       "      <th>1991</th>\n",
       "      <th>1992</th>\n",
       "      <th>1993</th>\n",
       "      <th>1994</th>\n",
       "      <th>1995</th>\n",
       "      <th>1996</th>\n",
       "      <th>1997</th>\n",
       "      <th>...</th>\n",
       "      <th>2014</th>\n",
       "      <th>2015</th>\n",
       "      <th>2016</th>\n",
       "      <th>2017</th>\n",
       "      <th>2018</th>\n",
       "      <th>2019</th>\n",
       "      <th>2020</th>\n",
       "      <th>2021</th>\n",
       "      <th>2022</th>\n",
       "      <th>2023</th>\n",
       "    </tr>\n",
       "  </thead>\n",
       "  <tbody>\n",
       "    <tr>\n",
       "      <th>0</th>\n",
       "      <td>afg</td>\n",
       "      <td>Afghanistan</td>\n",
       "      <td>0.285</td>\n",
       "      <td>0.291</td>\n",
       "      <td>0.301</td>\n",
       "      <td>0.311</td>\n",
       "      <td>0.305</td>\n",
       "      <td>0.329</td>\n",
       "      <td>0.334</td>\n",
       "      <td>0.338</td>\n",
       "      <td>...</td>\n",
       "      <td>0.497</td>\n",
       "      <td>0.496</td>\n",
       "      <td>0.495</td>\n",
       "      <td>0.496</td>\n",
       "      <td>0.498</td>\n",
       "      <td>0.507</td>\n",
       "      <td>0.501</td>\n",
       "      <td>0.486</td>\n",
       "      <td>0.495</td>\n",
       "      <td>0.496</td>\n",
       "    </tr>\n",
       "    <tr>\n",
       "      <th>1</th>\n",
       "      <td>ago</td>\n",
       "      <td>Angola</td>\n",
       "      <td>NaN</td>\n",
       "      <td>NaN</td>\n",
       "      <td>NaN</td>\n",
       "      <td>NaN</td>\n",
       "      <td>NaN</td>\n",
       "      <td>NaN</td>\n",
       "      <td>NaN</td>\n",
       "      <td>NaN</td>\n",
       "      <td>...</td>\n",
       "      <td>0.577</td>\n",
       "      <td>0.603</td>\n",
       "      <td>0.609</td>\n",
       "      <td>0.610</td>\n",
       "      <td>0.611</td>\n",
       "      <td>0.611</td>\n",
       "      <td>0.610</td>\n",
       "      <td>0.609</td>\n",
       "      <td>0.615</td>\n",
       "      <td>0.616</td>\n",
       "    </tr>\n",
       "    <tr>\n",
       "      <th>2</th>\n",
       "      <td>alb</td>\n",
       "      <td>Albania</td>\n",
       "      <td>0.654</td>\n",
       "      <td>0.638</td>\n",
       "      <td>0.622</td>\n",
       "      <td>0.624</td>\n",
       "      <td>0.629</td>\n",
       "      <td>0.638</td>\n",
       "      <td>0.647</td>\n",
       "      <td>0.645</td>\n",
       "      <td>...</td>\n",
       "      <td>0.797</td>\n",
       "      <td>0.797</td>\n",
       "      <td>0.797</td>\n",
       "      <td>0.798</td>\n",
       "      <td>0.801</td>\n",
       "      <td>0.805</td>\n",
       "      <td>0.794</td>\n",
       "      <td>0.794</td>\n",
       "      <td>0.806</td>\n",
       "      <td>0.810</td>\n",
       "    </tr>\n",
       "    <tr>\n",
       "      <th>3</th>\n",
       "      <td>and</td>\n",
       "      <td>Andorra</td>\n",
       "      <td>NaN</td>\n",
       "      <td>NaN</td>\n",
       "      <td>NaN</td>\n",
       "      <td>NaN</td>\n",
       "      <td>NaN</td>\n",
       "      <td>NaN</td>\n",
       "      <td>NaN</td>\n",
       "      <td>NaN</td>\n",
       "      <td>...</td>\n",
       "      <td>0.866</td>\n",
       "      <td>0.869</td>\n",
       "      <td>0.872</td>\n",
       "      <td>0.873</td>\n",
       "      <td>0.875</td>\n",
       "      <td>0.876</td>\n",
       "      <td>0.851</td>\n",
       "      <td>0.871</td>\n",
       "      <td>0.893</td>\n",
       "      <td>0.913</td>\n",
       "    </tr>\n",
       "    <tr>\n",
       "      <th>4</th>\n",
       "      <td>are</td>\n",
       "      <td>UAE</td>\n",
       "      <td>0.713</td>\n",
       "      <td>0.724</td>\n",
       "      <td>0.729</td>\n",
       "      <td>0.736</td>\n",
       "      <td>0.742</td>\n",
       "      <td>0.747</td>\n",
       "      <td>0.753</td>\n",
       "      <td>0.761</td>\n",
       "      <td>...</td>\n",
       "      <td>0.853</td>\n",
       "      <td>0.857</td>\n",
       "      <td>0.861</td>\n",
       "      <td>0.884</td>\n",
       "      <td>0.901</td>\n",
       "      <td>0.915</td>\n",
       "      <td>0.909</td>\n",
       "      <td>0.903</td>\n",
       "      <td>0.921</td>\n",
       "      <td>0.940</td>\n",
       "    </tr>\n",
       "  </tbody>\n",
       "</table>\n",
       "<p>5 rows × 36 columns</p>\n",
       "</div>"
      ],
      "text/plain": [
       "   geo         name   1990   1991   1992   1993   1994   1995   1996   1997  \\\n",
       "0  afg  Afghanistan  0.285  0.291  0.301  0.311  0.305  0.329  0.334  0.338   \n",
       "1  ago       Angola    NaN    NaN    NaN    NaN    NaN    NaN    NaN    NaN   \n",
       "2  alb      Albania  0.654  0.638  0.622  0.624  0.629  0.638  0.647  0.645   \n",
       "3  and      Andorra    NaN    NaN    NaN    NaN    NaN    NaN    NaN    NaN   \n",
       "4  are          UAE  0.713  0.724  0.729  0.736  0.742  0.747  0.753  0.761   \n",
       "\n",
       "   ...   2014   2015   2016   2017   2018   2019   2020   2021   2022   2023  \n",
       "0  ...  0.497  0.496  0.495  0.496  0.498  0.507  0.501  0.486  0.495  0.496  \n",
       "1  ...  0.577  0.603  0.609  0.610  0.611  0.611  0.610  0.609  0.615  0.616  \n",
       "2  ...  0.797  0.797  0.797  0.798  0.801  0.805  0.794  0.794  0.806  0.810  \n",
       "3  ...  0.866  0.869  0.872  0.873  0.875  0.876  0.851  0.871  0.893  0.913  \n",
       "4  ...  0.853  0.857  0.861  0.884  0.901  0.915  0.909  0.903  0.921  0.940  \n",
       "\n",
       "[5 rows x 36 columns]"
      ]
     },
     "execution_count": 24,
     "metadata": {},
     "output_type": "execute_result"
    }
   ],
   "source": [
    "#Adicionando a base de desenvolvimento humano (HDI)\n",
    "base_hdi = importa_csv(dataframe_name='../../avaliacao-python-ciencia-dados/Bases/hdi_human_development_index.csv', separador=',', encoding='utf-8')\n",
    "base_hdi.head()"
   ]
  },
  {
   "cell_type": "code",
   "execution_count": 25,
   "id": "5eb4bfa5",
   "metadata": {},
   "outputs": [
    {
     "name": "stdout",
     "output_type": "stream",
     "text": [
      "Removendo dados duplicados ...\n",
      "Foram encontrados 0 registros duplicados\n",
      "\n",
      "Prévia dos dados duplicados:\n",
      "Dados duplicados removidos com sucesso! \n",
      "Dimensão: (5906, 3)\n"
     ]
    },
    {
     "data": {
      "application/vnd.microsoft.datawrangler.viewer.v0+json": {
       "columns": [
        {
         "name": "index",
         "rawType": "int64",
         "type": "integer"
        },
        {
         "name": "country",
         "rawType": "object",
         "type": "string"
        },
        {
         "name": "year",
         "rawType": "int64",
         "type": "integer"
        },
        {
         "name": "humanDevelopmentIndex",
         "rawType": "float64",
         "type": "float"
        }
       ],
       "ref": "2b728127-84ce-4238-bc62-aace88045b92",
       "rows": [
        [
         "0",
         "Afghanistan",
         "1990",
         "0.28"
        ],
        [
         "1",
         "Afghanistan",
         "1991",
         "0.29"
        ],
        [
         "2",
         "Afghanistan",
         "1992",
         "0.3"
        ],
        [
         "3",
         "Afghanistan",
         "1993",
         "0.31"
        ],
        [
         "4",
         "Afghanistan",
         "1994",
         "0.3"
        ]
       ],
       "shape": {
        "columns": 3,
        "rows": 5
       }
      },
      "text/html": [
       "<div>\n",
       "<style scoped>\n",
       "    .dataframe tbody tr th:only-of-type {\n",
       "        vertical-align: middle;\n",
       "    }\n",
       "\n",
       "    .dataframe tbody tr th {\n",
       "        vertical-align: top;\n",
       "    }\n",
       "\n",
       "    .dataframe thead th {\n",
       "        text-align: right;\n",
       "    }\n",
       "</style>\n",
       "<table border=\"1\" class=\"dataframe\">\n",
       "  <thead>\n",
       "    <tr style=\"text-align: right;\">\n",
       "      <th></th>\n",
       "      <th>country</th>\n",
       "      <th>year</th>\n",
       "      <th>humanDevelopmentIndex</th>\n",
       "    </tr>\n",
       "  </thead>\n",
       "  <tbody>\n",
       "    <tr>\n",
       "      <th>0</th>\n",
       "      <td>Afghanistan</td>\n",
       "      <td>1990</td>\n",
       "      <td>0.28</td>\n",
       "    </tr>\n",
       "    <tr>\n",
       "      <th>1</th>\n",
       "      <td>Afghanistan</td>\n",
       "      <td>1991</td>\n",
       "      <td>0.29</td>\n",
       "    </tr>\n",
       "    <tr>\n",
       "      <th>2</th>\n",
       "      <td>Afghanistan</td>\n",
       "      <td>1992</td>\n",
       "      <td>0.30</td>\n",
       "    </tr>\n",
       "    <tr>\n",
       "      <th>3</th>\n",
       "      <td>Afghanistan</td>\n",
       "      <td>1993</td>\n",
       "      <td>0.31</td>\n",
       "    </tr>\n",
       "    <tr>\n",
       "      <th>4</th>\n",
       "      <td>Afghanistan</td>\n",
       "      <td>1994</td>\n",
       "      <td>0.30</td>\n",
       "    </tr>\n",
       "  </tbody>\n",
       "</table>\n",
       "</div>"
      ],
      "text/plain": [
       "       country  year  humanDevelopmentIndex\n",
       "0  Afghanistan  1990                   0.28\n",
       "1  Afghanistan  1991                   0.29\n",
       "2  Afghanistan  1992                   0.30\n",
       "3  Afghanistan  1993                   0.31\n",
       "4  Afghanistan  1994                   0.30"
      ]
     },
     "execution_count": 25,
     "metadata": {},
     "output_type": "execute_result"
    }
   ],
   "source": [
    "base_hdi = transpoe_e_trata_dataframe(base_hdi, nome_coluna_resultado='humanDevelopmentIndex')\n",
    "#base_hdi['humanDevelopmentIndex'] = base_hdi['humanDevelopmentIndex'].mul(100).map(\"{:.0f}%\".format)\n",
    "# Eu ia converter, mas pesquisando, o HDI é normalmente representado como um número decimal entre 0 e 1 mas não necessariamente é um indicador de porcentagem, só é do calculo mesmo, então vou deixar assim mesmo.\n",
    "base_hdi.head()"
   ]
  },
  {
   "cell_type": "code",
   "execution_count": 26,
   "id": "e909264d",
   "metadata": {},
   "outputs": [
    {
     "name": "stdout",
     "output_type": "stream",
     "text": [
      "Dataframes unidos com sucesso! \n",
      "Dimensão: (1704, 16)\n"
     ]
    },
    {
     "data": {
      "application/vnd.microsoft.datawrangler.viewer.v0+json": {
       "columns": [
        {
         "name": "index",
         "rawType": "int64",
         "type": "integer"
        },
        {
         "name": "country",
         "rawType": "object",
         "type": "string"
        },
        {
         "name": "year",
         "rawType": "int64",
         "type": "integer"
        },
        {
         "name": "pop",
         "rawType": "object",
         "type": "string"
        },
        {
         "name": "continent",
         "rawType": "object",
         "type": "string"
        },
        {
         "name": "lifeExp",
         "rawType": "float64",
         "type": "float"
        },
        {
         "name": "gdpPercap",
         "rawType": "float64",
         "type": "float"
        },
        {
         "name": "oneSidedViolence",
         "rawType": "float64",
         "type": "float"
        },
        {
         "name": "nonStateConflict",
         "rawType": "float64",
         "type": "float"
        },
        {
         "name": "extrasystemic",
         "rawType": "float64",
         "type": "float"
        },
        {
         "name": "intrastate",
         "rawType": "float64",
         "type": "float"
        },
        {
         "name": "interstate",
         "rawType": "float64",
         "type": "float"
        },
        {
         "name": "gdpPerCaptaInflactionAdjusted",
         "rawType": "float64",
         "type": "float"
        },
        {
         "name": "extremePovertyRate",
         "rawType": "float64",
         "type": "float"
        },
        {
         "name": "childMortalityPer1000Born",
         "rawType": "float64",
         "type": "float"
        },
        {
         "name": "popDensityPerSquareKm",
         "rawType": "float64",
         "type": "float"
        },
        {
         "name": "humanDevelopmentIndex",
         "rawType": "float64",
         "type": "float"
        }
       ],
       "ref": "3aa47948-1a43-4f92-a25b-9b26ba354d65",
       "rows": [
        [
         "0",
         "Afghanistan",
         "1952",
         "8.425.333",
         "Asia",
         "28.8",
         "779.45",
         null,
         null,
         null,
         null,
         null,
         "1540.11",
         "43.7",
         "408.55",
         "12.3",
         null
        ],
        [
         "1",
         "Afghanistan",
         "1957",
         "9.240.934",
         "Asia",
         "30.3",
         "820.85",
         null,
         null,
         null,
         null,
         null,
         "1708.81",
         "37.13",
         "375.91",
         "13.23",
         null
        ],
        [
         "2",
         "Afghanistan",
         "1962",
         "10.267.083",
         "Asia",
         "32.0",
         "853.1",
         null,
         null,
         null,
         null,
         null,
         "1869.5",
         "30.54",
         "345.84",
         "14.48",
         null
        ],
        [
         "3",
         "Afghanistan",
         "1967",
         "11.537.966",
         "Asia",
         "34.0",
         "836.2",
         null,
         null,
         null,
         null,
         null,
         "1930.54",
         "33.47",
         "318.37",
         "16.18",
         null
        ],
        [
         "4",
         "Afghanistan",
         "1972",
         "13.079.460",
         "Asia",
         "36.1",
         "739.98",
         null,
         null,
         null,
         null,
         null,
         "1602.84",
         "43.66",
         "290.73",
         "18.26",
         null
        ]
       ],
       "shape": {
        "columns": 16,
        "rows": 5
       }
      },
      "text/html": [
       "<div>\n",
       "<style scoped>\n",
       "    .dataframe tbody tr th:only-of-type {\n",
       "        vertical-align: middle;\n",
       "    }\n",
       "\n",
       "    .dataframe tbody tr th {\n",
       "        vertical-align: top;\n",
       "    }\n",
       "\n",
       "    .dataframe thead th {\n",
       "        text-align: right;\n",
       "    }\n",
       "</style>\n",
       "<table border=\"1\" class=\"dataframe\">\n",
       "  <thead>\n",
       "    <tr style=\"text-align: right;\">\n",
       "      <th></th>\n",
       "      <th>country</th>\n",
       "      <th>year</th>\n",
       "      <th>pop</th>\n",
       "      <th>continent</th>\n",
       "      <th>lifeExp</th>\n",
       "      <th>gdpPercap</th>\n",
       "      <th>oneSidedViolence</th>\n",
       "      <th>nonStateConflict</th>\n",
       "      <th>extrasystemic</th>\n",
       "      <th>intrastate</th>\n",
       "      <th>interstate</th>\n",
       "      <th>gdpPerCaptaInflactionAdjusted</th>\n",
       "      <th>extremePovertyRate</th>\n",
       "      <th>childMortalityPer1000Born</th>\n",
       "      <th>popDensityPerSquareKm</th>\n",
       "      <th>humanDevelopmentIndex</th>\n",
       "    </tr>\n",
       "  </thead>\n",
       "  <tbody>\n",
       "    <tr>\n",
       "      <th>0</th>\n",
       "      <td>Afghanistan</td>\n",
       "      <td>1952</td>\n",
       "      <td>8.425.333</td>\n",
       "      <td>Asia</td>\n",
       "      <td>28.8</td>\n",
       "      <td>779.45</td>\n",
       "      <td>NaN</td>\n",
       "      <td>NaN</td>\n",
       "      <td>NaN</td>\n",
       "      <td>NaN</td>\n",
       "      <td>NaN</td>\n",
       "      <td>1540.11</td>\n",
       "      <td>43.70</td>\n",
       "      <td>408.55</td>\n",
       "      <td>12.30</td>\n",
       "      <td>NaN</td>\n",
       "    </tr>\n",
       "    <tr>\n",
       "      <th>1</th>\n",
       "      <td>Afghanistan</td>\n",
       "      <td>1957</td>\n",
       "      <td>9.240.934</td>\n",
       "      <td>Asia</td>\n",
       "      <td>30.3</td>\n",
       "      <td>820.85</td>\n",
       "      <td>NaN</td>\n",
       "      <td>NaN</td>\n",
       "      <td>NaN</td>\n",
       "      <td>NaN</td>\n",
       "      <td>NaN</td>\n",
       "      <td>1708.81</td>\n",
       "      <td>37.13</td>\n",
       "      <td>375.91</td>\n",
       "      <td>13.23</td>\n",
       "      <td>NaN</td>\n",
       "    </tr>\n",
       "    <tr>\n",
       "      <th>2</th>\n",
       "      <td>Afghanistan</td>\n",
       "      <td>1962</td>\n",
       "      <td>10.267.083</td>\n",
       "      <td>Asia</td>\n",
       "      <td>32.0</td>\n",
       "      <td>853.10</td>\n",
       "      <td>NaN</td>\n",
       "      <td>NaN</td>\n",
       "      <td>NaN</td>\n",
       "      <td>NaN</td>\n",
       "      <td>NaN</td>\n",
       "      <td>1869.50</td>\n",
       "      <td>30.54</td>\n",
       "      <td>345.84</td>\n",
       "      <td>14.48</td>\n",
       "      <td>NaN</td>\n",
       "    </tr>\n",
       "    <tr>\n",
       "      <th>3</th>\n",
       "      <td>Afghanistan</td>\n",
       "      <td>1967</td>\n",
       "      <td>11.537.966</td>\n",
       "      <td>Asia</td>\n",
       "      <td>34.0</td>\n",
       "      <td>836.20</td>\n",
       "      <td>NaN</td>\n",
       "      <td>NaN</td>\n",
       "      <td>NaN</td>\n",
       "      <td>NaN</td>\n",
       "      <td>NaN</td>\n",
       "      <td>1930.54</td>\n",
       "      <td>33.47</td>\n",
       "      <td>318.37</td>\n",
       "      <td>16.18</td>\n",
       "      <td>NaN</td>\n",
       "    </tr>\n",
       "    <tr>\n",
       "      <th>4</th>\n",
       "      <td>Afghanistan</td>\n",
       "      <td>1972</td>\n",
       "      <td>13.079.460</td>\n",
       "      <td>Asia</td>\n",
       "      <td>36.1</td>\n",
       "      <td>739.98</td>\n",
       "      <td>NaN</td>\n",
       "      <td>NaN</td>\n",
       "      <td>NaN</td>\n",
       "      <td>NaN</td>\n",
       "      <td>NaN</td>\n",
       "      <td>1602.84</td>\n",
       "      <td>43.66</td>\n",
       "      <td>290.73</td>\n",
       "      <td>18.26</td>\n",
       "      <td>NaN</td>\n",
       "    </tr>\n",
       "  </tbody>\n",
       "</table>\n",
       "</div>"
      ],
      "text/plain": [
       "       country  year         pop continent  lifeExp  gdpPercap  \\\n",
       "0  Afghanistan  1952   8.425.333      Asia     28.8     779.45   \n",
       "1  Afghanistan  1957   9.240.934      Asia     30.3     820.85   \n",
       "2  Afghanistan  1962  10.267.083      Asia     32.0     853.10   \n",
       "3  Afghanistan  1967  11.537.966      Asia     34.0     836.20   \n",
       "4  Afghanistan  1972  13.079.460      Asia     36.1     739.98   \n",
       "\n",
       "   oneSidedViolence  nonStateConflict  extrasystemic  intrastate  interstate  \\\n",
       "0               NaN               NaN            NaN         NaN         NaN   \n",
       "1               NaN               NaN            NaN         NaN         NaN   \n",
       "2               NaN               NaN            NaN         NaN         NaN   \n",
       "3               NaN               NaN            NaN         NaN         NaN   \n",
       "4               NaN               NaN            NaN         NaN         NaN   \n",
       "\n",
       "   gdpPerCaptaInflactionAdjusted  extremePovertyRate  \\\n",
       "0                        1540.11               43.70   \n",
       "1                        1708.81               37.13   \n",
       "2                        1869.50               30.54   \n",
       "3                        1930.54               33.47   \n",
       "4                        1602.84               43.66   \n",
       "\n",
       "   childMortalityPer1000Born  popDensityPerSquareKm  humanDevelopmentIndex  \n",
       "0                     408.55                  12.30                    NaN  \n",
       "1                     375.91                  13.23                    NaN  \n",
       "2                     345.84                  14.48                    NaN  \n",
       "3                     318.37                  16.18                    NaN  \n",
       "4                     290.73                  18.26                    NaN  "
      ]
     },
     "execution_count": 26,
     "metadata": {},
     "output_type": "execute_result"
    }
   ],
   "source": [
    "juncao = junta_dataframes(juncao, base_hdi, chave=['country', 'year'], tipo_juncao='left')\n",
    "juncao.head()"
   ]
  },
  {
   "cell_type": "code",
   "execution_count": 234,
   "id": "a322d5ea",
   "metadata": {},
   "outputs": [
    {
     "name": "stdout",
     "output_type": "stream",
     "text": [
      "Exportando o dataframe para o arquivo: ../../avaliacao-python-ciencia-dados/Bases/tratada/gapminder_tratada.csv ...\n",
      "Dataframe exportado com sucesso!\n",
      "Exportando o dataframe para o arquivo: ../../avaliacao-python-ciencia-dados/Bases/tratada/mortes_guerra_tratada.csv ...\n",
      "Dataframe exportado com sucesso!\n",
      "Exportando o dataframe para o arquivo: ../../avaliacao-python-ciencia-dados/Bases/tratada/gdp_ajustado_inflacao_tratada.csv ...\n",
      "Dataframe exportado com sucesso!\n",
      "Exportando o dataframe para o arquivo: ../../avaliacao-python-ciencia-dados/Bases/tratada/base_extrema_pobreza_tratada.csv ...\n",
      "Dataframe exportado com sucesso!\n",
      "Exportando o dataframe para o arquivo: ../../avaliacao-python-ciencia-dados/Bases/tratada/base_mortalidade_infantil_tratada.csv ...\n",
      "Dataframe exportado com sucesso!\n",
      "Exportando o dataframe para o arquivo: ../../avaliacao-python-ciencia-dados/Bases/tratada/base_densidade_populacional_tratada.csv ...\n",
      "Dataframe exportado com sucesso!\n",
      "Exportando o dataframe para o arquivo: ../../avaliacao-python-ciencia-dados/Bases/tratada/base_hdi_tratada.csv ...\n",
      "Dataframe exportado com sucesso!\n",
      "Exportando o dataframe para o arquivo: ../../avaliacao-python-ciencia-dados/Bases/tratada/gapminder_juncao_tratada.csv ...\n",
      "Dataframe exportado com sucesso!\n"
     ]
    }
   ],
   "source": [
    "#Escreve o arquivo em uma base tratada\n",
    "exporta_csv(base_limpa, '../../avaliacao-python-ciencia-dados/Bases/tratada/gapminder_tratada.csv', separador=';', encoding='utf-8', index=False)\n",
    "exporta_csv(mortes_guerra, '../../avaliacao-python-ciencia-dados/Bases/tratada/mortes_guerra_tratada.csv', separador=';', encoding='utf-8', index=False)\n",
    "exporta_csv(base_gdp_ajustado, '../../avaliacao-python-ciencia-dados/Bases/tratada/gdp_ajustado_inflacao_tratada.csv', separador=';', encoding='utf-8', index=False)\n",
    "exporta_csv(base_extrema_pobreza, '../../avaliacao-python-ciencia-dados/Bases/tratada/base_extrema_pobreza_tratada.csv', separador=';', encoding='utf-8', index=False)\n",
    "exporta_csv(base_mortalidade_infantil, '../../avaliacao-python-ciencia-dados/Bases/tratada/base_mortalidade_infantil_tratada.csv', separador=';', encoding='utf-8', index=False)\n",
    "exporta_csv(base_densidade_populacional, '../../avaliacao-python-ciencia-dados/Bases/tratada/base_densidade_populacional_tratada.csv', separador=';', encoding='utf-8', index=False)\n",
    "exporta_csv(base_hdi, '../../avaliacao-python-ciencia-dados/Bases/tratada/base_hdi_tratada.csv', separador=';', encoding='utf-8', index=False)\n",
    "exporta_csv(juncao, '../../avaliacao-python-ciencia-dados/Bases/tratada/gapminder_juncao_tratada.csv', separador=';', encoding='utf-8', index=False)\n"
   ]
  },
  {
   "cell_type": "markdown",
   "metadata": {},
   "source": [
    "---\n",
    "## 3. Funções de Visualização e Análise Gráfica\n",
    "\n",
    "### Objetivo\n",
    "Criar funções reutilizáveis para gerar gráficos e apoiar a análise.\n",
    "\n",
    "### Itens a incluir\n",
    "- Definição de **funções dinâmicas** para gráficos (usando parâmetros flexíveis).  \n",
    "- Tipos de gráficos recomendados:\n",
    "  - Evolução temporal (ex: expectativa de vida ao longo dos anos).  \n",
    "  - Comparações entre continentes.  \n",
    "  - Relações entre PIB per capita, expectativa de vida e população.  \n",
    "- Exemplos de uso das funções com resultados visuais.  \n",
    "\n",
    "### Markdown deve conter\n",
    "- Explicação do propósito de cada função.  \n",
    "- Descrição dos tipos de visualizações utilizadas.  \n",
    "- Observações sobre padrões ou correlações identificadas."
   ]
  },
  {
   "cell_type": "markdown",
   "metadata": {},
   "source": [
    "---\n",
    "## 4. Interpretação das Visualizações\n",
    "\n",
    "### Objetivo\n",
    "Interpretar criticamente os dados com base nos gráficos e tabelas.\n",
    "\n",
    "### Itens a incluir\n",
    "- Explicação de cada gráfico gerado.  \n",
    "- Justificativa da escolha do tipo de visualização.  \n",
    "- Interpretação dos resultados observados.  \n",
    "- Discussão sobre **tendências globais** e **diferenças regionais**."
   ]
  },
  {
   "cell_type": "markdown",
   "metadata": {},
   "source": [
    "---\n",
    "## 5. Síntese dos Principais Insights\n",
    "\n",
    "### Objetivo\n",
    "Resumir os principais achados da análise.\n",
    "\n",
    "### Itens a incluir\n",
    "- **Padrões e tendências principais** (ex: crescimento da expectativa de vida, desigualdade econômica).  \n",
    "- **Anomalias** ou exceções notáveis.  \n",
    "- **Correlação** entre os indicadores analisados (PIB, população, expectativa de vida).  \n",
    "\n",
    "### Markdown deve conter\n",
    "- **Resumo analítico** dos resultados obtidos.  \n",
    "- **Aplicações práticas**:\n",
    "  - Implicações para políticas públicas.  \n",
    "  - Relação com o desenvolvimento social e econômico.  \n",
    "  - Observações sobre desigualdade global."
   ]
  },
  {
   "cell_type": "markdown",
   "metadata": {},
   "source": [
    "---\n",
    "## 6. Conclusão e Reflexão\n",
    "\n",
    "### Objetivo\n",
    "Refletir sobre o processo de análise e o aprendizado obtido.\n",
    "\n",
    "### Itens a incluir\n",
    "- **Maiores desafios enfrentados** durante o trabalho.  \n",
    "- **Principais aprendizados** obtidos.  \n",
    "- **Habilidades desenvolvidas** (técnicas e analíticas).  \n",
    "- **Reflexão final** sobre o impacto e relevância da análise."
   ]
  },
  {
   "cell_type": "markdown",
   "id": "296edc43",
   "metadata": {},
   "source": [
    "#### Membros\n",
    "1. Andre Augusto Ferreira Cabelo\n",
    "2. Bruno Braga Guedes Cardoso\n",
    "3. Bruno dos Santos Crivelli\n",
    "4. Marcelo Tranche de Souza Junior"
   ]
  },
  {
   "cell_type": "markdown",
   "id": "adf6af3a",
   "metadata": {},
   "source": [
    "### Adicionando a importação do arquivo Utils"
   ]
  }
 ],
 "metadata": {
  "kernelspec": {
   "display_name": "PUCMINAS_PPCDD",
   "language": "python",
   "name": "python3"
  },
  "language_info": {
   "codemirror_mode": {
    "name": "ipython",
    "version": 3
   },
   "file_extension": ".py",
   "mimetype": "text/x-python",
   "name": "python",
   "nbconvert_exporter": "python",
   "pygments_lexer": "ipython3",
   "version": "3.13.7"
  }
 },
 "nbformat": 4,
 "nbformat_minor": 5
}
